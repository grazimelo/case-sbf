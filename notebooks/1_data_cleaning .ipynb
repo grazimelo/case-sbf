{
 "cells": [
  {
   "cell_type": "markdown",
   "id": "45490c2d",
   "metadata": {},
   "source": [
    "# Propósito"
   ]
  },
  {
   "cell_type": "markdown",
   "id": "f4c543b5",
   "metadata": {},
   "source": [
    "Realizar a limpeza do conjunto de dados\n",
    "### Passo a passo: \n",
    "- Tamanho da base;\n",
    "- Análise de inconsistências;\n",
    "- Análise de dados faltosos.\n",
    "- Remover duplicatas\n",
    "- Revmoa\n",
    "- Rkadad\n",
    "\n",
    "\n",
    "Autora: Grazielly de Melo Oliveira. "
   ]
  },
  {
   "cell_type": "markdown",
   "id": "65bd25fc",
   "metadata": {},
   "source": [
    "## Dependências"
   ]
  },
  {
   "cell_type": "code",
   "execution_count": 1,
   "id": "2a465b1d",
   "metadata": {},
   "outputs": [],
   "source": [
    "#Importando bibliotecas\n",
    "import os\n",
    "import cloudpickle\n",
    "import pandas as pd\n",
    "import numpy as np\n",
    "import seaborn as sns\n",
    "import missingno as msno\n",
    "import matplotlib.pyplot as plt\n",
    "from sklearn.model_selection import train_test_split\n",
    "from utils.data_cleaning import remover_duplicatas,remover_colunas_constantes,normalizar_caracteres\n",
    "pd.set_option('display.max_rows', 500)\n",
    "pd.set_option('display.max_columns', 500)\n",
    "pd.set_option('display.width', 1000)\n"
   ]
  },
  {
   "cell_type": "markdown",
   "id": "7ced8f36",
   "metadata": {},
   "source": [
    "## Dados e Constantes"
   ]
  },
  {
   "cell_type": "code",
   "execution_count": 42,
   "id": "32ea35a0",
   "metadata": {},
   "outputs": [],
   "source": [
    "\n",
    "# Constantes\n",
    "DATA_RAW_PATH = os.path.join('..','data','raw')\n",
    "DATA_INTER_PATH = os.path.join('..','data','inter')\n",
    "RAW_INPUT_DATA = 'diabetes_data.csv'\n",
    "TRAIN_DATA = 'diabetes_train.parquet'\n",
    "TEST_DATA = 'diabetes_test.parquet'\n",
    "# Dados\n",
    "df_raw = pd.read_csv(os.path.join(DATA_RAW_PATH, RAW_INPUT_DATA))"
   ]
  },
  {
   "cell_type": "code",
   "execution_count": 43,
   "id": "c206b028",
   "metadata": {},
   "outputs": [
    {
     "data": {
      "text/plain": [
       "Index(['Age', 'Gender', 'Polyuria', 'Polydipsia', 'sudden weight loss', 'weakness', 'Polyphagia', 'Genital thrush', 'visual blurring', 'Itching', 'Irritability', 'delayed healing', 'partial paresis', 'muscle stiffness', 'Alopecia', 'Obesity', 'class'], dtype='object')"
      ]
     },
     "execution_count": 43,
     "metadata": {},
     "output_type": "execute_result"
    }
   ],
   "source": [
    "# Colunas do dataframe\n",
    "df_raw.columns"
   ]
  },
  {
   "cell_type": "code",
   "execution_count": 44,
   "id": "d4c196ac",
   "metadata": {},
   "outputs": [
    {
     "name": "stdout",
     "output_type": "stream",
     "text": [
      "Shape do dataset: (520, 17)\n"
     ]
    }
   ],
   "source": [
    "print(f'Shape do dataset: {df_raw.shape}')"
   ]
  },
  {
   "cell_type": "markdown",
   "id": "dffe398f",
   "metadata": {},
   "source": [
    "# Limpeza"
   ]
  },
  {
   "cell_type": "markdown",
   "id": "0329017a",
   "metadata": {},
   "source": [
    "## Renomando Colunas"
   ]
  },
  {
   "cell_type": "code",
   "execution_count": 45,
   "id": "54e6fe7e",
   "metadata": {},
   "outputs": [],
   "source": [
    "#Renomeando colunas\n",
    "# idealmente deveria ser um step do pipeline de pre-processamento quando em produção\n",
    "def renomear_colunas(df):\n",
    "    df.rename(columns={'Age': 'idade','Gender':'genero','Polyuria':'polyuria',\n",
    "                        'Polydipsia':'polydipsia','sudden weight loss':'perda_de_peso_repentina',\n",
    "                            'weakness':'fraqueza','Polyphagia':'polyphagia',\n",
    "                            'Genital thrush':'candidiase_genital',\n",
    "                            'visual blurring':'desfoque_visual','Itching':'coceira',\n",
    "                            'Irritability':'irritabilidade',\n",
    "                            'delayed healing':'cicatrizacao_retardada',\n",
    "                            'partial paresis':'paresia_parcial',\n",
    "                            'muscle stiffness':'rigidez_muscular','Alopecia':'alopecia',\n",
    "                            'Obesity':'obesidade','class':'target'},inplace=True)\n",
    "    return df"
   ]
  },
  {
   "cell_type": "code",
   "execution_count": 46,
   "id": "2a1bdb26",
   "metadata": {},
   "outputs": [],
   "source": [
    "df_raw = renomear_colunas(df_raw)\n",
    "df_raw.reset_index(drop=True,inplace=True)"
   ]
  },
  {
   "cell_type": "code",
   "execution_count": 47,
   "id": "1638fcf4",
   "metadata": {},
   "outputs": [
    {
     "data": {
      "text/plain": [
       "(520, 17)"
      ]
     },
     "execution_count": 47,
     "metadata": {},
     "output_type": "execute_result"
    }
   ],
   "source": [
    "df_raw.shape"
   ]
  },
  {
   "cell_type": "markdown",
   "id": "a6741f35",
   "metadata": {},
   "source": [
    "# Duplicatas"
   ]
  },
  {
   "cell_type": "markdown",
   "id": "53a223b8",
   "metadata": {},
   "source": [
    "Antes de dividirmos em treino e teste, vamos checar se existem colunas e linhas duplicatas."
   ]
  },
  {
   "cell_type": "code",
   "execution_count": 48,
   "id": "315af5c7",
   "metadata": {},
   "outputs": [
    {
     "name": "stdout",
     "output_type": "stream",
     "text": [
      "Existem 0 colunas duplicadas e 269 linhas duplicadas\n"
     ]
    }
   ],
   "source": [
    "#Observando e removendo duplicatas nas linhas e colunas. \n",
    "lista_colunas_removidas = remover_duplicatas(df_raw, drop_if_found=False)"
   ]
  },
  {
   "cell_type": "markdown",
   "id": "1d9a400d",
   "metadata": {},
   "source": [
    "Existem 269 linhas duplicadas no dataset. Aqui assumimos duas hipóteses possíves:\n",
    "1) São os mesmos pacientes repetidos\n",
    "2) Não são pacientes repetidos, mas o quadro clínico é igual"
   ]
  },
  {
   "cell_type": "markdown",
   "id": "fbf15993",
   "metadata": {},
   "source": [
    "Na hipótese 1, droparíamos as linhas duplicadas, pois isso afetaria as distribuições de forma errada."
   ]
  },
  {
   "cell_type": "markdown",
   "id": "2ae4c4f3",
   "metadata": {},
   "source": [
    "Na hipótese 2, podemos utilizar o dataset, tendo cuidado com as métricas obtidas, pois elas podem conter viéses otimistas ou pessimistas, dependendo de como o modelo performa nessas instâncias repetidas.\n",
    "Caso a instância duplicada seja classificada errada, isso pode gerar um viés negativo na métrica de performance. Por sua vez, caso a instância repetida seja classificada corretamente, isso pode gerar um viés otimista para as métricas.map"
   ]
  },
  {
   "cell_type": "markdown",
   "id": "da93853f",
   "metadata": {},
   "source": [
    "Seguiremos da seguinte forma:\n",
    "Manteremos as duplicatas no dataset de treino e teste (caso ocorra) e avaliaremos o modelo com e sem elas, para observar o que acontece."
   ]
  },
  {
   "cell_type": "markdown",
   "id": "f49796fd",
   "metadata": {},
   "source": [
    "# Tipagem "
   ]
  },
  {
   "cell_type": "markdown",
   "id": "f15fe718",
   "metadata": {},
   "source": [
    "Vamos chegar se existe alguma variável com o tipo não consistente."
   ]
  },
  {
   "cell_type": "code",
   "execution_count": 49,
   "id": "7d1c210e",
   "metadata": {},
   "outputs": [
    {
     "data": {
      "text/plain": [
       "idade                       int64\n",
       "genero                     object\n",
       "polyuria                   object\n",
       "polydipsia                 object\n",
       "perda_de_peso_repentina    object\n",
       "fraqueza                   object\n",
       "polyphagia                 object\n",
       "candidiase_genital         object\n",
       "desfoque_visual            object\n",
       "coceira                    object\n",
       "irritabilidade             object\n",
       "cicatrizacao_retardada     object\n",
       "paresia_parcial            object\n",
       "rigidez_muscular           object\n",
       "alopecia                   object\n",
       "obesidade                  object\n",
       "target                     object\n",
       "dtype: object"
      ]
     },
     "execution_count": 49,
     "metadata": {},
     "output_type": "execute_result"
    }
   ],
   "source": [
    "df_raw.dtypes"
   ]
  },
  {
   "cell_type": "markdown",
   "id": "ebc884bd",
   "metadata": {},
   "source": [
    "A variável idade deveria ser inteiro, vamos converter."
   ]
  },
  {
   "cell_type": "code",
   "execution_count": 50,
   "id": "b170e0b8",
   "metadata": {},
   "outputs": [],
   "source": [
    "df_raw['idade'] = df_raw['idade'].astype('int')\n",
    "df_raw['target'] = df_raw['target'].map({'Positive':1, 'Negative':0})"
   ]
  },
  {
   "cell_type": "code",
   "execution_count": 51,
   "id": "1c57f4d3",
   "metadata": {},
   "outputs": [
    {
     "data": {
      "text/html": [
       "<div>\n",
       "<style scoped>\n",
       "    .dataframe tbody tr th:only-of-type {\n",
       "        vertical-align: middle;\n",
       "    }\n",
       "\n",
       "    .dataframe tbody tr th {\n",
       "        vertical-align: top;\n",
       "    }\n",
       "\n",
       "    .dataframe thead th {\n",
       "        text-align: right;\n",
       "    }\n",
       "</style>\n",
       "<table border=\"1\" class=\"dataframe\">\n",
       "  <thead>\n",
       "    <tr style=\"text-align: right;\">\n",
       "      <th></th>\n",
       "      <th>idade</th>\n",
       "      <th>target</th>\n",
       "    </tr>\n",
       "  </thead>\n",
       "  <tbody>\n",
       "    <tr>\n",
       "      <th>idade</th>\n",
       "      <td>1.000000</td>\n",
       "      <td>0.108679</td>\n",
       "    </tr>\n",
       "    <tr>\n",
       "      <th>target</th>\n",
       "      <td>0.108679</td>\n",
       "      <td>1.000000</td>\n",
       "    </tr>\n",
       "  </tbody>\n",
       "</table>\n",
       "</div>"
      ],
      "text/plain": [
       "           idade    target\n",
       "idade   1.000000  0.108679\n",
       "target  0.108679  1.000000"
      ]
     },
     "execution_count": 51,
     "metadata": {},
     "output_type": "execute_result"
    }
   ],
   "source": [
    "df_raw.corr()"
   ]
  },
  {
   "cell_type": "code",
   "execution_count": 52,
   "id": "9ff93150",
   "metadata": {},
   "outputs": [
    {
     "data": {
      "text/plain": [
       "(520, 17)"
      ]
     },
     "execution_count": 52,
     "metadata": {},
     "output_type": "execute_result"
    }
   ],
   "source": [
    "df_raw.shape"
   ]
  },
  {
   "cell_type": "markdown",
   "id": "c011a216",
   "metadata": {},
   "source": [
    "Idealmente isso também seria um step do pipeline de transformação. Para simplificar, vamos manter os tipos já convertidos e prosseguir, considerando que isso seria resolvido pelo time de engenharia de dados."
   ]
  },
  {
   "cell_type": "markdown",
   "id": "6a513209",
   "metadata": {},
   "source": [
    "# Split dos dados em treino e teste"
   ]
  },
  {
   "cell_type": "markdown",
   "id": "bf153b26",
   "metadata": {},
   "source": [
    "Usaremos 20% dos dados para treino e faremos isso de forma estratificada, para garantir mesma proporção das classes em cada dataset gerado."
   ]
  },
  {
   "cell_type": "code",
   "execution_count": 53,
   "id": "dc0e9bf3",
   "metadata": {},
   "outputs": [],
   "source": [
    "#Separando os dados. \n",
    "X = df_raw.drop('target', axis=1)\n",
    "y = df_raw['target']\n",
    "X_train, X_test, y_train, y_test = train_test_split(X,y, test_size = 0.3,  stratify= y, random_state=123)\n",
    "#Dados de treino e de teste\n",
    "df_train = pd.concat([X_train,y_train], axis=1)\n",
    "df_test = pd.concat([X_test, y_test], axis=1)\n"
   ]
  },
  {
   "cell_type": "code",
   "execution_count": 54,
   "id": "76e75cd4",
   "metadata": {},
   "outputs": [
    {
     "data": {
      "text/plain": [
       "232"
      ]
     },
     "execution_count": 54,
     "metadata": {},
     "output_type": "execute_result"
    }
   ],
   "source": [
    "df_train.duplicated(keep=False).sum()"
   ]
  },
  {
   "cell_type": "code",
   "execution_count": 55,
   "id": "52b5357a",
   "metadata": {},
   "outputs": [
    {
     "data": {
      "text/plain": [
       "81"
      ]
     },
     "execution_count": 55,
     "metadata": {},
     "output_type": "execute_result"
    }
   ],
   "source": [
    "df_test.duplicated(keep=False).sum()"
   ]
  },
  {
   "cell_type": "code",
   "execution_count": 56,
   "id": "24f5df7f",
   "metadata": {},
   "outputs": [
    {
     "data": {
      "text/plain": [
       "(156, 17)"
      ]
     },
     "execution_count": 56,
     "metadata": {},
     "output_type": "execute_result"
    }
   ],
   "source": [
    "df_test.shape"
   ]
  },
  {
   "cell_type": "code",
   "execution_count": 57,
   "id": "f9a1b035",
   "metadata": {},
   "outputs": [],
   "source": [
    "# salvando os dados de teste\n",
    "df_test.to_parquet(os.path.join(DATA_INTER_PATH, TEST_DATA), index=False)\n",
    "del df_test"
   ]
  },
  {
   "cell_type": "markdown",
   "id": "11af6dfc",
   "metadata": {},
   "source": [
    "Daqui em diante só analisaremos os dados de treino"
   ]
  },
  {
   "cell_type": "code",
   "execution_count": 58,
   "id": "44217aa8",
   "metadata": {},
   "outputs": [],
   "source": [
    "# Lista de variáveis categóricas\n",
    "lista_variaveis_categoricas = set(df_train.select_dtypes(include=['object']).columns.tolist())"
   ]
  },
  {
   "cell_type": "markdown",
   "id": "96b8e379",
   "metadata": {},
   "source": [
    "# Normalização das classes"
   ]
  },
  {
   "cell_type": "markdown",
   "id": "41f5db42",
   "metadata": {},
   "source": [
    "Vimos que alguns caracteres estão maísculos. Como não sabemos se é um padrão, vamos converter todo caractere para minúsculo. "
   ]
  },
  {
   "cell_type": "code",
   "execution_count": 59,
   "id": "64741a32",
   "metadata": {},
   "outputs": [],
   "source": [
    "# Normalizando os caracteres (precisaremos incluir isto em um pipeline depois)\n",
    "df_train = normalizar_caracteres(lista_variaveis_categoricas, df_train)"
   ]
  },
  {
   "cell_type": "markdown",
   "id": "94fde504",
   "metadata": {},
   "source": [
    "# Inconsistências nas colunas"
   ]
  },
  {
   "cell_type": "markdown",
   "id": "64e6f94f",
   "metadata": {},
   "source": [
    "Vamos checar as classes presentes em cada coluna e ver se existe algum erro de formatação."
   ]
  },
  {
   "cell_type": "code",
   "execution_count": 60,
   "id": "113725ac",
   "metadata": {},
   "outputs": [
    {
     "name": "stdout",
     "output_type": "stream",
     "text": [
      "no     299\n",
      "yes     65\n",
      "Name: obesidade, dtype: int64\n",
      "\n",
      "\n",
      "no     195\n",
      "yes    169\n",
      "Name: polydipsia, dtype: int64\n",
      "\n",
      "\n",
      "male      229\n",
      "female    135\n",
      "Name: genero, dtype: int64\n",
      "\n",
      "\n",
      "no     251\n",
      "yes    113\n",
      "Name: alopecia, dtype: int64\n",
      "\n",
      "\n",
      "yes    187\n",
      "no     177\n",
      "Name: polyuria, dtype: int64\n",
      "\n",
      "\n",
      "no     222\n",
      "yes    142\n",
      "Name: rigidez_muscular, dtype: int64\n",
      "\n",
      "\n",
      "no     198\n",
      "yes    166\n",
      "Name: desfoque_visual, dtype: int64\n",
      "\n",
      "\n",
      "no     211\n",
      "yes    153\n",
      "Name: perda_de_peso_repentina, dtype: int64\n",
      "\n",
      "\n",
      "no     192\n",
      "yes    172\n",
      "Name: coceira, dtype: int64\n",
      "\n",
      "\n",
      "no     283\n",
      "yes     81\n",
      "Name: candidiase_genital, dtype: int64\n",
      "\n",
      "\n",
      "no     279\n",
      "yes     85\n",
      "Name: irritabilidade, dtype: int64\n",
      "\n",
      "\n",
      "no     198\n",
      "yes    166\n",
      "Name: cicatrizacao_retardada, dtype: int64\n",
      "\n",
      "\n",
      "no     201\n",
      "yes    163\n",
      "Name: paresia_parcial, dtype: int64\n",
      "\n",
      "\n",
      "no     195\n",
      "yes    169\n",
      "Name: polyphagia, dtype: int64\n",
      "\n",
      "\n",
      "yes    217\n",
      "no     147\n",
      "Name: fraqueza, dtype: int64\n",
      "\n",
      "\n"
     ]
    }
   ],
   "source": [
    "# # Verificando inconsistência nas colunas.\n",
    "for var_cat in lista_variaveis_categoricas:\n",
    "    resul = df_train[var_cat].value_counts()\n",
    "    print(resul)\n",
    "    print(\"\\n\")"
   ]
  },
  {
   "cell_type": "markdown",
   "id": "e13244d9",
   "metadata": {},
   "source": [
    "Aparentemente as strings seguem o padrão de yes ou no e nenhuma outra classe, a não ser female ou male, aparece no dataset."
   ]
  },
  {
   "cell_type": "markdown",
   "id": "855a9abf",
   "metadata": {},
   "source": [
    "# Missing Values"
   ]
  },
  {
   "cell_type": "markdown",
   "id": "c8b9bd7f",
   "metadata": {},
   "source": [
    "Sabemos que os valores faltosos podem se apresentar de diversas formas. Já vimos que nosso dataset só contém yes ou no, porém, por desencardo de consciência vamos normalizar representações de missing values, a fim de identificá-los mais para frente."
   ]
  },
  {
   "cell_type": "code",
   "execution_count": 61,
   "id": "ddd42ec4",
   "metadata": {},
   "outputs": [],
   "source": [
    "#Convertendo valores faltosos para np.nan\n",
    "df_train.replace([None, 'Null', 'null','NULL', -np.inf, np.inf, -999, '-999', '-1',-1, ''], np.nan,inplace=True)"
   ]
  },
  {
   "cell_type": "markdown",
   "id": "7816ffd5",
   "metadata": {},
   "source": [
    "Precisaremos garantir em produção que também haverá essa preocupação"
   ]
  },
  {
   "cell_type": "code",
   "execution_count": 62,
   "id": "4e954260",
   "metadata": {},
   "outputs": [
    {
     "data": {
      "text/plain": [
       "idade                      0.0\n",
       "coceira                    0.0\n",
       "obesidade                  0.0\n",
       "alopecia                   0.0\n",
       "rigidez_muscular           0.0\n",
       "paresia_parcial            0.0\n",
       "cicatrizacao_retardada     0.0\n",
       "irritabilidade             0.0\n",
       "desfoque_visual            0.0\n",
       "genero                     0.0\n",
       "candidiase_genital         0.0\n",
       "polyphagia                 0.0\n",
       "fraqueza                   0.0\n",
       "perda_de_peso_repentina    0.0\n",
       "polydipsia                 0.0\n",
       "polyuria                   0.0\n",
       "target                     0.0\n",
       "dtype: float64"
      ]
     },
     "execution_count": 62,
     "metadata": {},
     "output_type": "execute_result"
    }
   ],
   "source": [
    "#Observando a porcentagem dos valores faltosos.\n",
    "porcentagem_de_missings = round(df_train.isna().sum()/df_raw.shape[0]*100,1)\n",
    "porcentagem_de_missings.sort_values(ascending=False)"
   ]
  },
  {
   "cell_type": "code",
   "execution_count": 63,
   "id": "0ba369da",
   "metadata": {},
   "outputs": [
    {
     "data": {
      "image/png": "[encoded data removed]",
      "text/plain": [
       "<Figure size 1800x720 with 2 Axes>"
      ]
     },
     "metadata": {
      "needs_background": "light"
     },
     "output_type": "display_data"
    }
   ],
   "source": [
    "#Plotando a matrix para uma melhor visualização.\n",
    "msno.matrix(df_train)\n",
    "plt.show()"
   ]
  },
  {
   "cell_type": "markdown",
   "id": "3c57b9b3",
   "metadata": {},
   "source": [
    "Não há missings. Mas, não há nada que nos garanta que após a atualização de base as colunas venham completas. Tentaremos achar uma padrão para inputar os null mais a frente. Na etapa de modelagem criaremos um Pipeline afim de preenchê-los da melhor forma possível.\n"
   ]
  },
  {
   "cell_type": "markdown",
   "id": "dd3be4f6",
   "metadata": {},
   "source": [
    "# Colunas Constantes"
   ]
  },
  {
   "cell_type": "markdown",
   "id": "82ccc3c3",
   "metadata": {},
   "source": [
    "Colunas constantes não adicionam valor à modelagem e à análise."
   ]
  },
  {
   "cell_type": "code",
   "execution_count": 64,
   "id": "8c9728b2",
   "metadata": {},
   "outputs": [],
   "source": [
    "#Analisando se há colunas constantes para dropar. \n",
    "df_train, const_cols = remover_colunas_constantes(df_train)"
   ]
  },
  {
   "cell_type": "code",
   "execution_count": 68,
   "id": "7dfc57f1",
   "metadata": {},
   "outputs": [
    {
     "data": {
      "text/html": [
       "<div>\n",
       "<style scoped>\n",
       "    .dataframe tbody tr th:only-of-type {\n",
       "        vertical-align: middle;\n",
       "    }\n",
       "\n",
       "    .dataframe tbody tr th {\n",
       "        vertical-align: top;\n",
       "    }\n",
       "\n",
       "    .dataframe thead th {\n",
       "        text-align: right;\n",
       "    }\n",
       "</style>\n",
       "<table border=\"1\" class=\"dataframe\">\n",
       "  <thead>\n",
       "    <tr style=\"text-align: right;\">\n",
       "      <th></th>\n",
       "      <th>idade</th>\n",
       "      <th>genero</th>\n",
       "      <th>polyuria</th>\n",
       "      <th>polydipsia</th>\n",
       "      <th>perda_de_peso_repentina</th>\n",
       "      <th>fraqueza</th>\n",
       "      <th>polyphagia</th>\n",
       "      <th>candidiase_genital</th>\n",
       "      <th>desfoque_visual</th>\n",
       "      <th>coceira</th>\n",
       "      <th>irritabilidade</th>\n",
       "      <th>cicatrizacao_retardada</th>\n",
       "      <th>paresia_parcial</th>\n",
       "      <th>rigidez_muscular</th>\n",
       "      <th>alopecia</th>\n",
       "      <th>obesidade</th>\n",
       "      <th>target</th>\n",
       "    </tr>\n",
       "  </thead>\n",
       "  <tbody>\n",
       "    <tr>\n",
       "      <th>252</th>\n",
       "      <td>39</td>\n",
       "      <td>female</td>\n",
       "      <td>yes</td>\n",
       "      <td>yes</td>\n",
       "      <td>yes</td>\n",
       "      <td>yes</td>\n",
       "      <td>yes</td>\n",
       "      <td>no</td>\n",
       "      <td>no</td>\n",
       "      <td>yes</td>\n",
       "      <td>yes</td>\n",
       "      <td>yes</td>\n",
       "      <td>yes</td>\n",
       "      <td>no</td>\n",
       "      <td>no</td>\n",
       "      <td>no</td>\n",
       "      <td>1</td>\n",
       "    </tr>\n",
       "    <tr>\n",
       "      <th>513</th>\n",
       "      <td>62</td>\n",
       "      <td>female</td>\n",
       "      <td>yes</td>\n",
       "      <td>yes</td>\n",
       "      <td>yes</td>\n",
       "      <td>yes</td>\n",
       "      <td>no</td>\n",
       "      <td>no</td>\n",
       "      <td>yes</td>\n",
       "      <td>no</td>\n",
       "      <td>no</td>\n",
       "      <td>no</td>\n",
       "      <td>yes</td>\n",
       "      <td>no</td>\n",
       "      <td>no</td>\n",
       "      <td>yes</td>\n",
       "      <td>1</td>\n",
       "    </tr>\n",
       "    <tr>\n",
       "      <th>401</th>\n",
       "      <td>36</td>\n",
       "      <td>male</td>\n",
       "      <td>no</td>\n",
       "      <td>no</td>\n",
       "      <td>no</td>\n",
       "      <td>no</td>\n",
       "      <td>no</td>\n",
       "      <td>no</td>\n",
       "      <td>no</td>\n",
       "      <td>no</td>\n",
       "      <td>no</td>\n",
       "      <td>no</td>\n",
       "      <td>no</td>\n",
       "      <td>no</td>\n",
       "      <td>no</td>\n",
       "      <td>no</td>\n",
       "      <td>0</td>\n",
       "    </tr>\n",
       "    <tr>\n",
       "      <th>276</th>\n",
       "      <td>30</td>\n",
       "      <td>male</td>\n",
       "      <td>no</td>\n",
       "      <td>no</td>\n",
       "      <td>no</td>\n",
       "      <td>no</td>\n",
       "      <td>no</td>\n",
       "      <td>no</td>\n",
       "      <td>no</td>\n",
       "      <td>no</td>\n",
       "      <td>no</td>\n",
       "      <td>no</td>\n",
       "      <td>no</td>\n",
       "      <td>no</td>\n",
       "      <td>no</td>\n",
       "      <td>no</td>\n",
       "      <td>0</td>\n",
       "    </tr>\n",
       "    <tr>\n",
       "      <th>73</th>\n",
       "      <td>38</td>\n",
       "      <td>female</td>\n",
       "      <td>yes</td>\n",
       "      <td>yes</td>\n",
       "      <td>yes</td>\n",
       "      <td>yes</td>\n",
       "      <td>yes</td>\n",
       "      <td>no</td>\n",
       "      <td>no</td>\n",
       "      <td>no</td>\n",
       "      <td>no</td>\n",
       "      <td>no</td>\n",
       "      <td>yes</td>\n",
       "      <td>no</td>\n",
       "      <td>no</td>\n",
       "      <td>no</td>\n",
       "      <td>1</td>\n",
       "    </tr>\n",
       "  </tbody>\n",
       "</table>\n",
       "</div>"
      ],
      "text/plain": [
       "     idade  genero polyuria polydipsia perda_de_peso_repentina fraqueza polyphagia candidiase_genital desfoque_visual coceira irritabilidade cicatrizacao_retardada paresia_parcial rigidez_muscular alopecia obesidade  target\n",
       "252     39  female      yes        yes                     yes      yes        yes                 no              no     yes            yes                    yes             yes               no       no        no       1\n",
       "513     62  female      yes        yes                     yes      yes         no                 no             yes      no             no                     no             yes               no       no       yes       1\n",
       "401     36    male       no         no                      no       no         no                 no              no      no             no                     no              no               no       no        no       0\n",
       "276     30    male       no         no                      no       no         no                 no              no      no             no                     no              no               no       no        no       0\n",
       "73      38  female      yes        yes                     yes      yes        yes                 no              no      no             no                     no             yes               no       no        no       1"
      ]
     },
     "execution_count": 68,
     "metadata": {},
     "output_type": "execute_result"
    }
   ],
   "source": [
    "df_train.head()"
   ]
  },
  {
   "cell_type": "markdown",
   "id": "bd8fd9f6",
   "metadata": {},
   "source": [
    "# Exportando dados e dicionário de dados\n"
   ]
  },
  {
   "cell_type": "markdown",
   "id": "dd8fd56c",
   "metadata": {},
   "source": [
    "Estamos exportando tudo para parquet, para que os tipos sejam mantidos."
   ]
  },
  {
   "cell_type": "code",
   "execution_count": 66,
   "id": "b9a73c7e",
   "metadata": {},
   "outputs": [],
   "source": [
    "df_train.to_parquet(os.path.join(DATA_INTER_PATH,TRAIN_DATA), index=False)"
   ]
  },
  {
   "cell_type": "code",
   "execution_count": null,
   "id": "43d7cb4a",
   "metadata": {},
   "outputs": [],
   "source": []
  }
 ],
 "metadata": {
  "kernelspec": {
   "display_name": "Python 3 (ipykernel)",
   "language": "python",
   "name": "python3"
  },
  "language_info": {
   "codemirror_mode": {
    "name": "ipython",
    "version": 3
   },
   "file_extension": ".py",
   "mimetype": "text/x-python",
   "name": "python",
   "nbconvert_exporter": "python",
   "pygments_lexer": "ipython3",
   "version": "3.8.10"
  }
 },
 "nbformat": 4,
 "nbformat_minor": 5
}
