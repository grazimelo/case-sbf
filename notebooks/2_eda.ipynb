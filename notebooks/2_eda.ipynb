{
 "cells": [
  {
   "cell_type": "markdown",
   "id": "a1995679",
   "metadata": {},
   "source": [
    "### Propósito: \n",
    "- Realizar uma análise exploratória dos dados, afim de encontrar padrões que nos tragam insight para próximas etapas do projeto ( Seleção de Features e Modelagem ).\n",
    "\n",
    "### Questões: \n",
    "\n",
    "● Quais os 3 principais fatores que levam a um diagnóstico positivo de diabetes?\n",
    "\n",
    "● Qual a chance de uma pessoa do sexo masculino com menos de 40 anos ter o diagnóstico positivo de diabetes?\n",
    "\n",
    "● Qual a relação entre Polyphagia e o diagnóstico de diabetes?\n",
    "\n",
    "Autora: Grazielly de Melo Oliveira\n",
    "\n"
   ]
  },
  {
   "cell_type": "markdown",
   "id": "233cbb68",
   "metadata": {},
   "source": [
    "## Dependências"
   ]
  },
  {
   "cell_type": "code",
   "execution_count": 25,
   "id": "9a5598f6",
   "metadata": {},
   "outputs": [],
   "source": [
    "#Importando bibliotecas\n",
    "import os\n",
    "import pandas as pd\n",
    "import numpy as np\n",
    "import seaborn as sns\n",
    "import cloudpickle\n",
    "import matplotlib.pyplot as plt\n",
    "from scipy.stats import norm\n",
    "from pandas.api.types import is_numeric_dtype\n",
    "from src.eda import plot_correlação\n",
    "from mlxtend.frequent_patterns import apriori\n",
    "from mlxtend.frequent_patterns import association_rules\n",
    "pd.set_option('display.max_rows', 500)\n",
    "pd.set_option('display.max_columns', 500)\n",
    "pd.set_option('display.width', 1000)\n",
    "%matplotlib inline\n",
    "cmap = sns.diverging_palette(0,100,74,39,19,25, center='light', as_cmap=True) #heatmap"
   ]
  },
  {
   "cell_type": "markdown",
   "id": "004390e5",
   "metadata": {},
   "source": [
    "## Dados e Constantes"
   ]
  },
  {
   "cell_type": "code",
   "execution_count": 26,
   "id": "8708bf6b",
   "metadata": {},
   "outputs": [],
   "source": [
    "DATA_RAW_PATH = os.path.join('..','data','raw')\n",
    "DATA_RAW_NAME = 'diabetes_data.csv'\n",
    "DATA_INTER_PATH = os.path.join('..','data','inter')\n",
    "DATA_INTER_TEST_NAME = 'test_inter.csv'\n",
    "DATA_INTER_TRAIN_NAME = 'train_inter.csv'\n",
    "META_DATA_PATH = os.path.join(DATA_RAW_PATH,'dicionario_tipos.pkl')"
   ]
  },
  {
   "cell_type": "code",
   "execution_count": 27,
   "id": "310ee06e",
   "metadata": {},
   "outputs": [],
   "source": [
    "#Dados do dicionário\n",
    "with open(META_DATA_PATH,'rb') as f:\n",
    "    dicionario_tipo = cloudpickle.load(f)\n",
    "df_train = pd.read_csv(os.path.join(DATA_INTER_PATH, DATA_INTER_TRAIN_NAME), dtype=dicionario_tipo)"
   ]
  },
  {
   "cell_type": "markdown",
   "id": "2878d4f8",
   "metadata": {},
   "source": [
    "## Iniciando Análise Exploratória\n"
   ]
  },
  {
   "cell_type": "code",
   "execution_count": 28,
   "id": "343396e0",
   "metadata": {},
   "outputs": [
    {
     "data": {
      "text/html": [
       "<div>\n",
       "<style scoped>\n",
       "    .dataframe tbody tr th:only-of-type {\n",
       "        vertical-align: middle;\n",
       "    }\n",
       "\n",
       "    .dataframe tbody tr th {\n",
       "        vertical-align: top;\n",
       "    }\n",
       "\n",
       "    .dataframe thead th {\n",
       "        text-align: right;\n",
       "    }\n",
       "</style>\n",
       "<table border=\"1\" class=\"dataframe\">\n",
       "  <thead>\n",
       "    <tr style=\"text-align: right;\">\n",
       "      <th></th>\n",
       "      <th>idade</th>\n",
       "      <th>genero</th>\n",
       "      <th>polyuria</th>\n",
       "      <th>polydipsia</th>\n",
       "      <th>perda_de_peso_repentina</th>\n",
       "      <th>fraqueza</th>\n",
       "      <th>polyphagia</th>\n",
       "      <th>candidiase_genital</th>\n",
       "      <th>desfoque_visual</th>\n",
       "      <th>coceira</th>\n",
       "      <th>irritabilidade</th>\n",
       "      <th>cicatrizacao_retardada</th>\n",
       "      <th>paresia_parcial</th>\n",
       "      <th>rigidez_muscular</th>\n",
       "      <th>alopecia</th>\n",
       "      <th>obesidade</th>\n",
       "      <th>target</th>\n",
       "    </tr>\n",
       "  </thead>\n",
       "  <tbody>\n",
       "    <tr>\n",
       "      <th>0</th>\n",
       "      <td>67</td>\n",
       "      <td>male</td>\n",
       "      <td>no</td>\n",
       "      <td>no</td>\n",
       "      <td>no</td>\n",
       "      <td>no</td>\n",
       "      <td>yes</td>\n",
       "      <td>no</td>\n",
       "      <td>yes</td>\n",
       "      <td>no</td>\n",
       "      <td>no</td>\n",
       "      <td>no</td>\n",
       "      <td>no</td>\n",
       "      <td>yes</td>\n",
       "      <td>no</td>\n",
       "      <td>no</td>\n",
       "      <td>negative</td>\n",
       "    </tr>\n",
       "    <tr>\n",
       "      <th>1</th>\n",
       "      <td>55</td>\n",
       "      <td>female</td>\n",
       "      <td>yes</td>\n",
       "      <td>yes</td>\n",
       "      <td>yes</td>\n",
       "      <td>no</td>\n",
       "      <td>yes</td>\n",
       "      <td>no</td>\n",
       "      <td>no</td>\n",
       "      <td>yes</td>\n",
       "      <td>no</td>\n",
       "      <td>yes</td>\n",
       "      <td>yes</td>\n",
       "      <td>no</td>\n",
       "      <td>no</td>\n",
       "      <td>no</td>\n",
       "      <td>positive</td>\n",
       "    </tr>\n",
       "    <tr>\n",
       "      <th>2</th>\n",
       "      <td>60</td>\n",
       "      <td>male</td>\n",
       "      <td>no</td>\n",
       "      <td>no</td>\n",
       "      <td>no</td>\n",
       "      <td>yes</td>\n",
       "      <td>no</td>\n",
       "      <td>no</td>\n",
       "      <td>no</td>\n",
       "      <td>no</td>\n",
       "      <td>no</td>\n",
       "      <td>no</td>\n",
       "      <td>yes</td>\n",
       "      <td>yes</td>\n",
       "      <td>no</td>\n",
       "      <td>no</td>\n",
       "      <td>negative</td>\n",
       "    </tr>\n",
       "    <tr>\n",
       "      <th>3</th>\n",
       "      <td>48</td>\n",
       "      <td>female</td>\n",
       "      <td>yes</td>\n",
       "      <td>yes</td>\n",
       "      <td>no</td>\n",
       "      <td>yes</td>\n",
       "      <td>no</td>\n",
       "      <td>no</td>\n",
       "      <td>yes</td>\n",
       "      <td>yes</td>\n",
       "      <td>no</td>\n",
       "      <td>yes</td>\n",
       "      <td>yes</td>\n",
       "      <td>no</td>\n",
       "      <td>no</td>\n",
       "      <td>no</td>\n",
       "      <td>positive</td>\n",
       "    </tr>\n",
       "    <tr>\n",
       "      <th>4</th>\n",
       "      <td>31</td>\n",
       "      <td>female</td>\n",
       "      <td>yes</td>\n",
       "      <td>yes</td>\n",
       "      <td>yes</td>\n",
       "      <td>yes</td>\n",
       "      <td>yes</td>\n",
       "      <td>no</td>\n",
       "      <td>no</td>\n",
       "      <td>yes</td>\n",
       "      <td>yes</td>\n",
       "      <td>no</td>\n",
       "      <td>yes</td>\n",
       "      <td>yes</td>\n",
       "      <td>no</td>\n",
       "      <td>no</td>\n",
       "      <td>positive</td>\n",
       "    </tr>\n",
       "  </tbody>\n",
       "</table>\n",
       "</div>"
      ],
      "text/plain": [
       "   idade  genero polyuria polydipsia perda_de_peso_repentina fraqueza polyphagia candidiase_genital desfoque_visual coceira irritabilidade cicatrizacao_retardada paresia_parcial rigidez_muscular alopecia obesidade    target\n",
       "0     67    male       no         no                      no       no        yes                 no             yes      no             no                     no              no              yes       no        no  negative\n",
       "1     55  female      yes        yes                     yes       no        yes                 no              no     yes             no                    yes             yes               no       no        no  positive\n",
       "2     60    male       no         no                      no      yes         no                 no              no      no             no                     no             yes              yes       no        no  negative\n",
       "3     48  female      yes        yes                      no      yes         no                 no             yes     yes             no                    yes             yes               no       no        no  positive\n",
       "4     31  female      yes        yes                     yes      yes        yes                 no              no     yes            yes                     no             yes              yes       no        no  positive"
      ]
     },
     "execution_count": 28,
     "metadata": {},
     "output_type": "execute_result"
    }
   ],
   "source": [
    "df_train.head()"
   ]
  },
  {
   "cell_type": "code",
   "execution_count": 29,
   "id": "7078eaf4",
   "metadata": {},
   "outputs": [
    {
     "data": {
      "text/plain": [
       "Index(['idade', 'genero', 'polyuria', 'polydipsia', 'perda_de_peso_repentina', 'fraqueza', 'polyphagia', 'candidiase_genital', 'desfoque_visual', 'coceira', 'irritabilidade', 'cicatrizacao_retardada', 'paresia_parcial', 'rigidez_muscular', 'alopecia', 'obesidade', 'target'], dtype='object')"
      ]
     },
     "execution_count": 29,
     "metadata": {},
     "output_type": "execute_result"
    }
   ],
   "source": [
    "df_train.columns"
   ]
  },
  {
   "cell_type": "code",
   "execution_count": 30,
   "id": "b77d0ff7",
   "metadata": {},
   "outputs": [
    {
     "data": {
      "text/plain": [
       "(416, 17)"
      ]
     },
     "execution_count": 30,
     "metadata": {},
     "output_type": "execute_result"
    }
   ],
   "source": [
    "df_train.shape"
   ]
  },
  {
   "cell_type": "code",
   "execution_count": 31,
   "id": "7ae27a75",
   "metadata": {},
   "outputs": [],
   "source": [
    "#Distribuições das váriaveis numéricas. \n",
    "todas_as_variaveis = set(df_train.columns.tolist())\n",
    "variaveis_categoricas = set(df_train.select_dtypes(include=['object']).columns.tolist())\n",
    "variaveis_numericas = todas_as_variaveis - variaveis_categoricas"
   ]
  },
  {
   "cell_type": "markdown",
   "id": "ed736d48",
   "metadata": {},
   "source": [
    "### Apriori para análise de padrões. \n",
    "\n",
    "O Apriori trabalha com o conceito de padrões frequentes, criando regras de associação entre o que foi pré estabelecido. \n",
    "\n",
    "Umas das medidas de desenpenho consideradas nesta análise é o Lift que indica qual a chance de Y (nosso target) ser dado como positivo, se X (outras features do dataset) for positiva também, e considerando toda a popularidade de Y. Em outras palavras, ele verifica qual informação nos trás mais conhecimento sobre a possibilidade de esses padrões serem encontrados juntos. \n"
   ]
  },
  {
   "cell_type": "code",
   "execution_count": 32,
   "id": "a3c59ba4",
   "metadata": {},
   "outputs": [],
   "source": [
    "basket_train_features = df_train.drop('idade', axis=1)\n",
    "dict_convert = {'yes':1, 'no':0, 'female':0, 'male':1, 'negative':0, 'positive':1}\n",
    "basket_train_features = basket_train_features.applymap(lambda x: dict_convert[x])\n",
    "for col in basket_train_features.columns.tolist():\n",
    "    \n",
    "    basket_train_features[col] = pd.to_numeric(basket_train_features[col])"
   ]
  },
  {
   "cell_type": "code",
   "execution_count": 33,
   "id": "7d34f69a",
   "metadata": {},
   "outputs": [],
   "source": [
    "frequent_itemsets = apriori(basket_train_features, min_support=0.1, use_colnames=True)\n"
   ]
  },
  {
   "cell_type": "code",
   "execution_count": 34,
   "id": "0f4d6765",
   "metadata": {},
   "outputs": [],
   "source": [
    "rules = association_rules(frequent_itemsets, metric=\"lift\", min_threshold=1)"
   ]
  },
  {
   "cell_type": "code",
   "execution_count": 35,
   "id": "5bd71867",
   "metadata": {},
   "outputs": [
    {
     "data": {
      "text/html": [
       "<div>\n",
       "<style scoped>\n",
       "    .dataframe tbody tr th:only-of-type {\n",
       "        vertical-align: middle;\n",
       "    }\n",
       "\n",
       "    .dataframe tbody tr th {\n",
       "        vertical-align: top;\n",
       "    }\n",
       "\n",
       "    .dataframe thead th {\n",
       "        text-align: right;\n",
       "    }\n",
       "</style>\n",
       "<table border=\"1\" class=\"dataframe\">\n",
       "  <thead>\n",
       "    <tr style=\"text-align: right;\">\n",
       "      <th></th>\n",
       "      <th>consequents</th>\n",
       "      <th>antecedent support</th>\n",
       "      <th>consequent support</th>\n",
       "      <th>support</th>\n",
       "      <th>confidence</th>\n",
       "      <th>lift</th>\n",
       "      <th>leverage</th>\n",
       "      <th>conviction</th>\n",
       "    </tr>\n",
       "    <tr>\n",
       "      <th>antecedents</th>\n",
       "      <th></th>\n",
       "      <th></th>\n",
       "      <th></th>\n",
       "      <th></th>\n",
       "      <th></th>\n",
       "      <th></th>\n",
       "      <th></th>\n",
       "      <th></th>\n",
       "    </tr>\n",
       "  </thead>\n",
       "  <tbody>\n",
       "    <tr>\n",
       "      <th>(cicatrizacao_retardada, polyphagia, paresia_parcial, polydipsia, polyuria, fraqueza)</th>\n",
       "      <td>(target)</td>\n",
       "      <td>0.100962</td>\n",
       "      <td>0.615385</td>\n",
       "      <td>0.100962</td>\n",
       "      <td>1.0</td>\n",
       "      <td>1.625</td>\n",
       "      <td>0.038831</td>\n",
       "      <td>inf</td>\n",
       "    </tr>\n",
       "    <tr>\n",
       "      <th>(paresia_parcial, cicatrizacao_retardada, polyuria, fraqueza)</th>\n",
       "      <td>(target)</td>\n",
       "      <td>0.144231</td>\n",
       "      <td>0.615385</td>\n",
       "      <td>0.144231</td>\n",
       "      <td>1.0</td>\n",
       "      <td>1.625</td>\n",
       "      <td>0.055473</td>\n",
       "      <td>inf</td>\n",
       "    </tr>\n",
       "    <tr>\n",
       "      <th>(polydipsia, polyphagia, perda_de_peso_repentina)</th>\n",
       "      <td>(target)</td>\n",
       "      <td>0.209135</td>\n",
       "      <td>0.615385</td>\n",
       "      <td>0.209135</td>\n",
       "      <td>1.0</td>\n",
       "      <td>1.625</td>\n",
       "      <td>0.080436</td>\n",
       "      <td>inf</td>\n",
       "    </tr>\n",
       "    <tr>\n",
       "      <th>(polydipsia, cicatrizacao_retardada, polyphagia, perda_de_peso_repentina)</th>\n",
       "      <td>(target)</td>\n",
       "      <td>0.120192</td>\n",
       "      <td>0.615385</td>\n",
       "      <td>0.120192</td>\n",
       "      <td>1.0</td>\n",
       "      <td>1.625</td>\n",
       "      <td>0.046228</td>\n",
       "      <td>inf</td>\n",
       "    </tr>\n",
       "    <tr>\n",
       "      <th>(polydipsia, cicatrizacao_retardada, perda_de_peso_repentina)</th>\n",
       "      <td>(target)</td>\n",
       "      <td>0.149038</td>\n",
       "      <td>0.615385</td>\n",
       "      <td>0.149038</td>\n",
       "      <td>1.0</td>\n",
       "      <td>1.625</td>\n",
       "      <td>0.057322</td>\n",
       "      <td>inf</td>\n",
       "    </tr>\n",
       "  </tbody>\n",
       "</table>\n",
       "</div>"
      ],
      "text/plain": [
       "                                                   consequents  antecedent support  consequent support   support  confidence   lift  leverage  conviction\n",
       "antecedents                                                                                                                                              \n",
       "(cicatrizacao_retardada, polyphagia, paresia_pa...    (target)            0.100962            0.615385  0.100962         1.0  1.625  0.038831         inf\n",
       "(paresia_parcial, cicatrizacao_retardada, polyu...    (target)            0.144231            0.615385  0.144231         1.0  1.625  0.055473         inf\n",
       "(polydipsia, polyphagia, perda_de_peso_repentina)     (target)            0.209135            0.615385  0.209135         1.0  1.625  0.080436         inf\n",
       "(polydipsia, cicatrizacao_retardada, polyphagia...    (target)            0.120192            0.615385  0.120192         1.0  1.625  0.046228         inf\n",
       "(polydipsia, cicatrizacao_retardada, perda_de_p...    (target)            0.149038            0.615385  0.149038         1.0  1.625  0.057322         inf"
      ]
     },
     "execution_count": 35,
     "metadata": {},
     "output_type": "execute_result"
    }
   ],
   "source": [
    "rules[(rules['consequents']=={('target')}) & (rules['lift']>1)].sort_values(by='lift', ascending=False).set_index('antecedents').head(5)"
   ]
  },
  {
   "cell_type": "markdown",
   "id": "68c671cf",
   "metadata": {},
   "source": [
    "Com base no lift, e seguindo o top 5 dos sintomas mais presentes para uma maior probabilidade de um pessoa ter o diagnóstico positivo de diabétes é: Possuir juntos: polyuria, polyphagia, cicatrização_retardada, paresia_parcial, fraqueza, polydipsia; em segundo: polyuria, paresia_parcial, fraqueza, cicatrização_retardada; terceiro: perda_de_peso_repentina, polyphagia, polydipsia; quarto: perda_de_peso_repentina, polyphagia, polydipsia, cicatrização_retardada; quinto: perda_de_peso_repentina, cicatrização_retardada, polydipsia. "
   ]
  },
  {
   "cell_type": "markdown",
   "id": "0d84b387",
   "metadata": {},
   "source": [
    "## Características Marcantes."
   ]
  },
  {
   "cell_type": "markdown",
   "id": "27c35885",
   "metadata": {},
   "source": [
    "### Observação \n",
    "\n",
    "* Estou atribuindo que no target POSITIVO represente 1, e NEGATIVO representa 0. \n",
    "* A partir daqui, estou atribuindo que o sexo feminino será representado por 0, e o sexo masculino por 1. "
   ]
  },
  {
   "cell_type": "code",
   "execution_count": 36,
   "id": "479cdd85",
   "metadata": {},
   "outputs": [],
   "source": [
    "#Plot da distribuição da variável target.\n",
    "df_train['target'] = df_train['target'].map({'positive': 1, 'negative': 0})\n",
    "df_train['genero'] = df_train['genero'].map({'female':0, 'male': 1})"
   ]
  },
  {
   "cell_type": "code",
   "execution_count": 37,
   "id": "1a99aca6",
   "metadata": {},
   "outputs": [
    {
     "data": {
      "image/png": "[encoded data removed]",
      "text/plain": [
       "<Figure size 432x288 with 1 Axes>"
      ]
     },
     "metadata": {
      "needs_background": "light"
     },
     "output_type": "display_data"
    }
   ],
   "source": [
    "df_train['target'].value_counts(normalize=True).plot.bar()\n",
    "plt.show()"
   ]
  },
  {
   "cell_type": "markdown",
   "id": "62db1fd0",
   "metadata": {},
   "source": [
    "Plot do target para verificar se há desbalanceamento, para garantir uma melhor métrica de validição na modelagem"
   ]
  },
  {
   "cell_type": "code",
   "execution_count": 38,
   "id": "9d60768b",
   "metadata": {},
   "outputs": [
    {
     "data": {
      "image/png": "[encoded data removed]",
      "text/plain": [
       "<Figure size 432x288 with 1 Axes>"
      ]
     },
     "metadata": {
      "needs_background": "light"
     },
     "output_type": "display_data"
    }
   ],
   "source": [
    "df_train['genero'].value_counts(normalize=True).plot.bar()\n",
    "#sns.countplot(x=\"genero\", data=df_train,palette=\"RdYlGn_r\")\n",
    "plt.show()"
   ]
  },
  {
   "cell_type": "markdown",
   "id": "25023f68",
   "metadata": {},
   "source": [
    "Na base há mais homens que mulheres."
   ]
  },
  {
   "cell_type": "code",
   "execution_count": 39,
   "id": "52cef539",
   "metadata": {},
   "outputs": [
    {
     "data": {
      "image/png": "[encoded data removed]",
      "text/plain": [
       "<Figure size 432x288 with 1 Axes>"
      ]
     },
     "metadata": {
      "needs_background": "light"
     },
     "output_type": "display_data"
    }
   ],
   "source": [
    "sns.histplot(df_train[\"idade\"], kde=False, bins=10, palette=\"RdYlGn_r\")\n",
    "plt.show()"
   ]
  },
  {
   "cell_type": "code",
   "execution_count": 40,
   "id": "dacc85f4",
   "metadata": {},
   "outputs": [
    {
     "data": {
      "text/plain": [
       "48.11298076923077"
      ]
     },
     "execution_count": 40,
     "metadata": {},
     "output_type": "execute_result"
    }
   ],
   "source": [
    "df_train[\"idade\"].mean()"
   ]
  },
  {
   "cell_type": "markdown",
   "id": "05290921",
   "metadata": {},
   "source": [
    "A maioria das pessoas que estão nesta amostra possuem idade média de 48 anos."
   ]
  },
  {
   "cell_type": "code",
   "execution_count": 41,
   "id": "8a5a9c26",
   "metadata": {},
   "outputs": [
    {
     "data": {
      "image/png": "[encoded data removed]",
      "text/plain": [
       "<Figure size 432x288 with 1 Axes>"
      ]
     },
     "metadata": {
      "needs_background": "light"
     },
     "output_type": "display_data"
    }
   ],
   "source": [
    "sns.countplot(x='target', hue=\"genero\", data=df_train)\n",
    "plt.show()"
   ]
  },
  {
   "cell_type": "code",
   "execution_count": 42,
   "id": "37cad14a",
   "metadata": {},
   "outputs": [
    {
     "data": {
      "image/png": "[encoded data removed]",
      "text/plain": [
       "<Figure size 432x288 with 1 Axes>"
      ]
     },
     "metadata": {
      "needs_background": "light"
     },
     "output_type": "display_data"
    }
   ],
   "source": [
    "df_train.groupby('obesidade').mean()['target'].plot.bar()\n",
    "plt.show()"
   ]
  },
  {
   "cell_type": "markdown",
   "id": "d135172f",
   "metadata": {},
   "source": [
    "Nesta base, certa de 70% de pessoas que possuem diabetes possuem também obesidade."
   ]
  },
  {
   "cell_type": "markdown",
   "id": "f4f4088a",
   "metadata": {},
   "source": [
    "## Qual a relação entre Polyphagia e o diagnóstico de diabetes?"
   ]
  },
  {
   "cell_type": "code",
   "execution_count": 43,
   "id": "47ceb314",
   "metadata": {},
   "outputs": [
    {
     "data": {
      "image/png": "[encoded data removed]",
      "text/plain": [
       "<Figure size 432x288 with 1 Axes>"
      ]
     },
     "metadata": {
      "needs_background": "light"
     },
     "output_type": "display_data"
    }
   ],
   "source": [
    "sns.countplot(x='polyphagia', hue=\"target\", data=df_train)\n",
    "plt.show()"
   ]
  },
  {
   "cell_type": "code",
   "execution_count": 44,
   "id": "eeb421d4",
   "metadata": {},
   "outputs": [
    {
     "data": {
      "text/plain": [
       "polyphagia\n",
       "no     44.394619\n",
       "yes    81.347150\n",
       "Name: target, dtype: float64"
      ]
     },
     "execution_count": 44,
     "metadata": {},
     "output_type": "execute_result"
    }
   ],
   "source": [
    "df_train.groupby('polyphagia').mean()['target']*100"
   ]
  },
  {
   "cell_type": "code",
   "execution_count": 45,
   "id": "c27836c0",
   "metadata": {},
   "outputs": [
    {
     "data": {
      "image/png": "[encoded data removed]",
      "text/plain": [
       "<Figure size 432x288 with 1 Axes>"
      ]
     },
     "metadata": {
      "needs_background": "light"
     },
     "output_type": "display_data"
    }
   ],
   "source": [
    "df_train.groupby('polyphagia').mean()['target'].plot.bar()\n",
    "plt.show()"
   ]
  },
  {
   "cell_type": "markdown",
   "id": "fc9ba655",
   "metadata": {},
   "source": [
    "Polifagia é um sinal médico que significa fome excessiva e ingestão anormalmente alta de sólidos pela boca, pode-se notar que nesta amostra de dados cerca de 80% de pessoas que possuem`polyphagia` também possuem diabetes."
   ]
  },
  {
   "cell_type": "markdown",
   "id": "b054370b",
   "metadata": {},
   "source": [
    "## Qual a chance de uma pessoa do sexo masculino com menos de 40 anos ter o diagnóstico positivo de diabetes?\n"
   ]
  },
  {
   "cell_type": "code",
   "execution_count": 46,
   "id": "0d945fdf",
   "metadata": {},
   "outputs": [
    {
     "data": {
      "image/png": "[encoded data removed]",
      "text/plain": [
       "<Figure size 432x288 with 1 Axes>"
      ]
     },
     "metadata": {
      "needs_background": "light"
     },
     "output_type": "display_data"
    }
   ],
   "source": [
    "genero_masc = df_train[df_train['genero'] == 1]\n",
    "genero_masc = df_train[df_train['idade'] < 40]\n",
    "genero_masc.groupby('genero').mean()['target'].plot.bar()\n",
    "plt.show()"
   ]
  },
  {
   "cell_type": "markdown",
   "id": "b745d8c7",
   "metadata": {},
   "source": [
    "A chance de uma pessoa do sexo masculino com menos de 40 anos ter diabetes nesta amostra dados é aproximadamente de 35%."
   ]
  },
  {
   "cell_type": "code",
   "execution_count": 47,
   "id": "260624b0",
   "metadata": {},
   "outputs": [],
   "source": [
    "list_yes_no = ['polyuria', 'polydipsia', 'perda_de_peso_repentina', 'fraqueza', 'polyphagia', 'candidiase_genital', 'desfoque_visual', 'coceira', 'irritabilidade', 'cicatrizacao_retardada', 'paresia_parcial', 'rigidez_muscular', 'alopecia', 'obesidade']\n",
    "for lista in list_yes_no:\n",
    "    df_train[lista] = df_train[lista].map({\"no\":0, \"yes\":1}.get)"
   ]
  },
  {
   "cell_type": "code",
   "execution_count": 48,
   "id": "fb93c6dc",
   "metadata": {},
   "outputs": [
    {
     "name": "stderr",
     "output_type": "stream",
     "text": [
      "/home/graziellymo/Documents/pessoal/Estudo DS/case-sbf-diabetes/src/eda.py:10: FutureWarning: Passing a set as an indexer is deprecated and will raise in a future version. Use a list instead.\n",
      "  corrmat = df.astype('int').loc[:,lista_de_variaveis].corr(method='pearson')\n"
     ]
    },
    {
     "data": {
      "image/png": "[encoded data removed]",
      "text/plain": [
       "<Figure size 1440x288 with 1 Axes>"
      ]
     },
     "metadata": {
      "needs_background": "light"
     },
     "output_type": "display_data"
    }
   ],
   "source": [
    "plot_correlação(todas_as_variaveis,df_train)"
   ]
  },
  {
   "cell_type": "markdown",
   "id": "20edf606",
   "metadata": {},
   "source": [
    "Afim de verificar a correlação entre o target e as features, para as variáveis catégoricas, O cramer phi é usado para examinar a associação entre duas variáveis categóricas quando há mais de uma contingência.E para as variáveis numérica com método de poit-biserial. Nesses casos, onde as variáveis são categóricas em sua maioria é fundamental a estatística de Cramer, onde o phi de Cramer representa a associação ou correlação entre duas variáveis, equivalente a correlação de pearson (para as categóricas). \n",
    "\n",
    "Observação: Os valores do cramer variam entre 0 e 1. Os valores altos de Cramer indicam uma relação mais forte entre as variáveis, e os valores menores indicam uma relação fraca. Um valor de 0 indica que não existe uma associação. Um valor de 1 indica que não há uma associação muito forte entre as variáveis.\n",
    "\n",
    "\n",
    "Logo pode-se notar que as variáveis `polyuria`, `polydipsia`, e `perda_de_peso_repentina`, possuem uma correlação relativamente alta positiva em relação ao target."
   ]
  },
  {
   "cell_type": "code",
   "execution_count": null,
   "id": "175f4bba",
   "metadata": {},
   "outputs": [],
   "source": []
  },
  {
   "cell_type": "code",
   "execution_count": null,
   "id": "ffad0ddf",
   "metadata": {},
   "outputs": [],
   "source": []
  }
 ],
 "metadata": {
  "kernelspec": {
   "display_name": "Python 3 (ipykernel)",
   "language": "python",
   "name": "python3"
  },
  "language_info": {
   "codemirror_mode": {
    "name": "ipython",
    "version": 3
   },
   "file_extension": ".py",
   "mimetype": "text/x-python",
   "name": "python",
   "nbconvert_exporter": "python",
   "pygments_lexer": "ipython3",
   "version": "3.8.10"
  }
 },
 "nbformat": 4,
 "nbformat_minor": 5
}
