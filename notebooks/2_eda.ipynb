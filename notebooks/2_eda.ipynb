{
 "cells": [
  {
   "cell_type": "markdown",
   "id": "233cbb68",
   "metadata": {},
   "source": [
    "## Dependências"
   ]
  },
  {
   "cell_type": "markdown",
   "id": "a1995679",
   "metadata": {},
   "source": [
    "Questões:\n",
    "\n",
    "● Faça a análise exploratória dos dados, apresente em forma de gráficos e estatísticas dos dados\n",
    "\n",
    "● Quais os 3 principais fatores que levam a um diagnóstico positivo de diabetes?\n",
    "\n",
    "● Qual a chance de uma pessoa do sexo masculino com menos de 40 anos ter o diagnóstico positivo de diabetes?\n",
    "\n",
    "● Qual a relação entre Polyphagia e o diagnóstico de diabetes?\n",
    "\n",
    "● Crie um modelo preditivo para a previsão de diabetes que desconsidere as 5 variáveis menos importantes para o diagnóstico.\n",
    "\n",
    "● Fale sobre as dificuldades que o modelo construído poderia ter para alcançar o sucesso esperado pelo treino em um novo dataset"
   ]
  },
  {
   "cell_type": "code",
   "execution_count": 1,
   "id": "9a5598f6",
   "metadata": {},
   "outputs": [],
   "source": [
    "#Importando bibliotecas\n",
    "import os\n",
    "import pandas as pd\n",
    "import numpy as np\n",
    "import seaborn as sns\n",
    "import cloudpickle\n",
    "import matplotlib.pyplot as plt\n",
    "from scipy.stats import norm\n",
    "from pandas.api.types import is_numeric_dtype\n",
    "pd.set_option('display.max_rows', 500)\n",
    "pd.set_option('display.max_columns', 500)\n",
    "pd.set_option('display.width', 1000)\n",
    "%matplotlib inline\n",
    "cmap = sns.diverging_palette(0,100,74,39,19,25, center='light', as_cmap=True) #heatmap"
   ]
  },
  {
   "cell_type": "markdown",
   "id": "004390e5",
   "metadata": {},
   "source": [
    "## Dados e Constantes"
   ]
  },
  {
   "cell_type": "code",
   "execution_count": 2,
   "id": "8708bf6b",
   "metadata": {},
   "outputs": [],
   "source": [
    "DATA_RAW_PATH = os.path.join('..','data','raw')\n",
    "DATA_RAW_NAME = 'diabetes_data.csv'\n",
    "DATA_INTER_PATH = os.path.join('..','data','inter')\n",
    "DATA_INTER_TEST_NAME = 'test_inter.csv'\n",
    "DATA_INTER_TRAIN_NAME = 'train_inter.csv'\n",
    "META_DATA_PATH = os.path.join(DATA_RAW_PATH,'dicionario_tipos.pkl')"
   ]
  },
  {
   "cell_type": "code",
   "execution_count": 3,
   "id": "310ee06e",
   "metadata": {},
   "outputs": [],
   "source": [
    "#Dados do dicionário\n",
    "with open(META_DATA_PATH,'rb') as f:\n",
    "    dicionario_tipo = cloudpickle.load(f)\n",
    "df_train = pd.read_csv(os.path.join(DATA_INTER_PATH, DATA_INTER_TRAIN_NAME), dtype=dicionario_tipo)"
   ]
  },
  {
   "cell_type": "markdown",
   "id": "2878d4f8",
   "metadata": {},
   "source": [
    "## Iniciando Análise Exploratória\n"
   ]
  },
  {
   "cell_type": "code",
   "execution_count": 4,
   "id": "343396e0",
   "metadata": {},
   "outputs": [
    {
     "data": {
      "text/html": [
       "<div>\n",
       "<style scoped>\n",
       "    .dataframe tbody tr th:only-of-type {\n",
       "        vertical-align: middle;\n",
       "    }\n",
       "\n",
       "    .dataframe tbody tr th {\n",
       "        vertical-align: top;\n",
       "    }\n",
       "\n",
       "    .dataframe thead th {\n",
       "        text-align: right;\n",
       "    }\n",
       "</style>\n",
       "<table border=\"1\" class=\"dataframe\">\n",
       "  <thead>\n",
       "    <tr style=\"text-align: right;\">\n",
       "      <th></th>\n",
       "      <th>idade</th>\n",
       "      <th>genero</th>\n",
       "      <th>polyuria</th>\n",
       "      <th>polydipsia</th>\n",
       "      <th>perda_de_peso_repentina</th>\n",
       "      <th>fraqueza</th>\n",
       "      <th>polyphagia</th>\n",
       "      <th>candidíase_genital</th>\n",
       "      <th>desfoque_visual</th>\n",
       "      <th>coceira</th>\n",
       "      <th>irritabilidade</th>\n",
       "      <th>cicatrização_retardada</th>\n",
       "      <th>paresia_parcial</th>\n",
       "      <th>rigidez_muscular</th>\n",
       "      <th>alopecia</th>\n",
       "      <th>obesidade</th>\n",
       "      <th>target</th>\n",
       "    </tr>\n",
       "  </thead>\n",
       "  <tbody>\n",
       "    <tr>\n",
       "      <th>0</th>\n",
       "      <td>67</td>\n",
       "      <td>0</td>\n",
       "      <td>0</td>\n",
       "      <td>0</td>\n",
       "      <td>0</td>\n",
       "      <td>0</td>\n",
       "      <td>1</td>\n",
       "      <td>0</td>\n",
       "      <td>1</td>\n",
       "      <td>0</td>\n",
       "      <td>0</td>\n",
       "      <td>0</td>\n",
       "      <td>0</td>\n",
       "      <td>1</td>\n",
       "      <td>0</td>\n",
       "      <td>0</td>\n",
       "      <td>0</td>\n",
       "    </tr>\n",
       "    <tr>\n",
       "      <th>1</th>\n",
       "      <td>55</td>\n",
       "      <td>1</td>\n",
       "      <td>1</td>\n",
       "      <td>1</td>\n",
       "      <td>1</td>\n",
       "      <td>0</td>\n",
       "      <td>1</td>\n",
       "      <td>0</td>\n",
       "      <td>0</td>\n",
       "      <td>1</td>\n",
       "      <td>0</td>\n",
       "      <td>1</td>\n",
       "      <td>1</td>\n",
       "      <td>0</td>\n",
       "      <td>0</td>\n",
       "      <td>0</td>\n",
       "      <td>1</td>\n",
       "    </tr>\n",
       "    <tr>\n",
       "      <th>2</th>\n",
       "      <td>60</td>\n",
       "      <td>0</td>\n",
       "      <td>0</td>\n",
       "      <td>0</td>\n",
       "      <td>0</td>\n",
       "      <td>1</td>\n",
       "      <td>0</td>\n",
       "      <td>0</td>\n",
       "      <td>0</td>\n",
       "      <td>0</td>\n",
       "      <td>0</td>\n",
       "      <td>0</td>\n",
       "      <td>1</td>\n",
       "      <td>1</td>\n",
       "      <td>0</td>\n",
       "      <td>0</td>\n",
       "      <td>0</td>\n",
       "    </tr>\n",
       "    <tr>\n",
       "      <th>3</th>\n",
       "      <td>48</td>\n",
       "      <td>1</td>\n",
       "      <td>1</td>\n",
       "      <td>1</td>\n",
       "      <td>0</td>\n",
       "      <td>1</td>\n",
       "      <td>0</td>\n",
       "      <td>0</td>\n",
       "      <td>1</td>\n",
       "      <td>1</td>\n",
       "      <td>0</td>\n",
       "      <td>1</td>\n",
       "      <td>1</td>\n",
       "      <td>0</td>\n",
       "      <td>0</td>\n",
       "      <td>0</td>\n",
       "      <td>1</td>\n",
       "    </tr>\n",
       "    <tr>\n",
       "      <th>4</th>\n",
       "      <td>31</td>\n",
       "      <td>1</td>\n",
       "      <td>1</td>\n",
       "      <td>1</td>\n",
       "      <td>1</td>\n",
       "      <td>1</td>\n",
       "      <td>1</td>\n",
       "      <td>0</td>\n",
       "      <td>0</td>\n",
       "      <td>1</td>\n",
       "      <td>1</td>\n",
       "      <td>0</td>\n",
       "      <td>1</td>\n",
       "      <td>1</td>\n",
       "      <td>0</td>\n",
       "      <td>0</td>\n",
       "      <td>1</td>\n",
       "    </tr>\n",
       "  </tbody>\n",
       "</table>\n",
       "</div>"
      ],
      "text/plain": [
       "   idade genero polyuria polydipsia perda_de_peso_repentina fraqueza polyphagia candidíase_genital desfoque_visual coceira irritabilidade cicatrização_retardada paresia_parcial rigidez_muscular alopecia obesidade target\n",
       "0     67      0        0          0                       0        0          1                  0               1       0              0                      0               0                1        0         0      0\n",
       "1     55      1        1          1                       1        0          1                  0               0       1              0                      1               1                0        0         0      1\n",
       "2     60      0        0          0                       0        1          0                  0               0       0              0                      0               1                1        0         0      0\n",
       "3     48      1        1          1                       0        1          0                  0               1       1              0                      1               1                0        0         0      1\n",
       "4     31      1        1          1                       1        1          1                  0               0       1              1                      0               1                1        0         0      1"
      ]
     },
     "execution_count": 4,
     "metadata": {},
     "output_type": "execute_result"
    }
   ],
   "source": [
    "df_train.head()"
   ]
  },
  {
   "cell_type": "code",
   "execution_count": 5,
   "id": "7078eaf4",
   "metadata": {},
   "outputs": [
    {
     "data": {
      "text/plain": [
       "Index(['idade', 'genero', 'polyuria', 'polydipsia', 'perda_de_peso_repentina', 'fraqueza', 'polyphagia', 'candidíase_genital', 'desfoque_visual', 'coceira', 'irritabilidade', 'cicatrização_retardada', 'paresia_parcial', 'rigidez_muscular', 'alopecia', 'obesidade', 'target'], dtype='object')"
      ]
     },
     "execution_count": 5,
     "metadata": {},
     "output_type": "execute_result"
    }
   ],
   "source": [
    "df_train.columns"
   ]
  },
  {
   "cell_type": "code",
   "execution_count": 6,
   "id": "b77d0ff7",
   "metadata": {},
   "outputs": [
    {
     "data": {
      "text/plain": [
       "(416, 17)"
      ]
     },
     "execution_count": 6,
     "metadata": {},
     "output_type": "execute_result"
    }
   ],
   "source": [
    "df_train.shape"
   ]
  },
  {
   "cell_type": "code",
   "execution_count": 7,
   "id": "ea8521a9",
   "metadata": {},
   "outputs": [
    {
     "name": "stdout",
     "output_type": "stream",
     "text": [
      "<class 'pandas.core.frame.DataFrame'>\n",
      "RangeIndex: 416 entries, 0 to 415\n",
      "Data columns (total 17 columns):\n",
      " #   Column                   Non-Null Count  Dtype \n",
      "---  ------                   --------------  ----- \n",
      " 0   idade                    416 non-null    int64 \n",
      " 1   genero                   416 non-null    object\n",
      " 2   polyuria                 416 non-null    object\n",
      " 3   polydipsia               416 non-null    object\n",
      " 4   perda_de_peso_repentina  416 non-null    object\n",
      " 5   fraqueza                 416 non-null    object\n",
      " 6   polyphagia               416 non-null    object\n",
      " 7   candidíase_genital       416 non-null    object\n",
      " 8   desfoque_visual          416 non-null    object\n",
      " 9   coceira                  416 non-null    object\n",
      " 10  irritabilidade           416 non-null    object\n",
      " 11  cicatrização_retardada   416 non-null    object\n",
      " 12  paresia_parcial          416 non-null    object\n",
      " 13  rigidez_muscular         416 non-null    object\n",
      " 14  alopecia                 416 non-null    object\n",
      " 15  obesidade                416 non-null    object\n",
      " 16  target                   416 non-null    object\n",
      "dtypes: int64(1), object(16)\n",
      "memory usage: 55.4+ KB\n"
     ]
    }
   ],
   "source": [
    "df_train.info()"
   ]
  },
  {
   "cell_type": "code",
   "execution_count": 8,
   "id": "7ae27a75",
   "metadata": {},
   "outputs": [],
   "source": [
    "#Distribuições das váriaveis numéricas. \n",
    "todas_as_variaveis = set(df_train.columns.tolist())\n",
    "variaveis_categoricas = set(df_train.select_dtypes(include=['object']).columns.tolist())\n",
    "variaveis_numericas = todas_as_variaveis - variaveis_categoricas"
   ]
  },
  {
   "cell_type": "markdown",
   "id": "0d84b387",
   "metadata": {},
   "source": [
    "## Características Marcantes.\n"
   ]
  },
  {
   "cell_type": "code",
   "execution_count": 9,
   "id": "479cdd85",
   "metadata": {},
   "outputs": [
    {
     "data": {
      "image/png": "[encoded data removed]",
      "text/plain": [
       "<Figure size 432x288 with 1 Axes>"
      ]
     },
     "metadata": {
      "needs_background": "light"
     },
     "output_type": "display_data"
    }
   ],
   "source": [
    "#Plot da distribuição da variável target.\n",
    "sns.countplot(x=df_train['target'], data=df_train, palette=\"RdYlGn_r\")\n",
    "plt.show()"
   ]
  },
  {
   "cell_type": "markdown",
   "id": "62db1fd0",
   "metadata": {},
   "source": [
    "Plot do target para verificar se há desbalanceamento, para garantir uma melhor métrica de validição na modelagem."
   ]
  },
  {
   "cell_type": "code",
   "execution_count": 10,
   "id": "9d60768b",
   "metadata": {},
   "outputs": [
    {
     "data": {
      "image/png": "[encoded data removed]",
      "text/plain": [
       "<Figure size 432x288 with 1 Axes>"
      ]
     },
     "metadata": {
      "needs_background": "light"
     },
     "output_type": "display_data"
    }
   ],
   "source": [
    "sns.countplot(x=\"genero\", data=df_train,palette=\"RdYlGn_r\")\n",
    "plt.show()"
   ]
  },
  {
   "cell_type": "markdown",
   "id": "25023f68",
   "metadata": {},
   "source": [
    "Na base há mais homens que mulheres"
   ]
  },
  {
   "cell_type": "code",
   "execution_count": 11,
   "id": "52cef539",
   "metadata": {},
   "outputs": [
    {
     "data": {
      "image/png": "[encoded data removed]",
      "text/plain": [
       "<Figure size 432x288 with 1 Axes>"
      ]
     },
     "metadata": {
      "needs_background": "light"
     },
     "output_type": "display_data"
    }
   ],
   "source": [
    "sns.histplot(df_train[\"idade\"], kde=False, bins=10, palette=\"RdYlGn_r\")\n",
    "plt.show()"
   ]
  },
  {
   "cell_type": "code",
   "execution_count": 12,
   "id": "8a5a9c26",
   "metadata": {},
   "outputs": [
    {
     "data": {
      "image/png": "[encoded data removed]",
      "text/plain": [
       "<Figure size 432x288 with 1 Axes>"
      ]
     },
     "metadata": {
      "needs_background": "light"
     },
     "output_type": "display_data"
    }
   ],
   "source": [
    "sns.countplot(x='target', hue=\"genero\", data=df_train)\n",
    "plt.show()"
   ]
  },
  {
   "cell_type": "code",
   "execution_count": 13,
   "id": "37cad14a",
   "metadata": {},
   "outputs": [
    {
     "data": {
      "image/png": "[encoded data removed]",
      "text/plain": [
       "<Figure size 432x288 with 1 Axes>"
      ]
     },
     "metadata": {
      "needs_background": "light"
     },
     "output_type": "display_data"
    }
   ],
   "source": [
    "df_train.astype('int').groupby('obesidade').mean()['target'].plot.bar()\n",
    "plt.show()"
   ]
  },
  {
   "cell_type": "markdown",
   "id": "f4f4088a",
   "metadata": {},
   "source": [
    "## Qual a relação entre Polyphagia e o diagnóstico de diabetes?"
   ]
  },
  {
   "cell_type": "code",
   "execution_count": 14,
   "id": "47ceb314",
   "metadata": {},
   "outputs": [
    {
     "data": {
      "image/png": "[encoded data removed]",
      "text/plain": [
       "<Figure size 432x288 with 1 Axes>"
      ]
     },
     "metadata": {
      "needs_background": "light"
     },
     "output_type": "display_data"
    }
   ],
   "source": [
    "sns.countplot(x='polyphagia', hue=\"target\", data=df_train)\n",
    "plt.show()"
   ]
  },
  {
   "cell_type": "code",
   "execution_count": 15,
   "id": "c27836c0",
   "metadata": {},
   "outputs": [
    {
     "data": {
      "image/png": "[encoded data removed]",
      "text/plain": [
       "<Figure size 432x288 with 1 Axes>"
      ]
     },
     "metadata": {
      "needs_background": "light"
     },
     "output_type": "display_data"
    }
   ],
   "source": [
    "df_train.astype('int').groupby('polyphagia').mean()['target'].plot.bar()\n",
    "plt.show()"
   ]
  },
  {
   "cell_type": "markdown",
   "id": "fc9ba655",
   "metadata": {},
   "source": [
    "Polifagia é um sinal médico que significa fome excessiva e ingestão anormalmente alta de sólidos pela boca, pode-se notar que nesta amostra de dados pessoas que possuem diabetes, geralmente apresenta poplyphagia. "
   ]
  },
  {
   "cell_type": "markdown",
   "id": "b054370b",
   "metadata": {},
   "source": [
    "## Qual a chance de uma pessoa do sexo masculino com menos de 40 anos ter o diagnóstico positivo de diabetes?\n"
   ]
  },
  {
   "cell_type": "code",
   "execution_count": 16,
   "id": "0d945fdf",
   "metadata": {},
   "outputs": [
    {
     "data": {
      "image/png": "[encoded data removed]",
      "text/plain": [
       "<Figure size 432x288 with 1 Axes>"
      ]
     },
     "metadata": {
      "needs_background": "light"
     },
     "output_type": "display_data"
    }
   ],
   "source": [
    "genero_masc = (df_train['genero'] == '0')\n",
    "idade_40 = (df_train['idade'] < 40)\n",
    "df_train[genero_masc & idade_40].astype('int').groupby('genero').mean()['target'].plot.bar()\n",
    "plt.show()"
   ]
  },
  {
   "cell_type": "markdown",
   "id": "b745d8c7",
   "metadata": {},
   "source": [
    "A chance de uma pessoa do sexo mascoluno com menos de 40 anos ter diabetes nesta amostra dados é aproximadamente de 35%."
   ]
  },
  {
   "cell_type": "code",
   "execution_count": 17,
   "id": "a476bb19",
   "metadata": {},
   "outputs": [
    {
     "name": "stderr",
     "output_type": "stream",
     "text": [
      "/tmp/ipykernel_204166/2519763616.py:2: FutureWarning: Passing a set as an indexer is deprecated and will raise in a future version. Use a list instead.\n",
      "  corrmat = df_train.astype('int').loc[:,todas_as_variaveis].corr(method='pearson')\n"
     ]
    },
    {
     "data": {
      "image/png": "[encoded data removed]",
      "text/plain": [
       "<Figure size 1440x288 with 1 Axes>"
      ]
     },
     "metadata": {
      "needs_background": "light"
     },
     "output_type": "display_data"
    }
   ],
   "source": [
    "plt.figure(figsize=(20,4))\n",
    "corrmat = df_train.astype('int').loc[:,todas_as_variaveis].corr(method='pearson')\n",
    "sns.heatmap([corrmat['target']], xticklabels = corrmat.index,\n",
    "            annot=True, fmt='.2f', annot_kws={'size': 14},\n",
    "            cbar=False, center=0,cmap=cmap)\n",
    "plt.title('Correlação pelo método de Person')\n",
    "plt.tight_layout()\n",
    "plt.show()"
   ]
  },
  {
   "cell_type": "markdown",
   "id": "20edf606",
   "metadata": {},
   "source": [
    "Afim de verificar a correlação entre o target e as features, para as variáveis catégoricas, é coerente verificar "
   ]
  },
  {
   "cell_type": "code",
   "execution_count": null,
   "id": "e1ddf37a",
   "metadata": {},
   "outputs": [],
   "source": []
  }
 ],
 "metadata": {
  "kernelspec": {
   "display_name": "Python 3 (ipykernel)",
   "language": "python",
   "name": "python3"
  },
  "language_info": {
   "codemirror_mode": {
    "name": "ipython",
    "version": 3
   },
   "file_extension": ".py",
   "mimetype": "text/x-python",
   "name": "python",
   "nbconvert_exporter": "python",
   "pygments_lexer": "ipython3",
   "version": "3.8.10"
  }
 },
 "nbformat": 4,
 "nbformat_minor": 5
}
