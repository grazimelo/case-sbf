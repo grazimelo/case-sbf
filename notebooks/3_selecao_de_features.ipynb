{
 "cells": [
  {
   "cell_type": "markdown",
   "id": "154c193f",
   "metadata": {},
   "source": [
    "Seleção de Features\n",
    "\n",
    "Neste tópico abordaremos a seleção de features, utilizando o método Botura e teste de Chi2 para tal.\n",
    "\n",
    "Chi2*: Método utilizado para seleção de features categóricas ordinais e nominais. É um metódo que avalia a indepedência das features em relação ao target.\n",
    "\n",
    "Boruta: Método muito robusto e baseado em modelo, que leva em consideração a interação entre a features, algo nao levado em conta pelo Chi2 ou outros métodos univariados de seleção."
   ]
  },
  {
   "cell_type": "markdown",
   "id": "2614f288",
   "metadata": {},
   "source": [
    "## Depêndencias"
   ]
  },
  {
   "cell_type": "code",
   "execution_count": 1,
   "id": "1a94fb74",
   "metadata": {},
   "outputs": [],
   "source": [
    "#Importando bibliotecas\n",
    "import os\n",
    "import pandas as pd\n",
    "import numpy as np\n",
    "import seaborn as sns\n",
    "import cloudpickle\n",
    "import matplotlib.pyplot as plt\n",
    "from scipy.stats import norm\n",
    "from pandas.api.types import is_numeric_dtype\n",
    "from src.selecao_de_features import boruta_selector,chi_squared\n",
    "pd.set_option('display.max_rows', 500)\n",
    "pd.set_option('display.max_columns', 500)\n",
    "pd.set_option('display.width', 1000)\n",
    "%matplotlib inline"
   ]
  },
  {
   "cell_type": "markdown",
   "id": "520b27d8",
   "metadata": {},
   "source": [
    "## Dados e Constantes"
   ]
  },
  {
   "cell_type": "code",
   "execution_count": 21,
   "id": "5a90102d",
   "metadata": {},
   "outputs": [],
   "source": [
    "DATA_RAW_PATH = os.path.join('..','data','raw')\n",
    "DATA_RAW_NAME = 'diabetes_data.csv'\n",
    "DATA_INTER_PATH = os.path.join('..','data','inter')\n",
    "DATA_INTER_TEST_NAME = 'test_inter.csv'\n",
    "DATA_INTER_TRAIN_NAME = 'train_inter.csv'\n",
    "DATA_INTER_TRAIN_FT_SELECTION = 'train_inter_ft_selection.csv'\n",
    "META_DATA_PATH = os.path.join(DATA_RAW_PATH,'dicionario_tipos.pkl')"
   ]
  },
  {
   "cell_type": "code",
   "execution_count": 3,
   "id": "3d92966c",
   "metadata": {},
   "outputs": [],
   "source": [
    "#Dados do dicionário\n",
    "with open(META_DATA_PATH,'rb') as f:\n",
    "    dicionario_tipo = cloudpickle.load(f)\n",
    "df_train = pd.read_csv(os.path.join(DATA_INTER_PATH, DATA_INTER_TRAIN_NAME), dtype=dicionario_tipo)"
   ]
  },
  {
   "cell_type": "code",
   "execution_count": 4,
   "id": "e303a7d1",
   "metadata": {},
   "outputs": [
    {
     "data": {
      "text/html": [
       "<div>\n",
       "<style scoped>\n",
       "    .dataframe tbody tr th:only-of-type {\n",
       "        vertical-align: middle;\n",
       "    }\n",
       "\n",
       "    .dataframe tbody tr th {\n",
       "        vertical-align: top;\n",
       "    }\n",
       "\n",
       "    .dataframe thead th {\n",
       "        text-align: right;\n",
       "    }\n",
       "</style>\n",
       "<table border=\"1\" class=\"dataframe\">\n",
       "  <thead>\n",
       "    <tr style=\"text-align: right;\">\n",
       "      <th></th>\n",
       "      <th>idade</th>\n",
       "      <th>genero</th>\n",
       "      <th>polyuria</th>\n",
       "      <th>polydipsia</th>\n",
       "      <th>perda_de_peso_repentina</th>\n",
       "      <th>fraqueza</th>\n",
       "      <th>polyphagia</th>\n",
       "      <th>candidíase_genital</th>\n",
       "      <th>desfoque_visual</th>\n",
       "      <th>coceira</th>\n",
       "      <th>irritabilidade</th>\n",
       "      <th>cicatrização_retardada</th>\n",
       "      <th>paresia_parcial</th>\n",
       "      <th>rigidez_muscular</th>\n",
       "      <th>alopecia</th>\n",
       "      <th>obesidade</th>\n",
       "      <th>target</th>\n",
       "    </tr>\n",
       "  </thead>\n",
       "  <tbody>\n",
       "    <tr>\n",
       "      <th>0</th>\n",
       "      <td>67</td>\n",
       "      <td>0</td>\n",
       "      <td>0</td>\n",
       "      <td>0</td>\n",
       "      <td>0</td>\n",
       "      <td>0</td>\n",
       "      <td>1</td>\n",
       "      <td>0</td>\n",
       "      <td>1</td>\n",
       "      <td>0</td>\n",
       "      <td>0</td>\n",
       "      <td>0</td>\n",
       "      <td>0</td>\n",
       "      <td>1</td>\n",
       "      <td>0</td>\n",
       "      <td>0</td>\n",
       "      <td>0</td>\n",
       "    </tr>\n",
       "    <tr>\n",
       "      <th>1</th>\n",
       "      <td>55</td>\n",
       "      <td>1</td>\n",
       "      <td>1</td>\n",
       "      <td>1</td>\n",
       "      <td>1</td>\n",
       "      <td>0</td>\n",
       "      <td>1</td>\n",
       "      <td>0</td>\n",
       "      <td>0</td>\n",
       "      <td>1</td>\n",
       "      <td>0</td>\n",
       "      <td>1</td>\n",
       "      <td>1</td>\n",
       "      <td>0</td>\n",
       "      <td>0</td>\n",
       "      <td>0</td>\n",
       "      <td>1</td>\n",
       "    </tr>\n",
       "    <tr>\n",
       "      <th>2</th>\n",
       "      <td>60</td>\n",
       "      <td>0</td>\n",
       "      <td>0</td>\n",
       "      <td>0</td>\n",
       "      <td>0</td>\n",
       "      <td>1</td>\n",
       "      <td>0</td>\n",
       "      <td>0</td>\n",
       "      <td>0</td>\n",
       "      <td>0</td>\n",
       "      <td>0</td>\n",
       "      <td>0</td>\n",
       "      <td>1</td>\n",
       "      <td>1</td>\n",
       "      <td>0</td>\n",
       "      <td>0</td>\n",
       "      <td>0</td>\n",
       "    </tr>\n",
       "    <tr>\n",
       "      <th>3</th>\n",
       "      <td>48</td>\n",
       "      <td>1</td>\n",
       "      <td>1</td>\n",
       "      <td>1</td>\n",
       "      <td>0</td>\n",
       "      <td>1</td>\n",
       "      <td>0</td>\n",
       "      <td>0</td>\n",
       "      <td>1</td>\n",
       "      <td>1</td>\n",
       "      <td>0</td>\n",
       "      <td>1</td>\n",
       "      <td>1</td>\n",
       "      <td>0</td>\n",
       "      <td>0</td>\n",
       "      <td>0</td>\n",
       "      <td>1</td>\n",
       "    </tr>\n",
       "    <tr>\n",
       "      <th>4</th>\n",
       "      <td>31</td>\n",
       "      <td>1</td>\n",
       "      <td>1</td>\n",
       "      <td>1</td>\n",
       "      <td>1</td>\n",
       "      <td>1</td>\n",
       "      <td>1</td>\n",
       "      <td>0</td>\n",
       "      <td>0</td>\n",
       "      <td>1</td>\n",
       "      <td>1</td>\n",
       "      <td>0</td>\n",
       "      <td>1</td>\n",
       "      <td>1</td>\n",
       "      <td>0</td>\n",
       "      <td>0</td>\n",
       "      <td>1</td>\n",
       "    </tr>\n",
       "  </tbody>\n",
       "</table>\n",
       "</div>"
      ],
      "text/plain": [
       "   idade genero polyuria polydipsia perda_de_peso_repentina fraqueza polyphagia candidíase_genital desfoque_visual coceira irritabilidade cicatrização_retardada paresia_parcial rigidez_muscular alopecia obesidade target\n",
       "0     67      0        0          0                       0        0          1                  0               1       0              0                      0               0                1        0         0      0\n",
       "1     55      1        1          1                       1        0          1                  0               0       1              0                      1               1                0        0         0      1\n",
       "2     60      0        0          0                       0        1          0                  0               0       0              0                      0               1                1        0         0      0\n",
       "3     48      1        1          1                       0        1          0                  0               1       1              0                      1               1                0        0         0      1\n",
       "4     31      1        1          1                       1        1          1                  0               0       1              1                      0               1                1        0         0      1"
      ]
     },
     "execution_count": 4,
     "metadata": {},
     "output_type": "execute_result"
    }
   ],
   "source": [
    "df_train.head()"
   ]
  },
  {
   "cell_type": "markdown",
   "id": "f80f77c4",
   "metadata": {},
   "source": [
    "## Iniciando análises para seleção"
   ]
  },
  {
   "cell_type": "code",
   "execution_count": 10,
   "id": "462f4f2f",
   "metadata": {},
   "outputs": [],
   "source": [
    "#Utilizando apenas as variaveis numericas.\n",
    "todas_as_variaveis = set(df_train.columns.tolist())\n",
    "variaveis_categoricas = set(df_train.select_dtypes(include=['object']).columns.tolist())\n",
    "variaveis_numericas = todas_as_variaveis - variaveis_categoricas\n",
    "variaveis_categoricas = list(variaveis_categoricas)"
   ]
  },
  {
   "cell_type": "code",
   "execution_count": 11,
   "id": "9b5f7afa",
   "metadata": {},
   "outputs": [
    {
     "data": {
      "text/plain": [
       "['polyuria',\n",
       " 'irritabilidade',\n",
       " 'fraqueza',\n",
       " 'perda_de_peso_repentina',\n",
       " 'desfoque_visual',\n",
       " 'coceira',\n",
       " 'polydipsia',\n",
       " 'polyphagia',\n",
       " 'rigidez_muscular',\n",
       " 'alopecia',\n",
       " 'cicatrização_retardada',\n",
       " 'paresia_parcial',\n",
       " 'genero',\n",
       " 'target',\n",
       " 'obesidade',\n",
       " 'candidíase_genital']"
      ]
     },
     "execution_count": 11,
     "metadata": {},
     "output_type": "execute_result"
    }
   ],
   "source": [
    "variaveis_categoricas"
   ]
  },
  {
   "cell_type": "markdown",
   "id": "65f8f886",
   "metadata": {},
   "source": [
    "## Abordagem (Chi2+Boruta)"
   ]
  },
  {
   "cell_type": "markdown",
   "id": "0c9d48e3",
   "metadata": {},
   "source": [
    "## Chi2"
   ]
  },
  {
   "cell_type": "code",
   "execution_count": 12,
   "id": "356bb53c",
   "metadata": {},
   "outputs": [],
   "source": [
    "chi2_df, logs = chi_squared(df_train, y ='target', cols = variaveis_categoricas)"
   ]
  },
  {
   "cell_type": "code",
   "execution_count": 13,
   "id": "5ab2e3d8",
   "metadata": {},
   "outputs": [
    {
     "data": {
      "text/html": [
       "<div>\n",
       "<style scoped>\n",
       "    .dataframe tbody tr th:only-of-type {\n",
       "        vertical-align: middle;\n",
       "    }\n",
       "\n",
       "    .dataframe tbody tr th {\n",
       "        vertical-align: top;\n",
       "    }\n",
       "\n",
       "    .dataframe thead th {\n",
       "        text-align: right;\n",
       "    }\n",
       "</style>\n",
       "<table border=\"1\" class=\"dataframe\">\n",
       "  <thead>\n",
       "    <tr style=\"text-align: right;\">\n",
       "      <th></th>\n",
       "      <th>column</th>\n",
       "      <th>p-value</th>\n",
       "      <th>chi2_value</th>\n",
       "    </tr>\n",
       "  </thead>\n",
       "  <tbody>\n",
       "    <tr>\n",
       "      <th>0</th>\n",
       "      <td>polyuria</td>\n",
       "      <td>2.743055e-47</td>\n",
       "      <td>208.623267</td>\n",
       "    </tr>\n",
       "    <tr>\n",
       "      <th>1</th>\n",
       "      <td>irritabilidade</td>\n",
       "      <td>1.394289e-08</td>\n",
       "      <td>32.195282</td>\n",
       "    </tr>\n",
       "    <tr>\n",
       "      <th>2</th>\n",
       "      <td>fraqueza</td>\n",
       "      <td>3.977307e-06</td>\n",
       "      <td>21.275753</td>\n",
       "    </tr>\n",
       "    <tr>\n",
       "      <th>3</th>\n",
       "      <td>perda_de_peso_repentina</td>\n",
       "      <td>1.692650e-20</td>\n",
       "      <td>86.120894</td>\n",
       "    </tr>\n",
       "    <tr>\n",
       "      <th>4</th>\n",
       "      <td>desfoque_visual</td>\n",
       "      <td>2.937352e-07</td>\n",
       "      <td>26.290466</td>\n",
       "    </tr>\n",
       "    <tr>\n",
       "      <th>5</th>\n",
       "      <td>coceira</td>\n",
       "      <td>7.858988e-01</td>\n",
       "      <td>0.073788</td>\n",
       "    </tr>\n",
       "    <tr>\n",
       "      <th>6</th>\n",
       "      <td>polydipsia</td>\n",
       "      <td>3.586249e-40</td>\n",
       "      <td>176.019213</td>\n",
       "    </tr>\n",
       "    <tr>\n",
       "      <th>7</th>\n",
       "      <td>polyphagia</td>\n",
       "      <td>2.445415e-14</td>\n",
       "      <td>58.136541</td>\n",
       "    </tr>\n",
       "    <tr>\n",
       "      <th>8</th>\n",
       "      <td>rigidez_muscular</td>\n",
       "      <td>1.347944e-02</td>\n",
       "      <td>6.105073</td>\n",
       "    </tr>\n",
       "    <tr>\n",
       "      <th>9</th>\n",
       "      <td>alopecia</td>\n",
       "      <td>7.310311e-08</td>\n",
       "      <td>28.980698</td>\n",
       "    </tr>\n",
       "    <tr>\n",
       "      <th>10</th>\n",
       "      <td>cicatrização_retardada</td>\n",
       "      <td>4.130320e-01</td>\n",
       "      <td>0.670056</td>\n",
       "    </tr>\n",
       "    <tr>\n",
       "      <th>11</th>\n",
       "      <td>paresia_parcial</td>\n",
       "      <td>4.934038e-22</td>\n",
       "      <td>93.115079</td>\n",
       "    </tr>\n",
       "    <tr>\n",
       "      <th>12</th>\n",
       "      <td>genero</td>\n",
       "      <td>1.366399e-21</td>\n",
       "      <td>91.099301</td>\n",
       "    </tr>\n",
       "    <tr>\n",
       "      <th>13</th>\n",
       "      <td>target</td>\n",
       "      <td>NaN</td>\n",
       "      <td>NaN</td>\n",
       "    </tr>\n",
       "    <tr>\n",
       "      <th>14</th>\n",
       "      <td>obesidade</td>\n",
       "      <td>2.908504e-02</td>\n",
       "      <td>4.762573</td>\n",
       "    </tr>\n",
       "    <tr>\n",
       "      <th>15</th>\n",
       "      <td>candidíase_genital</td>\n",
       "      <td>3.097391e-02</td>\n",
       "      <td>4.654408</td>\n",
       "    </tr>\n",
       "  </tbody>\n",
       "</table>\n",
       "</div>"
      ],
      "text/plain": [
       "                     column       p-value  chi2_value\n",
       "0                  polyuria  2.743055e-47  208.623267\n",
       "1            irritabilidade  1.394289e-08   32.195282\n",
       "2                  fraqueza  3.977307e-06   21.275753\n",
       "3   perda_de_peso_repentina  1.692650e-20   86.120894\n",
       "4           desfoque_visual  2.937352e-07   26.290466\n",
       "5                   coceira  7.858988e-01    0.073788\n",
       "6                polydipsia  3.586249e-40  176.019213\n",
       "7                polyphagia  2.445415e-14   58.136541\n",
       "8          rigidez_muscular  1.347944e-02    6.105073\n",
       "9                  alopecia  7.310311e-08   28.980698\n",
       "10   cicatrização_retardada  4.130320e-01    0.670056\n",
       "11          paresia_parcial  4.934038e-22   93.115079\n",
       "12                   genero  1.366399e-21   91.099301\n",
       "13                   target           NaN         NaN\n",
       "14                obesidade  2.908504e-02    4.762573\n",
       "15       candidíase_genital  3.097391e-02    4.654408"
      ]
     },
     "execution_count": 13,
     "metadata": {},
     "output_type": "execute_result"
    }
   ],
   "source": [
    "chi2_df"
   ]
  },
  {
   "cell_type": "code",
   "execution_count": 14,
   "id": "0101a186",
   "metadata": {},
   "outputs": [
    {
     "data": {
      "text/plain": [
       "['A coluna target não pode ser avaliada. ']"
      ]
     },
     "execution_count": 14,
     "metadata": {},
     "output_type": "execute_result"
    }
   ],
   "source": [
    "logs"
   ]
  },
  {
   "cell_type": "markdown",
   "id": "4f91de7b",
   "metadata": {},
   "source": [
    "Com é o próprio target, não calculamos o chi2 para ele.\n",
    "* Hipótese nula - H0: As variáveis são independentes) Segundo o teste de hipotése realizado, as variáveis cujo p-valor < 0.05 tem relação com o target."
   ]
  },
  {
   "cell_type": "code",
   "execution_count": 15,
   "id": "a389c412",
   "metadata": {},
   "outputs": [],
   "source": [
    "#As variáveis que serão excluídas. \n",
    "lista_descart_chi2 = chi2_df[chi2_df['p-value']>=0.05]['column'].tolist()"
   ]
  },
  {
   "cell_type": "code",
   "execution_count": 16,
   "id": "364f63fc",
   "metadata": {},
   "outputs": [
    {
     "data": {
      "text/plain": [
       "['coceira', 'cicatrização_retardada']"
      ]
     },
     "execution_count": 16,
     "metadata": {},
     "output_type": "execute_result"
    }
   ],
   "source": [
    "lista_descart_chi2"
   ]
  },
  {
   "cell_type": "markdown",
   "id": "0f6b32c8",
   "metadata": {},
   "source": [
    "## Boruta"
   ]
  },
  {
   "cell_type": "code",
   "execution_count": 18,
   "id": "4ef05564",
   "metadata": {},
   "outputs": [],
   "source": [
    "#Vamos filtrar as Features removidas no step anterior antes de passarmos para o Boruta\n",
    "list_to_drop_boruta = boruta_selector(df_train.drop(lista_descart_chi2,axis=1), y='target')"
   ]
  },
  {
   "cell_type": "code",
   "execution_count": 20,
   "id": "01ac2844",
   "metadata": {},
   "outputs": [
    {
     "data": {
      "text/plain": [
       "{'candidíase_genital',\n",
       " 'cicatrização_retardada',\n",
       " 'coceira',\n",
       " 'desfoque_visual',\n",
       " 'fraqueza',\n",
       " 'obesidade',\n",
       " 'rigidez_muscular'}"
      ]
     },
     "execution_count": 20,
     "metadata": {},
     "output_type": "execute_result"
    }
   ],
   "source": [
    "#Lista de dropagem Geral (chi2 + boruta)\n",
    "lista_drop_geral = set(lista_descart_chi2+list_to_drop_boruta)\n",
    "lista_drop_geral"
   ]
  },
  {
   "cell_type": "code",
   "execution_count": 22,
   "id": "f699c114",
   "metadata": {},
   "outputs": [],
   "source": [
    "# dropando as colunas pela abordagem.\n",
    "df_train.drop(lista_drop_geral,axis=1).to_csv(os.path.join(DATA_INTER_PATH,DATA_INTER_TRAIN_FT_SELECTION), index=False)"
   ]
  },
  {
   "cell_type": "markdown",
   "id": "04ed3ad6",
   "metadata": {},
   "source": [
    "A abordagem para seleção de features que utilizamos são (Chi2 e Boruta), que combinados trazem resultados bastante relevantes. As features descartadas foram:`candidíase`,`cicatrização_retardada`,`coceira`,`desfoque_visual`, `fraqueza`,`obesidade`, `regidez_muscular`. Todas essas features não serão consideradas para nosso modelo."
   ]
  },
  {
   "cell_type": "code",
   "execution_count": null,
   "id": "ac195232",
   "metadata": {},
   "outputs": [],
   "source": []
  }
 ],
 "metadata": {
  "kernelspec": {
   "display_name": "Python 3 (ipykernel)",
   "language": "python",
   "name": "python3"
  },
  "language_info": {
   "codemirror_mode": {
    "name": "ipython",
    "version": 3
   },
   "file_extension": ".py",
   "mimetype": "text/x-python",
   "name": "python",
   "nbconvert_exporter": "python",
   "pygments_lexer": "ipython3",
   "version": "3.8.10"
  }
 },
 "nbformat": 4,
 "nbformat_minor": 5
}
