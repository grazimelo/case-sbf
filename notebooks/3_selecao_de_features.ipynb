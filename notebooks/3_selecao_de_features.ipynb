{
 "cells": [
  {
   "cell_type": "markdown",
   "id": "154c193f",
   "metadata": {},
   "source": [
    "## Seleção de Features\n",
    "\n",
    "Neste tópico abordaremos a seleção de features, utilizando o método Boruta, teste de Chi2 e Correlação point-biserial para tal.\n",
    "\n",
    "\n",
    "Teste de correlação ponto-bisserial é simplesmente a correlação entre uma variável dicotômica e uma variável contínua. Acontece que este é um caso especial da correlação de Pearson. Portanto, calcular a correlação bisserial de ponto especial é equivalente a calcular a correlação de Pearson quando uma variável é dicotômica e a outra é contínua.\n",
    "\n",
    "Chi2*: Método utilizado para seleção de features categóricas ordinais e nominais. É um método que avalia a indepedência das features em relação ao target.\n",
    "\n",
    "Boruta: Método muito robusto e baseado em modelo, que leva em consideração a interação entre a features, algo nao levado em conta pelo Chi2 ou outros métodos univariados de seleção. \n",
    "\n",
    "Para mais informações sobre o Boruta: https://towardsdatascience.com/boruta-explained-the-way-i-wish-someone-explained-it-to-me-4489d70e154a"
   ]
  },
  {
   "cell_type": "markdown",
   "id": "2614f288",
   "metadata": {},
   "source": [
    "## Depêndencias"
   ]
  },
  {
   "cell_type": "code",
   "execution_count": 1,
   "id": "1a94fb74",
   "metadata": {},
   "outputs": [],
   "source": [
    "#Importando bibliotecas\n",
    "import os\n",
    "import pandas as pd\n",
    "import numpy as np\n",
    "import seaborn as sns\n",
    "import cloudpickle\n",
    "import matplotlib.pyplot as plt\n",
    "from scipy.stats import norm\n",
    "from pandas.api.types import is_numeric_dtype\n",
    "from src.selecao_de_features import boruta_selector,chi_squared,point_biserial\n",
    "pd.set_option('display.max_rows', 500)\n",
    "pd.set_option('display.max_columns', 500)\n",
    "pd.set_option('display.width', 1000)\n",
    "%matplotlib inline"
   ]
  },
  {
   "cell_type": "markdown",
   "id": "520b27d8",
   "metadata": {},
   "source": [
    "## Dados e Constantes"
   ]
  },
  {
   "cell_type": "code",
   "execution_count": 2,
   "id": "5a90102d",
   "metadata": {},
   "outputs": [],
   "source": [
    "DATA_RAW_PATH = os.path.join('..','data','raw')\n",
    "DATA_RAW_NAME = 'diabetes_data.csv'\n",
    "DATA_INTER_PATH = os.path.join('..','data','inter')\n",
    "DATA_INTER_TEST_NAME = 'test_inter.csv'\n",
    "DATA_INTER_TRAIN_NAME = 'train_inter.csv'\n",
    "DATA_INTER_TRAIN_FT_SELECTION = 'train_inter_ft_selection.csv'\n",
    "META_DATA_PATH = os.path.join(DATA_RAW_PATH,'dicionario_tipos.pkl')\n",
    "TARGET = 'target'"
   ]
  },
  {
   "cell_type": "code",
   "execution_count": 3,
   "id": "3d92966c",
   "metadata": {},
   "outputs": [],
   "source": [
    "#Dados do dicionário\n",
    "with open(META_DATA_PATH,'rb') as f:\n",
    "    dicionario_tipo = cloudpickle.load(f)\n",
    "df_train = pd.read_csv(os.path.join(DATA_INTER_PATH, DATA_INTER_TRAIN_NAME), dtype=dicionario_tipo)"
   ]
  },
  {
   "cell_type": "code",
   "execution_count": 4,
   "id": "e303a7d1",
   "metadata": {},
   "outputs": [
    {
     "data": {
      "text/html": [
       "<div>\n",
       "<style scoped>\n",
       "    .dataframe tbody tr th:only-of-type {\n",
       "        vertical-align: middle;\n",
       "    }\n",
       "\n",
       "    .dataframe tbody tr th {\n",
       "        vertical-align: top;\n",
       "    }\n",
       "\n",
       "    .dataframe thead th {\n",
       "        text-align: right;\n",
       "    }\n",
       "</style>\n",
       "<table border=\"1\" class=\"dataframe\">\n",
       "  <thead>\n",
       "    <tr style=\"text-align: right;\">\n",
       "      <th></th>\n",
       "      <th>idade</th>\n",
       "      <th>genero</th>\n",
       "      <th>polyuria</th>\n",
       "      <th>polydipsia</th>\n",
       "      <th>perda_de_peso_repentina</th>\n",
       "      <th>fraqueza</th>\n",
       "      <th>polyphagia</th>\n",
       "      <th>candidiase_genital</th>\n",
       "      <th>desfoque_visual</th>\n",
       "      <th>coceira</th>\n",
       "      <th>irritabilidade</th>\n",
       "      <th>cicatrizacao_retardada</th>\n",
       "      <th>paresia_parcial</th>\n",
       "      <th>rigidez_muscular</th>\n",
       "      <th>alopecia</th>\n",
       "      <th>obesidade</th>\n",
       "      <th>target</th>\n",
       "    </tr>\n",
       "  </thead>\n",
       "  <tbody>\n",
       "    <tr>\n",
       "      <th>0</th>\n",
       "      <td>67</td>\n",
       "      <td>male</td>\n",
       "      <td>no</td>\n",
       "      <td>no</td>\n",
       "      <td>no</td>\n",
       "      <td>no</td>\n",
       "      <td>yes</td>\n",
       "      <td>no</td>\n",
       "      <td>yes</td>\n",
       "      <td>no</td>\n",
       "      <td>no</td>\n",
       "      <td>no</td>\n",
       "      <td>no</td>\n",
       "      <td>yes</td>\n",
       "      <td>no</td>\n",
       "      <td>no</td>\n",
       "      <td>negative</td>\n",
       "    </tr>\n",
       "    <tr>\n",
       "      <th>1</th>\n",
       "      <td>55</td>\n",
       "      <td>female</td>\n",
       "      <td>yes</td>\n",
       "      <td>yes</td>\n",
       "      <td>yes</td>\n",
       "      <td>no</td>\n",
       "      <td>yes</td>\n",
       "      <td>no</td>\n",
       "      <td>no</td>\n",
       "      <td>yes</td>\n",
       "      <td>no</td>\n",
       "      <td>yes</td>\n",
       "      <td>yes</td>\n",
       "      <td>no</td>\n",
       "      <td>no</td>\n",
       "      <td>no</td>\n",
       "      <td>positive</td>\n",
       "    </tr>\n",
       "    <tr>\n",
       "      <th>2</th>\n",
       "      <td>60</td>\n",
       "      <td>male</td>\n",
       "      <td>no</td>\n",
       "      <td>no</td>\n",
       "      <td>no</td>\n",
       "      <td>yes</td>\n",
       "      <td>no</td>\n",
       "      <td>no</td>\n",
       "      <td>no</td>\n",
       "      <td>no</td>\n",
       "      <td>no</td>\n",
       "      <td>no</td>\n",
       "      <td>yes</td>\n",
       "      <td>yes</td>\n",
       "      <td>no</td>\n",
       "      <td>no</td>\n",
       "      <td>negative</td>\n",
       "    </tr>\n",
       "    <tr>\n",
       "      <th>3</th>\n",
       "      <td>48</td>\n",
       "      <td>female</td>\n",
       "      <td>yes</td>\n",
       "      <td>yes</td>\n",
       "      <td>no</td>\n",
       "      <td>yes</td>\n",
       "      <td>no</td>\n",
       "      <td>no</td>\n",
       "      <td>yes</td>\n",
       "      <td>yes</td>\n",
       "      <td>no</td>\n",
       "      <td>yes</td>\n",
       "      <td>yes</td>\n",
       "      <td>no</td>\n",
       "      <td>no</td>\n",
       "      <td>no</td>\n",
       "      <td>positive</td>\n",
       "    </tr>\n",
       "    <tr>\n",
       "      <th>4</th>\n",
       "      <td>31</td>\n",
       "      <td>female</td>\n",
       "      <td>yes</td>\n",
       "      <td>yes</td>\n",
       "      <td>yes</td>\n",
       "      <td>yes</td>\n",
       "      <td>yes</td>\n",
       "      <td>no</td>\n",
       "      <td>no</td>\n",
       "      <td>yes</td>\n",
       "      <td>yes</td>\n",
       "      <td>no</td>\n",
       "      <td>yes</td>\n",
       "      <td>yes</td>\n",
       "      <td>no</td>\n",
       "      <td>no</td>\n",
       "      <td>positive</td>\n",
       "    </tr>\n",
       "  </tbody>\n",
       "</table>\n",
       "</div>"
      ],
      "text/plain": [
       "   idade  genero polyuria polydipsia perda_de_peso_repentina fraqueza polyphagia candidiase_genital desfoque_visual coceira irritabilidade cicatrizacao_retardada paresia_parcial rigidez_muscular alopecia obesidade    target\n",
       "0     67    male       no         no                      no       no        yes                 no             yes      no             no                     no              no              yes       no        no  negative\n",
       "1     55  female      yes        yes                     yes       no        yes                 no              no     yes             no                    yes             yes               no       no        no  positive\n",
       "2     60    male       no         no                      no      yes         no                 no              no      no             no                     no             yes              yes       no        no  negative\n",
       "3     48  female      yes        yes                      no      yes         no                 no             yes     yes             no                    yes             yes               no       no        no  positive\n",
       "4     31  female      yes        yes                     yes      yes        yes                 no              no     yes            yes                     no             yes              yes       no        no  positive"
      ]
     },
     "execution_count": 4,
     "metadata": {},
     "output_type": "execute_result"
    }
   ],
   "source": [
    "df_train.head()"
   ]
  },
  {
   "cell_type": "markdown",
   "id": "f80f77c4",
   "metadata": {},
   "source": [
    "## Iniciando análises para seleção"
   ]
  },
  {
   "cell_type": "code",
   "execution_count": 5,
   "id": "462f4f2f",
   "metadata": {},
   "outputs": [],
   "source": [
    "#Utilizando apenas as variaveis numericas.\n",
    "todas_as_variaveis = set(df_train.columns.tolist())\n",
    "variaveis_categoricas = set(df_train.select_dtypes(include=['object']).columns.tolist())\n",
    "variaveis_numericas = todas_as_variaveis - variaveis_categoricas\n",
    "variaveis_categoricas = list(variaveis_categoricas)"
   ]
  },
  {
   "cell_type": "code",
   "execution_count": 6,
   "id": "b2d99689",
   "metadata": {},
   "outputs": [],
   "source": [
    "# Criando cópia do dataFrame\n",
    "df_train_copy = df_train.copy()"
   ]
  },
  {
   "cell_type": "markdown",
   "id": "65f8f886",
   "metadata": {},
   "source": [
    "## Abordagem (Correlação+Chi2+Boruta)"
   ]
  },
  {
   "cell_type": "markdown",
   "id": "ef4f5e29",
   "metadata": {},
   "source": [
    "## Correlação"
   ]
  },
  {
   "cell_type": "markdown",
   "id": "963a4c92",
   "metadata": {},
   "source": [
    "A Correlação não descartou nenhuma variável. "
   ]
  },
  {
   "cell_type": "code",
   "execution_count": 7,
   "id": "5a90240b",
   "metadata": {},
   "outputs": [],
   "source": [
    "#Plot da distribuição da variável target.\n",
    "df_train['target'] = df_train['target'].map({'positive': 1, 'negative': 0})\n",
    "df_train['genero'] = df_train['genero'].map({'female':0, 'male': 1})"
   ]
  },
  {
   "cell_type": "code",
   "execution_count": 8,
   "id": "cf77f3a7",
   "metadata": {},
   "outputs": [],
   "source": [
    "list_yes_no = ['polyuria', 'polydipsia', 'perda_de_peso_repentina', 'fraqueza', 'polyphagia', 'candidiase_genital', 'desfoque_visual', 'coceira', 'irritabilidade', 'cicatrizacao_retardada', 'paresia_parcial', 'rigidez_muscular', 'alopecia', 'obesidade']\n",
    "for lista in list_yes_no:\n",
    "    df_train[lista] = df_train[lista].map({\"no\":0, \"yes\":1}.get)"
   ]
  },
  {
   "cell_type": "code",
   "execution_count": 9,
   "id": "0ac92d5a",
   "metadata": {},
   "outputs": [],
   "source": [
    "pb_df, columns_remove_pb = point_biserial(df_train, 'target', ['idade'])"
   ]
  },
  {
   "cell_type": "code",
   "execution_count": 10,
   "id": "322423cf",
   "metadata": {},
   "outputs": [
    {
     "data": {
      "text/html": [
       "<div>\n",
       "<style scoped>\n",
       "    .dataframe tbody tr th:only-of-type {\n",
       "        vertical-align: middle;\n",
       "    }\n",
       "\n",
       "    .dataframe tbody tr th {\n",
       "        vertical-align: top;\n",
       "    }\n",
       "\n",
       "    .dataframe thead th {\n",
       "        text-align: right;\n",
       "    }\n",
       "</style>\n",
       "<table border=\"1\" class=\"dataframe\">\n",
       "  <thead>\n",
       "    <tr style=\"text-align: right;\">\n",
       "      <th></th>\n",
       "      <th>column</th>\n",
       "      <th>correlation</th>\n",
       "      <th>p_value</th>\n",
       "      <th>result</th>\n",
       "    </tr>\n",
       "  </thead>\n",
       "  <tbody>\n",
       "    <tr>\n",
       "      <th>0</th>\n",
       "      <td>idade</td>\n",
       "      <td>0.135992</td>\n",
       "      <td>0.005465</td>\n",
       "      <td>Reject H0</td>\n",
       "    </tr>\n",
       "  </tbody>\n",
       "</table>\n",
       "</div>"
      ],
      "text/plain": [
       "  column  correlation   p_value     result\n",
       "0  idade     0.135992  0.005465  Reject H0"
      ]
     },
     "execution_count": 10,
     "metadata": {},
     "output_type": "execute_result"
    }
   ],
   "source": [
    "pb_df"
   ]
  },
  {
   "cell_type": "code",
   "execution_count": 11,
   "id": "0d54a831",
   "metadata": {},
   "outputs": [
    {
     "data": {
      "text/plain": [
       "[]"
      ]
     },
     "execution_count": 11,
     "metadata": {},
     "output_type": "execute_result"
    }
   ],
   "source": [
    "columns_remove_pb"
   ]
  },
  {
   "cell_type": "markdown",
   "id": "7206a734",
   "metadata": {},
   "source": [
    "O test point biserial não eliminou a feature idade."
   ]
  },
  {
   "cell_type": "markdown",
   "id": "0c9d48e3",
   "metadata": {},
   "source": [
    "## Chi2"
   ]
  },
  {
   "cell_type": "code",
   "execution_count": 12,
   "id": "356bb53c",
   "metadata": {},
   "outputs": [],
   "source": [
    "chi2_df, logs = chi_squared(df_train_copy, y ='target', cols = variaveis_categoricas)"
   ]
  },
  {
   "cell_type": "code",
   "execution_count": 14,
   "id": "5ab2e3d8",
   "metadata": {},
   "outputs": [
    {
     "data": {
      "text/html": [
       "<div>\n",
       "<style scoped>\n",
       "    .dataframe tbody tr th:only-of-type {\n",
       "        vertical-align: middle;\n",
       "    }\n",
       "\n",
       "    .dataframe tbody tr th {\n",
       "        vertical-align: top;\n",
       "    }\n",
       "\n",
       "    .dataframe thead th {\n",
       "        text-align: right;\n",
       "    }\n",
       "</style>\n",
       "<table border=\"1\" class=\"dataframe\">\n",
       "  <thead>\n",
       "    <tr style=\"text-align: right;\">\n",
       "      <th></th>\n",
       "      <th>column</th>\n",
       "      <th>p-value</th>\n",
       "      <th>chi2_value</th>\n",
       "    </tr>\n",
       "  </thead>\n",
       "  <tbody>\n",
       "    <tr>\n",
       "      <th>0</th>\n",
       "      <td>polyphagia</td>\n",
       "      <td>2.445415e-14</td>\n",
       "      <td>58.136541</td>\n",
       "    </tr>\n",
       "    <tr>\n",
       "      <th>1</th>\n",
       "      <td>coceira</td>\n",
       "      <td>7.858988e-01</td>\n",
       "      <td>0.073788</td>\n",
       "    </tr>\n",
       "    <tr>\n",
       "      <th>2</th>\n",
       "      <td>genero</td>\n",
       "      <td>1.366399e-21</td>\n",
       "      <td>91.099301</td>\n",
       "    </tr>\n",
       "    <tr>\n",
       "      <th>3</th>\n",
       "      <td>perda_de_peso_repentina</td>\n",
       "      <td>1.692650e-20</td>\n",
       "      <td>86.120894</td>\n",
       "    </tr>\n",
       "    <tr>\n",
       "      <th>4</th>\n",
       "      <td>paresia_parcial</td>\n",
       "      <td>4.934038e-22</td>\n",
       "      <td>93.115079</td>\n",
       "    </tr>\n",
       "    <tr>\n",
       "      <th>5</th>\n",
       "      <td>obesidade</td>\n",
       "      <td>2.908504e-02</td>\n",
       "      <td>4.762573</td>\n",
       "    </tr>\n",
       "    <tr>\n",
       "      <th>6</th>\n",
       "      <td>alopecia</td>\n",
       "      <td>7.310311e-08</td>\n",
       "      <td>28.980698</td>\n",
       "    </tr>\n",
       "    <tr>\n",
       "      <th>7</th>\n",
       "      <td>irritabilidade</td>\n",
       "      <td>1.394289e-08</td>\n",
       "      <td>32.195282</td>\n",
       "    </tr>\n",
       "    <tr>\n",
       "      <th>8</th>\n",
       "      <td>fraqueza</td>\n",
       "      <td>3.977307e-06</td>\n",
       "      <td>21.275753</td>\n",
       "    </tr>\n",
       "    <tr>\n",
       "      <th>9</th>\n",
       "      <td>target</td>\n",
       "      <td>NaN</td>\n",
       "      <td>NaN</td>\n",
       "    </tr>\n",
       "    <tr>\n",
       "      <th>10</th>\n",
       "      <td>rigidez_muscular</td>\n",
       "      <td>1.347944e-02</td>\n",
       "      <td>6.105073</td>\n",
       "    </tr>\n",
       "    <tr>\n",
       "      <th>11</th>\n",
       "      <td>desfoque_visual</td>\n",
       "      <td>2.937352e-07</td>\n",
       "      <td>26.290466</td>\n",
       "    </tr>\n",
       "    <tr>\n",
       "      <th>12</th>\n",
       "      <td>cicatrizacao_retardada</td>\n",
       "      <td>4.130320e-01</td>\n",
       "      <td>0.670056</td>\n",
       "    </tr>\n",
       "    <tr>\n",
       "      <th>13</th>\n",
       "      <td>candidiase_genital</td>\n",
       "      <td>3.097391e-02</td>\n",
       "      <td>4.654408</td>\n",
       "    </tr>\n",
       "    <tr>\n",
       "      <th>14</th>\n",
       "      <td>polydipsia</td>\n",
       "      <td>3.586249e-40</td>\n",
       "      <td>176.019213</td>\n",
       "    </tr>\n",
       "    <tr>\n",
       "      <th>15</th>\n",
       "      <td>polyuria</td>\n",
       "      <td>2.743055e-47</td>\n",
       "      <td>208.623267</td>\n",
       "    </tr>\n",
       "  </tbody>\n",
       "</table>\n",
       "</div>"
      ],
      "text/plain": [
       "                     column       p-value  chi2_value\n",
       "0                polyphagia  2.445415e-14   58.136541\n",
       "1                   coceira  7.858988e-01    0.073788\n",
       "2                    genero  1.366399e-21   91.099301\n",
       "3   perda_de_peso_repentina  1.692650e-20   86.120894\n",
       "4           paresia_parcial  4.934038e-22   93.115079\n",
       "5                 obesidade  2.908504e-02    4.762573\n",
       "6                  alopecia  7.310311e-08   28.980698\n",
       "7            irritabilidade  1.394289e-08   32.195282\n",
       "8                  fraqueza  3.977307e-06   21.275753\n",
       "9                    target           NaN         NaN\n",
       "10         rigidez_muscular  1.347944e-02    6.105073\n",
       "11          desfoque_visual  2.937352e-07   26.290466\n",
       "12   cicatrizacao_retardada  4.130320e-01    0.670056\n",
       "13       candidiase_genital  3.097391e-02    4.654408\n",
       "14               polydipsia  3.586249e-40  176.019213\n",
       "15                 polyuria  2.743055e-47  208.623267"
      ]
     },
     "execution_count": 14,
     "metadata": {},
     "output_type": "execute_result"
    }
   ],
   "source": [
    "chi2_df"
   ]
  },
  {
   "cell_type": "code",
   "execution_count": 15,
   "id": "0101a186",
   "metadata": {},
   "outputs": [
    {
     "data": {
      "text/plain": [
       "['A coluna target não pode ser avaliada. ']"
      ]
     },
     "execution_count": 15,
     "metadata": {},
     "output_type": "execute_result"
    }
   ],
   "source": [
    "logs"
   ]
  },
  {
   "cell_type": "markdown",
   "id": "4f91de7b",
   "metadata": {},
   "source": [
    "Com é o próprio target, não calculamos o chi2 para ele.\n",
    "* Hipótese nula - H0: As variáveis são independente. \n",
    "- Segundo o teste de hipotése realizado, as variáveis cujo p-valor < 0.05 tem relação com o target."
   ]
  },
  {
   "cell_type": "code",
   "execution_count": 16,
   "id": "a389c412",
   "metadata": {},
   "outputs": [],
   "source": [
    "#As variáveis que serão excluídas. \n",
    "lista_descart_chi2 = chi2_df[chi2_df['p-value']>=0.05]['column'].tolist()"
   ]
  },
  {
   "cell_type": "code",
   "execution_count": 17,
   "id": "364f63fc",
   "metadata": {},
   "outputs": [
    {
     "data": {
      "text/plain": [
       "['coceira', 'cicatrizacao_retardada']"
      ]
     },
     "execution_count": 17,
     "metadata": {},
     "output_type": "execute_result"
    }
   ],
   "source": [
    "lista_descart_chi2"
   ]
  },
  {
   "cell_type": "markdown",
   "id": "f0c27316",
   "metadata": {},
   "source": [
    "As variáveis que foram descartas pelo teste de Chi-2 foram, `cicatrização_retardada` e `coceira`, logo mais elas serão descartadas para a modelagem. "
   ]
  },
  {
   "cell_type": "markdown",
   "id": "0f6b32c8",
   "metadata": {},
   "source": [
    "## Boruta"
   ]
  },
  {
   "cell_type": "code",
   "execution_count": 18,
   "id": "4ef05564",
   "metadata": {},
   "outputs": [],
   "source": [
    "#Vamos filtrar as Features removidas no step anterior antes de passarmos para o Boruta\n",
    "list_to_drop_boruta = boruta_selector(df_train_copy.drop(lista_descart_chi2,axis=1), y='target')"
   ]
  },
  {
   "cell_type": "code",
   "execution_count": 19,
   "id": "01ac2844",
   "metadata": {},
   "outputs": [
    {
     "data": {
      "text/plain": [
       "{'candidiase_genital',\n",
       " 'cicatrizacao_retardada',\n",
       " 'coceira',\n",
       " 'desfoque_visual',\n",
       " 'fraqueza',\n",
       " 'obesidade',\n",
       " 'rigidez_muscular'}"
      ]
     },
     "execution_count": 19,
     "metadata": {},
     "output_type": "execute_result"
    }
   ],
   "source": [
    "#Lista de dropagem Geral (chi2 + boruta)\n",
    "lista_drop_geral = set(lista_descart_chi2+list_to_drop_boruta+columns_remove_pb)\n",
    "lista_drop_geral"
   ]
  },
  {
   "cell_type": "code",
   "execution_count": 20,
   "id": "f699c114",
   "metadata": {},
   "outputs": [],
   "source": [
    "# dropando as colunas pela abordagem.\n",
    "df_train_copy.drop(lista_drop_geral,axis=1).to_csv(os.path.join(DATA_INTER_PATH,DATA_INTER_TRAIN_FT_SELECTION), index=False)"
   ]
  },
  {
   "cell_type": "markdown",
   "id": "04ed3ad6",
   "metadata": {},
   "source": [
    "A abordagem para seleção de features que utilizamos são (Chi2 e Boruta), que combinados trazem resultados bastante relevantes, descartando as variáveis que possuem menos relação com target e que consequentemente teriam um baixo poder preditivo. As features descartadas no boruta e Chi2   foram:`candidíase_genital`,`cicatrização_retardada`,`coceira`,`desfoque_visual`,`fraqueza`,`obesidade`, `regidez_muscular`. Todas essas features não serão consideradas para nosso modelo."
   ]
  }
 ],
 "metadata": {
  "kernelspec": {
   "display_name": "Python 3 (ipykernel)",
   "language": "python",
   "name": "python3"
  },
  "language_info": {
   "codemirror_mode": {
    "name": "ipython",
    "version": 3
   },
   "file_extension": ".py",
   "mimetype": "text/x-python",
   "name": "python",
   "nbconvert_exporter": "python",
   "pygments_lexer": "ipython3",
   "version": "3.8.10"
  }
 },
 "nbformat": 4,
 "nbformat_minor": 5
}
