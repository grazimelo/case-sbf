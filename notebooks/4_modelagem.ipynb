{
 "cells": [
  {
   "cell_type": "markdown",
   "id": "911a32a4",
   "metadata": {},
   "source": [
    "## Modelagem e Avaliação \n",
    "\n",
    "Neste tópico, iremos preparar nossos dados para modelagem, criando pipeline para garatir o correto pré-processamento dos nossos dados.Utilizaremos o modelo RandomForestClassifier, um modelo que me sinto bastante confortável por conhecer seu funcionamento e nuances. É um modelo não-linear, robusto a outliers e que não possui qualquer suposição sobre as distribuições, o que é algo bastante relevante, dado que a maioria dos dados na vida real apresentam não normalidade. Evitar a normalização é uma etapa a menos se você utiliza modelos baseados em árvore. Em suma, o RandomForest cria várias árvores de decisões, as quais são construídas com diferentes dados de um mesmo dataset (Bootstrap). Dessa maneira, o resultado final é obtido por votação majoritária."
   ]
  },
  {
   "cell_type": "markdown",
   "id": "94d447e5",
   "metadata": {},
   "source": [
    "## Dependências"
   ]
  },
  {
   "cell_type": "code",
   "execution_count": 1,
   "id": "7a4968d8",
   "metadata": {},
   "outputs": [],
   "source": [
    "# Bibliotecas\n",
    "import os\n",
    "import shap\n",
    "import warnings\n",
    "warnings.filterwarnings('ignore')\n",
    "import cloudpickle\n",
    "import optuna\n",
    "import pandas as pd\n",
    "import numpy as np\n",
    "import seaborn as sns\n",
    "import matplotlib.pyplot as plt\n",
    "from sklearn.preprocessing import OneHotEncoder\n",
    "from sklearn.ensemble import RandomForestClassifier \n",
    "from sklearn.model_selection import train_test_split,cross_val_score\n",
    "from sklearn.impute import SimpleImputer \n",
    "from sklearn.pipeline import Pipeline\n",
    "from sklearn.compose import ColumnTransformer\n",
    "from sklearn.metrics import classification_report, recall_score\n",
    "from yellowbrick.model_selection import LearningCurve\n",
    "from sklearn.model_selection import ShuffleSplit,learning_curve,RepeatedStratifiedKFold\n",
    "from sklearn import set_config\n",
    "from optuna.samplers import TPESampler\n",
    "pd.set_option('display.max_rows', 500)\n",
    "pd.set_option('display.max_columns', 500)\n",
    "pd.set_option('display.width', 1000)\n",
    "%matplotlib inline"
   ]
  },
  {
   "cell_type": "markdown",
   "id": "84e6ba2a",
   "metadata": {},
   "source": [
    "## Dados e Constantes"
   ]
  },
  {
   "cell_type": "code",
   "execution_count": 2,
   "id": "c066f128",
   "metadata": {},
   "outputs": [],
   "source": [
    "DATA_RAW_PATH = os.path.join('..','data','raw')\n",
    "DATA_RAW_NAME = 'diabetes_data.csv'\n",
    "DATA_INTER_PATH = os.path.join('..','data','inter')\n",
    "DATA_INTER_TEST_NAME = 'test_inter.csv'\n",
    "DATA_INTER_TRAIN_NAME = 'train_inter.csv'\n",
    "DATA_INTER_TRAIN_FT_SELECTION = 'train_inter_ft_selection.csv'\n",
    "META_DATA_PATH = os.path.join(DATA_RAW_PATH,'dicionario_tipos.pkl')\n",
    "MODEL_PATH = os.path.join('..','models')\n",
    "MODEL_NAME = 'diagnostico_diabetes.pkl'\n",
    "PREDICT_PATH = os.path.join('..','data','results')\n",
    "PREDICT_NAME = 'previsao_diagnostico.csv'\n",
    "target = 'target'"
   ]
  },
  {
   "cell_type": "code",
   "execution_count": 3,
   "id": "74483395",
   "metadata": {},
   "outputs": [],
   "source": [
    "#Dados do dicionário\n",
    "with open(META_DATA_PATH,'rb') as f:\n",
    "    dicionario_tipo = cloudpickle.load(f)\n",
    "\n",
    "df_train = pd.read_csv(os.path.join(DATA_INTER_PATH, DATA_INTER_TRAIN_FT_SELECTION), dtype=dicionario_tipo)\n",
    "\n",
    "\n",
    "#Lendo dados de teste.\n",
    "df_test = pd.read_csv(os.path.join(DATA_INTER_PATH, DATA_INTER_TEST_NAME), dtype=dicionario_tipo)"
   ]
  },
  {
   "cell_type": "markdown",
   "id": "d2f967fa",
   "metadata": {},
   "source": [
    "## Modelagem "
   ]
  },
  {
   "cell_type": "code",
   "execution_count": 4,
   "id": "1955a97f",
   "metadata": {},
   "outputs": [
    {
     "data": {
      "text/html": [
       "<div>\n",
       "<style scoped>\n",
       "    .dataframe tbody tr th:only-of-type {\n",
       "        vertical-align: middle;\n",
       "    }\n",
       "\n",
       "    .dataframe tbody tr th {\n",
       "        vertical-align: top;\n",
       "    }\n",
       "\n",
       "    .dataframe thead th {\n",
       "        text-align: right;\n",
       "    }\n",
       "</style>\n",
       "<table border=\"1\" class=\"dataframe\">\n",
       "  <thead>\n",
       "    <tr style=\"text-align: right;\">\n",
       "      <th></th>\n",
       "      <th>idade</th>\n",
       "      <th>genero</th>\n",
       "      <th>polyuria</th>\n",
       "      <th>polydipsia</th>\n",
       "      <th>perda_de_peso_repentina</th>\n",
       "      <th>polyphagia</th>\n",
       "      <th>irritabilidade</th>\n",
       "      <th>paresia_parcial</th>\n",
       "      <th>alopecia</th>\n",
       "      <th>target</th>\n",
       "    </tr>\n",
       "  </thead>\n",
       "  <tbody>\n",
       "    <tr>\n",
       "      <th>0</th>\n",
       "      <td>67</td>\n",
       "      <td>male</td>\n",
       "      <td>no</td>\n",
       "      <td>no</td>\n",
       "      <td>no</td>\n",
       "      <td>yes</td>\n",
       "      <td>no</td>\n",
       "      <td>no</td>\n",
       "      <td>no</td>\n",
       "      <td>negative</td>\n",
       "    </tr>\n",
       "    <tr>\n",
       "      <th>1</th>\n",
       "      <td>55</td>\n",
       "      <td>female</td>\n",
       "      <td>yes</td>\n",
       "      <td>yes</td>\n",
       "      <td>yes</td>\n",
       "      <td>yes</td>\n",
       "      <td>no</td>\n",
       "      <td>yes</td>\n",
       "      <td>no</td>\n",
       "      <td>positive</td>\n",
       "    </tr>\n",
       "    <tr>\n",
       "      <th>2</th>\n",
       "      <td>60</td>\n",
       "      <td>male</td>\n",
       "      <td>no</td>\n",
       "      <td>no</td>\n",
       "      <td>no</td>\n",
       "      <td>no</td>\n",
       "      <td>no</td>\n",
       "      <td>yes</td>\n",
       "      <td>no</td>\n",
       "      <td>negative</td>\n",
       "    </tr>\n",
       "    <tr>\n",
       "      <th>3</th>\n",
       "      <td>48</td>\n",
       "      <td>female</td>\n",
       "      <td>yes</td>\n",
       "      <td>yes</td>\n",
       "      <td>no</td>\n",
       "      <td>no</td>\n",
       "      <td>no</td>\n",
       "      <td>yes</td>\n",
       "      <td>no</td>\n",
       "      <td>positive</td>\n",
       "    </tr>\n",
       "    <tr>\n",
       "      <th>4</th>\n",
       "      <td>31</td>\n",
       "      <td>female</td>\n",
       "      <td>yes</td>\n",
       "      <td>yes</td>\n",
       "      <td>yes</td>\n",
       "      <td>yes</td>\n",
       "      <td>yes</td>\n",
       "      <td>yes</td>\n",
       "      <td>no</td>\n",
       "      <td>positive</td>\n",
       "    </tr>\n",
       "  </tbody>\n",
       "</table>\n",
       "</div>"
      ],
      "text/plain": [
       "   idade  genero polyuria polydipsia perda_de_peso_repentina polyphagia irritabilidade paresia_parcial alopecia    target\n",
       "0     67    male       no         no                      no        yes             no              no       no  negative\n",
       "1     55  female      yes        yes                     yes        yes             no             yes       no  positive\n",
       "2     60    male       no         no                      no         no             no             yes       no  negative\n",
       "3     48  female      yes        yes                      no         no             no             yes       no  positive\n",
       "4     31  female      yes        yes                     yes        yes            yes             yes       no  positive"
      ]
     },
     "execution_count": 4,
     "metadata": {},
     "output_type": "execute_result"
    }
   ],
   "source": [
    "df_train.head()"
   ]
  },
  {
   "cell_type": "code",
   "execution_count": 5,
   "id": "bd5bb705",
   "metadata": {},
   "outputs": [],
   "source": [
    "#Separando as variáveis categóricas e numéricas\n",
    "variaveis_categoricas = df_train.select_dtypes(include=['object']).columns.tolist()\n",
    "variaveis_numericas = df_train.select_dtypes(include=['int','float']).columns.tolist()"
   ]
  },
  {
   "cell_type": "code",
   "execution_count": 6,
   "id": "37279f84",
   "metadata": {},
   "outputs": [],
   "source": [
    "#Removendo target das variáveis categóricas. \n",
    "variaveis_categoricas.remove('target')"
   ]
  },
  {
   "cell_type": "markdown",
   "id": "b2231de0",
   "metadata": {},
   "source": [
    "## Criando pipeline"
   ]
  },
  {
   "cell_type": "markdown",
   "id": "a76b9bd5",
   "metadata": {},
   "source": [
    "Aqui iremos criar um pipeline para tratar dados categóricos e outro para tratar nossos dados numéricos. Dessa maneira cada coluna é tratada da forma mais adequada. O resultado é combinado no final e passado para o classificador, último componente do pipeline."
   ]
  },
  {
   "cell_type": "code",
   "execution_count": 7,
   "id": "a2528c75",
   "metadata": {},
   "outputs": [],
   "source": [
    "#Pipeline numérico será tratado imputando a mediana\n",
    "pipeline_numerico = Pipeline(steps=[('impute', SimpleImputer(strategy='median'))])\n",
    "#Pipeline categórico será tratado com imputação através da moda e ordinal encoder\n",
    "pipeline_categorico = Pipeline(steps=[('impute', SimpleImputer(strategy='most_frequent')),\n",
    "                         ('one_hot_encoder', OneHotEncoder(handle_unknown='ignore',drop='first'))])"
   ]
  },
  {
   "cell_type": "code",
   "execution_count": 8,
   "id": "c3cfe5ab",
   "metadata": {},
   "outputs": [],
   "source": [
    "#Column Transformer para unir os dois pipelines\n",
    "preprocess_pipeline = ColumnTransformer([('pipeline_categorico', pipeline_categorico, variaveis_categoricas),\n",
    "                                ('pipeline_numerico', pipeline_numerico, variaveis_numericas)])"
   ]
  },
  {
   "cell_type": "code",
   "execution_count": 9,
   "id": "e57f2298",
   "metadata": {},
   "outputs": [],
   "source": [
    "#Definindo folds para a validação cruzada estratificada para garantir uma melhor distribuição do target.\n",
    "cv = RepeatedStratifiedKFold(random_state=2, n_splits=10, n_repeats=10)"
   ]
  },
  {
   "cell_type": "code",
   "execution_count": 10,
   "id": "09dd25df",
   "metadata": {},
   "outputs": [],
   "source": [
    "# Definindo modelo com random_seed e class_weight='balanced' para dar peso às classes mais raras\n",
    "rf = RandomForestClassifier(random_state=0, class_weight='balanced')\n",
    "# defninindo pipeline final, onde o último componente é o classificador\n",
    "modelo_pipe =  Pipeline(steps =[('preprocessor',preprocess_pipeline),\n",
    "                                  ('model_rf',rf)])"
   ]
  },
  {
   "cell_type": "markdown",
   "id": "aab0b6e5",
   "metadata": {},
   "source": [
    "## Modelagem e Avaliação"
   ]
  },
  {
   "cell_type": "markdown",
   "id": "7e7aca3f",
   "metadata": {},
   "source": [
    "Aqui utilizaremos otimização bayesiana para busca dos melhores hiperparâmetros para o classificador. Poderíamos ter utilizado o GridSearchCV ou o RandomizedSearchCV, porém esses seriam mais lentos. Vale salientar que a otimização está sendo feita em cima da média de validação cruzada."
   ]
  },
  {
   "cell_type": "code",
   "execution_count": 11,
   "id": "5576acd2",
   "metadata": {},
   "outputs": [],
   "source": [
    "#Obtendo X e Y \n",
    "X = df_train.drop(target,axis=1)\n",
    "y = df_train[target]"
   ]
  },
  {
   "cell_type": "code",
   "execution_count": 12,
   "id": "6341b7cf",
   "metadata": {},
   "outputs": [],
   "source": [
    "#cross_val_score(modelo_pipe,X,y, cv=cv, scoring = 'recall_weighted')"
   ]
  },
  {
   "cell_type": "code",
   "execution_count": 13,
   "id": "3fbeb83b",
   "metadata": {},
   "outputs": [],
   "source": [
    "def fitRF(trial):\n",
    "    \"Train RandomForest Model\"\n",
    "# Grid de parametros otimizados\n",
    "    params ={'model_rf__max_depth': trial.suggest_int('model_rf__max_depth',2,13),\n",
    "          'model_rf__min_samples_leaf': trial.suggest_int('model_rf__min_samples_leaf',2,33),\n",
    "          'model_rf__min_samples_split':trial.suggest_int('model_rf__min_samples_split',2,33),\n",
    "          'model_rf__n_estimators': trial.suggest_int('model_rf__n_estimators',50,300)\n",
    "      }\n",
    "    earlyStop=20\n",
    "    modelo_pipe.set_params(**params)\n",
    "\n",
    "\n",
    "    results = np.mean(cross_val_score(modelo_pipe,X,y, cv=cv, scoring = 'neg_log_loss'))\n",
    "\n",
    "    #score = results.mean()  \n",
    "    #intervalo(results)\n",
    "    print(f'LOG LOSS:{results}')\n",
    "    return results"
   ]
  },
  {
   "cell_type": "code",
   "execution_count": 14,
   "id": "d245dd32",
   "metadata": {},
   "outputs": [
    {
     "name": "stderr",
     "output_type": "stream",
     "text": [
      "\u001b[32m[I 2022-03-03 10:03:22,858]\u001b[0m A new study created in memory with name: no-name-355c8d1f-d900-4bfe-b2d3-048ee1e230b5\u001b[0m\n",
      "\u001b[32m[I 2022-03-03 10:03:35,570]\u001b[0m Trial 0 finished with value: -0.24120423886763032 and parameters: {'model_rf__max_depth': 10, 'model_rf__min_samples_leaf': 11, 'model_rf__min_samples_split': 9, 'model_rf__n_estimators': 188}. Best is trial 0 with value: -0.24120423886763032.\u001b[0m\n"
     ]
    },
    {
     "name": "stdout",
     "output_type": "stream",
     "text": [
      "LOG LOSS:-0.24120423886763032\n"
     ]
    },
    {
     "name": "stderr",
     "output_type": "stream",
     "text": [
      "\u001b[32m[I 2022-03-03 10:03:50,802]\u001b[0m Trial 1 finished with value: -0.26091840968582364 and parameters: {'model_rf__max_depth': 10, 'model_rf__min_samples_leaf': 15, 'model_rf__min_samples_split': 33, 'model_rf__n_estimators': 221}. Best is trial 0 with value: -0.24120423886763032.\u001b[0m\n"
     ]
    },
    {
     "name": "stdout",
     "output_type": "stream",
     "text": [
      "LOG LOSS:-0.26091840968582364\n"
     ]
    },
    {
     "name": "stderr",
     "output_type": "stream",
     "text": [
      "\u001b[32m[I 2022-03-03 10:04:06,246]\u001b[0m Trial 2 finished with value: -0.2563766857774786 and parameters: {'model_rf__max_depth': 7, 'model_rf__min_samples_leaf': 14, 'model_rf__min_samples_split': 12, 'model_rf__n_estimators': 232}. Best is trial 0 with value: -0.24120423886763032.\u001b[0m\n"
     ]
    },
    {
     "name": "stdout",
     "output_type": "stream",
     "text": [
      "LOG LOSS:-0.2563766857774786\n"
     ]
    },
    {
     "name": "stderr",
     "output_type": "stream",
     "text": [
      "\u001b[32m[I 2022-03-03 10:04:22,593]\u001b[0m Trial 3 finished with value: -0.19337618371480833 and parameters: {'model_rf__max_depth': 7, 'model_rf__min_samples_leaf': 3, 'model_rf__min_samples_split': 14, 'model_rf__n_estimators': 235}. Best is trial 3 with value: -0.19337618371480833.\u001b[0m\n"
     ]
    },
    {
     "name": "stdout",
     "output_type": "stream",
     "text": [
      "LOG LOSS:-0.19337618371480833\n"
     ]
    },
    {
     "name": "stderr",
     "output_type": "stream",
     "text": [
      "\u001b[32m[I 2022-03-03 10:04:35,095]\u001b[0m Trial 4 finished with value: -0.22608729317043874 and parameters: {'model_rf__max_depth': 4, 'model_rf__min_samples_leaf': 7, 'model_rf__min_samples_split': 19, 'model_rf__n_estimators': 183}. Best is trial 3 with value: -0.19337618371480833.\u001b[0m\n"
     ]
    },
    {
     "name": "stdout",
     "output_type": "stream",
     "text": [
      "LOG LOSS:-0.22608729317043874\n"
     ]
    },
    {
     "name": "stderr",
     "output_type": "stream",
     "text": [
      "\u001b[32m[I 2022-03-03 10:04:49,593]\u001b[0m Trial 5 finished with value: -0.3132885912427124 and parameters: {'model_rf__max_depth': 9, 'model_rf__min_samples_leaf': 29, 'model_rf__min_samples_split': 25, 'model_rf__n_estimators': 203}. Best is trial 3 with value: -0.19337618371480833.\u001b[0m\n"
     ]
    },
    {
     "name": "stdout",
     "output_type": "stream",
     "text": [
      "LOG LOSS:-0.3132885912427124\n"
     ]
    },
    {
     "name": "stderr",
     "output_type": "stream",
     "text": [
      "\u001b[32m[I 2022-03-03 10:04:57,283]\u001b[0m Trial 6 finished with value: -0.2459223088760037 and parameters: {'model_rf__max_depth': 10, 'model_rf__min_samples_leaf': 12, 'model_rf__min_samples_split': 13, 'model_rf__n_estimators': 107}. Best is trial 3 with value: -0.19337618371480833.\u001b[0m\n"
     ]
    },
    {
     "name": "stdout",
     "output_type": "stream",
     "text": [
      "LOG LOSS:-0.2459223088760037\n"
     ]
    },
    {
     "name": "stderr",
     "output_type": "stream",
     "text": [
      "\u001b[32m[I 2022-03-03 10:05:08,408]\u001b[0m Trial 7 finished with value: -0.2869742848541322 and parameters: {'model_rf__max_depth': 5, 'model_rf__min_samples_leaf': 22, 'model_rf__min_samples_split': 4, 'model_rf__n_estimators': 158}. Best is trial 3 with value: -0.19337618371480833.\u001b[0m\n"
     ]
    },
    {
     "name": "stdout",
     "output_type": "stream",
     "text": [
      "LOG LOSS:-0.2869742848541322\n"
     ]
    },
    {
     "name": "stderr",
     "output_type": "stream",
     "text": [
      "\u001b[32m[I 2022-03-03 10:05:17,390]\u001b[0m Trial 8 finished with value: -0.2673963500632893 and parameters: {'model_rf__max_depth': 7, 'model_rf__min_samples_leaf': 17, 'model_rf__min_samples_split': 15, 'model_rf__n_estimators': 128}. Best is trial 3 with value: -0.19337618371480833.\u001b[0m\n"
     ]
    },
    {
     "name": "stdout",
     "output_type": "stream",
     "text": [
      "LOG LOSS:-0.2673963500632893\n"
     ]
    },
    {
     "name": "stderr",
     "output_type": "stream",
     "text": [
      "\u001b[32m[I 2022-03-03 10:05:29,499]\u001b[0m Trial 9 finished with value: -0.31767494672533614 and parameters: {'model_rf__max_depth': 7, 'model_rf__min_samples_leaf': 30, 'model_rf__min_samples_split': 32, 'model_rf__n_estimators': 175}. Best is trial 3 with value: -0.19337618371480833.\u001b[0m\n"
     ]
    },
    {
     "name": "stdout",
     "output_type": "stream",
     "text": [
      "LOG LOSS:-0.31767494672533614\n"
     ]
    },
    {
     "name": "stderr",
     "output_type": "stream",
     "text": [
      "\u001b[32m[I 2022-03-03 10:05:49,679]\u001b[0m Trial 10 finished with value: -0.2087480300461121 and parameters: {'model_rf__max_depth': 13, 'model_rf__min_samples_leaf': 2, 'model_rf__min_samples_split': 21, 'model_rf__n_estimators': 282}. Best is trial 3 with value: -0.19337618371480833.\u001b[0m\n"
     ]
    },
    {
     "name": "stdout",
     "output_type": "stream",
     "text": [
      "LOG LOSS:-0.2087480300461121\n"
     ]
    },
    {
     "name": "stderr",
     "output_type": "stream",
     "text": [
      "\u001b[32m[I 2022-03-03 10:06:10,108]\u001b[0m Trial 11 finished with value: -0.2087319513471552 and parameters: {'model_rf__max_depth': 13, 'model_rf__min_samples_leaf': 2, 'model_rf__min_samples_split': 21, 'model_rf__n_estimators': 292}. Best is trial 3 with value: -0.19337618371480833.\u001b[0m\n"
     ]
    },
    {
     "name": "stdout",
     "output_type": "stream",
     "text": [
      "LOG LOSS:-0.2087319513471552\n"
     ]
    },
    {
     "name": "stderr",
     "output_type": "stream",
     "text": [
      "\u001b[32m[I 2022-03-03 10:06:30,198]\u001b[0m Trial 12 finished with value: -0.2169065499837485 and parameters: {'model_rf__max_depth': 13, 'model_rf__min_samples_leaf': 2, 'model_rf__min_samples_split': 25, 'model_rf__n_estimators': 291}. Best is trial 3 with value: -0.19337618371480833.\u001b[0m\n"
     ]
    },
    {
     "name": "stdout",
     "output_type": "stream",
     "text": [
      "LOG LOSS:-0.2169065499837485\n"
     ]
    },
    {
     "name": "stderr",
     "output_type": "stream",
     "text": [
      "\u001b[32m[I 2022-03-03 10:06:47,745]\u001b[0m Trial 13 finished with value: -0.25170130645162053 and parameters: {'model_rf__max_depth': 3, 'model_rf__min_samples_leaf': 8, 'model_rf__min_samples_split': 23, 'model_rf__n_estimators': 257}. Best is trial 3 with value: -0.19337618371480833.\u001b[0m\n"
     ]
    },
    {
     "name": "stdout",
     "output_type": "stream",
     "text": [
      "LOG LOSS:-0.25170130645162053\n"
     ]
    },
    {
     "name": "stderr",
     "output_type": "stream",
     "text": [
      "\u001b[32m[I 2022-03-03 10:06:52,203]\u001b[0m Trial 14 finished with value: -0.2091858116433318 and parameters: {'model_rf__max_depth': 5, 'model_rf__min_samples_leaf': 6, 'model_rf__min_samples_split': 8, 'model_rf__n_estimators': 54}. Best is trial 3 with value: -0.19337618371480833.\u001b[0m\n"
     ]
    },
    {
     "name": "stdout",
     "output_type": "stream",
     "text": [
      "LOG LOSS:-0.2091858116433318\n"
     ]
    },
    {
     "name": "stderr",
     "output_type": "stream",
     "text": [
      "\u001b[32m[I 2022-03-03 10:07:09,360]\u001b[0m Trial 15 finished with value: -0.2993503531747678 and parameters: {'model_rf__max_depth': 2, 'model_rf__min_samples_leaf': 2, 'model_rf__min_samples_split': 18, 'model_rf__n_estimators': 256}. Best is trial 3 with value: -0.19337618371480833.\u001b[0m\n"
     ]
    },
    {
     "name": "stdout",
     "output_type": "stream",
     "text": [
      "LOG LOSS:-0.2993503531747678\n"
     ]
    },
    {
     "name": "stderr",
     "output_type": "stream",
     "text": [
      "\u001b[32m[I 2022-03-03 10:07:27,063]\u001b[0m Trial 16 finished with value: -0.2878018705000829 and parameters: {'model_rf__max_depth': 9, 'model_rf__min_samples_leaf': 22, 'model_rf__min_samples_split': 28, 'model_rf__n_estimators': 259}. Best is trial 3 with value: -0.19337618371480833.\u001b[0m\n"
     ]
    },
    {
     "name": "stdout",
     "output_type": "stream",
     "text": [
      "LOG LOSS:-0.2878018705000829\n"
     ]
    },
    {
     "name": "stderr",
     "output_type": "stream",
     "text": [
      "\u001b[32m[I 2022-03-03 10:07:47,860]\u001b[0m Trial 17 finished with value: -0.21247267680993623 and parameters: {'model_rf__max_depth': 12, 'model_rf__min_samples_leaf': 6, 'model_rf__min_samples_split': 16, 'model_rf__n_estimators': 295}. Best is trial 3 with value: -0.19337618371480833.\u001b[0m\n"
     ]
    },
    {
     "name": "stdout",
     "output_type": "stream",
     "text": [
      "LOG LOSS:-0.21247267680993623\n"
     ]
    },
    {
     "name": "stderr",
     "output_type": "stream",
     "text": [
      "\u001b[32m[I 2022-03-03 10:08:04,058]\u001b[0m Trial 18 finished with value: -0.2914657370699028 and parameters: {'model_rf__max_depth': 6, 'model_rf__min_samples_leaf': 23, 'model_rf__min_samples_split': 2, 'model_rf__n_estimators': 233}. Best is trial 3 with value: -0.19337618371480833.\u001b[0m\n"
     ]
    },
    {
     "name": "stdout",
     "output_type": "stream",
     "text": [
      "LOG LOSS:-0.2914657370699028\n"
     ]
    },
    {
     "name": "stderr",
     "output_type": "stream",
     "text": [
      "\u001b[32m[I 2022-03-03 10:08:22,852]\u001b[0m Trial 19 finished with value: -0.237091796090995 and parameters: {'model_rf__max_depth': 11, 'model_rf__min_samples_leaf': 10, 'model_rf__min_samples_split': 10, 'model_rf__n_estimators': 267}. Best is trial 3 with value: -0.19337618371480833.\u001b[0m\n"
     ]
    },
    {
     "name": "stdout",
     "output_type": "stream",
     "text": [
      "LOG LOSS:-0.237091796090995\n"
     ]
    },
    {
     "name": "stderr",
     "output_type": "stream",
     "text": [
      "\u001b[32m[I 2022-03-03 10:08:38,323]\u001b[0m Trial 20 finished with value: -0.21654479024758821 and parameters: {'model_rf__max_depth': 8, 'model_rf__min_samples_leaf': 5, 'model_rf__min_samples_split': 20, 'model_rf__n_estimators': 215}. Best is trial 3 with value: -0.19337618371480833.\u001b[0m\n"
     ]
    },
    {
     "name": "stdout",
     "output_type": "stream",
     "text": [
      "LOG LOSS:-0.21654479024758821\n"
     ]
    },
    {
     "name": "stderr",
     "output_type": "stream",
     "text": [
      "\u001b[32m[I 2022-03-03 10:08:58,142]\u001b[0m Trial 21 finished with value: -0.20877396121837896 and parameters: {'model_rf__max_depth': 13, 'model_rf__min_samples_leaf': 2, 'model_rf__min_samples_split': 21, 'model_rf__n_estimators': 281}. Best is trial 3 with value: -0.19337618371480833.\u001b[0m\n"
     ]
    },
    {
     "name": "stdout",
     "output_type": "stream",
     "text": [
      "LOG LOSS:-0.20877396121837896\n"
     ]
    },
    {
     "name": "stderr",
     "output_type": "stream",
     "text": [
      "\u001b[32m[I 2022-03-03 10:09:18,917]\u001b[0m Trial 22 finished with value: -0.22783154723956758 and parameters: {'model_rf__max_depth': 12, 'model_rf__min_samples_leaf': 4, 'model_rf__min_samples_split': 28, 'model_rf__n_estimators': 300}. Best is trial 3 with value: -0.19337618371480833.\u001b[0m\n"
     ]
    },
    {
     "name": "stdout",
     "output_type": "stream",
     "text": [
      "LOG LOSS:-0.22783154723956758\n"
     ]
    },
    {
     "name": "stderr",
     "output_type": "stream",
     "text": [
      "\u001b[32m[I 2022-03-03 10:09:35,812]\u001b[0m Trial 23 finished with value: -0.2376681416987394 and parameters: {'model_rf__max_depth': 12, 'model_rf__min_samples_leaf': 10, 'model_rf__min_samples_split': 16, 'model_rf__n_estimators': 244}. Best is trial 3 with value: -0.19337618371480833.\u001b[0m\n"
     ]
    },
    {
     "name": "stdout",
     "output_type": "stream",
     "text": [
      "LOG LOSS:-0.2376681416987394\n"
     ]
    },
    {
     "name": "stderr",
     "output_type": "stream",
     "text": [
      "\u001b[32m[I 2022-03-03 10:09:54,314]\u001b[0m Trial 24 finished with value: -0.21720978163853683 and parameters: {'model_rf__max_depth': 13, 'model_rf__min_samples_leaf': 4, 'model_rf__min_samples_split': 22, 'model_rf__n_estimators': 272}. Best is trial 3 with value: -0.19337618371480833.\u001b[0m\n"
     ]
    },
    {
     "name": "stdout",
     "output_type": "stream",
     "text": [
      "LOG LOSS:-0.21720978163853683\n",
      "FrozenTrial(number=3, values=[-0.19337618371480833], datetime_start=datetime.datetime(2022, 3, 3, 10, 4, 6, 247607), datetime_complete=datetime.datetime(2022, 3, 3, 10, 4, 22, 592989), params={'model_rf__max_depth': 7, 'model_rf__min_samples_leaf': 3, 'model_rf__min_samples_split': 14, 'model_rf__n_estimators': 235}, distributions={'model_rf__max_depth': IntUniformDistribution(high=13, low=2, step=1), 'model_rf__min_samples_leaf': IntUniformDistribution(high=33, low=2, step=1), 'model_rf__min_samples_split': IntUniformDistribution(high=33, low=2, step=1), 'model_rf__n_estimators': IntUniformDistribution(high=300, low=50, step=1)}, user_attrs={}, system_attrs={}, intermediate_values={}, trial_id=3, state=TrialState.COMPLETE, value=None)\n"
     ]
    }
   ],
   "source": [
    "sampler = TPESampler(seed=123)  \n",
    "study = optuna.create_study(sampler=sampler,direction='maximize')\n",
    "study.optimize(fitRF, n_trials=25)\n",
    "print(study.best_trial)"
   ]
  },
  {
   "cell_type": "code",
   "execution_count": 15,
   "id": "8806506e",
   "metadata": {},
   "outputs": [
    {
     "name": "stdout",
     "output_type": "stream",
     "text": [
      "O modelo obteve um score de validação cruzada para o log loss de: -0.19337618371480833\n"
     ]
    }
   ],
   "source": [
    "print(f'O modelo obteve um score de validação cruzada para o log loss de: {study.best_value}')"
   ]
  },
  {
   "cell_type": "code",
   "execution_count": 16,
   "id": "3ddccf99",
   "metadata": {},
   "outputs": [
    {
     "data": {
      "text/plain": [
       "Pipeline(steps=[('preprocessor',\n",
       "                 ColumnTransformer(transformers=[('pipeline_categorico',\n",
       "                                                  Pipeline(steps=[('impute',\n",
       "                                                                   SimpleImputer(strategy='most_frequent')),\n",
       "                                                                  ('one_hot_encoder',\n",
       "                                                                   OneHotEncoder(drop='first',\n",
       "                                                                                 handle_unknown='ignore'))]),\n",
       "                                                  ['genero', 'polyuria',\n",
       "                                                   'polydipsia',\n",
       "                                                   'perda_de_peso_repentina',\n",
       "                                                   'polyphagia',\n",
       "                                                   'irritabilidade',\n",
       "                                                   'paresia_parcial',\n",
       "                                                   'alopecia']),\n",
       "                                                 ('pipeline_numerico',\n",
       "                                                  Pipeline(steps=[('impute',\n",
       "                                                                   SimpleImputer(strategy='median'))]),\n",
       "                                                  ['idade'])])),\n",
       "                ('model_rf',\n",
       "                 RandomForestClassifier(class_weight='balanced', max_depth=7,\n",
       "                                        min_samples_leaf=3,\n",
       "                                        min_samples_split=14, n_estimators=235,\n",
       "                                        random_state=0))])"
      ]
     },
     "execution_count": 16,
     "metadata": {},
     "output_type": "execute_result"
    }
   ],
   "source": [
    "#Definindo os melhores hiperparâmetros, baseados na busca feita com a otimização bayesiana\n",
    "modelo_pipe.set_params(**study.best_params)"
   ]
  },
  {
   "cell_type": "code",
   "execution_count": 17,
   "id": "bb7ea784",
   "metadata": {},
   "outputs": [
    {
     "data": {
      "text/html": [
       "<style>#sk-c981e67e-42c3-44d6-a279-04628d2d2c20 {color: black;background-color: white;}#sk-c981e67e-42c3-44d6-a279-04628d2d2c20 pre{padding: 0;}#sk-c981e67e-42c3-44d6-a279-04628d2d2c20 div.sk-toggleable {background-color: white;}#sk-c981e67e-42c3-44d6-a279-04628d2d2c20 label.sk-toggleable__label {cursor: pointer;display: block;width: 100%;margin-bottom: 0;padding: 0.3em;box-sizing: border-box;text-align: center;}#sk-c981e67e-42c3-44d6-a279-04628d2d2c20 label.sk-toggleable__label-arrow:before {content: \"▸\";float: left;margin-right: 0.25em;color: #696969;}#sk-c981e67e-42c3-44d6-a279-04628d2d2c20 label.sk-toggleable__label-arrow:hover:before {color: black;}#sk-c981e67e-42c3-44d6-a279-04628d2d2c20 div.sk-estimator:hover label.sk-toggleable__label-arrow:before {color: black;}#sk-c981e67e-42c3-44d6-a279-04628d2d2c20 div.sk-toggleable__content {max-height: 0;max-width: 0;overflow: hidden;text-align: left;background-color: #f0f8ff;}#sk-c981e67e-42c3-44d6-a279-04628d2d2c20 div.sk-toggleable__content pre {margin: 0.2em;color: black;border-radius: 0.25em;background-color: #f0f8ff;}#sk-c981e67e-42c3-44d6-a279-04628d2d2c20 input.sk-toggleable__control:checked~div.sk-toggleable__content {max-height: 200px;max-width: 100%;overflow: auto;}#sk-c981e67e-42c3-44d6-a279-04628d2d2c20 input.sk-toggleable__control:checked~label.sk-toggleable__label-arrow:before {content: \"▾\";}#sk-c981e67e-42c3-44d6-a279-04628d2d2c20 div.sk-estimator input.sk-toggleable__control:checked~label.sk-toggleable__label {background-color: #d4ebff;}#sk-c981e67e-42c3-44d6-a279-04628d2d2c20 div.sk-label input.sk-toggleable__control:checked~label.sk-toggleable__label {background-color: #d4ebff;}#sk-c981e67e-42c3-44d6-a279-04628d2d2c20 input.sk-hidden--visually {border: 0;clip: rect(1px 1px 1px 1px);clip: rect(1px, 1px, 1px, 1px);height: 1px;margin: -1px;overflow: hidden;padding: 0;position: absolute;width: 1px;}#sk-c981e67e-42c3-44d6-a279-04628d2d2c20 div.sk-estimator {font-family: monospace;background-color: #f0f8ff;border: 1px dotted black;border-radius: 0.25em;box-sizing: border-box;margin-bottom: 0.5em;}#sk-c981e67e-42c3-44d6-a279-04628d2d2c20 div.sk-estimator:hover {background-color: #d4ebff;}#sk-c981e67e-42c3-44d6-a279-04628d2d2c20 div.sk-parallel-item::after {content: \"\";width: 100%;border-bottom: 1px solid gray;flex-grow: 1;}#sk-c981e67e-42c3-44d6-a279-04628d2d2c20 div.sk-label:hover label.sk-toggleable__label {background-color: #d4ebff;}#sk-c981e67e-42c3-44d6-a279-04628d2d2c20 div.sk-serial::before {content: \"\";position: absolute;border-left: 1px solid gray;box-sizing: border-box;top: 2em;bottom: 0;left: 50%;}#sk-c981e67e-42c3-44d6-a279-04628d2d2c20 div.sk-serial {display: flex;flex-direction: column;align-items: center;background-color: white;padding-right: 0.2em;padding-left: 0.2em;}#sk-c981e67e-42c3-44d6-a279-04628d2d2c20 div.sk-item {z-index: 1;}#sk-c981e67e-42c3-44d6-a279-04628d2d2c20 div.sk-parallel {display: flex;align-items: stretch;justify-content: center;background-color: white;}#sk-c981e67e-42c3-44d6-a279-04628d2d2c20 div.sk-parallel::before {content: \"\";position: absolute;border-left: 1px solid gray;box-sizing: border-box;top: 2em;bottom: 0;left: 50%;}#sk-c981e67e-42c3-44d6-a279-04628d2d2c20 div.sk-parallel-item {display: flex;flex-direction: column;position: relative;background-color: white;}#sk-c981e67e-42c3-44d6-a279-04628d2d2c20 div.sk-parallel-item:first-child::after {align-self: flex-end;width: 50%;}#sk-c981e67e-42c3-44d6-a279-04628d2d2c20 div.sk-parallel-item:last-child::after {align-self: flex-start;width: 50%;}#sk-c981e67e-42c3-44d6-a279-04628d2d2c20 div.sk-parallel-item:only-child::after {width: 0;}#sk-c981e67e-42c3-44d6-a279-04628d2d2c20 div.sk-dashed-wrapped {border: 1px dashed gray;margin: 0 0.4em 0.5em 0.4em;box-sizing: border-box;padding-bottom: 0.4em;background-color: white;position: relative;}#sk-c981e67e-42c3-44d6-a279-04628d2d2c20 div.sk-label label {font-family: monospace;font-weight: bold;background-color: white;display: inline-block;line-height: 1.2em;}#sk-c981e67e-42c3-44d6-a279-04628d2d2c20 div.sk-label-container {position: relative;z-index: 2;text-align: center;}#sk-c981e67e-42c3-44d6-a279-04628d2d2c20 div.sk-container {/* jupyter's `normalize.less` sets `[hidden] { display: none; }` but bootstrap.min.css set `[hidden] { display: none !important; }` so we also need the `!important` here to be able to override the default hidden behavior on the sphinx rendered scikit-learn.org. See: https://github.com/scikit-learn/scikit-learn/issues/21755 */display: inline-block !important;position: relative;}#sk-c981e67e-42c3-44d6-a279-04628d2d2c20 div.sk-text-repr-fallback {display: none;}</style><div id=\"sk-c981e67e-42c3-44d6-a279-04628d2d2c20\" class=\"sk-top-container\"><div class=\"sk-text-repr-fallback\"><pre>Pipeline(steps=[(&#x27;preprocessor&#x27;,\n",
       "                 ColumnTransformer(transformers=[(&#x27;pipeline_categorico&#x27;,\n",
       "                                                  Pipeline(steps=[(&#x27;impute&#x27;,\n",
       "                                                                   SimpleImputer(strategy=&#x27;most_frequent&#x27;)),\n",
       "                                                                  (&#x27;one_hot_encoder&#x27;,\n",
       "                                                                   OneHotEncoder(drop=&#x27;first&#x27;,\n",
       "                                                                                 handle_unknown=&#x27;ignore&#x27;))]),\n",
       "                                                  [&#x27;genero&#x27;, &#x27;polyuria&#x27;,\n",
       "                                                   &#x27;polydipsia&#x27;,\n",
       "                                                   &#x27;perda_de_peso_repentina&#x27;,\n",
       "                                                   &#x27;polyphagia&#x27;,\n",
       "                                                   &#x27;irritabilidade&#x27;,\n",
       "                                                   &#x27;paresia_parcial&#x27;,\n",
       "                                                   &#x27;alopecia&#x27;]),\n",
       "                                                 (&#x27;pipeline_numerico&#x27;,\n",
       "                                                  Pipeline(steps=[(&#x27;impute&#x27;,\n",
       "                                                                   SimpleImputer(strategy=&#x27;median&#x27;))]),\n",
       "                                                  [&#x27;idade&#x27;])])),\n",
       "                (&#x27;model_rf&#x27;,\n",
       "                 RandomForestClassifier(class_weight=&#x27;balanced&#x27;, max_depth=7,\n",
       "                                        min_samples_leaf=3,\n",
       "                                        min_samples_split=14, n_estimators=235,\n",
       "                                        random_state=0))])</pre><b>Please rerun this cell to show the HTML repr or trust the notebook.</b></div><div class=\"sk-container\" hidden><div class=\"sk-item sk-dashed-wrapped\"><div class=\"sk-label-container\"><div class=\"sk-label sk-toggleable\"><input class=\"sk-toggleable__control sk-hidden--visually\" id=\"1488acda-75ae-4a30-a246-a20daefe4628\" type=\"checkbox\" ><label for=\"1488acda-75ae-4a30-a246-a20daefe4628\" class=\"sk-toggleable__label sk-toggleable__label-arrow\">Pipeline</label><div class=\"sk-toggleable__content\"><pre>Pipeline(steps=[(&#x27;preprocessor&#x27;,\n",
       "                 ColumnTransformer(transformers=[(&#x27;pipeline_categorico&#x27;,\n",
       "                                                  Pipeline(steps=[(&#x27;impute&#x27;,\n",
       "                                                                   SimpleImputer(strategy=&#x27;most_frequent&#x27;)),\n",
       "                                                                  (&#x27;one_hot_encoder&#x27;,\n",
       "                                                                   OneHotEncoder(drop=&#x27;first&#x27;,\n",
       "                                                                                 handle_unknown=&#x27;ignore&#x27;))]),\n",
       "                                                  [&#x27;genero&#x27;, &#x27;polyuria&#x27;,\n",
       "                                                   &#x27;polydipsia&#x27;,\n",
       "                                                   &#x27;perda_de_peso_repentina&#x27;,\n",
       "                                                   &#x27;polyphagia&#x27;,\n",
       "                                                   &#x27;irritabilidade&#x27;,\n",
       "                                                   &#x27;paresia_parcial&#x27;,\n",
       "                                                   &#x27;alopecia&#x27;]),\n",
       "                                                 (&#x27;pipeline_numerico&#x27;,\n",
       "                                                  Pipeline(steps=[(&#x27;impute&#x27;,\n",
       "                                                                   SimpleImputer(strategy=&#x27;median&#x27;))]),\n",
       "                                                  [&#x27;idade&#x27;])])),\n",
       "                (&#x27;model_rf&#x27;,\n",
       "                 RandomForestClassifier(class_weight=&#x27;balanced&#x27;, max_depth=7,\n",
       "                                        min_samples_leaf=3,\n",
       "                                        min_samples_split=14, n_estimators=235,\n",
       "                                        random_state=0))])</pre></div></div></div><div class=\"sk-serial\"><div class=\"sk-item sk-dashed-wrapped\"><div class=\"sk-label-container\"><div class=\"sk-label sk-toggleable\"><input class=\"sk-toggleable__control sk-hidden--visually\" id=\"92881827-8485-435a-985a-cf7753d7b7d1\" type=\"checkbox\" ><label for=\"92881827-8485-435a-985a-cf7753d7b7d1\" class=\"sk-toggleable__label sk-toggleable__label-arrow\">preprocessor: ColumnTransformer</label><div class=\"sk-toggleable__content\"><pre>ColumnTransformer(transformers=[(&#x27;pipeline_categorico&#x27;,\n",
       "                                 Pipeline(steps=[(&#x27;impute&#x27;,\n",
       "                                                  SimpleImputer(strategy=&#x27;most_frequent&#x27;)),\n",
       "                                                 (&#x27;one_hot_encoder&#x27;,\n",
       "                                                  OneHotEncoder(drop=&#x27;first&#x27;,\n",
       "                                                                handle_unknown=&#x27;ignore&#x27;))]),\n",
       "                                 [&#x27;genero&#x27;, &#x27;polyuria&#x27;, &#x27;polydipsia&#x27;,\n",
       "                                  &#x27;perda_de_peso_repentina&#x27;, &#x27;polyphagia&#x27;,\n",
       "                                  &#x27;irritabilidade&#x27;, &#x27;paresia_parcial&#x27;,\n",
       "                                  &#x27;alopecia&#x27;]),\n",
       "                                (&#x27;pipeline_numerico&#x27;,\n",
       "                                 Pipeline(steps=[(&#x27;impute&#x27;,\n",
       "                                                  SimpleImputer(strategy=&#x27;median&#x27;))]),\n",
       "                                 [&#x27;idade&#x27;])])</pre></div></div></div><div class=\"sk-parallel\"><div class=\"sk-parallel-item\"><div class=\"sk-item\"><div class=\"sk-label-container\"><div class=\"sk-label sk-toggleable\"><input class=\"sk-toggleable__control sk-hidden--visually\" id=\"067ee5b6-fa73-45c4-ac07-5225c3a54905\" type=\"checkbox\" ><label for=\"067ee5b6-fa73-45c4-ac07-5225c3a54905\" class=\"sk-toggleable__label sk-toggleable__label-arrow\">pipeline_categorico</label><div class=\"sk-toggleable__content\"><pre>[&#x27;genero&#x27;, &#x27;polyuria&#x27;, &#x27;polydipsia&#x27;, &#x27;perda_de_peso_repentina&#x27;, &#x27;polyphagia&#x27;, &#x27;irritabilidade&#x27;, &#x27;paresia_parcial&#x27;, &#x27;alopecia&#x27;]</pre></div></div></div><div class=\"sk-serial\"><div class=\"sk-item\"><div class=\"sk-serial\"><div class=\"sk-item\"><div class=\"sk-estimator sk-toggleable\"><input class=\"sk-toggleable__control sk-hidden--visually\" id=\"80cb2ab4-0c74-4893-96f6-7423bc97af67\" type=\"checkbox\" ><label for=\"80cb2ab4-0c74-4893-96f6-7423bc97af67\" class=\"sk-toggleable__label sk-toggleable__label-arrow\">SimpleImputer</label><div class=\"sk-toggleable__content\"><pre>SimpleImputer(strategy=&#x27;most_frequent&#x27;)</pre></div></div></div><div class=\"sk-item\"><div class=\"sk-estimator sk-toggleable\"><input class=\"sk-toggleable__control sk-hidden--visually\" id=\"f2c7e918-b886-4358-99f5-2aa1dec59414\" type=\"checkbox\" ><label for=\"f2c7e918-b886-4358-99f5-2aa1dec59414\" class=\"sk-toggleable__label sk-toggleable__label-arrow\">OneHotEncoder</label><div class=\"sk-toggleable__content\"><pre>OneHotEncoder(drop=&#x27;first&#x27;, handle_unknown=&#x27;ignore&#x27;)</pre></div></div></div></div></div></div></div></div><div class=\"sk-parallel-item\"><div class=\"sk-item\"><div class=\"sk-label-container\"><div class=\"sk-label sk-toggleable\"><input class=\"sk-toggleable__control sk-hidden--visually\" id=\"c2852482-24a8-48ab-9756-327a446db459\" type=\"checkbox\" ><label for=\"c2852482-24a8-48ab-9756-327a446db459\" class=\"sk-toggleable__label sk-toggleable__label-arrow\">pipeline_numerico</label><div class=\"sk-toggleable__content\"><pre>[&#x27;idade&#x27;]</pre></div></div></div><div class=\"sk-serial\"><div class=\"sk-item\"><div class=\"sk-serial\"><div class=\"sk-item\"><div class=\"sk-estimator sk-toggleable\"><input class=\"sk-toggleable__control sk-hidden--visually\" id=\"35d42fbd-404d-46cf-96ca-9d08a4267aef\" type=\"checkbox\" ><label for=\"35d42fbd-404d-46cf-96ca-9d08a4267aef\" class=\"sk-toggleable__label sk-toggleable__label-arrow\">SimpleImputer</label><div class=\"sk-toggleable__content\"><pre>SimpleImputer(strategy=&#x27;median&#x27;)</pre></div></div></div></div></div></div></div></div></div></div><div class=\"sk-item\"><div class=\"sk-estimator sk-toggleable\"><input class=\"sk-toggleable__control sk-hidden--visually\" id=\"75d9b644-2a68-468c-9ef2-fe8c7094dbb3\" type=\"checkbox\" ><label for=\"75d9b644-2a68-468c-9ef2-fe8c7094dbb3\" class=\"sk-toggleable__label sk-toggleable__label-arrow\">RandomForestClassifier</label><div class=\"sk-toggleable__content\"><pre>RandomForestClassifier(class_weight=&#x27;balanced&#x27;, max_depth=7, min_samples_leaf=3,\n",
       "                       min_samples_split=14, n_estimators=235, random_state=0)</pre></div></div></div></div></div></div></div>"
      ],
      "text/plain": [
       "Pipeline(steps=[('preprocessor',\n",
       "                 ColumnTransformer(transformers=[('pipeline_categorico',\n",
       "                                                  Pipeline(steps=[('impute',\n",
       "                                                                   SimpleImputer(strategy='most_frequent')),\n",
       "                                                                  ('one_hot_encoder',\n",
       "                                                                   OneHotEncoder(drop='first',\n",
       "                                                                                 handle_unknown='ignore'))]),\n",
       "                                                  ['genero', 'polyuria',\n",
       "                                                   'polydipsia',\n",
       "                                                   'perda_de_peso_repentina',\n",
       "                                                   'polyphagia',\n",
       "                                                   'irritabilidade',\n",
       "                                                   'paresia_parcial',\n",
       "                                                   'alopecia']),\n",
       "                                                 ('pipeline_numerico',\n",
       "                                                  Pipeline(steps=[('impute',\n",
       "                                                                   SimpleImputer(strategy='median'))]),\n",
       "                                                  ['idade'])])),\n",
       "                ('model_rf',\n",
       "                 RandomForestClassifier(class_weight='balanced', max_depth=7,\n",
       "                                        min_samples_leaf=3,\n",
       "                                        min_samples_split=14, n_estimators=235,\n",
       "                                        random_state=0))])"
      ]
     },
     "execution_count": 17,
     "metadata": {},
     "output_type": "execute_result"
    }
   ],
   "source": [
    "# plotando o pipeline\n",
    "set_config(display='diagram')\n",
    "# Treinando o modelo\n",
    "modelo_pipe.fit(X,y)"
   ]
  },
  {
   "cell_type": "code",
   "execution_count": 50,
   "id": "46a7bdaf",
   "metadata": {},
   "outputs": [
    {
     "data": {
      "text/plain": [
       "0      negative\n",
       "1      positive\n",
       "2      negative\n",
       "3      positive\n",
       "4      positive\n",
       "5      positive\n",
       "6      positive\n",
       "7      negative\n",
       "8      positive\n",
       "9      negative\n",
       "10     positive\n",
       "11     positive\n",
       "12     negative\n",
       "13     positive\n",
       "14     positive\n",
       "15     negative\n",
       "16     positive\n",
       "17     negative\n",
       "18     positive\n",
       "19     positive\n",
       "20     positive\n",
       "21     negative\n",
       "22     negative\n",
       "23     negative\n",
       "24     positive\n",
       "25     positive\n",
       "26     positive\n",
       "27     positive\n",
       "28     positive\n",
       "29     positive\n",
       "30     negative\n",
       "31     negative\n",
       "32     positive\n",
       "33     negative\n",
       "34     negative\n",
       "35     positive\n",
       "36     negative\n",
       "37     positive\n",
       "38     negative\n",
       "39     positive\n",
       "40     positive\n",
       "41     positive\n",
       "42     positive\n",
       "43     positive\n",
       "44     negative\n",
       "45     positive\n",
       "46     negative\n",
       "47     positive\n",
       "48     positive\n",
       "49     positive\n",
       "50     positive\n",
       "51     positive\n",
       "52     positive\n",
       "53     positive\n",
       "54     positive\n",
       "55     positive\n",
       "56     positive\n",
       "57     negative\n",
       "58     negative\n",
       "59     positive\n",
       "60     positive\n",
       "61     positive\n",
       "62     positive\n",
       "63     positive\n",
       "64     positive\n",
       "65     positive\n",
       "66     negative\n",
       "67     positive\n",
       "68     positive\n",
       "69     positive\n",
       "70     negative\n",
       "71     positive\n",
       "72     positive\n",
       "73     negative\n",
       "74     negative\n",
       "75     negative\n",
       "76     positive\n",
       "77     negative\n",
       "78     positive\n",
       "79     positive\n",
       "80     negative\n",
       "81     positive\n",
       "82     positive\n",
       "83     positive\n",
       "84     positive\n",
       "85     negative\n",
       "86     negative\n",
       "87     positive\n",
       "88     negative\n",
       "89     negative\n",
       "90     positive\n",
       "91     positive\n",
       "92     negative\n",
       "93     negative\n",
       "94     positive\n",
       "95     positive\n",
       "96     negative\n",
       "97     positive\n",
       "98     positive\n",
       "99     positive\n",
       "100    positive\n",
       "101    positive\n",
       "102    negative\n",
       "103    positive\n",
       "104    negative\n",
       "105    negative\n",
       "106    positive\n",
       "107    positive\n",
       "108    negative\n",
       "109    positive\n",
       "110    negative\n",
       "111    positive\n",
       "112    negative\n",
       "113    negative\n",
       "114    negative\n",
       "115    negative\n",
       "116    positive\n",
       "117    positive\n",
       "118    positive\n",
       "119    negative\n",
       "120    negative\n",
       "121    negative\n",
       "122    negative\n",
       "123    negative\n",
       "124    negative\n",
       "125    negative\n",
       "126    negative\n",
       "127    positive\n",
       "128    negative\n",
       "129    negative\n",
       "130    negative\n",
       "131    negative\n",
       "132    positive\n",
       "133    negative\n",
       "134    negative\n",
       "135    negative\n",
       "136    negative\n",
       "137    positive\n",
       "138    negative\n",
       "139    positive\n",
       "140    positive\n",
       "141    positive\n",
       "142    positive\n",
       "143    positive\n",
       "144    positive\n",
       "145    negative\n",
       "146    positive\n",
       "147    positive\n",
       "148    positive\n",
       "149    negative\n",
       "150    positive\n",
       "151    negative\n",
       "152    positive\n",
       "153    positive\n",
       "154    positive\n",
       "155    positive\n",
       "156    positive\n",
       "157    negative\n",
       "158    positive\n",
       "159    negative\n",
       "160    negative\n",
       "161    negative\n",
       "162    positive\n",
       "163    positive\n",
       "164    positive\n",
       "165    positive\n",
       "166    negative\n",
       "167    negative\n",
       "168    positive\n",
       "169    negative\n",
       "170    positive\n",
       "171    positive\n",
       "172    negative\n",
       "173    positive\n",
       "174    positive\n",
       "175    positive\n",
       "176    positive\n",
       "177    positive\n",
       "178    positive\n",
       "179    negative\n",
       "180    positive\n",
       "181    positive\n",
       "182    negative\n",
       "183    positive\n",
       "184    negative\n",
       "185    positive\n",
       "186    positive\n",
       "187    negative\n",
       "188    negative\n",
       "189    positive\n",
       "190    positive\n",
       "191    negative\n",
       "192    positive\n",
       "193    negative\n",
       "194    negative\n",
       "195    positive\n",
       "196    positive\n",
       "197    positive\n",
       "198    negative\n",
       "199    positive\n",
       "200    positive\n",
       "201    positive\n",
       "202    positive\n",
       "203    positive\n",
       "204    positive\n",
       "205    negative\n",
       "206    positive\n",
       "207    positive\n",
       "208    positive\n",
       "209    positive\n",
       "210    negative\n",
       "211    positive\n",
       "212    negative\n",
       "213    negative\n",
       "214    negative\n",
       "215    positive\n",
       "216    negative\n",
       "217    positive\n",
       "218    negative\n",
       "219    negative\n",
       "220    positive\n",
       "221    negative\n",
       "222    negative\n",
       "223    positive\n",
       "224    negative\n",
       "225    negative\n",
       "226    positive\n",
       "227    negative\n",
       "228    positive\n",
       "229    positive\n",
       "230    positive\n",
       "231    positive\n",
       "232    positive\n",
       "233    negative\n",
       "234    positive\n",
       "235    negative\n",
       "236    positive\n",
       "237    positive\n",
       "238    positive\n",
       "239    negative\n",
       "240    positive\n",
       "241    positive\n",
       "242    negative\n",
       "243    positive\n",
       "244    negative\n",
       "245    positive\n",
       "246    negative\n",
       "247    positive\n",
       "248    negative\n",
       "249    positive\n",
       "250    negative\n",
       "251    negative\n",
       "252    positive\n",
       "253    positive\n",
       "254    negative\n",
       "255    positive\n",
       "256    positive\n",
       "257    positive\n",
       "258    negative\n",
       "259    positive\n",
       "260    negative\n",
       "261    positive\n",
       "262    positive\n",
       "263    positive\n",
       "264    positive\n",
       "265    negative\n",
       "266    negative\n",
       "267    positive\n",
       "268    positive\n",
       "269    positive\n",
       "270    positive\n",
       "271    positive\n",
       "272    positive\n",
       "273    positive\n",
       "274    negative\n",
       "275    negative\n",
       "276    negative\n",
       "277    negative\n",
       "278    positive\n",
       "279    positive\n",
       "280    positive\n",
       "281    positive\n",
       "282    positive\n",
       "283    negative\n",
       "284    negative\n",
       "285    positive\n",
       "286    positive\n",
       "287    positive\n",
       "288    positive\n",
       "289    negative\n",
       "290    positive\n",
       "291    negative\n",
       "292    positive\n",
       "293    negative\n",
       "294    negative\n",
       "295    negative\n",
       "296    negative\n",
       "297    positive\n",
       "298    positive\n",
       "299    positive\n",
       "300    positive\n",
       "301    positive\n",
       "302    negative\n",
       "303    positive\n",
       "304    negative\n",
       "305    positive\n",
       "306    positive\n",
       "307    positive\n",
       "308    positive\n",
       "309    positive\n",
       "310    positive\n",
       "311    positive\n",
       "312    positive\n",
       "313    positive\n",
       "314    positive\n",
       "315    positive\n",
       "316    positive\n",
       "317    positive\n",
       "318    negative\n",
       "319    negative\n",
       "320    negative\n",
       "321    negative\n",
       "322    positive\n",
       "323    negative\n",
       "324    positive\n",
       "325    positive\n",
       "326    negative\n",
       "327    negative\n",
       "328    positive\n",
       "329    positive\n",
       "330    positive\n",
       "331    positive\n",
       "332    positive\n",
       "333    negative\n",
       "334    positive\n",
       "335    negative\n",
       "336    negative\n",
       "337    negative\n",
       "338    negative\n",
       "339    negative\n",
       "340    positive\n",
       "341    positive\n",
       "342    positive\n",
       "343    negative\n",
       "344    positive\n",
       "345    negative\n",
       "346    positive\n",
       "347    positive\n",
       "348    negative\n",
       "349    positive\n",
       "350    positive\n",
       "351    positive\n",
       "352    negative\n",
       "353    positive\n",
       "354    positive\n",
       "355    positive\n",
       "356    positive\n",
       "357    positive\n",
       "358    negative\n",
       "359    positive\n",
       "360    negative\n",
       "361    positive\n",
       "362    positive\n",
       "363    positive\n",
       "364    negative\n",
       "365    positive\n",
       "366    positive\n",
       "367    positive\n",
       "368    positive\n",
       "369    positive\n",
       "370    negative\n",
       "371    positive\n",
       "372    positive\n",
       "373    positive\n",
       "374    positive\n",
       "375    positive\n",
       "376    negative\n",
       "377    positive\n",
       "378    positive\n",
       "379    positive\n",
       "380    positive\n",
       "381    negative\n",
       "382    negative\n",
       "383    positive\n",
       "384    positive\n",
       "385    positive\n",
       "386    positive\n",
       "387    positive\n",
       "388    negative\n",
       "389    negative\n",
       "390    positive\n",
       "391    positive\n",
       "392    negative\n",
       "393    positive\n",
       "394    negative\n",
       "395    negative\n",
       "396    negative\n",
       "397    negative\n",
       "398    positive\n",
       "399    positive\n",
       "400    negative\n",
       "401    negative\n",
       "402    positive\n",
       "403    negative\n",
       "404    positive\n",
       "405    negative\n",
       "406    positive\n",
       "407    positive\n",
       "408    positive\n",
       "409    negative\n",
       "410    negative\n",
       "411    positive\n",
       "412    positive\n",
       "413    negative\n",
       "414    negative\n",
       "415    positive\n",
       "Name: target, dtype: object"
      ]
     },
     "execution_count": 50,
     "metadata": {},
     "output_type": "execute_result"
    }
   ],
   "source": [
    "y"
   ]
  },
  {
   "cell_type": "code",
   "execution_count": 58,
   "id": "8c470cee",
   "metadata": {},
   "outputs": [],
   "source": [
    "from sklearn.metrics import recall_score,precision_score\n",
    "recall_score_list = []\n",
    "precision_score_list = []\n",
    "\n",
    "for thresh in np.linspace(0,1, 100):\n",
    "    recall_score_list.append(recall_score(y=='positive', modelo_pipe.predict_proba(X)[:,1]>thresh))\n",
    "    precision_score_list.append(precision_score(y=='positive', modelo_pipe.predict_proba(X)[:,1]>thresh))"
   ]
  },
  {
   "cell_type": "code",
   "execution_count": 59,
   "id": "d75ed9cf",
   "metadata": {},
   "outputs": [
    {
     "data": {
      "image/png": "[encoded data removed]",
      "text/plain": [
       "<Figure size 432x288 with 1 Axes>"
      ]
     },
     "metadata": {
      "needs_background": "light"
     },
     "output_type": "display_data"
    }
   ],
   "source": [
    "plt.plot(np.linspace(0,1, 100), recall_score_list)\n",
    "plt.plot(np.linspace(0,1, 100), precision_score_list)\n",
    "\n",
    "plt.show()"
   ]
  },
  {
   "cell_type": "code",
   "execution_count": 52,
   "id": "b23e769e",
   "metadata": {},
   "outputs": [
    {
     "data": {
      "text/plain": [
       "[1.0,\n",
       " 1.0,\n",
       " 1.0,\n",
       " 1.0,\n",
       " 1.0,\n",
       " 1.0,\n",
       " 1.0,\n",
       " 1.0,\n",
       " 1.0,\n",
       " 1.0,\n",
       " 1.0,\n",
       " 1.0,\n",
       " 0.99609375,\n",
       " 0.99609375,\n",
       " 0.99609375,\n",
       " 0.99609375,\n",
       " 0.99609375,\n",
       " 0.99609375,\n",
       " 0.99609375,\n",
       " 0.99609375,\n",
       " 0.99609375,\n",
       " 0.9921875,\n",
       " 0.9921875,\n",
       " 0.9921875,\n",
       " 0.9921875,\n",
       " 0.9921875,\n",
       " 0.9921875,\n",
       " 0.98828125,\n",
       " 0.98828125,\n",
       " 0.98046875,\n",
       " 0.98046875,\n",
       " 0.97265625,\n",
       " 0.97265625,\n",
       " 0.97265625,\n",
       " 0.97265625,\n",
       " 0.97265625,\n",
       " 0.97265625,\n",
       " 0.97265625,\n",
       " 0.97265625,\n",
       " 0.97265625,\n",
       " 0.97265625,\n",
       " 0.97265625,\n",
       " 0.97265625,\n",
       " 0.96875,\n",
       " 0.96875,\n",
       " 0.96875,\n",
       " 0.96875,\n",
       " 0.96484375,\n",
       " 0.96484375,\n",
       " 0.96484375,\n",
       " 0.96484375,\n",
       " 0.96484375,\n",
       " 0.9609375,\n",
       " 0.9375,\n",
       " 0.9375,\n",
       " 0.9375,\n",
       " 0.9375,\n",
       " 0.93359375,\n",
       " 0.9296875,\n",
       " 0.9296875,\n",
       " 0.92578125,\n",
       " 0.921875,\n",
       " 0.90234375,\n",
       " 0.8984375,\n",
       " 0.890625,\n",
       " 0.88671875,\n",
       " 0.8828125,\n",
       " 0.875,\n",
       " 0.875,\n",
       " 0.875,\n",
       " 0.87109375,\n",
       " 0.86328125,\n",
       " 0.86328125,\n",
       " 0.84765625,\n",
       " 0.83984375,\n",
       " 0.82421875,\n",
       " 0.8125,\n",
       " 0.8046875,\n",
       " 0.7734375,\n",
       " 0.74609375,\n",
       " 0.73828125,\n",
       " 0.703125,\n",
       " 0.69921875,\n",
       " 0.69140625,\n",
       " 0.69140625,\n",
       " 0.69140625,\n",
       " 0.6875,\n",
       " 0.6875,\n",
       " 0.6875,\n",
       " 0.67578125,\n",
       " 0.67578125,\n",
       " 0.6640625,\n",
       " 0.6328125,\n",
       " 0.6015625,\n",
       " 0.578125,\n",
       " 0.5625,\n",
       " 0.515625,\n",
       " 0.421875,\n",
       " 0.328125,\n",
       " 0.0]"
      ]
     },
     "execution_count": 52,
     "metadata": {},
     "output_type": "execute_result"
    }
   ],
   "source": [
    "recall_score_list"
   ]
  },
  {
   "cell_type": "markdown",
   "id": "60d4113d",
   "metadata": {},
   "source": [
    "## Curva de Aprendizado\n",
    "\n",
    "Aqui utilizaremos a curva de aprendizado para diagnosticar possíveis problemas de viés ou variância.\n"
   ]
  },
  {
   "cell_type": "code",
   "execution_count": 18,
   "id": "d2caba68",
   "metadata": {
    "scrolled": true
   },
   "outputs": [
    {
     "data": {
      "image/png": "[encoded data removed]",
      "text/plain": [
       "<Figure size 432x288 with 1 Axes>"
      ]
     },
     "metadata": {
      "needs_background": "light"
     },
     "output_type": "display_data"
    },
    {
     "data": {
      "text/plain": [
       "<AxesSubplot:title={'center':'Learning Curve for RandomForestClassifier'}, xlabel='Training Instances', ylabel='Score'>"
      ]
     },
     "execution_count": 18,
     "metadata": {},
     "output_type": "execute_result"
    }
   ],
   "source": [
    "visualizer = LearningCurve(modelo_pipe, cv=cv, scoring='roc_auc', n_jobs=4, random_state = 123)\n",
    "visualizer.fit(X, y)    \n",
    "plt.ylim((0,1.01))\n",
    "visualizer.show() "
   ]
  },
  {
   "cell_type": "markdown",
   "id": "181d7b6c",
   "metadata": {},
   "source": [
    "Pela curva apresentada, vemos que existe a tendência do modelo atingir uma performance muito parecida no treinamento e no teste à medida que aumentamos o número de registros de treinamento. Talvez com uma base maior tenhamos um aumento de performance."
   ]
  },
  {
   "cell_type": "markdown",
   "id": "01c27be1",
   "metadata": {},
   "source": [
    "## Dados de teste"
   ]
  },
  {
   "cell_type": "markdown",
   "id": "5633489f",
   "metadata": {},
   "source": [
    "Agora que já treinamos o modelo e definimos os hiperparâmetros que maximizam nossa métrica, iremos comparar a perfomance do treino com a de teste."
   ]
  },
  {
   "cell_type": "code",
   "execution_count": 19,
   "id": "31d975d7",
   "metadata": {},
   "outputs": [],
   "source": [
    "#Renomeando colunas\n",
    "df_test.rename(columns={'Age': 'idade','Gender':'genero','Polyuria':'polyuria','Polydipsia':'polydipsia','sudden weight loss':'perda_de_peso_repentina',\n",
    "                        'weakness':'fraqueza','Polyphagia':'polyphagia','Genital thrush':'candidiase_genital',\n",
    "                        'visual blurring':'desfoque_visual','Itching':'coceira','Irritability':'irritabilidade',\n",
    "                        'delayed healing':'cicatrizacao_retardada','partial paresis':'paresia_parcial',\n",
    "                        'muscle stiffness':'rigidez_muscular','Alopecia':'alopecia','Obesity':'obesidade','class':'target'},inplace=True)\n"
   ]
  },
  {
   "cell_type": "code",
   "execution_count": 20,
   "id": "b6ef3821",
   "metadata": {},
   "outputs": [],
   "source": [
    "variaveis_categoricas = set(df_test.select_dtypes(include=['object']).columns.tolist())\n",
    "for var_cat in variaveis_categoricas:\n",
    "    df_test[var_cat]=df_test[var_cat].str.lower()"
   ]
  },
  {
   "cell_type": "code",
   "execution_count": 21,
   "id": "9605cc08",
   "metadata": {},
   "outputs": [],
   "source": [
    "#Selecionando colunas que foram selecionadas na parte de treino. \n",
    "df_test = df_test[['idade','genero','polyuria','polydipsia','perda_de_peso_repentina','polyphagia','irritabilidade','paresia_parcial','alopecia','target']]"
   ]
  },
  {
   "cell_type": "code",
   "execution_count": 22,
   "id": "fb3f596d",
   "metadata": {},
   "outputs": [],
   "source": [
    "y_pred_test = modelo_pipe.predict(df_test.drop(target,axis=1))"
   ]
  },
  {
   "cell_type": "code",
   "execution_count": 36,
   "id": "0addef3f",
   "metadata": {},
   "outputs": [
    {
     "name": "stdout",
     "output_type": "stream",
     "text": [
      "O modelo obteve um score de teste para o recall de: 0.8942307692307693\n"
     ]
    }
   ],
   "source": [
    "score_teste = recall_score(df_test['target'], y_pred_test,average='weighted')\n",
    "print(f'O modelo obteve um score de teste para o recall de: {score_teste}')"
   ]
  },
  {
   "cell_type": "markdown",
   "id": "efcf318b",
   "metadata": {},
   "source": [
    "Temos que avaliar nossa métrica versus a métrica da solução que já está disponível na empresa. Na ausência de um modelo existente, podemos utilizar \"naive classifiers\" construídos com regras simples, para medir qual ganho de performance temos ao implementarmos o modelo de machine-learning."
   ]
  },
  {
   "cell_type": "code",
   "execution_count": 24,
   "id": "046940a2",
   "metadata": {},
   "outputs": [],
   "source": [
    "columns_predict = ['Diagnóstico_Diabetes']\n",
    "df_previsoes= pd.DataFrame(y_pred_test, columns=columns_predict)"
   ]
  },
  {
   "cell_type": "code",
   "execution_count": 25,
   "id": "3aaeb2b6",
   "metadata": {},
   "outputs": [
    {
     "data": {
      "text/html": [
       "<div>\n",
       "<style scoped>\n",
       "    .dataframe tbody tr th:only-of-type {\n",
       "        vertical-align: middle;\n",
       "    }\n",
       "\n",
       "    .dataframe tbody tr th {\n",
       "        vertical-align: top;\n",
       "    }\n",
       "\n",
       "    .dataframe thead th {\n",
       "        text-align: right;\n",
       "    }\n",
       "</style>\n",
       "<table border=\"1\" class=\"dataframe\">\n",
       "  <thead>\n",
       "    <tr style=\"text-align: right;\">\n",
       "      <th></th>\n",
       "      <th>Diagnóstico_Diabetes</th>\n",
       "    </tr>\n",
       "  </thead>\n",
       "  <tbody>\n",
       "    <tr>\n",
       "      <th>0</th>\n",
       "      <td>positive</td>\n",
       "    </tr>\n",
       "    <tr>\n",
       "      <th>1</th>\n",
       "      <td>positive</td>\n",
       "    </tr>\n",
       "    <tr>\n",
       "      <th>2</th>\n",
       "      <td>negative</td>\n",
       "    </tr>\n",
       "    <tr>\n",
       "      <th>3</th>\n",
       "      <td>positive</td>\n",
       "    </tr>\n",
       "    <tr>\n",
       "      <th>4</th>\n",
       "      <td>negative</td>\n",
       "    </tr>\n",
       "  </tbody>\n",
       "</table>\n",
       "</div>"
      ],
      "text/plain": [
       "  Diagnóstico_Diabetes\n",
       "0             positive\n",
       "1             positive\n",
       "2             negative\n",
       "3             positive\n",
       "4             negative"
      ]
     },
     "execution_count": 25,
     "metadata": {},
     "output_type": "execute_result"
    }
   ],
   "source": [
    "df_previsoes.head()"
   ]
  },
  {
   "cell_type": "code",
   "execution_count": 26,
   "id": "3702c5d3",
   "metadata": {},
   "outputs": [],
   "source": [
    "df_previsoes.to_csv(os.path.join(PREDICT_PATH, PREDICT_NAME), index=False)"
   ]
  },
  {
   "cell_type": "code",
   "execution_count": 27,
   "id": "95ff245e",
   "metadata": {},
   "outputs": [],
   "source": [
    "#Salvando modelo\n",
    "with open(os.path.join(MODEL_PATH, MODEL_NAME), 'wb') as model:\n",
    "    cloudpickle.dump(modelo_pipe, model)"
   ]
  },
  {
   "cell_type": "markdown",
   "id": "22043a6a",
   "metadata": {},
   "source": [
    "## SHAP"
   ]
  },
  {
   "cell_type": "markdown",
   "id": "b83bbc4d",
   "metadata": {},
   "source": [
    "Para interpretar o modelo existem diversas técnicas. O Random Forest, modelo utilizado, nos informa o Feature Importance, porém essa é uma técnica que pode ter algum viés, principalmente quando há presença de variáveis categóricas. Outra técnica rica é o Permutation Importance, que avalia a importância das features medindo a queda de performance quando esta é retirada. Nesse trabalho irei trazer o método de shap values, que é agnóstico a modelo e é baseado na teoria dos jogos.\n",
    "\n",
    "A análise se interpretabilidade se fez necessário para responder a questão de forma mais segura: \n",
    "\n",
    "- Quais os 3 principais fatores que levam a um diagnóstico positivo de diabetes?"
   ]
  },
  {
   "cell_type": "code",
   "execution_count": 28,
   "id": "73b04ab8",
   "metadata": {},
   "outputs": [],
   "source": [
    "todas_as_variaveis = set(df_train.columns.tolist())\n",
    "todas_as_variaveis.remove(target)"
   ]
  },
  {
   "cell_type": "code",
   "execution_count": 29,
   "id": "5220be0a",
   "metadata": {},
   "outputs": [],
   "source": [
    "X_A1_test = df_test.drop(target, axis=1)\n",
    "X_A1 = df_train.drop(target,axis=1)"
   ]
  },
  {
   "cell_type": "code",
   "execution_count": 30,
   "id": "a7b83c41",
   "metadata": {},
   "outputs": [],
   "source": [
    "# Ordenando variáveis e refitando o modelo (o SHAP dá problemas, bagunçando as colunas e o plot dá errado se não fizer)\n",
    "X_A1_ = X_A1.loc[:,todas_as_variaveis]\n",
    "X_A1_test_ = X_A1_test.loc[:,todas_as_variaveis]"
   ]
  },
  {
   "cell_type": "code",
   "execution_count": 31,
   "id": "5b77757b",
   "metadata": {},
   "outputs": [],
   "source": [
    "# Lendo o modelo salvo \n",
    "with open(os.path.join(MODEL_PATH,MODEL_NAME),'rb') as m:\n",
    "    modelo_salvo = cloudpickle.load(m)"
   ]
  },
  {
   "cell_type": "code",
   "execution_count": 32,
   "id": "4409c386",
   "metadata": {},
   "outputs": [],
   "source": [
    "X_A1_test_shap = pd.DataFrame(modelo_salvo['preprocessor'].transform(X_A1_test_), columns = todas_as_variaveis)"
   ]
  },
  {
   "cell_type": "code",
   "execution_count": 33,
   "id": "3f5d92e8",
   "metadata": {},
   "outputs": [],
   "source": [
    "explainer_rf = shap.TreeExplainer(modelo_salvo['model_rf'])\n",
    "shap_values = explainer_rf.shap_values(X_A1_test_shap, check_additivity=False)"
   ]
  },
  {
   "cell_type": "code",
   "execution_count": 34,
   "id": "d2ae5f45",
   "metadata": {},
   "outputs": [
    {
     "data": {
      "image/png": "[encoded data removed]",
      "text/plain": [
       "<Figure size 576x367.2 with 2 Axes>"
      ]
     },
     "metadata": {
      "needs_background": "light"
     },
     "output_type": "display_data"
    }
   ],
   "source": [
    "shap.summary_plot(shap_values[1], X_A1_test_shap)"
   ]
  },
  {
   "cell_type": "markdown",
   "id": "c1e670f4",
   "metadata": {},
   "source": [
    "## Quais os 3 principais fatores que levam a um diagnóstico positivo de diabetes?\n"
   ]
  },
  {
   "cell_type": "code",
   "execution_count": 35,
   "id": "70ae8261",
   "metadata": {},
   "outputs": [
    {
     "data": {
      "image/png": "[encoded data removed]",
      "text/plain": [
       "<Figure size 576x367.2 with 1 Axes>"
      ]
     },
     "metadata": {
      "needs_background": "light"
     },
     "output_type": "display_data"
    }
   ],
   "source": [
    "shap.summary_plot(shap_values,features=X_A1_test_shap, feature_names=X_A1_test_shap.columns,)"
   ]
  },
  {
   "cell_type": "markdown",
   "id": "657c48e5",
   "metadata": {},
   "source": [
    "Com base, no feature importance e summary_plot as variáveis que apresentaram uma melhor relação para prever o diabetes, são: Perda de peso repentina, polydpsia, paresia parcial."
   ]
  }
 ],
 "metadata": {
  "kernelspec": {
   "display_name": "Python 3 (ipykernel)",
   "language": "python",
   "name": "python3"
  },
  "language_info": {
   "codemirror_mode": {
    "name": "ipython",
    "version": 3
   },
   "file_extension": ".py",
   "mimetype": "text/x-python",
   "name": "python",
   "nbconvert_exporter": "python",
   "pygments_lexer": "ipython3",
   "version": "3.8.10"
  }
 },
 "nbformat": 4,
 "nbformat_minor": 5
}
