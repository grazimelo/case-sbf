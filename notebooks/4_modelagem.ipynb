{
 "cells": [
  {
   "cell_type": "markdown",
   "id": "911a32a4",
   "metadata": {},
   "source": [
    "# Modelagem e Avaliação \n",
    "\n",
    "Neste tópico, iremos preparar nossos dados para modelagem, criando pipeline para garatir o correto pré-processamento dos nossos dados.Utilizaremos o modelo Árvore de decisão, um modelo que me sinto bastante confortável de usar por conhecer seu funcionamento e nuances. É um modelo não-linear, robusto a outliers e que não possui qualquer suposição sobre as distribuições, o que é algo bastante relevante, dado que a maioria dos dados na vida real apresentam não normalidade. Evitar a normalização é uma etapa a menos se você utiliza modelos baseados em árvore. "
   ]
  },
  {
   "cell_type": "markdown",
   "id": "94d447e5",
   "metadata": {},
   "source": [
    "## Dependências"
   ]
  },
  {
   "cell_type": "code",
   "execution_count": 36,
   "id": "7a4968d8",
   "metadata": {},
   "outputs": [],
   "source": [
    "# Bibliotecas\n",
    "import os\n",
    "import shap\n",
    "import warnings\n",
    "warnings.filterwarnings('ignore')\n",
    "import cloudpickle\n",
    "import optuna\n",
    "import pandas as pd\n",
    "import numpy as np\n",
    "import seaborn as sns\n",
    "import matplotlib.pyplot as plt\n",
    "import mlflow\n",
    "import mlflow.sklearn\n",
    "from sklearn.preprocessing import OneHotEncoder\n",
    "from sklearn.tree import DecisionTreeClassifier \n",
    "from sklearn.model_selection import train_test_split,cross_val_score\n",
    "from sklearn.impute import SimpleImputer \n",
    "from sklearn.pipeline import Pipeline\n",
    "from sklearn.compose import ColumnTransformer\n",
    "from sklearn.metrics import precision_score, recall_score, roc_auc_score, accuracy_score\n",
    "from sklearn.model_selection import ShuffleSplit,learning_curve,RepeatedStratifiedKFold\n",
    "from sklearn.preprocessing import FunctionTransformer\n",
    "from utils.data_cleaning import normalizar_caracteres\n",
    "from sklearn import set_config\n",
    "from sklearn.inspection import permutation_importance\n",
    "from utils.modelagem import calcular_metricas_threshold\n",
    "from optuna.samplers import TPESampler\n",
    "pd.set_option('display.max_rows', 500)\n",
    "pd.set_option('display.max_columns', 500)\n",
    "pd.set_option('display.width', 1000)\n",
    "%matplotlib inline"
   ]
  },
  {
   "cell_type": "markdown",
   "id": "84e6ba2a",
   "metadata": {},
   "source": [
    "## Dados e Constantes"
   ]
  },
  {
   "cell_type": "code",
   "execution_count": 37,
   "id": "c066f128",
   "metadata": {},
   "outputs": [],
   "source": [
    "DATA_RAW_PATH = os.path.join('..','data','raw')\n",
    "DATA_RAW_NAME = 'diabetes_data.csv'\n",
    "DATA_INTER_PATH = os.path.join('..','data','inter')\n",
    "DATA_INTER_TEST_NAME = 'diabetes_test.parquet'\n",
    "DATA_INTER_TRAIN_NAME = 'diabetes_train.parquet'\n",
    "DATA_INTER_TRAIN_FT_SELECTION = 'diabetes_train_selected.parquet'\n",
    "PREDICT_PATH = os.path.join('..','data','output')\n",
    "PREDICT_NAME = 'previsao_diagnostico.csv'\n",
    "TRACKING_URI = 'http://localhost:5000/'\n",
    "EXPERIMENT_NAME = 'diabetes_model'"
   ]
  },
  {
   "cell_type": "code",
   "execution_count": 38,
   "id": "b86455ab",
   "metadata": {},
   "outputs": [
    {
     "data": {
      "text/plain": [
       "<Experiment: artifact_location='file:///home/graziellymo/Documents/pessoal/case-sbf-diabetes-github/mlruns/1', experiment_id='1', lifecycle_stage='active', name='diabetes_model', tags={}>"
      ]
     },
     "execution_count": 38,
     "metadata": {},
     "output_type": "execute_result"
    }
   ],
   "source": [
    "mlflow.set_tracking_uri(TRACKING_URI)\n",
    "mlflow.set_experiment(EXPERIMENT_NAME)"
   ]
  },
  {
   "cell_type": "code",
   "execution_count": 39,
   "id": "74483395",
   "metadata": {},
   "outputs": [],
   "source": [
    "df_train_inter = pd.read_parquet(os.path.join(DATA_INTER_PATH, DATA_INTER_TRAIN_FT_SELECTION))\n",
    "df_train= pd.read_parquet(os.path.join(DATA_INTER_PATH, DATA_INTER_TRAIN_NAME))\n",
    "\n",
    "# Lendo dados de teste.\n",
    "df_test = pd.read_parquet(os.path.join(DATA_INTER_PATH, DATA_INTER_TEST_NAME))"
   ]
  },
  {
   "cell_type": "code",
   "execution_count": 40,
   "id": "fedd020d",
   "metadata": {},
   "outputs": [],
   "source": [
    "#Obtendo X e Y \n",
    "X = df_train.drop('target',axis=1)\n",
    "y = df_train['target']"
   ]
  },
  {
   "cell_type": "markdown",
   "id": "d2f967fa",
   "metadata": {},
   "source": [
    "# Modelagem "
   ]
  },
  {
   "cell_type": "markdown",
   "id": "13ceeb02",
   "metadata": {},
   "source": [
    "## Variáveis"
   ]
  },
  {
   "cell_type": "code",
   "execution_count": 41,
   "id": "bd5bb705",
   "metadata": {},
   "outputs": [],
   "source": [
    "#Separando as variáveis categóricas e numéricas\n",
    "variaveis_numericas = ['idade']\n",
    "variaveis_categoricas = list(set(df_train_inter.columns.tolist()).difference(set(variaveis_numericas)))\n"
   ]
  },
  {
   "cell_type": "code",
   "execution_count": 42,
   "id": "b81f1a01",
   "metadata": {},
   "outputs": [
    {
     "data": {
      "text/plain": [
       "['polyuria',\n",
       " 'paresia_parcial',\n",
       " 'polydipsia',\n",
       " 'perda_de_peso_repentina',\n",
       " 'genero',\n",
       " 'target',\n",
       " 'polyphagia']"
      ]
     },
     "execution_count": 42,
     "metadata": {},
     "output_type": "execute_result"
    }
   ],
   "source": [
    "variaveis_categoricas"
   ]
  },
  {
   "cell_type": "code",
   "execution_count": 43,
   "id": "fa5a7d35",
   "metadata": {},
   "outputs": [],
   "source": [
    "variaveis_categoricas.remove('target')"
   ]
  },
  {
   "cell_type": "code",
   "execution_count": 44,
   "id": "40c28c21",
   "metadata": {},
   "outputs": [],
   "source": [
    "X = X[variaveis_categoricas+variaveis_numericas]"
   ]
  },
  {
   "cell_type": "markdown",
   "id": "b2231de0",
   "metadata": {},
   "source": [
    "## Criando pipeline"
   ]
  },
  {
   "cell_type": "markdown",
   "id": "a76b9bd5",
   "metadata": {},
   "source": [
    "Aqui iremos criar um pipeline para tratar dados categóricos e outro para tratar nossos dados numéricos. Dessa maneira cada coluna é tratada da forma mais adequada. O resultado é combinado no final e passado para o classificador, último componente do pipeline."
   ]
  },
  {
   "cell_type": "code",
   "execution_count": 45,
   "id": "a2528c75",
   "metadata": {},
   "outputs": [],
   "source": [
    "#Pipeline numérico será tratado imputando a mediana\n",
    "pipeline_numerico = Pipeline(steps=[('impute', SimpleImputer(strategy='median'))])\n",
    "#Pipeline categórico será tratado com imputação através da moda e one hot encoder\n",
    "pipeline_categorico = Pipeline(steps=[('impute', SimpleImputer(strategy='most_frequent')),\n",
    "                         ('one_hot_encoder', OneHotEncoder(handle_unknown='ignore',drop='first'))])"
   ]
  },
  {
   "cell_type": "code",
   "execution_count": 46,
   "id": "c3cfe5ab",
   "metadata": {},
   "outputs": [],
   "source": [
    "#Column Transformer para unir os dois pipelines\n",
    "preprocess_pipeline = ColumnTransformer([('pipeline_categorico', pipeline_categorico, variaveis_categoricas),\n",
    "                                ('pipeline_numerico', pipeline_numerico, variaveis_numericas)])"
   ]
  },
  {
   "cell_type": "code",
   "execution_count": 47,
   "id": "e57f2298",
   "metadata": {},
   "outputs": [],
   "source": [
    "#Definindo folds para a validação cruzada estratificada para garantir uma melhor distribuição do target.\n",
    "cv = RepeatedStratifiedKFold(random_state=123, n_splits=10, n_repeats=10)"
   ]
  },
  {
   "cell_type": "code",
   "execution_count": 48,
   "id": "09dd25df",
   "metadata": {},
   "outputs": [],
   "source": [
    "# Definindo modelo com random_seed e class_weight='balanced' para dar peso às classes mais raras\n",
    "dt = DecisionTreeClassifier(random_state=123, class_weight='balanced')\n",
    "# defninindo pipeline final, onde o último componente é o classificador\n",
    "modelo_pipe =  Pipeline(steps =[('preprocessor',preprocess_pipeline),\n",
    "                                  ('model_dt',dt)])"
   ]
  },
  {
   "cell_type": "markdown",
   "id": "aab0b6e5",
   "metadata": {},
   "source": [
    "# Modelagem e Avaliação"
   ]
  },
  {
   "cell_type": "markdown",
   "id": "084ea3eb",
   "metadata": {},
   "source": [
    "## Otimização de Hiperparâmetros"
   ]
  },
  {
   "cell_type": "markdown",
   "id": "7e7aca3f",
   "metadata": {},
   "source": [
    "Aqui utilizaremos otimização bayesiana para busca dos melhores hiperparâmetros para o classificador. Poderíamos ter utilizado o GridSearchCV ou o RandomizedSearchCV, porém esses seriam mais lentos. Vale salientar que a otimização está sendo feita em cima da média de validação cruzada para a log loss e que estamos utilizando RepeatedStratifiedKfold para garantir mesma proporção do target nos folds e também para termos uma melhor estimativa, uma vez que o dataset é pequeno."
   ]
  },
  {
   "cell_type": "code",
   "execution_count": 49,
   "id": "3fbeb83b",
   "metadata": {},
   "outputs": [],
   "source": [
    "def optimize_decision_tree(trial):\n",
    "    \"Optmization of Decision Tree Classifier\"\n",
    "# Grid de parametros otimizados\n",
    "    params ={'model_dt__max_depth': trial.suggest_int('model_dt__max_depth',2,11),\n",
    "          'model_dt__min_samples_leaf': trial.suggest_int('model_dt__min_samples_leaf',2,33),\n",
    "          'model_dt__min_samples_split':trial.suggest_int('model_dt__min_samples_split',2,33)  }\n",
    "    earlyStop=20\n",
    "    modelo_pipe.set_params(**params)\n",
    "    results = np.mean(cross_val_score(modelo_pipe,X,y, cv=cv, scoring = 'neg_log_loss'))\n",
    "    print(f'LOG LOSS:{results}')\n",
    "    return results"
   ]
  },
  {
   "cell_type": "code",
   "execution_count": 50,
   "id": "d245dd32",
   "metadata": {},
   "outputs": [
    {
     "name": "stderr",
     "output_type": "stream",
     "text": [
      "\u001b[32m[I 2022-03-07 15:02:18,470]\u001b[0m A new study created in memory with name: no-name-890852bc-abe5-447c-a33f-4d3ddad6755e\u001b[0m\n",
      "\u001b[32m[I 2022-03-07 15:02:19,352]\u001b[0m Trial 0 finished with value: -0.7559591773887263 and parameters: {'model_dt__max_depth': 8, 'model_dt__min_samples_leaf': 11, 'model_dt__min_samples_split': 9}. Best is trial 0 with value: -0.7559591773887263.\u001b[0m\n"
     ]
    },
    {
     "name": "stdout",
     "output_type": "stream",
     "text": [
      "LOG LOSS:-0.7559591773887263\n"
     ]
    },
    {
     "name": "stderr",
     "output_type": "stream",
     "text": [
      "\u001b[32m[I 2022-03-07 15:02:20,209]\u001b[0m Trial 1 finished with value: -0.31705246095607315 and parameters: {'model_dt__max_depth': 7, 'model_dt__min_samples_leaf': 25, 'model_dt__min_samples_split': 15}. Best is trial 1 with value: -0.31705246095607315.\u001b[0m\n"
     ]
    },
    {
     "name": "stdout",
     "output_type": "stream",
     "text": [
      "LOG LOSS:-0.31705246095607315\n"
     ]
    },
    {
     "name": "stderr",
     "output_type": "stream",
     "text": [
      "\u001b[32m[I 2022-03-07 15:02:21,114]\u001b[0m Trial 2 finished with value: -0.3432791221304196 and parameters: {'model_dt__max_depth': 11, 'model_dt__min_samples_leaf': 23, 'model_dt__min_samples_split': 17}. Best is trial 1 with value: -0.31705246095607315.\u001b[0m\n"
     ]
    },
    {
     "name": "stdout",
     "output_type": "stream",
     "text": [
      "LOG LOSS:-0.3432791221304196\n"
     ]
    },
    {
     "name": "stderr",
     "output_type": "stream",
     "text": [
      "\u001b[32m[I 2022-03-07 15:02:21,943]\u001b[0m Trial 3 finished with value: -0.6212184667362038 and parameters: {'model_dt__max_depth': 5, 'model_dt__min_samples_leaf': 12, 'model_dt__min_samples_split': 25}. Best is trial 1 with value: -0.31705246095607315.\u001b[0m\n"
     ]
    },
    {
     "name": "stdout",
     "output_type": "stream",
     "text": [
      "LOG LOSS:-0.6212184667362038\n"
     ]
    },
    {
     "name": "stderr",
     "output_type": "stream",
     "text": [
      "\u001b[32m[I 2022-03-07 15:02:22,789]\u001b[0m Trial 4 finished with value: -0.8287568559783393 and parameters: {'model_dt__max_depth': 6, 'model_dt__min_samples_leaf': 3, 'model_dt__min_samples_split': 14}. Best is trial 1 with value: -0.31705246095607315.\u001b[0m\n"
     ]
    },
    {
     "name": "stdout",
     "output_type": "stream",
     "text": [
      "LOG LOSS:-0.8287568559783393\n"
     ]
    },
    {
     "name": "stderr",
     "output_type": "stream",
     "text": [
      "\u001b[32m[I 2022-03-07 15:02:23,643]\u001b[0m Trial 5 finished with value: -0.7987349836593826 and parameters: {'model_dt__max_depth': 9, 'model_dt__min_samples_leaf': 7, 'model_dt__min_samples_split': 7}. Best is trial 1 with value: -0.31705246095607315.\u001b[0m\n"
     ]
    },
    {
     "name": "stdout",
     "output_type": "stream",
     "text": [
      "LOG LOSS:-0.7987349836593826\n"
     ]
    },
    {
     "name": "stderr",
     "output_type": "stream",
     "text": [
      "\u001b[32m[I 2022-03-07 15:02:24,495]\u001b[0m Trial 6 finished with value: -0.4891937251697002 and parameters: {'model_dt__max_depth': 7, 'model_dt__min_samples_leaf': 19, 'model_dt__min_samples_split': 22}. Best is trial 1 with value: -0.31705246095607315.\u001b[0m\n"
     ]
    },
    {
     "name": "stdout",
     "output_type": "stream",
     "text": [
      "LOG LOSS:-0.4891937251697002\n"
     ]
    },
    {
     "name": "stderr",
     "output_type": "stream",
     "text": [
      "\u001b[32m[I 2022-03-07 15:02:25,343]\u001b[0m Trial 7 finished with value: -0.31705246095607315 and parameters: {'model_dt__max_depth': 10, 'model_dt__min_samples_leaf': 25, 'model_dt__min_samples_split': 21}. Best is trial 1 with value: -0.31705246095607315.\u001b[0m\n"
     ]
    },
    {
     "name": "stdout",
     "output_type": "stream",
     "text": [
      "LOG LOSS:-0.31705246095607315\n"
     ]
    },
    {
     "name": "stderr",
     "output_type": "stream",
     "text": [
      "\u001b[32m[I 2022-03-07 15:02:26,218]\u001b[0m Trial 8 finished with value: -0.6698997322511575 and parameters: {'model_dt__max_depth': 9, 'model_dt__min_samples_leaf': 12, 'model_dt__min_samples_split': 13}. Best is trial 1 with value: -0.31705246095607315.\u001b[0m\n"
     ]
    },
    {
     "name": "stdout",
     "output_type": "stream",
     "text": [
      "LOG LOSS:-0.6698997322511575\n"
     ]
    },
    {
     "name": "stderr",
     "output_type": "stream",
     "text": [
      "\u001b[32m[I 2022-03-07 15:02:27,096]\u001b[0m Trial 9 finished with value: -0.40805469654177356 and parameters: {'model_dt__max_depth': 4, 'model_dt__min_samples_leaf': 11, 'model_dt__min_samples_split': 22}. Best is trial 1 with value: -0.31705246095607315.\u001b[0m\n"
     ]
    },
    {
     "name": "stdout",
     "output_type": "stream",
     "text": [
      "LOG LOSS:-0.40805469654177356\n"
     ]
    },
    {
     "name": "stderr",
     "output_type": "stream",
     "text": [
      "\u001b[32m[I 2022-03-07 15:02:27,943]\u001b[0m Trial 10 finished with value: -0.2800309167482243 and parameters: {'model_dt__max_depth': 2, 'model_dt__min_samples_leaf': 33, 'model_dt__min_samples_split': 33}. Best is trial 10 with value: -0.2800309167482243.\u001b[0m\n"
     ]
    },
    {
     "name": "stdout",
     "output_type": "stream",
     "text": [
      "LOG LOSS:-0.2800309167482243\n"
     ]
    },
    {
     "name": "stderr",
     "output_type": "stream",
     "text": [
      "\u001b[32m[I 2022-03-07 15:02:28,789]\u001b[0m Trial 11 finished with value: -0.2800309167482243 and parameters: {'model_dt__max_depth': 2, 'model_dt__min_samples_leaf': 33, 'model_dt__min_samples_split': 32}. Best is trial 10 with value: -0.2800309167482243.\u001b[0m\n"
     ]
    },
    {
     "name": "stdout",
     "output_type": "stream",
     "text": [
      "LOG LOSS:-0.2800309167482243\n"
     ]
    },
    {
     "name": "stderr",
     "output_type": "stream",
     "text": [
      "\u001b[32m[I 2022-03-07 15:02:29,623]\u001b[0m Trial 12 finished with value: -0.2800309167482243 and parameters: {'model_dt__max_depth': 2, 'model_dt__min_samples_leaf': 33, 'model_dt__min_samples_split': 33}. Best is trial 10 with value: -0.2800309167482243.\u001b[0m\n"
     ]
    },
    {
     "name": "stdout",
     "output_type": "stream",
     "text": [
      "LOG LOSS:-0.2800309167482243\n"
     ]
    },
    {
     "name": "stderr",
     "output_type": "stream",
     "text": [
      "\u001b[32m[I 2022-03-07 15:02:30,454]\u001b[0m Trial 13 finished with value: -0.2800309167482243 and parameters: {'model_dt__max_depth': 2, 'model_dt__min_samples_leaf': 33, 'model_dt__min_samples_split': 32}. Best is trial 10 with value: -0.2800309167482243.\u001b[0m\n"
     ]
    },
    {
     "name": "stdout",
     "output_type": "stream",
     "text": [
      "LOG LOSS:-0.2800309167482243\n"
     ]
    },
    {
     "name": "stderr",
     "output_type": "stream",
     "text": [
      "\u001b[32m[I 2022-03-07 15:02:31,326]\u001b[0m Trial 14 finished with value: -0.2900920755505072 and parameters: {'model_dt__max_depth': 3, 'model_dt__min_samples_leaf': 29, 'model_dt__min_samples_split': 28}. Best is trial 10 with value: -0.2800309167482243.\u001b[0m\n"
     ]
    },
    {
     "name": "stdout",
     "output_type": "stream",
     "text": [
      "LOG LOSS:-0.2900920755505072\n"
     ]
    },
    {
     "name": "stderr",
     "output_type": "stream",
     "text": [
      "\u001b[32m[I 2022-03-07 15:02:32,264]\u001b[0m Trial 15 finished with value: -0.3119374882559689 and parameters: {'model_dt__max_depth': 4, 'model_dt__min_samples_leaf': 29, 'model_dt__min_samples_split': 2}. Best is trial 10 with value: -0.2800309167482243.\u001b[0m\n"
     ]
    },
    {
     "name": "stdout",
     "output_type": "stream",
     "text": [
      "LOG LOSS:-0.3119374882559689\n"
     ]
    },
    {
     "name": "stderr",
     "output_type": "stream",
     "text": [
      "\u001b[32m[I 2022-03-07 15:02:33,294]\u001b[0m Trial 16 finished with value: -0.3106844398223755 and parameters: {'model_dt__max_depth': 3, 'model_dt__min_samples_leaf': 19, 'model_dt__min_samples_split': 28}. Best is trial 10 with value: -0.2800309167482243.\u001b[0m\n"
     ]
    },
    {
     "name": "stdout",
     "output_type": "stream",
     "text": [
      "LOG LOSS:-0.3106844398223755\n"
     ]
    },
    {
     "name": "stderr",
     "output_type": "stream",
     "text": [
      "\u001b[32m[I 2022-03-07 15:02:34,311]\u001b[0m Trial 17 finished with value: -0.28652744373472877 and parameters: {'model_dt__max_depth': 2, 'model_dt__min_samples_leaf': 29, 'model_dt__min_samples_split': 29}. Best is trial 10 with value: -0.2800309167482243.\u001b[0m\n"
     ]
    },
    {
     "name": "stdout",
     "output_type": "stream",
     "text": [
      "LOG LOSS:-0.28652744373472877\n"
     ]
    },
    {
     "name": "stderr",
     "output_type": "stream",
     "text": [
      "\u001b[32m[I 2022-03-07 15:02:35,310]\u001b[0m Trial 18 finished with value: -0.2900447026666912 and parameters: {'model_dt__max_depth': 5, 'model_dt__min_samples_leaf': 33, 'model_dt__min_samples_split': 33}. Best is trial 10 with value: -0.2800309167482243.\u001b[0m\n"
     ]
    },
    {
     "name": "stdout",
     "output_type": "stream",
     "text": [
      "LOG LOSS:-0.2900447026666912\n"
     ]
    },
    {
     "name": "stderr",
     "output_type": "stream",
     "text": [
      "\u001b[32m[I 2022-03-07 15:02:36,319]\u001b[0m Trial 19 finished with value: -0.3123548303506977 and parameters: {'model_dt__max_depth': 3, 'model_dt__min_samples_leaf': 22, 'model_dt__min_samples_split': 25}. Best is trial 10 with value: -0.2800309167482243.\u001b[0m\n"
     ]
    },
    {
     "name": "stdout",
     "output_type": "stream",
     "text": [
      "LOG LOSS:-0.3123548303506977\n"
     ]
    },
    {
     "name": "stderr",
     "output_type": "stream",
     "text": [
      "\u001b[32m[I 2022-03-07 15:02:37,354]\u001b[0m Trial 20 finished with value: -0.3114940681345443 and parameters: {'model_dt__max_depth': 4, 'model_dt__min_samples_leaf': 28, 'model_dt__min_samples_split': 30}. Best is trial 10 with value: -0.2800309167482243.\u001b[0m\n"
     ]
    },
    {
     "name": "stdout",
     "output_type": "stream",
     "text": [
      "LOG LOSS:-0.3114940681345443\n"
     ]
    },
    {
     "name": "stderr",
     "output_type": "stream",
     "text": [
      "\u001b[32m[I 2022-03-07 15:02:38,219]\u001b[0m Trial 21 finished with value: -0.2800309167482243 and parameters: {'model_dt__max_depth': 2, 'model_dt__min_samples_leaf': 33, 'model_dt__min_samples_split': 32}. Best is trial 10 with value: -0.2800309167482243.\u001b[0m\n"
     ]
    },
    {
     "name": "stdout",
     "output_type": "stream",
     "text": [
      "LOG LOSS:-0.2800309167482243\n"
     ]
    },
    {
     "name": "stderr",
     "output_type": "stream",
     "text": [
      "\u001b[32m[I 2022-03-07 15:02:39,106]\u001b[0m Trial 22 finished with value: -0.28652744373472877 and parameters: {'model_dt__max_depth': 2, 'model_dt__min_samples_leaf': 31, 'model_dt__min_samples_split': 26}. Best is trial 10 with value: -0.2800309167482243.\u001b[0m\n"
     ]
    },
    {
     "name": "stdout",
     "output_type": "stream",
     "text": [
      "LOG LOSS:-0.28652744373472877\n"
     ]
    },
    {
     "name": "stderr",
     "output_type": "stream",
     "text": [
      "\u001b[32m[I 2022-03-07 15:02:39,950]\u001b[0m Trial 23 finished with value: -0.29015323940267246 and parameters: {'model_dt__max_depth': 3, 'model_dt__min_samples_leaf': 26, 'model_dt__min_samples_split': 31}. Best is trial 10 with value: -0.2800309167482243.\u001b[0m\n"
     ]
    },
    {
     "name": "stdout",
     "output_type": "stream",
     "text": [
      "LOG LOSS:-0.29015323940267246\n"
     ]
    },
    {
     "name": "stderr",
     "output_type": "stream",
     "text": [
      "\u001b[32m[I 2022-03-07 15:02:40,794]\u001b[0m Trial 24 finished with value: -0.31257842205430775 and parameters: {'model_dt__max_depth': 5, 'model_dt__min_samples_leaf': 31, 'model_dt__min_samples_split': 31}. Best is trial 10 with value: -0.2800309167482243.\u001b[0m\n"
     ]
    },
    {
     "name": "stdout",
     "output_type": "stream",
     "text": [
      "LOG LOSS:-0.31257842205430775\n",
      "FrozenTrial(number=10, values=[-0.2800309167482243], datetime_start=datetime.datetime(2022, 3, 7, 15, 2, 27, 96654), datetime_complete=datetime.datetime(2022, 3, 7, 15, 2, 27, 943072), params={'model_dt__max_depth': 2, 'model_dt__min_samples_leaf': 33, 'model_dt__min_samples_split': 33}, distributions={'model_dt__max_depth': IntUniformDistribution(high=11, low=2, step=1), 'model_dt__min_samples_leaf': IntUniformDistribution(high=33, low=2, step=1), 'model_dt__min_samples_split': IntUniformDistribution(high=33, low=2, step=1)}, user_attrs={}, system_attrs={}, intermediate_values={}, trial_id=10, state=TrialState.COMPLETE, value=None)\n"
     ]
    }
   ],
   "source": [
    "sampler = TPESampler(seed=123)  \n",
    "study = optuna.create_study(sampler=sampler,direction='maximize')\n",
    "study.optimize(optimize_decision_tree, n_trials=25)\n",
    "print(study.best_trial)"
   ]
  },
  {
   "cell_type": "code",
   "execution_count": 51,
   "id": "8806506e",
   "metadata": {},
   "outputs": [
    {
     "name": "stdout",
     "output_type": "stream",
     "text": [
      "O modelo obteve um score de validação cruzada para o log loss de: -0.2800309167482243\n"
     ]
    }
   ],
   "source": [
    "print(f'O modelo obteve um score de validação cruzada para o log loss de: {study.best_value}')"
   ]
  },
  {
   "cell_type": "code",
   "execution_count": 52,
   "id": "a6b47c3a",
   "metadata": {},
   "outputs": [
    {
     "data": {
      "text/plain": [
       "{'model_dt__max_depth': 2,\n",
       " 'model_dt__min_samples_leaf': 33,\n",
       " 'model_dt__min_samples_split': 33}"
      ]
     },
     "execution_count": 52,
     "metadata": {},
     "output_type": "execute_result"
    }
   ],
   "source": [
    "study.best_params"
   ]
  },
  {
   "cell_type": "code",
   "execution_count": 53,
   "id": "3ddccf99",
   "metadata": {},
   "outputs": [
    {
     "data": {
      "text/html": [
       "<style>#sk-b3f7b634-4002-476c-8374-3b390557fe0a {color: black;background-color: white;}#sk-b3f7b634-4002-476c-8374-3b390557fe0a pre{padding: 0;}#sk-b3f7b634-4002-476c-8374-3b390557fe0a div.sk-toggleable {background-color: white;}#sk-b3f7b634-4002-476c-8374-3b390557fe0a label.sk-toggleable__label {cursor: pointer;display: block;width: 100%;margin-bottom: 0;padding: 0.3em;box-sizing: border-box;text-align: center;}#sk-b3f7b634-4002-476c-8374-3b390557fe0a label.sk-toggleable__label-arrow:before {content: \"▸\";float: left;margin-right: 0.25em;color: #696969;}#sk-b3f7b634-4002-476c-8374-3b390557fe0a label.sk-toggleable__label-arrow:hover:before {color: black;}#sk-b3f7b634-4002-476c-8374-3b390557fe0a div.sk-estimator:hover label.sk-toggleable__label-arrow:before {color: black;}#sk-b3f7b634-4002-476c-8374-3b390557fe0a div.sk-toggleable__content {max-height: 0;max-width: 0;overflow: hidden;text-align: left;background-color: #f0f8ff;}#sk-b3f7b634-4002-476c-8374-3b390557fe0a div.sk-toggleable__content pre {margin: 0.2em;color: black;border-radius: 0.25em;background-color: #f0f8ff;}#sk-b3f7b634-4002-476c-8374-3b390557fe0a input.sk-toggleable__control:checked~div.sk-toggleable__content {max-height: 200px;max-width: 100%;overflow: auto;}#sk-b3f7b634-4002-476c-8374-3b390557fe0a input.sk-toggleable__control:checked~label.sk-toggleable__label-arrow:before {content: \"▾\";}#sk-b3f7b634-4002-476c-8374-3b390557fe0a div.sk-estimator input.sk-toggleable__control:checked~label.sk-toggleable__label {background-color: #d4ebff;}#sk-b3f7b634-4002-476c-8374-3b390557fe0a div.sk-label input.sk-toggleable__control:checked~label.sk-toggleable__label {background-color: #d4ebff;}#sk-b3f7b634-4002-476c-8374-3b390557fe0a input.sk-hidden--visually {border: 0;clip: rect(1px 1px 1px 1px);clip: rect(1px, 1px, 1px, 1px);height: 1px;margin: -1px;overflow: hidden;padding: 0;position: absolute;width: 1px;}#sk-b3f7b634-4002-476c-8374-3b390557fe0a div.sk-estimator {font-family: monospace;background-color: #f0f8ff;border: 1px dotted black;border-radius: 0.25em;box-sizing: border-box;margin-bottom: 0.5em;}#sk-b3f7b634-4002-476c-8374-3b390557fe0a div.sk-estimator:hover {background-color: #d4ebff;}#sk-b3f7b634-4002-476c-8374-3b390557fe0a div.sk-parallel-item::after {content: \"\";width: 100%;border-bottom: 1px solid gray;flex-grow: 1;}#sk-b3f7b634-4002-476c-8374-3b390557fe0a div.sk-label:hover label.sk-toggleable__label {background-color: #d4ebff;}#sk-b3f7b634-4002-476c-8374-3b390557fe0a div.sk-serial::before {content: \"\";position: absolute;border-left: 1px solid gray;box-sizing: border-box;top: 2em;bottom: 0;left: 50%;}#sk-b3f7b634-4002-476c-8374-3b390557fe0a div.sk-serial {display: flex;flex-direction: column;align-items: center;background-color: white;padding-right: 0.2em;padding-left: 0.2em;}#sk-b3f7b634-4002-476c-8374-3b390557fe0a div.sk-item {z-index: 1;}#sk-b3f7b634-4002-476c-8374-3b390557fe0a div.sk-parallel {display: flex;align-items: stretch;justify-content: center;background-color: white;}#sk-b3f7b634-4002-476c-8374-3b390557fe0a div.sk-parallel::before {content: \"\";position: absolute;border-left: 1px solid gray;box-sizing: border-box;top: 2em;bottom: 0;left: 50%;}#sk-b3f7b634-4002-476c-8374-3b390557fe0a div.sk-parallel-item {display: flex;flex-direction: column;position: relative;background-color: white;}#sk-b3f7b634-4002-476c-8374-3b390557fe0a div.sk-parallel-item:first-child::after {align-self: flex-end;width: 50%;}#sk-b3f7b634-4002-476c-8374-3b390557fe0a div.sk-parallel-item:last-child::after {align-self: flex-start;width: 50%;}#sk-b3f7b634-4002-476c-8374-3b390557fe0a div.sk-parallel-item:only-child::after {width: 0;}#sk-b3f7b634-4002-476c-8374-3b390557fe0a div.sk-dashed-wrapped {border: 1px dashed gray;margin: 0 0.4em 0.5em 0.4em;box-sizing: border-box;padding-bottom: 0.4em;background-color: white;position: relative;}#sk-b3f7b634-4002-476c-8374-3b390557fe0a div.sk-label label {font-family: monospace;font-weight: bold;background-color: white;display: inline-block;line-height: 1.2em;}#sk-b3f7b634-4002-476c-8374-3b390557fe0a div.sk-label-container {position: relative;z-index: 2;text-align: center;}#sk-b3f7b634-4002-476c-8374-3b390557fe0a div.sk-container {/* jupyter's `normalize.less` sets `[hidden] { display: none; }` but bootstrap.min.css set `[hidden] { display: none !important; }` so we also need the `!important` here to be able to override the default hidden behavior on the sphinx rendered scikit-learn.org. See: https://github.com/scikit-learn/scikit-learn/issues/21755 */display: inline-block !important;position: relative;}#sk-b3f7b634-4002-476c-8374-3b390557fe0a div.sk-text-repr-fallback {display: none;}</style><div id=\"sk-b3f7b634-4002-476c-8374-3b390557fe0a\" class=\"sk-top-container\"><div class=\"sk-text-repr-fallback\"><pre>Pipeline(steps=[(&#x27;preprocessor&#x27;,\n",
       "                 ColumnTransformer(transformers=[(&#x27;pipeline_categorico&#x27;,\n",
       "                                                  Pipeline(steps=[(&#x27;impute&#x27;,\n",
       "                                                                   SimpleImputer(strategy=&#x27;most_frequent&#x27;)),\n",
       "                                                                  (&#x27;one_hot_encoder&#x27;,\n",
       "                                                                   OneHotEncoder(drop=&#x27;first&#x27;,\n",
       "                                                                                 handle_unknown=&#x27;ignore&#x27;))]),\n",
       "                                                  [&#x27;polyuria&#x27;,\n",
       "                                                   &#x27;paresia_parcial&#x27;,\n",
       "                                                   &#x27;polydipsia&#x27;,\n",
       "                                                   &#x27;perda_de_peso_repentina&#x27;,\n",
       "                                                   &#x27;genero&#x27;, &#x27;polyphagia&#x27;]),\n",
       "                                                 (&#x27;pipeline_numerico&#x27;,\n",
       "                                                  Pipeline(steps=[(&#x27;impute&#x27;,\n",
       "                                                                   SimpleImputer(strategy=&#x27;median&#x27;))]),\n",
       "                                                  [&#x27;idade&#x27;])])),\n",
       "                (&#x27;model_dt&#x27;,\n",
       "                 DecisionTreeClassifier(class_weight=&#x27;balanced&#x27;, max_depth=2,\n",
       "                                        min_samples_leaf=33,\n",
       "                                        min_samples_split=33,\n",
       "                                        random_state=123))])</pre><b>Please rerun this cell to show the HTML repr or trust the notebook.</b></div><div class=\"sk-container\" hidden><div class=\"sk-item sk-dashed-wrapped\"><div class=\"sk-label-container\"><div class=\"sk-label sk-toggleable\"><input class=\"sk-toggleable__control sk-hidden--visually\" id=\"b06238bc-cc7c-469e-971d-9d882473b348\" type=\"checkbox\" ><label for=\"b06238bc-cc7c-469e-971d-9d882473b348\" class=\"sk-toggleable__label sk-toggleable__label-arrow\">Pipeline</label><div class=\"sk-toggleable__content\"><pre>Pipeline(steps=[(&#x27;preprocessor&#x27;,\n",
       "                 ColumnTransformer(transformers=[(&#x27;pipeline_categorico&#x27;,\n",
       "                                                  Pipeline(steps=[(&#x27;impute&#x27;,\n",
       "                                                                   SimpleImputer(strategy=&#x27;most_frequent&#x27;)),\n",
       "                                                                  (&#x27;one_hot_encoder&#x27;,\n",
       "                                                                   OneHotEncoder(drop=&#x27;first&#x27;,\n",
       "                                                                                 handle_unknown=&#x27;ignore&#x27;))]),\n",
       "                                                  [&#x27;polyuria&#x27;,\n",
       "                                                   &#x27;paresia_parcial&#x27;,\n",
       "                                                   &#x27;polydipsia&#x27;,\n",
       "                                                   &#x27;perda_de_peso_repentina&#x27;,\n",
       "                                                   &#x27;genero&#x27;, &#x27;polyphagia&#x27;]),\n",
       "                                                 (&#x27;pipeline_numerico&#x27;,\n",
       "                                                  Pipeline(steps=[(&#x27;impute&#x27;,\n",
       "                                                                   SimpleImputer(strategy=&#x27;median&#x27;))]),\n",
       "                                                  [&#x27;idade&#x27;])])),\n",
       "                (&#x27;model_dt&#x27;,\n",
       "                 DecisionTreeClassifier(class_weight=&#x27;balanced&#x27;, max_depth=2,\n",
       "                                        min_samples_leaf=33,\n",
       "                                        min_samples_split=33,\n",
       "                                        random_state=123))])</pre></div></div></div><div class=\"sk-serial\"><div class=\"sk-item sk-dashed-wrapped\"><div class=\"sk-label-container\"><div class=\"sk-label sk-toggleable\"><input class=\"sk-toggleable__control sk-hidden--visually\" id=\"e69e23ac-3ad2-43c4-8485-082307a0856a\" type=\"checkbox\" ><label for=\"e69e23ac-3ad2-43c4-8485-082307a0856a\" class=\"sk-toggleable__label sk-toggleable__label-arrow\">preprocessor: ColumnTransformer</label><div class=\"sk-toggleable__content\"><pre>ColumnTransformer(transformers=[(&#x27;pipeline_categorico&#x27;,\n",
       "                                 Pipeline(steps=[(&#x27;impute&#x27;,\n",
       "                                                  SimpleImputer(strategy=&#x27;most_frequent&#x27;)),\n",
       "                                                 (&#x27;one_hot_encoder&#x27;,\n",
       "                                                  OneHotEncoder(drop=&#x27;first&#x27;,\n",
       "                                                                handle_unknown=&#x27;ignore&#x27;))]),\n",
       "                                 [&#x27;polyuria&#x27;, &#x27;paresia_parcial&#x27;, &#x27;polydipsia&#x27;,\n",
       "                                  &#x27;perda_de_peso_repentina&#x27;, &#x27;genero&#x27;,\n",
       "                                  &#x27;polyphagia&#x27;]),\n",
       "                                (&#x27;pipeline_numerico&#x27;,\n",
       "                                 Pipeline(steps=[(&#x27;impute&#x27;,\n",
       "                                                  SimpleImputer(strategy=&#x27;median&#x27;))]),\n",
       "                                 [&#x27;idade&#x27;])])</pre></div></div></div><div class=\"sk-parallel\"><div class=\"sk-parallel-item\"><div class=\"sk-item\"><div class=\"sk-label-container\"><div class=\"sk-label sk-toggleable\"><input class=\"sk-toggleable__control sk-hidden--visually\" id=\"fb9ba43c-c5bb-4a78-b184-90eae3d05165\" type=\"checkbox\" ><label for=\"fb9ba43c-c5bb-4a78-b184-90eae3d05165\" class=\"sk-toggleable__label sk-toggleable__label-arrow\">pipeline_categorico</label><div class=\"sk-toggleable__content\"><pre>[&#x27;polyuria&#x27;, &#x27;paresia_parcial&#x27;, &#x27;polydipsia&#x27;, &#x27;perda_de_peso_repentina&#x27;, &#x27;genero&#x27;, &#x27;polyphagia&#x27;]</pre></div></div></div><div class=\"sk-serial\"><div class=\"sk-item\"><div class=\"sk-serial\"><div class=\"sk-item\"><div class=\"sk-estimator sk-toggleable\"><input class=\"sk-toggleable__control sk-hidden--visually\" id=\"29696f80-a794-4e99-83b1-4e164b1c0ade\" type=\"checkbox\" ><label for=\"29696f80-a794-4e99-83b1-4e164b1c0ade\" class=\"sk-toggleable__label sk-toggleable__label-arrow\">SimpleImputer</label><div class=\"sk-toggleable__content\"><pre>SimpleImputer(strategy=&#x27;most_frequent&#x27;)</pre></div></div></div><div class=\"sk-item\"><div class=\"sk-estimator sk-toggleable\"><input class=\"sk-toggleable__control sk-hidden--visually\" id=\"56dd5407-056b-4f80-9e44-ce1f16ce590f\" type=\"checkbox\" ><label for=\"56dd5407-056b-4f80-9e44-ce1f16ce590f\" class=\"sk-toggleable__label sk-toggleable__label-arrow\">OneHotEncoder</label><div class=\"sk-toggleable__content\"><pre>OneHotEncoder(drop=&#x27;first&#x27;, handle_unknown=&#x27;ignore&#x27;)</pre></div></div></div></div></div></div></div></div><div class=\"sk-parallel-item\"><div class=\"sk-item\"><div class=\"sk-label-container\"><div class=\"sk-label sk-toggleable\"><input class=\"sk-toggleable__control sk-hidden--visually\" id=\"56d1606d-0ccf-4777-ace6-d85346bba5fd\" type=\"checkbox\" ><label for=\"56d1606d-0ccf-4777-ace6-d85346bba5fd\" class=\"sk-toggleable__label sk-toggleable__label-arrow\">pipeline_numerico</label><div class=\"sk-toggleable__content\"><pre>[&#x27;idade&#x27;]</pre></div></div></div><div class=\"sk-serial\"><div class=\"sk-item\"><div class=\"sk-serial\"><div class=\"sk-item\"><div class=\"sk-estimator sk-toggleable\"><input class=\"sk-toggleable__control sk-hidden--visually\" id=\"f36ff707-9975-437b-919d-4275f13ce343\" type=\"checkbox\" ><label for=\"f36ff707-9975-437b-919d-4275f13ce343\" class=\"sk-toggleable__label sk-toggleable__label-arrow\">SimpleImputer</label><div class=\"sk-toggleable__content\"><pre>SimpleImputer(strategy=&#x27;median&#x27;)</pre></div></div></div></div></div></div></div></div></div></div><div class=\"sk-item\"><div class=\"sk-estimator sk-toggleable\"><input class=\"sk-toggleable__control sk-hidden--visually\" id=\"0c34271a-ee43-43bf-9e68-095b64d75198\" type=\"checkbox\" ><label for=\"0c34271a-ee43-43bf-9e68-095b64d75198\" class=\"sk-toggleable__label sk-toggleable__label-arrow\">DecisionTreeClassifier</label><div class=\"sk-toggleable__content\"><pre>DecisionTreeClassifier(class_weight=&#x27;balanced&#x27;, max_depth=2,\n",
       "                       min_samples_leaf=33, min_samples_split=33,\n",
       "                       random_state=123)</pre></div></div></div></div></div></div></div>"
      ],
      "text/plain": [
       "Pipeline(steps=[('preprocessor',\n",
       "                 ColumnTransformer(transformers=[('pipeline_categorico',\n",
       "                                                  Pipeline(steps=[('impute',\n",
       "                                                                   SimpleImputer(strategy='most_frequent')),\n",
       "                                                                  ('one_hot_encoder',\n",
       "                                                                   OneHotEncoder(drop='first',\n",
       "                                                                                 handle_unknown='ignore'))]),\n",
       "                                                  ['polyuria',\n",
       "                                                   'paresia_parcial',\n",
       "                                                   'polydipsia',\n",
       "                                                   'perda_de_peso_repentina',\n",
       "                                                   'genero', 'polyphagia']),\n",
       "                                                 ('pipeline_numerico',\n",
       "                                                  Pipeline(steps=[('impute',\n",
       "                                                                   SimpleImputer(strategy='median'))]),\n",
       "                                                  ['idade'])])),\n",
       "                ('model_dt',\n",
       "                 DecisionTreeClassifier(class_weight='balanced', max_depth=2,\n",
       "                                        min_samples_leaf=33,\n",
       "                                        min_samples_split=33,\n",
       "                                        random_state=123))])"
      ]
     },
     "execution_count": 53,
     "metadata": {},
     "output_type": "execute_result"
    }
   ],
   "source": [
    "#Definindo os melhores hiperparâmetros, baseados na busca feita com a otimização bayesiana\n",
    "modelo_pipe.set_params(**study.best_params)"
   ]
  },
  {
   "cell_type": "code",
   "execution_count": 54,
   "id": "bb7ea784",
   "metadata": {},
   "outputs": [
    {
     "data": {
      "text/html": [
       "<style>#sk-d0cd7e65-b166-4213-8dfd-1328d847cfef {color: black;background-color: white;}#sk-d0cd7e65-b166-4213-8dfd-1328d847cfef pre{padding: 0;}#sk-d0cd7e65-b166-4213-8dfd-1328d847cfef div.sk-toggleable {background-color: white;}#sk-d0cd7e65-b166-4213-8dfd-1328d847cfef label.sk-toggleable__label {cursor: pointer;display: block;width: 100%;margin-bottom: 0;padding: 0.3em;box-sizing: border-box;text-align: center;}#sk-d0cd7e65-b166-4213-8dfd-1328d847cfef label.sk-toggleable__label-arrow:before {content: \"▸\";float: left;margin-right: 0.25em;color: #696969;}#sk-d0cd7e65-b166-4213-8dfd-1328d847cfef label.sk-toggleable__label-arrow:hover:before {color: black;}#sk-d0cd7e65-b166-4213-8dfd-1328d847cfef div.sk-estimator:hover label.sk-toggleable__label-arrow:before {color: black;}#sk-d0cd7e65-b166-4213-8dfd-1328d847cfef div.sk-toggleable__content {max-height: 0;max-width: 0;overflow: hidden;text-align: left;background-color: #f0f8ff;}#sk-d0cd7e65-b166-4213-8dfd-1328d847cfef div.sk-toggleable__content pre {margin: 0.2em;color: black;border-radius: 0.25em;background-color: #f0f8ff;}#sk-d0cd7e65-b166-4213-8dfd-1328d847cfef input.sk-toggleable__control:checked~div.sk-toggleable__content {max-height: 200px;max-width: 100%;overflow: auto;}#sk-d0cd7e65-b166-4213-8dfd-1328d847cfef input.sk-toggleable__control:checked~label.sk-toggleable__label-arrow:before {content: \"▾\";}#sk-d0cd7e65-b166-4213-8dfd-1328d847cfef div.sk-estimator input.sk-toggleable__control:checked~label.sk-toggleable__label {background-color: #d4ebff;}#sk-d0cd7e65-b166-4213-8dfd-1328d847cfef div.sk-label input.sk-toggleable__control:checked~label.sk-toggleable__label {background-color: #d4ebff;}#sk-d0cd7e65-b166-4213-8dfd-1328d847cfef input.sk-hidden--visually {border: 0;clip: rect(1px 1px 1px 1px);clip: rect(1px, 1px, 1px, 1px);height: 1px;margin: -1px;overflow: hidden;padding: 0;position: absolute;width: 1px;}#sk-d0cd7e65-b166-4213-8dfd-1328d847cfef div.sk-estimator {font-family: monospace;background-color: #f0f8ff;border: 1px dotted black;border-radius: 0.25em;box-sizing: border-box;margin-bottom: 0.5em;}#sk-d0cd7e65-b166-4213-8dfd-1328d847cfef div.sk-estimator:hover {background-color: #d4ebff;}#sk-d0cd7e65-b166-4213-8dfd-1328d847cfef div.sk-parallel-item::after {content: \"\";width: 100%;border-bottom: 1px solid gray;flex-grow: 1;}#sk-d0cd7e65-b166-4213-8dfd-1328d847cfef div.sk-label:hover label.sk-toggleable__label {background-color: #d4ebff;}#sk-d0cd7e65-b166-4213-8dfd-1328d847cfef div.sk-serial::before {content: \"\";position: absolute;border-left: 1px solid gray;box-sizing: border-box;top: 2em;bottom: 0;left: 50%;}#sk-d0cd7e65-b166-4213-8dfd-1328d847cfef div.sk-serial {display: flex;flex-direction: column;align-items: center;background-color: white;padding-right: 0.2em;padding-left: 0.2em;}#sk-d0cd7e65-b166-4213-8dfd-1328d847cfef div.sk-item {z-index: 1;}#sk-d0cd7e65-b166-4213-8dfd-1328d847cfef div.sk-parallel {display: flex;align-items: stretch;justify-content: center;background-color: white;}#sk-d0cd7e65-b166-4213-8dfd-1328d847cfef div.sk-parallel::before {content: \"\";position: absolute;border-left: 1px solid gray;box-sizing: border-box;top: 2em;bottom: 0;left: 50%;}#sk-d0cd7e65-b166-4213-8dfd-1328d847cfef div.sk-parallel-item {display: flex;flex-direction: column;position: relative;background-color: white;}#sk-d0cd7e65-b166-4213-8dfd-1328d847cfef div.sk-parallel-item:first-child::after {align-self: flex-end;width: 50%;}#sk-d0cd7e65-b166-4213-8dfd-1328d847cfef div.sk-parallel-item:last-child::after {align-self: flex-start;width: 50%;}#sk-d0cd7e65-b166-4213-8dfd-1328d847cfef div.sk-parallel-item:only-child::after {width: 0;}#sk-d0cd7e65-b166-4213-8dfd-1328d847cfef div.sk-dashed-wrapped {border: 1px dashed gray;margin: 0 0.4em 0.5em 0.4em;box-sizing: border-box;padding-bottom: 0.4em;background-color: white;position: relative;}#sk-d0cd7e65-b166-4213-8dfd-1328d847cfef div.sk-label label {font-family: monospace;font-weight: bold;background-color: white;display: inline-block;line-height: 1.2em;}#sk-d0cd7e65-b166-4213-8dfd-1328d847cfef div.sk-label-container {position: relative;z-index: 2;text-align: center;}#sk-d0cd7e65-b166-4213-8dfd-1328d847cfef div.sk-container {/* jupyter's `normalize.less` sets `[hidden] { display: none; }` but bootstrap.min.css set `[hidden] { display: none !important; }` so we also need the `!important` here to be able to override the default hidden behavior on the sphinx rendered scikit-learn.org. See: https://github.com/scikit-learn/scikit-learn/issues/21755 */display: inline-block !important;position: relative;}#sk-d0cd7e65-b166-4213-8dfd-1328d847cfef div.sk-text-repr-fallback {display: none;}</style><div id=\"sk-d0cd7e65-b166-4213-8dfd-1328d847cfef\" class=\"sk-top-container\"><div class=\"sk-text-repr-fallback\"><pre>Pipeline(steps=[(&#x27;preprocessor&#x27;,\n",
       "                 ColumnTransformer(transformers=[(&#x27;pipeline_categorico&#x27;,\n",
       "                                                  Pipeline(steps=[(&#x27;impute&#x27;,\n",
       "                                                                   SimpleImputer(strategy=&#x27;most_frequent&#x27;)),\n",
       "                                                                  (&#x27;one_hot_encoder&#x27;,\n",
       "                                                                   OneHotEncoder(drop=&#x27;first&#x27;,\n",
       "                                                                                 handle_unknown=&#x27;ignore&#x27;))]),\n",
       "                                                  [&#x27;polyuria&#x27;,\n",
       "                                                   &#x27;paresia_parcial&#x27;,\n",
       "                                                   &#x27;polydipsia&#x27;,\n",
       "                                                   &#x27;perda_de_peso_repentina&#x27;,\n",
       "                                                   &#x27;genero&#x27;, &#x27;polyphagia&#x27;]),\n",
       "                                                 (&#x27;pipeline_numerico&#x27;,\n",
       "                                                  Pipeline(steps=[(&#x27;impute&#x27;,\n",
       "                                                                   SimpleImputer(strategy=&#x27;median&#x27;))]),\n",
       "                                                  [&#x27;idade&#x27;])])),\n",
       "                (&#x27;model_dt&#x27;,\n",
       "                 DecisionTreeClassifier(class_weight=&#x27;balanced&#x27;, max_depth=2,\n",
       "                                        min_samples_leaf=33,\n",
       "                                        min_samples_split=33,\n",
       "                                        random_state=123))])</pre><b>Please rerun this cell to show the HTML repr or trust the notebook.</b></div><div class=\"sk-container\" hidden><div class=\"sk-item sk-dashed-wrapped\"><div class=\"sk-label-container\"><div class=\"sk-label sk-toggleable\"><input class=\"sk-toggleable__control sk-hidden--visually\" id=\"7236de47-b925-40c7-951c-f23a3dd6e7fc\" type=\"checkbox\" ><label for=\"7236de47-b925-40c7-951c-f23a3dd6e7fc\" class=\"sk-toggleable__label sk-toggleable__label-arrow\">Pipeline</label><div class=\"sk-toggleable__content\"><pre>Pipeline(steps=[(&#x27;preprocessor&#x27;,\n",
       "                 ColumnTransformer(transformers=[(&#x27;pipeline_categorico&#x27;,\n",
       "                                                  Pipeline(steps=[(&#x27;impute&#x27;,\n",
       "                                                                   SimpleImputer(strategy=&#x27;most_frequent&#x27;)),\n",
       "                                                                  (&#x27;one_hot_encoder&#x27;,\n",
       "                                                                   OneHotEncoder(drop=&#x27;first&#x27;,\n",
       "                                                                                 handle_unknown=&#x27;ignore&#x27;))]),\n",
       "                                                  [&#x27;polyuria&#x27;,\n",
       "                                                   &#x27;paresia_parcial&#x27;,\n",
       "                                                   &#x27;polydipsia&#x27;,\n",
       "                                                   &#x27;perda_de_peso_repentina&#x27;,\n",
       "                                                   &#x27;genero&#x27;, &#x27;polyphagia&#x27;]),\n",
       "                                                 (&#x27;pipeline_numerico&#x27;,\n",
       "                                                  Pipeline(steps=[(&#x27;impute&#x27;,\n",
       "                                                                   SimpleImputer(strategy=&#x27;median&#x27;))]),\n",
       "                                                  [&#x27;idade&#x27;])])),\n",
       "                (&#x27;model_dt&#x27;,\n",
       "                 DecisionTreeClassifier(class_weight=&#x27;balanced&#x27;, max_depth=2,\n",
       "                                        min_samples_leaf=33,\n",
       "                                        min_samples_split=33,\n",
       "                                        random_state=123))])</pre></div></div></div><div class=\"sk-serial\"><div class=\"sk-item sk-dashed-wrapped\"><div class=\"sk-label-container\"><div class=\"sk-label sk-toggleable\"><input class=\"sk-toggleable__control sk-hidden--visually\" id=\"f5df6e07-ef87-4496-a49c-5534a9a3f282\" type=\"checkbox\" ><label for=\"f5df6e07-ef87-4496-a49c-5534a9a3f282\" class=\"sk-toggleable__label sk-toggleable__label-arrow\">preprocessor: ColumnTransformer</label><div class=\"sk-toggleable__content\"><pre>ColumnTransformer(transformers=[(&#x27;pipeline_categorico&#x27;,\n",
       "                                 Pipeline(steps=[(&#x27;impute&#x27;,\n",
       "                                                  SimpleImputer(strategy=&#x27;most_frequent&#x27;)),\n",
       "                                                 (&#x27;one_hot_encoder&#x27;,\n",
       "                                                  OneHotEncoder(drop=&#x27;first&#x27;,\n",
       "                                                                handle_unknown=&#x27;ignore&#x27;))]),\n",
       "                                 [&#x27;polyuria&#x27;, &#x27;paresia_parcial&#x27;, &#x27;polydipsia&#x27;,\n",
       "                                  &#x27;perda_de_peso_repentina&#x27;, &#x27;genero&#x27;,\n",
       "                                  &#x27;polyphagia&#x27;]),\n",
       "                                (&#x27;pipeline_numerico&#x27;,\n",
       "                                 Pipeline(steps=[(&#x27;impute&#x27;,\n",
       "                                                  SimpleImputer(strategy=&#x27;median&#x27;))]),\n",
       "                                 [&#x27;idade&#x27;])])</pre></div></div></div><div class=\"sk-parallel\"><div class=\"sk-parallel-item\"><div class=\"sk-item\"><div class=\"sk-label-container\"><div class=\"sk-label sk-toggleable\"><input class=\"sk-toggleable__control sk-hidden--visually\" id=\"538e6683-f86b-478b-bc50-a6696f8b1a06\" type=\"checkbox\" ><label for=\"538e6683-f86b-478b-bc50-a6696f8b1a06\" class=\"sk-toggleable__label sk-toggleable__label-arrow\">pipeline_categorico</label><div class=\"sk-toggleable__content\"><pre>[&#x27;polyuria&#x27;, &#x27;paresia_parcial&#x27;, &#x27;polydipsia&#x27;, &#x27;perda_de_peso_repentina&#x27;, &#x27;genero&#x27;, &#x27;polyphagia&#x27;]</pre></div></div></div><div class=\"sk-serial\"><div class=\"sk-item\"><div class=\"sk-serial\"><div class=\"sk-item\"><div class=\"sk-estimator sk-toggleable\"><input class=\"sk-toggleable__control sk-hidden--visually\" id=\"1480fefb-8598-4a53-8f79-3492dfb69956\" type=\"checkbox\" ><label for=\"1480fefb-8598-4a53-8f79-3492dfb69956\" class=\"sk-toggleable__label sk-toggleable__label-arrow\">SimpleImputer</label><div class=\"sk-toggleable__content\"><pre>SimpleImputer(strategy=&#x27;most_frequent&#x27;)</pre></div></div></div><div class=\"sk-item\"><div class=\"sk-estimator sk-toggleable\"><input class=\"sk-toggleable__control sk-hidden--visually\" id=\"1263868f-6d52-4781-a8be-2f6f86be52ab\" type=\"checkbox\" ><label for=\"1263868f-6d52-4781-a8be-2f6f86be52ab\" class=\"sk-toggleable__label sk-toggleable__label-arrow\">OneHotEncoder</label><div class=\"sk-toggleable__content\"><pre>OneHotEncoder(drop=&#x27;first&#x27;, handle_unknown=&#x27;ignore&#x27;)</pre></div></div></div></div></div></div></div></div><div class=\"sk-parallel-item\"><div class=\"sk-item\"><div class=\"sk-label-container\"><div class=\"sk-label sk-toggleable\"><input class=\"sk-toggleable__control sk-hidden--visually\" id=\"0628f853-6d1d-4e14-865a-496b3f4e8554\" type=\"checkbox\" ><label for=\"0628f853-6d1d-4e14-865a-496b3f4e8554\" class=\"sk-toggleable__label sk-toggleable__label-arrow\">pipeline_numerico</label><div class=\"sk-toggleable__content\"><pre>[&#x27;idade&#x27;]</pre></div></div></div><div class=\"sk-serial\"><div class=\"sk-item\"><div class=\"sk-serial\"><div class=\"sk-item\"><div class=\"sk-estimator sk-toggleable\"><input class=\"sk-toggleable__control sk-hidden--visually\" id=\"6ea8f9ca-7d2c-4f3c-a7b0-f39dd7031a1e\" type=\"checkbox\" ><label for=\"6ea8f9ca-7d2c-4f3c-a7b0-f39dd7031a1e\" class=\"sk-toggleable__label sk-toggleable__label-arrow\">SimpleImputer</label><div class=\"sk-toggleable__content\"><pre>SimpleImputer(strategy=&#x27;median&#x27;)</pre></div></div></div></div></div></div></div></div></div></div><div class=\"sk-item\"><div class=\"sk-estimator sk-toggleable\"><input class=\"sk-toggleable__control sk-hidden--visually\" id=\"06c178b7-5bc9-438e-8f7d-1b9ba200b32a\" type=\"checkbox\" ><label for=\"06c178b7-5bc9-438e-8f7d-1b9ba200b32a\" class=\"sk-toggleable__label sk-toggleable__label-arrow\">DecisionTreeClassifier</label><div class=\"sk-toggleable__content\"><pre>DecisionTreeClassifier(class_weight=&#x27;balanced&#x27;, max_depth=2,\n",
       "                       min_samples_leaf=33, min_samples_split=33,\n",
       "                       random_state=123)</pre></div></div></div></div></div></div></div>"
      ],
      "text/plain": [
       "Pipeline(steps=[('preprocessor',\n",
       "                 ColumnTransformer(transformers=[('pipeline_categorico',\n",
       "                                                  Pipeline(steps=[('impute',\n",
       "                                                                   SimpleImputer(strategy='most_frequent')),\n",
       "                                                                  ('one_hot_encoder',\n",
       "                                                                   OneHotEncoder(drop='first',\n",
       "                                                                                 handle_unknown='ignore'))]),\n",
       "                                                  ['polyuria',\n",
       "                                                   'paresia_parcial',\n",
       "                                                   'polydipsia',\n",
       "                                                   'perda_de_peso_repentina',\n",
       "                                                   'genero', 'polyphagia']),\n",
       "                                                 ('pipeline_numerico',\n",
       "                                                  Pipeline(steps=[('impute',\n",
       "                                                                   SimpleImputer(strategy='median'))]),\n",
       "                                                  ['idade'])])),\n",
       "                ('model_dt',\n",
       "                 DecisionTreeClassifier(class_weight='balanced', max_depth=2,\n",
       "                                        min_samples_leaf=33,\n",
       "                                        min_samples_split=33,\n",
       "                                        random_state=123))])"
      ]
     },
     "execution_count": 54,
     "metadata": {},
     "output_type": "execute_result"
    }
   ],
   "source": [
    "# plotando o pipeline\n",
    "set_config(display='diagram')\n",
    "# Treinando o modelo\n",
    "modelo_pipe.fit(X,y)"
   ]
  },
  {
   "cell_type": "markdown",
   "id": "6b472f9e",
   "metadata": {},
   "source": [
    "## Métricas"
   ]
  },
  {
   "cell_type": "markdown",
   "id": "ca549847",
   "metadata": {},
   "source": [
    "Em se tratando de diagnóstico de diabetes, acredito que a métrica recall é a mais importante, uma vez que se o paciente não for diagnósticado ele pode continuar tendo os mesmos comportamentos alimentares e agravar seu quadro, evoluindo para diabetes, por exemplo."
   ]
  },
  {
   "cell_type": "markdown",
   "id": "720d3cb2",
   "metadata": {},
   "source": [
    "Isso posto, a cada threshold de classificação teremos um recall e , por isso, podemos plotar curvas com as métricas variando o threshold e observar seus valores."
   ]
  },
  {
   "cell_type": "code",
   "execution_count": 55,
   "id": "50d4e757",
   "metadata": {},
   "outputs": [],
   "source": [
    "df_metrics = calcular_metricas_threshold(y, modelo_pipe.predict_proba(X)[:,1])"
   ]
  },
  {
   "cell_type": "code",
   "execution_count": 56,
   "id": "a484f636",
   "metadata": {},
   "outputs": [
    {
     "data": {
      "image/png": "[encoded data removed]",
      "text/plain": [
       "<Figure size 1080x1080 with 1 Axes>"
      ]
     },
     "metadata": {
      "needs_background": "light"
     },
     "output_type": "display_data"
    }
   ],
   "source": [
    "df_metrics.plot(x='threshold', figsize=(15,15))\n",
    "plt.show()"
   ]
  },
  {
   "cell_type": "markdown",
   "id": "5d128603",
   "metadata": {},
   "source": [
    "É possível descobrir o threshold ideal, o que maximiza o recall e ao mesmo tempo não deteriora outras métricas como precision. O precision, nesse caso, se refere a taxa de pessoas diagnosticadas corretamente, ou podemos pensar nela como sendo uma taxa de alarme falso. Junto a equipe médica seria decidido qual métrica realmente é a mais importante e que nível de erro se deseja ter para as outras métricas."
   ]
  },
  {
   "cell_type": "markdown",
   "id": "90526242",
   "metadata": {},
   "source": [
    "Além disso, existe ainda a possibilidade de usarmos a probabilidade como resultado do modelo. Dessa forma, cada paciente receberia um score de 0 a 1, no qual o quanto mais próximo de 1, mais provável do paciente estar em estágio inicial de diabetes."
   ]
  },
  {
   "cell_type": "markdown",
   "id": "88b10adb",
   "metadata": {},
   "source": [
    "Como precisamos de uma métrica para verificar overfitting, escolheremos a curva ROC, pois esta não depende de threshold e sumariza bem o modelo, uma vez que traz a probabilidade de uma instância aleatória positiva receber uma probabiliade maior que uma instância aleatória positiva."
   ]
  },
  {
   "cell_type": "code",
   "execution_count": 57,
   "id": "f0da0d1a",
   "metadata": {},
   "outputs": [
    {
     "data": {
      "text/plain": [
       "0.9446269132653061"
      ]
     },
     "execution_count": 57,
     "metadata": {},
     "output_type": "execute_result"
    }
   ],
   "source": [
    "# Área da Curva ROC\n",
    "roc_auc_score_train = roc_auc_score(y, modelo_pipe.predict_proba(X)[:,1])\n",
    "roc_auc_score_train"
   ]
  },
  {
   "cell_type": "markdown",
   "id": "6874e034",
   "metadata": {},
   "source": [
    "A área da curva ROC está bastante elevada no dataset de treino. Vamos checar se isso se sustenta também no teste."
   ]
  },
  {
   "cell_type": "markdown",
   "id": "01c27be1",
   "metadata": {},
   "source": [
    "## Dados de teste"
   ]
  },
  {
   "cell_type": "markdown",
   "id": "5633489f",
   "metadata": {},
   "source": [
    "Agora que já treinamos o modelo e definimos os hiperparâmetros que maximizam nossa métrica, iremos comparar a perfomance do treino com a de teste."
   ]
  },
  {
   "cell_type": "markdown",
   "id": "91fd1679",
   "metadata": {},
   "source": [
    "Mas primeiro, iremos adicionar um passo ao nosso pipeline, o qual necessita de uma operação para normalizar os caracteres. Vamos construir um FunctionTransformer e integrá-lo ao pipeline."
   ]
  },
  {
   "cell_type": "code",
   "execution_count": 58,
   "id": "db09fd6c",
   "metadata": {},
   "outputs": [],
   "source": [
    "def normalizar_caracteres(df: pd.DataFrame) -> pd.DataFrame:\n",
    "    \"\"\"Torna os caracteres de uma string minúsculos.\n",
    "\n",
    "    Args:\n",
    "        lista_variaveis_categoricas (list): Lista com as variáveis categóricas (strings)\n",
    "                                             para serem transformadas.\n",
    "        df (DataFrame): Dataframe para ser analisado.\n",
    "\n",
    "    Returns:\n",
    "        df: Dataframe transformado.\n",
    "    \"\"\"\n",
    "    for col in df.columns:\n",
    "        df[col] = df[col].str.lower()\n",
    "    return df\n",
    "char_normalizer = FunctionTransformer(normalizar_caracteres)"
   ]
  },
  {
   "cell_type": "code",
   "execution_count": 59,
   "id": "83f91da4",
   "metadata": {},
   "outputs": [
    {
     "data": {
      "text/html": [
       "<style>#sk-166d9f0c-d0ec-4524-b2c1-d0b791421916 {color: black;background-color: white;}#sk-166d9f0c-d0ec-4524-b2c1-d0b791421916 pre{padding: 0;}#sk-166d9f0c-d0ec-4524-b2c1-d0b791421916 div.sk-toggleable {background-color: white;}#sk-166d9f0c-d0ec-4524-b2c1-d0b791421916 label.sk-toggleable__label {cursor: pointer;display: block;width: 100%;margin-bottom: 0;padding: 0.3em;box-sizing: border-box;text-align: center;}#sk-166d9f0c-d0ec-4524-b2c1-d0b791421916 label.sk-toggleable__label-arrow:before {content: \"▸\";float: left;margin-right: 0.25em;color: #696969;}#sk-166d9f0c-d0ec-4524-b2c1-d0b791421916 label.sk-toggleable__label-arrow:hover:before {color: black;}#sk-166d9f0c-d0ec-4524-b2c1-d0b791421916 div.sk-estimator:hover label.sk-toggleable__label-arrow:before {color: black;}#sk-166d9f0c-d0ec-4524-b2c1-d0b791421916 div.sk-toggleable__content {max-height: 0;max-width: 0;overflow: hidden;text-align: left;background-color: #f0f8ff;}#sk-166d9f0c-d0ec-4524-b2c1-d0b791421916 div.sk-toggleable__content pre {margin: 0.2em;color: black;border-radius: 0.25em;background-color: #f0f8ff;}#sk-166d9f0c-d0ec-4524-b2c1-d0b791421916 input.sk-toggleable__control:checked~div.sk-toggleable__content {max-height: 200px;max-width: 100%;overflow: auto;}#sk-166d9f0c-d0ec-4524-b2c1-d0b791421916 input.sk-toggleable__control:checked~label.sk-toggleable__label-arrow:before {content: \"▾\";}#sk-166d9f0c-d0ec-4524-b2c1-d0b791421916 div.sk-estimator input.sk-toggleable__control:checked~label.sk-toggleable__label {background-color: #d4ebff;}#sk-166d9f0c-d0ec-4524-b2c1-d0b791421916 div.sk-label input.sk-toggleable__control:checked~label.sk-toggleable__label {background-color: #d4ebff;}#sk-166d9f0c-d0ec-4524-b2c1-d0b791421916 input.sk-hidden--visually {border: 0;clip: rect(1px 1px 1px 1px);clip: rect(1px, 1px, 1px, 1px);height: 1px;margin: -1px;overflow: hidden;padding: 0;position: absolute;width: 1px;}#sk-166d9f0c-d0ec-4524-b2c1-d0b791421916 div.sk-estimator {font-family: monospace;background-color: #f0f8ff;border: 1px dotted black;border-radius: 0.25em;box-sizing: border-box;margin-bottom: 0.5em;}#sk-166d9f0c-d0ec-4524-b2c1-d0b791421916 div.sk-estimator:hover {background-color: #d4ebff;}#sk-166d9f0c-d0ec-4524-b2c1-d0b791421916 div.sk-parallel-item::after {content: \"\";width: 100%;border-bottom: 1px solid gray;flex-grow: 1;}#sk-166d9f0c-d0ec-4524-b2c1-d0b791421916 div.sk-label:hover label.sk-toggleable__label {background-color: #d4ebff;}#sk-166d9f0c-d0ec-4524-b2c1-d0b791421916 div.sk-serial::before {content: \"\";position: absolute;border-left: 1px solid gray;box-sizing: border-box;top: 2em;bottom: 0;left: 50%;}#sk-166d9f0c-d0ec-4524-b2c1-d0b791421916 div.sk-serial {display: flex;flex-direction: column;align-items: center;background-color: white;padding-right: 0.2em;padding-left: 0.2em;}#sk-166d9f0c-d0ec-4524-b2c1-d0b791421916 div.sk-item {z-index: 1;}#sk-166d9f0c-d0ec-4524-b2c1-d0b791421916 div.sk-parallel {display: flex;align-items: stretch;justify-content: center;background-color: white;}#sk-166d9f0c-d0ec-4524-b2c1-d0b791421916 div.sk-parallel::before {content: \"\";position: absolute;border-left: 1px solid gray;box-sizing: border-box;top: 2em;bottom: 0;left: 50%;}#sk-166d9f0c-d0ec-4524-b2c1-d0b791421916 div.sk-parallel-item {display: flex;flex-direction: column;position: relative;background-color: white;}#sk-166d9f0c-d0ec-4524-b2c1-d0b791421916 div.sk-parallel-item:first-child::after {align-self: flex-end;width: 50%;}#sk-166d9f0c-d0ec-4524-b2c1-d0b791421916 div.sk-parallel-item:last-child::after {align-self: flex-start;width: 50%;}#sk-166d9f0c-d0ec-4524-b2c1-d0b791421916 div.sk-parallel-item:only-child::after {width: 0;}#sk-166d9f0c-d0ec-4524-b2c1-d0b791421916 div.sk-dashed-wrapped {border: 1px dashed gray;margin: 0 0.4em 0.5em 0.4em;box-sizing: border-box;padding-bottom: 0.4em;background-color: white;position: relative;}#sk-166d9f0c-d0ec-4524-b2c1-d0b791421916 div.sk-label label {font-family: monospace;font-weight: bold;background-color: white;display: inline-block;line-height: 1.2em;}#sk-166d9f0c-d0ec-4524-b2c1-d0b791421916 div.sk-label-container {position: relative;z-index: 2;text-align: center;}#sk-166d9f0c-d0ec-4524-b2c1-d0b791421916 div.sk-container {/* jupyter's `normalize.less` sets `[hidden] { display: none; }` but bootstrap.min.css set `[hidden] { display: none !important; }` so we also need the `!important` here to be able to override the default hidden behavior on the sphinx rendered scikit-learn.org. See: https://github.com/scikit-learn/scikit-learn/issues/21755 */display: inline-block !important;position: relative;}#sk-166d9f0c-d0ec-4524-b2c1-d0b791421916 div.sk-text-repr-fallback {display: none;}</style><div id=\"sk-166d9f0c-d0ec-4524-b2c1-d0b791421916\" class=\"sk-top-container\"><div class=\"sk-text-repr-fallback\"><pre>Pipeline(steps=[(&#x27;preprocessor&#x27;,\n",
       "                 ColumnTransformer(transformers=[(&#x27;pipeline_categorico&#x27;,\n",
       "                                                  Pipeline(steps=[(&#x27;char_normalizer&#x27;,\n",
       "                                                                   FunctionTransformer(func=&lt;function normalizar_caracteres at 0x7f1c99609310&gt;)),\n",
       "                                                                  (&#x27;impute&#x27;,\n",
       "                                                                   SimpleImputer(strategy=&#x27;most_frequent&#x27;)),\n",
       "                                                                  (&#x27;one_hot_encoder&#x27;,\n",
       "                                                                   OneHotEncoder(drop=&#x27;first&#x27;,\n",
       "                                                                                 handle_unknown=&#x27;ignore&#x27;))]),\n",
       "                                                  [&#x27;polyuria&#x27;,\n",
       "                                                   &#x27;paresia_parcial&#x27;,\n",
       "                                                   &#x27;polydipsia&#x27;,\n",
       "                                                   &#x27;perda_de_peso_repentina&#x27;,\n",
       "                                                   &#x27;genero&#x27;, &#x27;polyphagia&#x27;]),\n",
       "                                                 (&#x27;pipeline_numerico&#x27;,\n",
       "                                                  Pipeline(steps=[(&#x27;impute&#x27;,\n",
       "                                                                   SimpleImputer(strategy=&#x27;median&#x27;))]),\n",
       "                                                  [&#x27;idade&#x27;])])),\n",
       "                (&#x27;model_dt&#x27;,\n",
       "                 DecisionTreeClassifier(class_weight=&#x27;balanced&#x27;, max_depth=2,\n",
       "                                        min_samples_leaf=33,\n",
       "                                        min_samples_split=33,\n",
       "                                        random_state=123))])</pre><b>Please rerun this cell to show the HTML repr or trust the notebook.</b></div><div class=\"sk-container\" hidden><div class=\"sk-item sk-dashed-wrapped\"><div class=\"sk-label-container\"><div class=\"sk-label sk-toggleable\"><input class=\"sk-toggleable__control sk-hidden--visually\" id=\"d7760d68-a4c2-4389-8ea2-b516ccd786d6\" type=\"checkbox\" ><label for=\"d7760d68-a4c2-4389-8ea2-b516ccd786d6\" class=\"sk-toggleable__label sk-toggleable__label-arrow\">Pipeline</label><div class=\"sk-toggleable__content\"><pre>Pipeline(steps=[(&#x27;preprocessor&#x27;,\n",
       "                 ColumnTransformer(transformers=[(&#x27;pipeline_categorico&#x27;,\n",
       "                                                  Pipeline(steps=[(&#x27;char_normalizer&#x27;,\n",
       "                                                                   FunctionTransformer(func=&lt;function normalizar_caracteres at 0x7f1c99609310&gt;)),\n",
       "                                                                  (&#x27;impute&#x27;,\n",
       "                                                                   SimpleImputer(strategy=&#x27;most_frequent&#x27;)),\n",
       "                                                                  (&#x27;one_hot_encoder&#x27;,\n",
       "                                                                   OneHotEncoder(drop=&#x27;first&#x27;,\n",
       "                                                                                 handle_unknown=&#x27;ignore&#x27;))]),\n",
       "                                                  [&#x27;polyuria&#x27;,\n",
       "                                                   &#x27;paresia_parcial&#x27;,\n",
       "                                                   &#x27;polydipsia&#x27;,\n",
       "                                                   &#x27;perda_de_peso_repentina&#x27;,\n",
       "                                                   &#x27;genero&#x27;, &#x27;polyphagia&#x27;]),\n",
       "                                                 (&#x27;pipeline_numerico&#x27;,\n",
       "                                                  Pipeline(steps=[(&#x27;impute&#x27;,\n",
       "                                                                   SimpleImputer(strategy=&#x27;median&#x27;))]),\n",
       "                                                  [&#x27;idade&#x27;])])),\n",
       "                (&#x27;model_dt&#x27;,\n",
       "                 DecisionTreeClassifier(class_weight=&#x27;balanced&#x27;, max_depth=2,\n",
       "                                        min_samples_leaf=33,\n",
       "                                        min_samples_split=33,\n",
       "                                        random_state=123))])</pre></div></div></div><div class=\"sk-serial\"><div class=\"sk-item sk-dashed-wrapped\"><div class=\"sk-label-container\"><div class=\"sk-label sk-toggleable\"><input class=\"sk-toggleable__control sk-hidden--visually\" id=\"54c8d64e-d655-4c6e-94ad-3c860d2cce94\" type=\"checkbox\" ><label for=\"54c8d64e-d655-4c6e-94ad-3c860d2cce94\" class=\"sk-toggleable__label sk-toggleable__label-arrow\">preprocessor: ColumnTransformer</label><div class=\"sk-toggleable__content\"><pre>ColumnTransformer(transformers=[(&#x27;pipeline_categorico&#x27;,\n",
       "                                 Pipeline(steps=[(&#x27;char_normalizer&#x27;,\n",
       "                                                  FunctionTransformer(func=&lt;function normalizar_caracteres at 0x7f1c99609310&gt;)),\n",
       "                                                 (&#x27;impute&#x27;,\n",
       "                                                  SimpleImputer(strategy=&#x27;most_frequent&#x27;)),\n",
       "                                                 (&#x27;one_hot_encoder&#x27;,\n",
       "                                                  OneHotEncoder(drop=&#x27;first&#x27;,\n",
       "                                                                handle_unknown=&#x27;ignore&#x27;))]),\n",
       "                                 [&#x27;polyuria&#x27;, &#x27;paresia_parcial&#x27;, &#x27;polydipsia&#x27;,\n",
       "                                  &#x27;perda_de_peso_repentina&#x27;, &#x27;genero&#x27;,\n",
       "                                  &#x27;polyphagia&#x27;]),\n",
       "                                (&#x27;pipeline_numerico&#x27;,\n",
       "                                 Pipeline(steps=[(&#x27;impute&#x27;,\n",
       "                                                  SimpleImputer(strategy=&#x27;median&#x27;))]),\n",
       "                                 [&#x27;idade&#x27;])])</pre></div></div></div><div class=\"sk-parallel\"><div class=\"sk-parallel-item\"><div class=\"sk-item\"><div class=\"sk-label-container\"><div class=\"sk-label sk-toggleable\"><input class=\"sk-toggleable__control sk-hidden--visually\" id=\"52b0213e-669e-459b-b9f9-16f4fa037916\" type=\"checkbox\" ><label for=\"52b0213e-669e-459b-b9f9-16f4fa037916\" class=\"sk-toggleable__label sk-toggleable__label-arrow\">pipeline_categorico</label><div class=\"sk-toggleable__content\"><pre>[&#x27;polyuria&#x27;, &#x27;paresia_parcial&#x27;, &#x27;polydipsia&#x27;, &#x27;perda_de_peso_repentina&#x27;, &#x27;genero&#x27;, &#x27;polyphagia&#x27;]</pre></div></div></div><div class=\"sk-serial\"><div class=\"sk-item\"><div class=\"sk-serial\"><div class=\"sk-item\"><div class=\"sk-estimator sk-toggleable\"><input class=\"sk-toggleable__control sk-hidden--visually\" id=\"95f1ae74-8033-4685-ab36-5805d438c8b3\" type=\"checkbox\" ><label for=\"95f1ae74-8033-4685-ab36-5805d438c8b3\" class=\"sk-toggleable__label sk-toggleable__label-arrow\">FunctionTransformer</label><div class=\"sk-toggleable__content\"><pre>FunctionTransformer(func=&lt;function normalizar_caracteres at 0x7f1c99609310&gt;)</pre></div></div></div><div class=\"sk-item\"><div class=\"sk-estimator sk-toggleable\"><input class=\"sk-toggleable__control sk-hidden--visually\" id=\"bbd685eb-6df9-4c53-8a10-0b41533af13d\" type=\"checkbox\" ><label for=\"bbd685eb-6df9-4c53-8a10-0b41533af13d\" class=\"sk-toggleable__label sk-toggleable__label-arrow\">SimpleImputer</label><div class=\"sk-toggleable__content\"><pre>SimpleImputer(strategy=&#x27;most_frequent&#x27;)</pre></div></div></div><div class=\"sk-item\"><div class=\"sk-estimator sk-toggleable\"><input class=\"sk-toggleable__control sk-hidden--visually\" id=\"c8e5d0cd-08a8-45e0-b5be-dbb862670935\" type=\"checkbox\" ><label for=\"c8e5d0cd-08a8-45e0-b5be-dbb862670935\" class=\"sk-toggleable__label sk-toggleable__label-arrow\">OneHotEncoder</label><div class=\"sk-toggleable__content\"><pre>OneHotEncoder(drop=&#x27;first&#x27;, handle_unknown=&#x27;ignore&#x27;)</pre></div></div></div></div></div></div></div></div><div class=\"sk-parallel-item\"><div class=\"sk-item\"><div class=\"sk-label-container\"><div class=\"sk-label sk-toggleable\"><input class=\"sk-toggleable__control sk-hidden--visually\" id=\"0d18af00-4974-4933-afee-7735a0bcd8c1\" type=\"checkbox\" ><label for=\"0d18af00-4974-4933-afee-7735a0bcd8c1\" class=\"sk-toggleable__label sk-toggleable__label-arrow\">pipeline_numerico</label><div class=\"sk-toggleable__content\"><pre>[&#x27;idade&#x27;]</pre></div></div></div><div class=\"sk-serial\"><div class=\"sk-item\"><div class=\"sk-serial\"><div class=\"sk-item\"><div class=\"sk-estimator sk-toggleable\"><input class=\"sk-toggleable__control sk-hidden--visually\" id=\"7a2bbb1c-53a3-4ca7-a41e-fd6080db2b95\" type=\"checkbox\" ><label for=\"7a2bbb1c-53a3-4ca7-a41e-fd6080db2b95\" class=\"sk-toggleable__label sk-toggleable__label-arrow\">SimpleImputer</label><div class=\"sk-toggleable__content\"><pre>SimpleImputer(strategy=&#x27;median&#x27;)</pre></div></div></div></div></div></div></div></div></div></div><div class=\"sk-item\"><div class=\"sk-estimator sk-toggleable\"><input class=\"sk-toggleable__control sk-hidden--visually\" id=\"de225ffa-c3a6-4d90-afdf-31c98f59f5ea\" type=\"checkbox\" ><label for=\"de225ffa-c3a6-4d90-afdf-31c98f59f5ea\" class=\"sk-toggleable__label sk-toggleable__label-arrow\">DecisionTreeClassifier</label><div class=\"sk-toggleable__content\"><pre>DecisionTreeClassifier(class_weight=&#x27;balanced&#x27;, max_depth=2,\n",
       "                       min_samples_leaf=33, min_samples_split=33,\n",
       "                       random_state=123)</pre></div></div></div></div></div></div></div>"
      ],
      "text/plain": [
       "Pipeline(steps=[('preprocessor',\n",
       "                 ColumnTransformer(transformers=[('pipeline_categorico',\n",
       "                                                  Pipeline(steps=[('char_normalizer',\n",
       "                                                                   FunctionTransformer(func=<function normalizar_caracteres at 0x7f1c99609310>)),\n",
       "                                                                  ('impute',\n",
       "                                                                   SimpleImputer(strategy='most_frequent')),\n",
       "                                                                  ('one_hot_encoder',\n",
       "                                                                   OneHotEncoder(drop='first',\n",
       "                                                                                 handle_unknown='ignore'))]),\n",
       "                                                  ['polyuria',\n",
       "                                                   'paresia_parcial',\n",
       "                                                   'polydipsia',\n",
       "                                                   'perda_de_peso_repentina',\n",
       "                                                   'genero', 'polyphagia']),\n",
       "                                                 ('pipeline_numerico',\n",
       "                                                  Pipeline(steps=[('impute',\n",
       "                                                                   SimpleImputer(strategy='median'))]),\n",
       "                                                  ['idade'])])),\n",
       "                ('model_dt',\n",
       "                 DecisionTreeClassifier(class_weight='balanced', max_depth=2,\n",
       "                                        min_samples_leaf=33,\n",
       "                                        min_samples_split=33,\n",
       "                                        random_state=123))])"
      ]
     },
     "execution_count": 59,
     "metadata": {},
     "output_type": "execute_result"
    }
   ],
   "source": [
    "#Pipeline numérico será tratado imputando a mediana\n",
    "pipeline_numerico = Pipeline(steps=[('impute', SimpleImputer(strategy='median'))])\n",
    "#Pipeline categórico será tratado com imputação através da moda e one hot encoder\n",
    "pipeline_categorico = Pipeline(steps=[('char_normalizer', char_normalizer),\n",
    "                         ('impute', SimpleImputer(strategy='most_frequent')),\n",
    "                         ('one_hot_encoder', OneHotEncoder(handle_unknown='ignore',drop='first'))])\n",
    "# Column Transformer para unir os dois pipelines\n",
    "preprocess_pipeline = ColumnTransformer([('pipeline_categorico', pipeline_categorico, variaveis_categoricas),\n",
    "                                ('pipeline_numerico', pipeline_numerico, variaveis_numericas)])\n",
    "modelo_pipe =  Pipeline(steps =[('preprocessor',preprocess_pipeline),\n",
    "                                  ('model_dt',dt)])\n",
    "modelo_pipe.set_params(**study.best_params)\n",
    "modelo_pipe.fit(X,y)"
   ]
  },
  {
   "cell_type": "markdown",
   "id": "a330fa3c",
   "metadata": {},
   "source": [
    "Primeiro vamos avaliar no dataset inteiro (com duplicatas) e depois sem duplicatas."
   ]
  },
  {
   "cell_type": "code",
   "execution_count": 60,
   "id": "4fc7d450",
   "metadata": {},
   "outputs": [],
   "source": [
    "y_test = df_test['target']\n",
    "X_test = df_test[variaveis_categoricas+variaveis_numericas]"
   ]
  },
  {
   "cell_type": "code",
   "execution_count": 61,
   "id": "fb3f596d",
   "metadata": {},
   "outputs": [],
   "source": [
    "y_pred_test_proba = modelo_pipe.predict_proba(X_test)"
   ]
  },
  {
   "cell_type": "code",
   "execution_count": 62,
   "id": "0addef3f",
   "metadata": {},
   "outputs": [
    {
     "name": "stdout",
     "output_type": "stream",
     "text": [
      "O modelo obteve um score de teste para o recall de: 0.8440972222222223\n"
     ]
    }
   ],
   "source": [
    "roc_auc_score_teste = roc_auc_score(y_test, y_pred_test_proba[:,1])\n",
    "print(f'O modelo obteve um score de teste para o recall de: {roc_auc_score_teste}')"
   ]
  },
  {
   "cell_type": "code",
   "execution_count": 63,
   "id": "480d76e1",
   "metadata": {},
   "outputs": [],
   "source": [
    "df_test_deduplicated = df_test.drop_duplicates()\n",
    "y_test_deduplicated = df_test_deduplicated['target']\n",
    "X_test_deduplicated = df_test_deduplicated[variaveis_categoricas+variaveis_numericas]\n",
    "y_pred_test_proba_deduplicated = modelo_pipe.predict_proba(X_test_deduplicated)"
   ]
  },
  {
   "cell_type": "code",
   "execution_count": 64,
   "id": "762349b5",
   "metadata": {},
   "outputs": [
    {
     "name": "stdout",
     "output_type": "stream",
     "text": [
      "O modelo obteve um score de teste para o recall de: 0.829861111111111\n"
     ]
    }
   ],
   "source": [
    "roc_auc_score_teste_deduplicated = roc_auc_score(y_test_deduplicated, y_pred_test_proba_deduplicated[:,1])\n",
    "print(f'O modelo obteve um score de teste para a área da curva roc de: {roc_auc_score_teste_deduplicated}')"
   ]
  },
  {
   "cell_type": "markdown",
   "id": "17696886",
   "metadata": {},
   "source": [
    "Vemos que as duplicatas no set de test tornam a estimativa de performance um pouco mais otimista. No geral, o descréscimo em relação a métrica de treino foi de 13%. Não necessariamente significa um overfitting. Mas a grid de parâmetros pode ser melhor estudada, a fim de aproximar mais a métrica de treino e teste do modelo."
   ]
  },
  {
   "cell_type": "markdown",
   "id": "22043a6a",
   "metadata": {},
   "source": [
    "## SHAP"
   ]
  },
  {
   "cell_type": "markdown",
   "id": "b83bbc4d",
   "metadata": {},
   "source": [
    "Para interpretar o modelo existem diversas técnicas. O Decision Tree, modelo utilizado, nos informa o Feature Importance, porém essa é uma técnica que pode ter algum viés, principalmente quando há presença de variáveis categóricas. Outra técnica rica é o Permutation Importance, que avalia a importância das features medindo a queda de performance quando esta é retirada. Nesse trabalho irei trazer o método de shap values, que é agnóstico a modelo e é baseado na teoria dos jogos.\n",
    "\n",
    "A análise se interpretabilidade se fez necessário para responder a questão de forma mais segura: \n",
    "\n",
    "- Quais os 3 principais fatores que levam a um diagnóstico positivo de diabetes?"
   ]
  },
  {
   "cell_type": "code",
   "execution_count": 65,
   "id": "5220be0a",
   "metadata": {},
   "outputs": [],
   "source": [
    "X_A1_test = df_test[variaveis_categoricas+variaveis_numericas]\n",
    "X_A1 = df_train[variaveis_categoricas+variaveis_numericas]"
   ]
  },
  {
   "cell_type": "code",
   "execution_count": 66,
   "id": "4409c386",
   "metadata": {},
   "outputs": [],
   "source": [
    "X_A1_test_shap = pd.DataFrame(modelo_pipe['preprocessor'].transform(X_A1_test), columns = variaveis_categoricas+variaveis_numericas)"
   ]
  },
  {
   "cell_type": "code",
   "execution_count": 67,
   "id": "3f5d92e8",
   "metadata": {},
   "outputs": [],
   "source": [
    "explainer_dt = shap.TreeExplainer(modelo_pipe['model_dt'])\n",
    "shap_values = explainer_dt.shap_values(X_A1_test_shap, check_additivity=False)"
   ]
  },
  {
   "cell_type": "markdown",
   "id": "c1e670f4",
   "metadata": {},
   "source": [
    "## Quais os 3 principais fatores que levam a um diagnóstico positivo de diabetes?\n"
   ]
  },
  {
   "cell_type": "code",
   "execution_count": 68,
   "id": "70ae8261",
   "metadata": {},
   "outputs": [
    {
     "data": {
      "image/png": "[encoded data removed]",
      "text/plain": [
       "<Figure size 576x309.6 with 1 Axes>"
      ]
     },
     "metadata": {
      "needs_background": "light"
     },
     "output_type": "display_data"
    }
   ],
   "source": [
    "shap.summary_plot(shap_values,features=X_A1_test_shap, feature_names=X_A1_test_shap.columns,)"
   ]
  },
  {
   "cell_type": "markdown",
   "id": "657c48e5",
   "metadata": {},
   "source": [
    "Com base, no feature importance e summary_plot as variáveis que apresentaram uma melhor relação para prever o diabetes, são: polyuria, genero e polydpsia. Note que estas variáveis dominam a resposta do modelo, talvez só com essas já atinjamos um resultado razoável."
   ]
  },
  {
   "cell_type": "markdown",
   "id": "c89dfedd",
   "metadata": {},
   "source": [
    "# Logs Mlflow"
   ]
  },
  {
   "cell_type": "code",
   "execution_count": 69,
   "id": "6b635b3b",
   "metadata": {},
   "outputs": [],
   "source": [
    "with mlflow.start_run():\n",
    "    mlflow.set_tag('step','Experimentation')\n",
    "    mlflow.log_metrics({'roc_auc_train':roc_auc_score_train, \n",
    "                        'roc_auc_test':roc_auc_score_teste, \n",
    "                        'roc_auc_test_deduplicated':roc_auc_score_teste_deduplicated})\n",
    "    mlflow.log_params(study.best_params)\n",
    "    mlflow.sklearn.log_model(modelo_pipe, artifact_path='model')"
   ]
  },
  {
   "cell_type": "code",
   "execution_count": null,
   "id": "00afdb84",
   "metadata": {},
   "outputs": [],
   "source": []
  }
 ],
 "metadata": {
  "kernelspec": {
   "display_name": "Python 3 (ipykernel)",
   "language": "python",
   "name": "python3"
  },
  "language_info": {
   "codemirror_mode": {
    "name": "ipython",
    "version": 3
   },
   "file_extension": ".py",
   "mimetype": "text/x-python",
   "name": "python",
   "nbconvert_exporter": "python",
   "pygments_lexer": "ipython3",
   "version": "3.8.10"
  }
 },
 "nbformat": 4,
 "nbformat_minor": 5
}
