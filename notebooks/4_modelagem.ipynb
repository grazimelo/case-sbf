{
 "cells": [
  {
   "cell_type": "markdown",
   "id": "911a32a4",
   "metadata": {},
   "source": [
    "## Modelagem e Avaliação \n",
    "\n",
    "Neste tópico, iremos preparar nossos dados para modelagem, criando pipeline para garatir o correto pré-processamento dos nossos dados.Utilizaremos o modelo RandomForestClassifier, um modelo que me sinto bastante confortável por conhecer seu funcionamento e nuances. É um modelo não-linear, robusto a outliers e que não possui qualquer suposição sobre as distribuições, o que é algo bastante relevante, dado que a maioria dos dados na vida real apresentam não normalidade. Evitar a normalização é uma etapa a menos se você utiliza modelos baseados em árvore. Em suma, o RandomForest cria várias árvores de decisões, as quais são construídas com diferentes dados de um mesmo dataset (Bootstrap). Dessa maneira, o resultado final é obtido por votação majoritária."
   ]
  },
  {
   "cell_type": "markdown",
   "id": "94d447e5",
   "metadata": {},
   "source": [
    "## Dependências"
   ]
  },
  {
   "cell_type": "code",
   "execution_count": 54,
   "id": "7a4968d8",
   "metadata": {},
   "outputs": [],
   "source": [
    "# Bibliotecas\n",
    "import os\n",
    "import shap\n",
    "import warnings\n",
    "warnings.filterwarnings('ignore')\n",
    "import cloudpickle\n",
    "import optuna\n",
    "import pandas as pd\n",
    "import numpy as np\n",
    "import seaborn as sns\n",
    "import matplotlib.pyplot as plt\n",
    "from sklearn.preprocessing import OneHotEncoder\n",
    "from sklearn.ensemble import RandomForestClassifier \n",
    "from sklearn.model_selection import train_test_split\n",
    "from sklearn.impute import SimpleImputer \n",
    "from sklearn.pipeline import Pipeline\n",
    "from sklearn.compose import ColumnTransformer\n",
    "from sklearn.metrics import classification_report, recall_score\n",
    "from sklearn.model_selection import cross_val_score, StratifiedKFold\n",
    "from yellowbrick.model_selection import LearningCurve\n",
    "from sklearn.model_selection import ShuffleSplit\n",
    "from sklearn.model_selection import learning_curve\n",
    "from sklearn.model_selection import RepeatedStratifiedKFold\n",
    "from sklearn import set_config\n",
    "from optuna.samplers import TPESampler\n",
    "pd.set_option('display.max_rows', 500)\n",
    "pd.set_option('display.max_columns', 500)\n",
    "pd.set_option('display.width', 1000)\n",
    "%matplotlib inline"
   ]
  },
  {
   "cell_type": "markdown",
   "id": "84e6ba2a",
   "metadata": {},
   "source": [
    "## Dados e Constantes"
   ]
  },
  {
   "cell_type": "code",
   "execution_count": 2,
   "id": "c066f128",
   "metadata": {},
   "outputs": [],
   "source": [
    "DATA_RAW_PATH = os.path.join('..','data','raw')\n",
    "DATA_RAW_NAME = 'diabetes_data.csv'\n",
    "DATA_INTER_PATH = os.path.join('..','data','inter')\n",
    "DATA_INTER_TEST_NAME = 'test_inter.csv'\n",
    "DATA_INTER_TRAIN_NAME = 'train_inter.csv'\n",
    "DATA_INTER_TRAIN_FT_SELECTION = 'train_inter_ft_selection.csv'\n",
    "META_DATA_PATH = os.path.join(DATA_RAW_PATH,'dicionario_tipos.pkl')\n",
    "MODEL_PATH = os.path.join('..','models')\n",
    "MODEL_NAME = 'diagnostico_diabetes.pkl'\n",
    "PREDICT_PATH = os.path.join('..','data','results')\n",
    "PREDICT_NAME = 'previsao_diagnostico.csv'\n",
    "target = 'target'"
   ]
  },
  {
   "cell_type": "code",
   "execution_count": 3,
   "id": "74483395",
   "metadata": {},
   "outputs": [],
   "source": [
    "#Dados do dicionário\n",
    "with open(META_DATA_PATH,'rb') as f:\n",
    "    dicionario_tipo = cloudpickle.load(f)\n",
    "\n",
    "df_train = pd.read_csv(os.path.join(DATA_INTER_PATH, DATA_INTER_TRAIN_FT_SELECTION), dtype=dicionario_tipo)\n",
    "\n",
    "\n",
    "#Lendo dados de teste.\n",
    "df_test = pd.read_csv(os.path.join(DATA_INTER_PATH, DATA_INTER_TEST_NAME), dtype=dicionario_tipo)"
   ]
  },
  {
   "cell_type": "markdown",
   "id": "d2f967fa",
   "metadata": {},
   "source": [
    "## Modelagem "
   ]
  },
  {
   "cell_type": "code",
   "execution_count": 4,
   "id": "1955a97f",
   "metadata": {},
   "outputs": [
    {
     "data": {
      "text/html": [
       "<div>\n",
       "<style scoped>\n",
       "    .dataframe tbody tr th:only-of-type {\n",
       "        vertical-align: middle;\n",
       "    }\n",
       "\n",
       "    .dataframe tbody tr th {\n",
       "        vertical-align: top;\n",
       "    }\n",
       "\n",
       "    .dataframe thead th {\n",
       "        text-align: right;\n",
       "    }\n",
       "</style>\n",
       "<table border=\"1\" class=\"dataframe\">\n",
       "  <thead>\n",
       "    <tr style=\"text-align: right;\">\n",
       "      <th></th>\n",
       "      <th>idade</th>\n",
       "      <th>genero</th>\n",
       "      <th>polyuria</th>\n",
       "      <th>polydipsia</th>\n",
       "      <th>perda_de_peso_repentina</th>\n",
       "      <th>polyphagia</th>\n",
       "      <th>irritabilidade</th>\n",
       "      <th>paresia_parcial</th>\n",
       "      <th>alopecia</th>\n",
       "      <th>target</th>\n",
       "    </tr>\n",
       "  </thead>\n",
       "  <tbody>\n",
       "    <tr>\n",
       "      <th>0</th>\n",
       "      <td>67</td>\n",
       "      <td>male</td>\n",
       "      <td>no</td>\n",
       "      <td>no</td>\n",
       "      <td>no</td>\n",
       "      <td>yes</td>\n",
       "      <td>no</td>\n",
       "      <td>no</td>\n",
       "      <td>no</td>\n",
       "      <td>negative</td>\n",
       "    </tr>\n",
       "    <tr>\n",
       "      <th>1</th>\n",
       "      <td>55</td>\n",
       "      <td>female</td>\n",
       "      <td>yes</td>\n",
       "      <td>yes</td>\n",
       "      <td>yes</td>\n",
       "      <td>yes</td>\n",
       "      <td>no</td>\n",
       "      <td>yes</td>\n",
       "      <td>no</td>\n",
       "      <td>positive</td>\n",
       "    </tr>\n",
       "    <tr>\n",
       "      <th>2</th>\n",
       "      <td>60</td>\n",
       "      <td>male</td>\n",
       "      <td>no</td>\n",
       "      <td>no</td>\n",
       "      <td>no</td>\n",
       "      <td>no</td>\n",
       "      <td>no</td>\n",
       "      <td>yes</td>\n",
       "      <td>no</td>\n",
       "      <td>negative</td>\n",
       "    </tr>\n",
       "    <tr>\n",
       "      <th>3</th>\n",
       "      <td>48</td>\n",
       "      <td>female</td>\n",
       "      <td>yes</td>\n",
       "      <td>yes</td>\n",
       "      <td>no</td>\n",
       "      <td>no</td>\n",
       "      <td>no</td>\n",
       "      <td>yes</td>\n",
       "      <td>no</td>\n",
       "      <td>positive</td>\n",
       "    </tr>\n",
       "    <tr>\n",
       "      <th>4</th>\n",
       "      <td>31</td>\n",
       "      <td>female</td>\n",
       "      <td>yes</td>\n",
       "      <td>yes</td>\n",
       "      <td>yes</td>\n",
       "      <td>yes</td>\n",
       "      <td>yes</td>\n",
       "      <td>yes</td>\n",
       "      <td>no</td>\n",
       "      <td>positive</td>\n",
       "    </tr>\n",
       "  </tbody>\n",
       "</table>\n",
       "</div>"
      ],
      "text/plain": [
       "   idade  genero polyuria polydipsia perda_de_peso_repentina polyphagia irritabilidade paresia_parcial alopecia    target\n",
       "0     67    male       no         no                      no        yes             no              no       no  negative\n",
       "1     55  female      yes        yes                     yes        yes             no             yes       no  positive\n",
       "2     60    male       no         no                      no         no             no             yes       no  negative\n",
       "3     48  female      yes        yes                      no         no             no             yes       no  positive\n",
       "4     31  female      yes        yes                     yes        yes            yes             yes       no  positive"
      ]
     },
     "execution_count": 4,
     "metadata": {},
     "output_type": "execute_result"
    }
   ],
   "source": [
    "df_train.head()"
   ]
  },
  {
   "cell_type": "code",
   "execution_count": 5,
   "id": "57482505",
   "metadata": {},
   "outputs": [
    {
     "name": "stdout",
     "output_type": "stream",
     "text": [
      "<class 'pandas.core.frame.DataFrame'>\n",
      "RangeIndex: 416 entries, 0 to 415\n",
      "Data columns (total 10 columns):\n",
      " #   Column                   Non-Null Count  Dtype \n",
      "---  ------                   --------------  ----- \n",
      " 0   idade                    416 non-null    int64 \n",
      " 1   genero                   416 non-null    object\n",
      " 2   polyuria                 416 non-null    object\n",
      " 3   polydipsia               416 non-null    object\n",
      " 4   perda_de_peso_repentina  416 non-null    object\n",
      " 5   polyphagia               416 non-null    object\n",
      " 6   irritabilidade           416 non-null    object\n",
      " 7   paresia_parcial          416 non-null    object\n",
      " 8   alopecia                 416 non-null    object\n",
      " 9   target                   416 non-null    object\n",
      "dtypes: int64(1), object(9)\n",
      "memory usage: 32.6+ KB\n"
     ]
    }
   ],
   "source": [
    "df_train.info()"
   ]
  },
  {
   "cell_type": "code",
   "execution_count": 6,
   "id": "bd5bb705",
   "metadata": {},
   "outputs": [],
   "source": [
    "#Separando as variáveis categóricas e numéricas\n",
    "variaveis_categoricas = df_train.select_dtypes(include=['object']).columns.tolist()\n",
    "variaveis_numericas = df_train.select_dtypes(include=['int','float']).columns.tolist()"
   ]
  },
  {
   "cell_type": "code",
   "execution_count": 7,
   "id": "37279f84",
   "metadata": {},
   "outputs": [],
   "source": [
    "#Removendo target das variáveis categóricas. \n",
    "variaveis_categoricas.remove('target')"
   ]
  },
  {
   "cell_type": "markdown",
   "id": "b2231de0",
   "metadata": {},
   "source": [
    "## Criando pipeline"
   ]
  },
  {
   "cell_type": "markdown",
   "id": "a76b9bd5",
   "metadata": {},
   "source": [
    "Aqui iremos criar um pipeline para tratar dados categóricos e outro para tratar nossos dados numéricos. Dessa maneira cada coluna é tratada da forma mais adequada. O resultado é combinado no final e passado para o classificador, último componente do pipeline."
   ]
  },
  {
   "cell_type": "code",
   "execution_count": 8,
   "id": "a2528c75",
   "metadata": {},
   "outputs": [],
   "source": [
    "#Pipeline numérico será tratado imputando a mediana\n",
    "pipeline_numerico = Pipeline(steps=[('impute', SimpleImputer(strategy='median'))])\n",
    "#Pipeline categórico será tratado com imputação através da moda e ordinal encoder\n",
    "pipeline_categorico = Pipeline(steps=[('impute', SimpleImputer(strategy='most_frequent')),\n",
    "                         ('one_hot_encoder', OneHotEncoder(handle_unknown='ignore',drop='first'))])"
   ]
  },
  {
   "cell_type": "code",
   "execution_count": 9,
   "id": "c3cfe5ab",
   "metadata": {},
   "outputs": [],
   "source": [
    "#Column Transformer para unir os dois pipelines\n",
    "preprocess_pipeline = ColumnTransformer([('pipeline_categorico', pipeline_categorico, variaveis_categoricas),\n",
    "                                ('pipeline_numerico', pipeline_numerico, variaveis_numericas)])"
   ]
  },
  {
   "cell_type": "markdown",
   "id": "aab0b6e5",
   "metadata": {},
   "source": [
    "## Modelagem e Avaliação"
   ]
  },
  {
   "cell_type": "markdown",
   "id": "5a97632d",
   "metadata": {},
   "source": [
    "A escolha da métrica de avaliação do modelo é uma das etapas mais importantes. Isso, pois a escolha errada pode levar a uma interpretação errônea do resultado, o que resulta em uma superestimação da performance. No nosso caso, a utilização da Acurácia seria um ERRO, pois as classes são desbalanceadas. Nesse sentido, a utilização do recall é mais assertiva, destancando o uso do recall médio ponderado pelo número de instâncias respectivas às classes. Nada impede, porém, de formularmos uma métrica específica de negócio que atenderá de maneira mais personalizada o problema que estamos tentando solucionar."
   ]
  },
  {
   "cell_type": "code",
   "execution_count": 77,
   "id": "e57f2298",
   "metadata": {},
   "outputs": [],
   "source": [
    "#Definindo folds para a validação cruzada estratificada para garantir uma melhor distribuição do target.\n",
    "cv = RepeatedStratifiedKFold(random_state=2, n_splits=10, n_repeats=10)"
   ]
  },
  {
   "cell_type": "code",
   "execution_count": 78,
   "id": "233588dd",
   "metadata": {},
   "outputs": [],
   "source": [
    "#Definindo folds para a validação cruzada estratificada para garantir uma melhor distribuição do target.\n",
    "#cv = StratifiedKFold(n_splits=5,shuffle=True, random_state=123)"
   ]
  },
  {
   "cell_type": "code",
   "execution_count": 79,
   "id": "09dd25df",
   "metadata": {},
   "outputs": [],
   "source": [
    "# Definindo modelo com random_seed e class_weight='balanced' para dar peso às classes mais raras\n",
    "rf = RandomForestClassifier(random_state=0, class_weight='balanced')\n",
    "# defninindo pipeline final, onde o último componente é o classificador\n",
    "modelo_pipe =  Pipeline(steps =[('preprocessor',preprocess_pipeline),\n",
    "                                  ('model_rf',rf)])"
   ]
  },
  {
   "cell_type": "code",
   "execution_count": 80,
   "id": "5576acd2",
   "metadata": {},
   "outputs": [],
   "source": [
    "#Obtendo X e Y \n",
    "X = df_train.drop(target,axis=1)\n",
    "y = df_train[target]"
   ]
  },
  {
   "cell_type": "markdown",
   "id": "90c98355",
   "metadata": {},
   "source": [
    "Aqui utilizaremos otimização bayesiana para busca dos melhores hiperparâmetros para o classificador. Poderíamos ter utilizado o GridSearchCV ou o RandomizedSearchCV, porém esses seriam mais lentos. Vale salientar que a otimização está sendo feita em cima da média de validação cruzada do recall."
   ]
  },
  {
   "cell_type": "code",
   "execution_count": 81,
   "id": "6341b7cf",
   "metadata": {},
   "outputs": [
    {
     "data": {
      "text/plain": [
       "array([0.97619048, 0.97619048, 0.97619048, 0.9047619 , 0.97619048,\n",
       "       1.        , 0.95121951, 1.        , 0.92682927, 1.        ,\n",
       "       0.97619048, 0.95238095, 0.97619048, 1.        , 0.95238095,\n",
       "       0.9047619 , 1.        , 0.97560976, 0.97560976, 0.97560976,\n",
       "       1.        , 0.97619048, 0.92857143, 0.95238095, 0.97619048,\n",
       "       1.        , 1.        , 0.92682927, 0.95121951, 0.92682927,\n",
       "       1.        , 0.92857143, 1.        , 1.        , 0.95238095,\n",
       "       0.97619048, 0.97560976, 0.95121951, 0.92682927, 0.97560976,\n",
       "       0.97619048, 1.        , 0.97619048, 0.97619048, 1.        ,\n",
       "       0.97619048, 0.95121951, 0.97560976, 0.92682927, 0.97560976,\n",
       "       0.97619048, 0.97619048, 1.        , 0.97619048, 0.97619048,\n",
       "       0.92857143, 0.97560976, 0.95121951, 0.97560976, 1.        ,\n",
       "       0.97619048, 0.97619048, 0.97619048, 0.97619048, 0.92857143,\n",
       "       0.97619048, 1.        , 1.        , 0.95121951, 0.95121951,\n",
       "       0.97619048, 0.97619048, 1.        , 0.97619048, 0.97619048,\n",
       "       1.        , 0.90243902, 0.97560976, 0.92682927, 1.        ,\n",
       "       0.95238095, 0.92857143, 0.95238095, 0.97619048, 1.        ,\n",
       "       1.        , 1.        , 0.97560976, 1.        , 0.97560976,\n",
       "       0.97619048, 1.        , 1.        , 0.97619048, 0.95238095,\n",
       "       1.        , 1.        , 0.95121951, 0.95121951, 0.95121951])"
      ]
     },
     "execution_count": 81,
     "metadata": {},
     "output_type": "execute_result"
    }
   ],
   "source": [
    "cross_val_score(modelo_pipe,X,y, cv=cv, scoring = 'recall_weighted')"
   ]
  },
  {
   "cell_type": "code",
   "execution_count": 83,
   "id": "3fbeb83b",
   "metadata": {},
   "outputs": [],
   "source": [
    "def fitRF(trial):\n",
    "    \"Train RandomForest Model\"\n",
    "# Grid de parametros otimizados\n",
    "    params ={'model_rf__max_depth': trial.suggest_int('model_rf__max_depth',2,13),\n",
    "          'model_rf__min_samples_leaf': trial.suggest_int('model_rf__min_samples_leaf',2,33),\n",
    "          'model_rf__min_samples_split':trial.suggest_int('model_rf__min_samples_split',2,33),\n",
    "          'model_rf__n_estimators': trial.suggest_int('model_rf__n_estimators',50,300)\n",
    "      }\n",
    "    earlyStop=20\n",
    "    modelo_pipe.set_params(**params)\n",
    "\n",
    "\n",
    "    results = np.mean(cross_val_score(modelo_pipe,X,y, cv=cv, scoring = 'neg_log_loss'))\n",
    "\n",
    "    #score = results.mean()  \n",
    "    #intervalo(results)\n",
    "    print(f'LOG LOSS:{results}')\n",
    "    return results"
   ]
  },
  {
   "cell_type": "code",
   "execution_count": 84,
   "id": "d245dd32",
   "metadata": {},
   "outputs": [
    {
     "name": "stderr",
     "output_type": "stream",
     "text": [
      "\u001b[32m[I 2022-02-28 23:52:26,275]\u001b[0m A new study created in memory with name: no-name-0d770618-4237-4bee-853f-07306a8cc970\u001b[0m\n",
      "\u001b[32m[I 2022-02-28 23:52:38,847]\u001b[0m Trial 0 finished with value: -0.24120423886763032 and parameters: {'model_rf__max_depth': 10, 'model_rf__min_samples_leaf': 11, 'model_rf__min_samples_split': 9, 'model_rf__n_estimators': 188}. Best is trial 0 with value: -0.24120423886763032.\u001b[0m\n"
     ]
    },
    {
     "name": "stdout",
     "output_type": "stream",
     "text": [
      "LOG LOSS:-0.24120423886763032\n"
     ]
    },
    {
     "name": "stderr",
     "output_type": "stream",
     "text": [
      "\u001b[32m[I 2022-02-28 23:52:53,891]\u001b[0m Trial 1 finished with value: -0.26091840968582364 and parameters: {'model_rf__max_depth': 10, 'model_rf__min_samples_leaf': 15, 'model_rf__min_samples_split': 33, 'model_rf__n_estimators': 221}. Best is trial 0 with value: -0.24120423886763032.\u001b[0m\n"
     ]
    },
    {
     "name": "stdout",
     "output_type": "stream",
     "text": [
      "LOG LOSS:-0.26091840968582364\n"
     ]
    },
    {
     "name": "stderr",
     "output_type": "stream",
     "text": [
      "\u001b[32m[I 2022-02-28 23:53:10,855]\u001b[0m Trial 2 finished with value: -0.2563766857774786 and parameters: {'model_rf__max_depth': 7, 'model_rf__min_samples_leaf': 14, 'model_rf__min_samples_split': 12, 'model_rf__n_estimators': 232}. Best is trial 0 with value: -0.24120423886763032.\u001b[0m\n"
     ]
    },
    {
     "name": "stdout",
     "output_type": "stream",
     "text": [
      "LOG LOSS:-0.2563766857774786\n"
     ]
    },
    {
     "name": "stderr",
     "output_type": "stream",
     "text": [
      "\u001b[32m[I 2022-02-28 23:53:28,756]\u001b[0m Trial 3 finished with value: -0.19337618371480833 and parameters: {'model_rf__max_depth': 7, 'model_rf__min_samples_leaf': 3, 'model_rf__min_samples_split': 14, 'model_rf__n_estimators': 235}. Best is trial 3 with value: -0.19337618371480833.\u001b[0m\n"
     ]
    },
    {
     "name": "stdout",
     "output_type": "stream",
     "text": [
      "LOG LOSS:-0.19337618371480833\n"
     ]
    },
    {
     "name": "stderr",
     "output_type": "stream",
     "text": [
      "\u001b[32m[I 2022-02-28 23:53:41,838]\u001b[0m Trial 4 finished with value: -0.22608729317043874 and parameters: {'model_rf__max_depth': 4, 'model_rf__min_samples_leaf': 7, 'model_rf__min_samples_split': 19, 'model_rf__n_estimators': 183}. Best is trial 3 with value: -0.19337618371480833.\u001b[0m\n"
     ]
    },
    {
     "name": "stdout",
     "output_type": "stream",
     "text": [
      "LOG LOSS:-0.22608729317043874\n"
     ]
    },
    {
     "name": "stderr",
     "output_type": "stream",
     "text": [
      "\u001b[32m[I 2022-02-28 23:53:56,626]\u001b[0m Trial 5 finished with value: -0.3132885912427124 and parameters: {'model_rf__max_depth': 9, 'model_rf__min_samples_leaf': 29, 'model_rf__min_samples_split': 25, 'model_rf__n_estimators': 203}. Best is trial 3 with value: -0.19337618371480833.\u001b[0m\n"
     ]
    },
    {
     "name": "stdout",
     "output_type": "stream",
     "text": [
      "LOG LOSS:-0.3132885912427124\n"
     ]
    },
    {
     "name": "stderr",
     "output_type": "stream",
     "text": [
      "\u001b[32m[I 2022-02-28 23:54:04,743]\u001b[0m Trial 6 finished with value: -0.2459223088760037 and parameters: {'model_rf__max_depth': 10, 'model_rf__min_samples_leaf': 12, 'model_rf__min_samples_split': 13, 'model_rf__n_estimators': 107}. Best is trial 3 with value: -0.19337618371480833.\u001b[0m\n"
     ]
    },
    {
     "name": "stdout",
     "output_type": "stream",
     "text": [
      "LOG LOSS:-0.2459223088760037\n"
     ]
    },
    {
     "name": "stderr",
     "output_type": "stream",
     "text": [
      "\u001b[32m[I 2022-02-28 23:54:17,140]\u001b[0m Trial 7 finished with value: -0.2869742848541322 and parameters: {'model_rf__max_depth': 5, 'model_rf__min_samples_leaf': 22, 'model_rf__min_samples_split': 4, 'model_rf__n_estimators': 158}. Best is trial 3 with value: -0.19337618371480833.\u001b[0m\n"
     ]
    },
    {
     "name": "stdout",
     "output_type": "stream",
     "text": [
      "LOG LOSS:-0.2869742848541322\n"
     ]
    },
    {
     "name": "stderr",
     "output_type": "stream",
     "text": [
      "\u001b[32m[I 2022-02-28 23:54:27,359]\u001b[0m Trial 8 finished with value: -0.2673963500632893 and parameters: {'model_rf__max_depth': 7, 'model_rf__min_samples_leaf': 17, 'model_rf__min_samples_split': 15, 'model_rf__n_estimators': 128}. Best is trial 3 with value: -0.19337618371480833.\u001b[0m\n"
     ]
    },
    {
     "name": "stdout",
     "output_type": "stream",
     "text": [
      "LOG LOSS:-0.2673963500632893\n"
     ]
    },
    {
     "name": "stderr",
     "output_type": "stream",
     "text": [
      "\u001b[32m[I 2022-02-28 23:54:40,195]\u001b[0m Trial 9 finished with value: -0.31767494672533614 and parameters: {'model_rf__max_depth': 7, 'model_rf__min_samples_leaf': 30, 'model_rf__min_samples_split': 32, 'model_rf__n_estimators': 175}. Best is trial 3 with value: -0.19337618371480833.\u001b[0m\n"
     ]
    },
    {
     "name": "stdout",
     "output_type": "stream",
     "text": [
      "LOG LOSS:-0.31767494672533614\n"
     ]
    },
    {
     "name": "stderr",
     "output_type": "stream",
     "text": [
      "\u001b[32m[I 2022-02-28 23:55:00,575]\u001b[0m Trial 10 finished with value: -0.2087480300461121 and parameters: {'model_rf__max_depth': 13, 'model_rf__min_samples_leaf': 2, 'model_rf__min_samples_split': 21, 'model_rf__n_estimators': 282}. Best is trial 3 with value: -0.19337618371480833.\u001b[0m\n"
     ]
    },
    {
     "name": "stdout",
     "output_type": "stream",
     "text": [
      "LOG LOSS:-0.2087480300461121\n"
     ]
    },
    {
     "name": "stderr",
     "output_type": "stream",
     "text": [
      "\u001b[32m[I 2022-02-28 23:55:21,379]\u001b[0m Trial 11 finished with value: -0.2087319513471552 and parameters: {'model_rf__max_depth': 13, 'model_rf__min_samples_leaf': 2, 'model_rf__min_samples_split': 21, 'model_rf__n_estimators': 292}. Best is trial 3 with value: -0.19337618371480833.\u001b[0m\n"
     ]
    },
    {
     "name": "stdout",
     "output_type": "stream",
     "text": [
      "LOG LOSS:-0.2087319513471552\n"
     ]
    },
    {
     "name": "stderr",
     "output_type": "stream",
     "text": [
      "\u001b[32m[I 2022-02-28 23:55:42,251]\u001b[0m Trial 12 finished with value: -0.2169065499837485 and parameters: {'model_rf__max_depth': 13, 'model_rf__min_samples_leaf': 2, 'model_rf__min_samples_split': 25, 'model_rf__n_estimators': 291}. Best is trial 3 with value: -0.19337618371480833.\u001b[0m\n"
     ]
    },
    {
     "name": "stdout",
     "output_type": "stream",
     "text": [
      "LOG LOSS:-0.2169065499837485\n"
     ]
    },
    {
     "name": "stderr",
     "output_type": "stream",
     "text": [
      "\u001b[32m[I 2022-02-28 23:56:00,070]\u001b[0m Trial 13 finished with value: -0.25170130645162053 and parameters: {'model_rf__max_depth': 3, 'model_rf__min_samples_leaf': 8, 'model_rf__min_samples_split': 23, 'model_rf__n_estimators': 257}. Best is trial 3 with value: -0.19337618371480833.\u001b[0m\n"
     ]
    },
    {
     "name": "stdout",
     "output_type": "stream",
     "text": [
      "LOG LOSS:-0.25170130645162053\n"
     ]
    },
    {
     "name": "stderr",
     "output_type": "stream",
     "text": [
      "\u001b[32m[I 2022-02-28 23:56:04,625]\u001b[0m Trial 14 finished with value: -0.2091858116433318 and parameters: {'model_rf__max_depth': 5, 'model_rf__min_samples_leaf': 6, 'model_rf__min_samples_split': 8, 'model_rf__n_estimators': 54}. Best is trial 3 with value: -0.19337618371480833.\u001b[0m\n"
     ]
    },
    {
     "name": "stdout",
     "output_type": "stream",
     "text": [
      "LOG LOSS:-0.2091858116433318\n"
     ]
    },
    {
     "name": "stderr",
     "output_type": "stream",
     "text": [
      "\u001b[32m[I 2022-02-28 23:56:22,262]\u001b[0m Trial 15 finished with value: -0.2993503531747678 and parameters: {'model_rf__max_depth': 2, 'model_rf__min_samples_leaf': 2, 'model_rf__min_samples_split': 18, 'model_rf__n_estimators': 256}. Best is trial 3 with value: -0.19337618371480833.\u001b[0m\n"
     ]
    },
    {
     "name": "stdout",
     "output_type": "stream",
     "text": [
      "LOG LOSS:-0.2993503531747678\n"
     ]
    },
    {
     "name": "stderr",
     "output_type": "stream",
     "text": [
      "\u001b[32m[I 2022-02-28 23:56:40,160]\u001b[0m Trial 16 finished with value: -0.2878018705000829 and parameters: {'model_rf__max_depth': 9, 'model_rf__min_samples_leaf': 22, 'model_rf__min_samples_split': 28, 'model_rf__n_estimators': 259}. Best is trial 3 with value: -0.19337618371480833.\u001b[0m\n"
     ]
    },
    {
     "name": "stdout",
     "output_type": "stream",
     "text": [
      "LOG LOSS:-0.2878018705000829\n"
     ]
    },
    {
     "name": "stderr",
     "output_type": "stream",
     "text": [
      "\u001b[32m[I 2022-02-28 23:57:01,234]\u001b[0m Trial 17 finished with value: -0.21247267680993623 and parameters: {'model_rf__max_depth': 12, 'model_rf__min_samples_leaf': 6, 'model_rf__min_samples_split': 16, 'model_rf__n_estimators': 295}. Best is trial 3 with value: -0.19337618371480833.\u001b[0m\n"
     ]
    },
    {
     "name": "stdout",
     "output_type": "stream",
     "text": [
      "LOG LOSS:-0.21247267680993623\n"
     ]
    },
    {
     "name": "stderr",
     "output_type": "stream",
     "text": [
      "\u001b[32m[I 2022-02-28 23:57:17,381]\u001b[0m Trial 18 finished with value: -0.2914657370699028 and parameters: {'model_rf__max_depth': 6, 'model_rf__min_samples_leaf': 23, 'model_rf__min_samples_split': 2, 'model_rf__n_estimators': 233}. Best is trial 3 with value: -0.19337618371480833.\u001b[0m\n"
     ]
    },
    {
     "name": "stdout",
     "output_type": "stream",
     "text": [
      "LOG LOSS:-0.2914657370699028\n"
     ]
    },
    {
     "name": "stderr",
     "output_type": "stream",
     "text": [
      "\u001b[32m[I 2022-02-28 23:57:37,622]\u001b[0m Trial 19 finished with value: -0.237091796090995 and parameters: {'model_rf__max_depth': 11, 'model_rf__min_samples_leaf': 10, 'model_rf__min_samples_split': 10, 'model_rf__n_estimators': 267}. Best is trial 3 with value: -0.19337618371480833.\u001b[0m\n"
     ]
    },
    {
     "name": "stdout",
     "output_type": "stream",
     "text": [
      "LOG LOSS:-0.237091796090995\n"
     ]
    },
    {
     "name": "stderr",
     "output_type": "stream",
     "text": [
      "\u001b[32m[I 2022-02-28 23:57:52,994]\u001b[0m Trial 20 finished with value: -0.21654479024758821 and parameters: {'model_rf__max_depth': 8, 'model_rf__min_samples_leaf': 5, 'model_rf__min_samples_split': 20, 'model_rf__n_estimators': 215}. Best is trial 3 with value: -0.19337618371480833.\u001b[0m\n"
     ]
    },
    {
     "name": "stdout",
     "output_type": "stream",
     "text": [
      "LOG LOSS:-0.21654479024758821\n"
     ]
    },
    {
     "name": "stderr",
     "output_type": "stream",
     "text": [
      "\u001b[32m[I 2022-02-28 23:58:13,059]\u001b[0m Trial 21 finished with value: -0.20877396121837896 and parameters: {'model_rf__max_depth': 13, 'model_rf__min_samples_leaf': 2, 'model_rf__min_samples_split': 21, 'model_rf__n_estimators': 281}. Best is trial 3 with value: -0.19337618371480833.\u001b[0m\n"
     ]
    },
    {
     "name": "stdout",
     "output_type": "stream",
     "text": [
      "LOG LOSS:-0.20877396121837896\n"
     ]
    },
    {
     "name": "stderr",
     "output_type": "stream",
     "text": [
      "\u001b[32m[I 2022-02-28 23:58:34,326]\u001b[0m Trial 22 finished with value: -0.22783154723956758 and parameters: {'model_rf__max_depth': 12, 'model_rf__min_samples_leaf': 4, 'model_rf__min_samples_split': 28, 'model_rf__n_estimators': 300}. Best is trial 3 with value: -0.19337618371480833.\u001b[0m\n"
     ]
    },
    {
     "name": "stdout",
     "output_type": "stream",
     "text": [
      "LOG LOSS:-0.22783154723956758\n"
     ]
    },
    {
     "name": "stderr",
     "output_type": "stream",
     "text": [
      "\u001b[32m[I 2022-02-28 23:58:51,781]\u001b[0m Trial 23 finished with value: -0.2376681416987394 and parameters: {'model_rf__max_depth': 12, 'model_rf__min_samples_leaf': 10, 'model_rf__min_samples_split': 16, 'model_rf__n_estimators': 244}. Best is trial 3 with value: -0.19337618371480833.\u001b[0m\n"
     ]
    },
    {
     "name": "stdout",
     "output_type": "stream",
     "text": [
      "LOG LOSS:-0.2376681416987394\n"
     ]
    },
    {
     "name": "stderr",
     "output_type": "stream",
     "text": [
      "\u001b[32m[I 2022-02-28 23:59:11,343]\u001b[0m Trial 24 finished with value: -0.21720978163853683 and parameters: {'model_rf__max_depth': 13, 'model_rf__min_samples_leaf': 4, 'model_rf__min_samples_split': 22, 'model_rf__n_estimators': 272}. Best is trial 3 with value: -0.19337618371480833.\u001b[0m\n"
     ]
    },
    {
     "name": "stdout",
     "output_type": "stream",
     "text": [
      "LOG LOSS:-0.21720978163853683\n",
      "FrozenTrial(number=3, values=[-0.19337618371480833], datetime_start=datetime.datetime(2022, 2, 28, 23, 53, 10, 855867), datetime_complete=datetime.datetime(2022, 2, 28, 23, 53, 28, 756424), params={'model_rf__max_depth': 7, 'model_rf__min_samples_leaf': 3, 'model_rf__min_samples_split': 14, 'model_rf__n_estimators': 235}, distributions={'model_rf__max_depth': IntUniformDistribution(high=13, low=2, step=1), 'model_rf__min_samples_leaf': IntUniformDistribution(high=33, low=2, step=1), 'model_rf__min_samples_split': IntUniformDistribution(high=33, low=2, step=1), 'model_rf__n_estimators': IntUniformDistribution(high=300, low=50, step=1)}, user_attrs={}, system_attrs={}, intermediate_values={}, trial_id=3, state=TrialState.COMPLETE, value=None)\n"
     ]
    }
   ],
   "source": [
    "sampler = TPESampler(seed=123)  # Make the sampler behave in a deterministic way.\n",
    "study = optuna.create_study(sampler=sampler,direction='maximize')\n",
    "study.optimize(fitRF, n_trials=25)\n",
    "print(study.best_trial)"
   ]
  },
  {
   "cell_type": "code",
   "execution_count": 85,
   "id": "8806506e",
   "metadata": {},
   "outputs": [
    {
     "name": "stdout",
     "output_type": "stream",
     "text": [
      "O modelo obteve um score de validação cruzada para o log loss de: -0.19337618371480833\n"
     ]
    }
   ],
   "source": [
    "print(f'O modelo obteve um score de validação cruzada para o log loss de: {study.best_value}')"
   ]
  },
  {
   "cell_type": "code",
   "execution_count": 86,
   "id": "3ddccf99",
   "metadata": {},
   "outputs": [
    {
     "data": {
      "text/html": [
       "<style>#sk-f188893e-8823-4931-861c-d2ecbd2ae456 {color: black;background-color: white;}#sk-f188893e-8823-4931-861c-d2ecbd2ae456 pre{padding: 0;}#sk-f188893e-8823-4931-861c-d2ecbd2ae456 div.sk-toggleable {background-color: white;}#sk-f188893e-8823-4931-861c-d2ecbd2ae456 label.sk-toggleable__label {cursor: pointer;display: block;width: 100%;margin-bottom: 0;padding: 0.3em;box-sizing: border-box;text-align: center;}#sk-f188893e-8823-4931-861c-d2ecbd2ae456 label.sk-toggleable__label-arrow:before {content: \"▸\";float: left;margin-right: 0.25em;color: #696969;}#sk-f188893e-8823-4931-861c-d2ecbd2ae456 label.sk-toggleable__label-arrow:hover:before {color: black;}#sk-f188893e-8823-4931-861c-d2ecbd2ae456 div.sk-estimator:hover label.sk-toggleable__label-arrow:before {color: black;}#sk-f188893e-8823-4931-861c-d2ecbd2ae456 div.sk-toggleable__content {max-height: 0;max-width: 0;overflow: hidden;text-align: left;background-color: #f0f8ff;}#sk-f188893e-8823-4931-861c-d2ecbd2ae456 div.sk-toggleable__content pre {margin: 0.2em;color: black;border-radius: 0.25em;background-color: #f0f8ff;}#sk-f188893e-8823-4931-861c-d2ecbd2ae456 input.sk-toggleable__control:checked~div.sk-toggleable__content {max-height: 200px;max-width: 100%;overflow: auto;}#sk-f188893e-8823-4931-861c-d2ecbd2ae456 input.sk-toggleable__control:checked~label.sk-toggleable__label-arrow:before {content: \"▾\";}#sk-f188893e-8823-4931-861c-d2ecbd2ae456 div.sk-estimator input.sk-toggleable__control:checked~label.sk-toggleable__label {background-color: #d4ebff;}#sk-f188893e-8823-4931-861c-d2ecbd2ae456 div.sk-label input.sk-toggleable__control:checked~label.sk-toggleable__label {background-color: #d4ebff;}#sk-f188893e-8823-4931-861c-d2ecbd2ae456 input.sk-hidden--visually {border: 0;clip: rect(1px 1px 1px 1px);clip: rect(1px, 1px, 1px, 1px);height: 1px;margin: -1px;overflow: hidden;padding: 0;position: absolute;width: 1px;}#sk-f188893e-8823-4931-861c-d2ecbd2ae456 div.sk-estimator {font-family: monospace;background-color: #f0f8ff;border: 1px dotted black;border-radius: 0.25em;box-sizing: border-box;margin-bottom: 0.5em;}#sk-f188893e-8823-4931-861c-d2ecbd2ae456 div.sk-estimator:hover {background-color: #d4ebff;}#sk-f188893e-8823-4931-861c-d2ecbd2ae456 div.sk-parallel-item::after {content: \"\";width: 100%;border-bottom: 1px solid gray;flex-grow: 1;}#sk-f188893e-8823-4931-861c-d2ecbd2ae456 div.sk-label:hover label.sk-toggleable__label {background-color: #d4ebff;}#sk-f188893e-8823-4931-861c-d2ecbd2ae456 div.sk-serial::before {content: \"\";position: absolute;border-left: 1px solid gray;box-sizing: border-box;top: 2em;bottom: 0;left: 50%;}#sk-f188893e-8823-4931-861c-d2ecbd2ae456 div.sk-serial {display: flex;flex-direction: column;align-items: center;background-color: white;padding-right: 0.2em;padding-left: 0.2em;}#sk-f188893e-8823-4931-861c-d2ecbd2ae456 div.sk-item {z-index: 1;}#sk-f188893e-8823-4931-861c-d2ecbd2ae456 div.sk-parallel {display: flex;align-items: stretch;justify-content: center;background-color: white;}#sk-f188893e-8823-4931-861c-d2ecbd2ae456 div.sk-parallel::before {content: \"\";position: absolute;border-left: 1px solid gray;box-sizing: border-box;top: 2em;bottom: 0;left: 50%;}#sk-f188893e-8823-4931-861c-d2ecbd2ae456 div.sk-parallel-item {display: flex;flex-direction: column;position: relative;background-color: white;}#sk-f188893e-8823-4931-861c-d2ecbd2ae456 div.sk-parallel-item:first-child::after {align-self: flex-end;width: 50%;}#sk-f188893e-8823-4931-861c-d2ecbd2ae456 div.sk-parallel-item:last-child::after {align-self: flex-start;width: 50%;}#sk-f188893e-8823-4931-861c-d2ecbd2ae456 div.sk-parallel-item:only-child::after {width: 0;}#sk-f188893e-8823-4931-861c-d2ecbd2ae456 div.sk-dashed-wrapped {border: 1px dashed gray;margin: 0 0.4em 0.5em 0.4em;box-sizing: border-box;padding-bottom: 0.4em;background-color: white;position: relative;}#sk-f188893e-8823-4931-861c-d2ecbd2ae456 div.sk-label label {font-family: monospace;font-weight: bold;background-color: white;display: inline-block;line-height: 1.2em;}#sk-f188893e-8823-4931-861c-d2ecbd2ae456 div.sk-label-container {position: relative;z-index: 2;text-align: center;}#sk-f188893e-8823-4931-861c-d2ecbd2ae456 div.sk-container {/* jupyter's `normalize.less` sets `[hidden] { display: none; }` but bootstrap.min.css set `[hidden] { display: none !important; }` so we also need the `!important` here to be able to override the default hidden behavior on the sphinx rendered scikit-learn.org. See: https://github.com/scikit-learn/scikit-learn/issues/21755 */display: inline-block !important;position: relative;}#sk-f188893e-8823-4931-861c-d2ecbd2ae456 div.sk-text-repr-fallback {display: none;}</style><div id=\"sk-f188893e-8823-4931-861c-d2ecbd2ae456\" class=\"sk-top-container\"><div class=\"sk-text-repr-fallback\"><pre>Pipeline(steps=[(&#x27;preprocessor&#x27;,\n",
       "                 ColumnTransformer(transformers=[(&#x27;pipeline_categorico&#x27;,\n",
       "                                                  Pipeline(steps=[(&#x27;impute&#x27;,\n",
       "                                                                   SimpleImputer(strategy=&#x27;most_frequent&#x27;)),\n",
       "                                                                  (&#x27;one_hot_encoder&#x27;,\n",
       "                                                                   OneHotEncoder(drop=&#x27;first&#x27;,\n",
       "                                                                                 handle_unknown=&#x27;ignore&#x27;))]),\n",
       "                                                  [&#x27;genero&#x27;, &#x27;polyuria&#x27;,\n",
       "                                                   &#x27;polydipsia&#x27;,\n",
       "                                                   &#x27;perda_de_peso_repentina&#x27;,\n",
       "                                                   &#x27;polyphagia&#x27;,\n",
       "                                                   &#x27;irritabilidade&#x27;,\n",
       "                                                   &#x27;paresia_parcial&#x27;,\n",
       "                                                   &#x27;alopecia&#x27;]),\n",
       "                                                 (&#x27;pipeline_numerico&#x27;,\n",
       "                                                  Pipeline(steps=[(&#x27;impute&#x27;,\n",
       "                                                                   SimpleImputer(strategy=&#x27;median&#x27;))]),\n",
       "                                                  [&#x27;idade&#x27;])])),\n",
       "                (&#x27;model_rf&#x27;,\n",
       "                 RandomForestClassifier(class_weight=&#x27;balanced&#x27;, max_depth=7,\n",
       "                                        min_samples_leaf=3,\n",
       "                                        min_samples_split=14, n_estimators=235,\n",
       "                                        random_state=0))])</pre><b>Please rerun this cell to show the HTML repr or trust the notebook.</b></div><div class=\"sk-container\" hidden><div class=\"sk-item sk-dashed-wrapped\"><div class=\"sk-label-container\"><div class=\"sk-label sk-toggleable\"><input class=\"sk-toggleable__control sk-hidden--visually\" id=\"b871fa58-2fa4-4b33-9493-9dcc9adc04d5\" type=\"checkbox\" ><label for=\"b871fa58-2fa4-4b33-9493-9dcc9adc04d5\" class=\"sk-toggleable__label sk-toggleable__label-arrow\">Pipeline</label><div class=\"sk-toggleable__content\"><pre>Pipeline(steps=[(&#x27;preprocessor&#x27;,\n",
       "                 ColumnTransformer(transformers=[(&#x27;pipeline_categorico&#x27;,\n",
       "                                                  Pipeline(steps=[(&#x27;impute&#x27;,\n",
       "                                                                   SimpleImputer(strategy=&#x27;most_frequent&#x27;)),\n",
       "                                                                  (&#x27;one_hot_encoder&#x27;,\n",
       "                                                                   OneHotEncoder(drop=&#x27;first&#x27;,\n",
       "                                                                                 handle_unknown=&#x27;ignore&#x27;))]),\n",
       "                                                  [&#x27;genero&#x27;, &#x27;polyuria&#x27;,\n",
       "                                                   &#x27;polydipsia&#x27;,\n",
       "                                                   &#x27;perda_de_peso_repentina&#x27;,\n",
       "                                                   &#x27;polyphagia&#x27;,\n",
       "                                                   &#x27;irritabilidade&#x27;,\n",
       "                                                   &#x27;paresia_parcial&#x27;,\n",
       "                                                   &#x27;alopecia&#x27;]),\n",
       "                                                 (&#x27;pipeline_numerico&#x27;,\n",
       "                                                  Pipeline(steps=[(&#x27;impute&#x27;,\n",
       "                                                                   SimpleImputer(strategy=&#x27;median&#x27;))]),\n",
       "                                                  [&#x27;idade&#x27;])])),\n",
       "                (&#x27;model_rf&#x27;,\n",
       "                 RandomForestClassifier(class_weight=&#x27;balanced&#x27;, max_depth=7,\n",
       "                                        min_samples_leaf=3,\n",
       "                                        min_samples_split=14, n_estimators=235,\n",
       "                                        random_state=0))])</pre></div></div></div><div class=\"sk-serial\"><div class=\"sk-item sk-dashed-wrapped\"><div class=\"sk-label-container\"><div class=\"sk-label sk-toggleable\"><input class=\"sk-toggleable__control sk-hidden--visually\" id=\"dae4a586-a0d4-4561-90f4-fd259d12c20d\" type=\"checkbox\" ><label for=\"dae4a586-a0d4-4561-90f4-fd259d12c20d\" class=\"sk-toggleable__label sk-toggleable__label-arrow\">preprocessor: ColumnTransformer</label><div class=\"sk-toggleable__content\"><pre>ColumnTransformer(transformers=[(&#x27;pipeline_categorico&#x27;,\n",
       "                                 Pipeline(steps=[(&#x27;impute&#x27;,\n",
       "                                                  SimpleImputer(strategy=&#x27;most_frequent&#x27;)),\n",
       "                                                 (&#x27;one_hot_encoder&#x27;,\n",
       "                                                  OneHotEncoder(drop=&#x27;first&#x27;,\n",
       "                                                                handle_unknown=&#x27;ignore&#x27;))]),\n",
       "                                 [&#x27;genero&#x27;, &#x27;polyuria&#x27;, &#x27;polydipsia&#x27;,\n",
       "                                  &#x27;perda_de_peso_repentina&#x27;, &#x27;polyphagia&#x27;,\n",
       "                                  &#x27;irritabilidade&#x27;, &#x27;paresia_parcial&#x27;,\n",
       "                                  &#x27;alopecia&#x27;]),\n",
       "                                (&#x27;pipeline_numerico&#x27;,\n",
       "                                 Pipeline(steps=[(&#x27;impute&#x27;,\n",
       "                                                  SimpleImputer(strategy=&#x27;median&#x27;))]),\n",
       "                                 [&#x27;idade&#x27;])])</pre></div></div></div><div class=\"sk-parallel\"><div class=\"sk-parallel-item\"><div class=\"sk-item\"><div class=\"sk-label-container\"><div class=\"sk-label sk-toggleable\"><input class=\"sk-toggleable__control sk-hidden--visually\" id=\"83523e90-b8a8-4314-9f7a-367f1592259c\" type=\"checkbox\" ><label for=\"83523e90-b8a8-4314-9f7a-367f1592259c\" class=\"sk-toggleable__label sk-toggleable__label-arrow\">pipeline_categorico</label><div class=\"sk-toggleable__content\"><pre>[&#x27;genero&#x27;, &#x27;polyuria&#x27;, &#x27;polydipsia&#x27;, &#x27;perda_de_peso_repentina&#x27;, &#x27;polyphagia&#x27;, &#x27;irritabilidade&#x27;, &#x27;paresia_parcial&#x27;, &#x27;alopecia&#x27;]</pre></div></div></div><div class=\"sk-serial\"><div class=\"sk-item\"><div class=\"sk-serial\"><div class=\"sk-item\"><div class=\"sk-estimator sk-toggleable\"><input class=\"sk-toggleable__control sk-hidden--visually\" id=\"7e6aaebf-6575-448d-a587-d9b6ab2fdf83\" type=\"checkbox\" ><label for=\"7e6aaebf-6575-448d-a587-d9b6ab2fdf83\" class=\"sk-toggleable__label sk-toggleable__label-arrow\">SimpleImputer</label><div class=\"sk-toggleable__content\"><pre>SimpleImputer(strategy=&#x27;most_frequent&#x27;)</pre></div></div></div><div class=\"sk-item\"><div class=\"sk-estimator sk-toggleable\"><input class=\"sk-toggleable__control sk-hidden--visually\" id=\"17d2b6bf-f2dd-48cf-a1b1-9f1658d21ae6\" type=\"checkbox\" ><label for=\"17d2b6bf-f2dd-48cf-a1b1-9f1658d21ae6\" class=\"sk-toggleable__label sk-toggleable__label-arrow\">OneHotEncoder</label><div class=\"sk-toggleable__content\"><pre>OneHotEncoder(drop=&#x27;first&#x27;, handle_unknown=&#x27;ignore&#x27;)</pre></div></div></div></div></div></div></div></div><div class=\"sk-parallel-item\"><div class=\"sk-item\"><div class=\"sk-label-container\"><div class=\"sk-label sk-toggleable\"><input class=\"sk-toggleable__control sk-hidden--visually\" id=\"ac75d5cb-2530-4637-a2ca-cffcffaf5f84\" type=\"checkbox\" ><label for=\"ac75d5cb-2530-4637-a2ca-cffcffaf5f84\" class=\"sk-toggleable__label sk-toggleable__label-arrow\">pipeline_numerico</label><div class=\"sk-toggleable__content\"><pre>[&#x27;idade&#x27;]</pre></div></div></div><div class=\"sk-serial\"><div class=\"sk-item\"><div class=\"sk-serial\"><div class=\"sk-item\"><div class=\"sk-estimator sk-toggleable\"><input class=\"sk-toggleable__control sk-hidden--visually\" id=\"e4610c9e-5297-4284-a11a-4c1dd293a88e\" type=\"checkbox\" ><label for=\"e4610c9e-5297-4284-a11a-4c1dd293a88e\" class=\"sk-toggleable__label sk-toggleable__label-arrow\">SimpleImputer</label><div class=\"sk-toggleable__content\"><pre>SimpleImputer(strategy=&#x27;median&#x27;)</pre></div></div></div></div></div></div></div></div></div></div><div class=\"sk-item\"><div class=\"sk-estimator sk-toggleable\"><input class=\"sk-toggleable__control sk-hidden--visually\" id=\"0b73b682-02ec-4b39-8506-e11f1b0ef827\" type=\"checkbox\" ><label for=\"0b73b682-02ec-4b39-8506-e11f1b0ef827\" class=\"sk-toggleable__label sk-toggleable__label-arrow\">RandomForestClassifier</label><div class=\"sk-toggleable__content\"><pre>RandomForestClassifier(class_weight=&#x27;balanced&#x27;, max_depth=7, min_samples_leaf=3,\n",
       "                       min_samples_split=14, n_estimators=235, random_state=0)</pre></div></div></div></div></div></div></div>"
      ],
      "text/plain": [
       "Pipeline(steps=[('preprocessor',\n",
       "                 ColumnTransformer(transformers=[('pipeline_categorico',\n",
       "                                                  Pipeline(steps=[('impute',\n",
       "                                                                   SimpleImputer(strategy='most_frequent')),\n",
       "                                                                  ('one_hot_encoder',\n",
       "                                                                   OneHotEncoder(drop='first',\n",
       "                                                                                 handle_unknown='ignore'))]),\n",
       "                                                  ['genero', 'polyuria',\n",
       "                                                   'polydipsia',\n",
       "                                                   'perda_de_peso_repentina',\n",
       "                                                   'polyphagia',\n",
       "                                                   'irritabilidade',\n",
       "                                                   'paresia_parcial',\n",
       "                                                   'alopecia']),\n",
       "                                                 ('pipeline_numerico',\n",
       "                                                  Pipeline(steps=[('impute',\n",
       "                                                                   SimpleImputer(strategy='median'))]),\n",
       "                                                  ['idade'])])),\n",
       "                ('model_rf',\n",
       "                 RandomForestClassifier(class_weight='balanced', max_depth=7,\n",
       "                                        min_samples_leaf=3,\n",
       "                                        min_samples_split=14, n_estimators=235,\n",
       "                                        random_state=0))])"
      ]
     },
     "execution_count": 86,
     "metadata": {},
     "output_type": "execute_result"
    }
   ],
   "source": [
    "#Definindo os melhores hiperparâmetros, baseados na busca feita com a otimização bayesiana\n",
    "modelo_pipe.set_params(**study.best_params)"
   ]
  },
  {
   "cell_type": "code",
   "execution_count": 87,
   "id": "bb7ea784",
   "metadata": {},
   "outputs": [
    {
     "data": {
      "text/html": [
       "<style>#sk-cd93950a-7b11-44f6-b992-7ce6461c9997 {color: black;background-color: white;}#sk-cd93950a-7b11-44f6-b992-7ce6461c9997 pre{padding: 0;}#sk-cd93950a-7b11-44f6-b992-7ce6461c9997 div.sk-toggleable {background-color: white;}#sk-cd93950a-7b11-44f6-b992-7ce6461c9997 label.sk-toggleable__label {cursor: pointer;display: block;width: 100%;margin-bottom: 0;padding: 0.3em;box-sizing: border-box;text-align: center;}#sk-cd93950a-7b11-44f6-b992-7ce6461c9997 label.sk-toggleable__label-arrow:before {content: \"▸\";float: left;margin-right: 0.25em;color: #696969;}#sk-cd93950a-7b11-44f6-b992-7ce6461c9997 label.sk-toggleable__label-arrow:hover:before {color: black;}#sk-cd93950a-7b11-44f6-b992-7ce6461c9997 div.sk-estimator:hover label.sk-toggleable__label-arrow:before {color: black;}#sk-cd93950a-7b11-44f6-b992-7ce6461c9997 div.sk-toggleable__content {max-height: 0;max-width: 0;overflow: hidden;text-align: left;background-color: #f0f8ff;}#sk-cd93950a-7b11-44f6-b992-7ce6461c9997 div.sk-toggleable__content pre {margin: 0.2em;color: black;border-radius: 0.25em;background-color: #f0f8ff;}#sk-cd93950a-7b11-44f6-b992-7ce6461c9997 input.sk-toggleable__control:checked~div.sk-toggleable__content {max-height: 200px;max-width: 100%;overflow: auto;}#sk-cd93950a-7b11-44f6-b992-7ce6461c9997 input.sk-toggleable__control:checked~label.sk-toggleable__label-arrow:before {content: \"▾\";}#sk-cd93950a-7b11-44f6-b992-7ce6461c9997 div.sk-estimator input.sk-toggleable__control:checked~label.sk-toggleable__label {background-color: #d4ebff;}#sk-cd93950a-7b11-44f6-b992-7ce6461c9997 div.sk-label input.sk-toggleable__control:checked~label.sk-toggleable__label {background-color: #d4ebff;}#sk-cd93950a-7b11-44f6-b992-7ce6461c9997 input.sk-hidden--visually {border: 0;clip: rect(1px 1px 1px 1px);clip: rect(1px, 1px, 1px, 1px);height: 1px;margin: -1px;overflow: hidden;padding: 0;position: absolute;width: 1px;}#sk-cd93950a-7b11-44f6-b992-7ce6461c9997 div.sk-estimator {font-family: monospace;background-color: #f0f8ff;border: 1px dotted black;border-radius: 0.25em;box-sizing: border-box;margin-bottom: 0.5em;}#sk-cd93950a-7b11-44f6-b992-7ce6461c9997 div.sk-estimator:hover {background-color: #d4ebff;}#sk-cd93950a-7b11-44f6-b992-7ce6461c9997 div.sk-parallel-item::after {content: \"\";width: 100%;border-bottom: 1px solid gray;flex-grow: 1;}#sk-cd93950a-7b11-44f6-b992-7ce6461c9997 div.sk-label:hover label.sk-toggleable__label {background-color: #d4ebff;}#sk-cd93950a-7b11-44f6-b992-7ce6461c9997 div.sk-serial::before {content: \"\";position: absolute;border-left: 1px solid gray;box-sizing: border-box;top: 2em;bottom: 0;left: 50%;}#sk-cd93950a-7b11-44f6-b992-7ce6461c9997 div.sk-serial {display: flex;flex-direction: column;align-items: center;background-color: white;padding-right: 0.2em;padding-left: 0.2em;}#sk-cd93950a-7b11-44f6-b992-7ce6461c9997 div.sk-item {z-index: 1;}#sk-cd93950a-7b11-44f6-b992-7ce6461c9997 div.sk-parallel {display: flex;align-items: stretch;justify-content: center;background-color: white;}#sk-cd93950a-7b11-44f6-b992-7ce6461c9997 div.sk-parallel::before {content: \"\";position: absolute;border-left: 1px solid gray;box-sizing: border-box;top: 2em;bottom: 0;left: 50%;}#sk-cd93950a-7b11-44f6-b992-7ce6461c9997 div.sk-parallel-item {display: flex;flex-direction: column;position: relative;background-color: white;}#sk-cd93950a-7b11-44f6-b992-7ce6461c9997 div.sk-parallel-item:first-child::after {align-self: flex-end;width: 50%;}#sk-cd93950a-7b11-44f6-b992-7ce6461c9997 div.sk-parallel-item:last-child::after {align-self: flex-start;width: 50%;}#sk-cd93950a-7b11-44f6-b992-7ce6461c9997 div.sk-parallel-item:only-child::after {width: 0;}#sk-cd93950a-7b11-44f6-b992-7ce6461c9997 div.sk-dashed-wrapped {border: 1px dashed gray;margin: 0 0.4em 0.5em 0.4em;box-sizing: border-box;padding-bottom: 0.4em;background-color: white;position: relative;}#sk-cd93950a-7b11-44f6-b992-7ce6461c9997 div.sk-label label {font-family: monospace;font-weight: bold;background-color: white;display: inline-block;line-height: 1.2em;}#sk-cd93950a-7b11-44f6-b992-7ce6461c9997 div.sk-label-container {position: relative;z-index: 2;text-align: center;}#sk-cd93950a-7b11-44f6-b992-7ce6461c9997 div.sk-container {/* jupyter's `normalize.less` sets `[hidden] { display: none; }` but bootstrap.min.css set `[hidden] { display: none !important; }` so we also need the `!important` here to be able to override the default hidden behavior on the sphinx rendered scikit-learn.org. See: https://github.com/scikit-learn/scikit-learn/issues/21755 */display: inline-block !important;position: relative;}#sk-cd93950a-7b11-44f6-b992-7ce6461c9997 div.sk-text-repr-fallback {display: none;}</style><div id=\"sk-cd93950a-7b11-44f6-b992-7ce6461c9997\" class=\"sk-top-container\"><div class=\"sk-text-repr-fallback\"><pre>Pipeline(steps=[(&#x27;preprocessor&#x27;,\n",
       "                 ColumnTransformer(transformers=[(&#x27;pipeline_categorico&#x27;,\n",
       "                                                  Pipeline(steps=[(&#x27;impute&#x27;,\n",
       "                                                                   SimpleImputer(strategy=&#x27;most_frequent&#x27;)),\n",
       "                                                                  (&#x27;one_hot_encoder&#x27;,\n",
       "                                                                   OneHotEncoder(drop=&#x27;first&#x27;,\n",
       "                                                                                 handle_unknown=&#x27;ignore&#x27;))]),\n",
       "                                                  [&#x27;genero&#x27;, &#x27;polyuria&#x27;,\n",
       "                                                   &#x27;polydipsia&#x27;,\n",
       "                                                   &#x27;perda_de_peso_repentina&#x27;,\n",
       "                                                   &#x27;polyphagia&#x27;,\n",
       "                                                   &#x27;irritabilidade&#x27;,\n",
       "                                                   &#x27;paresia_parcial&#x27;,\n",
       "                                                   &#x27;alopecia&#x27;]),\n",
       "                                                 (&#x27;pipeline_numerico&#x27;,\n",
       "                                                  Pipeline(steps=[(&#x27;impute&#x27;,\n",
       "                                                                   SimpleImputer(strategy=&#x27;median&#x27;))]),\n",
       "                                                  [&#x27;idade&#x27;])])),\n",
       "                (&#x27;model_rf&#x27;,\n",
       "                 RandomForestClassifier(class_weight=&#x27;balanced&#x27;, max_depth=7,\n",
       "                                        min_samples_leaf=3,\n",
       "                                        min_samples_split=14, n_estimators=235,\n",
       "                                        random_state=0))])</pre><b>Please rerun this cell to show the HTML repr or trust the notebook.</b></div><div class=\"sk-container\" hidden><div class=\"sk-item sk-dashed-wrapped\"><div class=\"sk-label-container\"><div class=\"sk-label sk-toggleable\"><input class=\"sk-toggleable__control sk-hidden--visually\" id=\"52c99f6d-e5ed-4b61-9919-e54d8ddc290a\" type=\"checkbox\" ><label for=\"52c99f6d-e5ed-4b61-9919-e54d8ddc290a\" class=\"sk-toggleable__label sk-toggleable__label-arrow\">Pipeline</label><div class=\"sk-toggleable__content\"><pre>Pipeline(steps=[(&#x27;preprocessor&#x27;,\n",
       "                 ColumnTransformer(transformers=[(&#x27;pipeline_categorico&#x27;,\n",
       "                                                  Pipeline(steps=[(&#x27;impute&#x27;,\n",
       "                                                                   SimpleImputer(strategy=&#x27;most_frequent&#x27;)),\n",
       "                                                                  (&#x27;one_hot_encoder&#x27;,\n",
       "                                                                   OneHotEncoder(drop=&#x27;first&#x27;,\n",
       "                                                                                 handle_unknown=&#x27;ignore&#x27;))]),\n",
       "                                                  [&#x27;genero&#x27;, &#x27;polyuria&#x27;,\n",
       "                                                   &#x27;polydipsia&#x27;,\n",
       "                                                   &#x27;perda_de_peso_repentina&#x27;,\n",
       "                                                   &#x27;polyphagia&#x27;,\n",
       "                                                   &#x27;irritabilidade&#x27;,\n",
       "                                                   &#x27;paresia_parcial&#x27;,\n",
       "                                                   &#x27;alopecia&#x27;]),\n",
       "                                                 (&#x27;pipeline_numerico&#x27;,\n",
       "                                                  Pipeline(steps=[(&#x27;impute&#x27;,\n",
       "                                                                   SimpleImputer(strategy=&#x27;median&#x27;))]),\n",
       "                                                  [&#x27;idade&#x27;])])),\n",
       "                (&#x27;model_rf&#x27;,\n",
       "                 RandomForestClassifier(class_weight=&#x27;balanced&#x27;, max_depth=7,\n",
       "                                        min_samples_leaf=3,\n",
       "                                        min_samples_split=14, n_estimators=235,\n",
       "                                        random_state=0))])</pre></div></div></div><div class=\"sk-serial\"><div class=\"sk-item sk-dashed-wrapped\"><div class=\"sk-label-container\"><div class=\"sk-label sk-toggleable\"><input class=\"sk-toggleable__control sk-hidden--visually\" id=\"0f691307-61b2-40ec-8671-88c885d33dd6\" type=\"checkbox\" ><label for=\"0f691307-61b2-40ec-8671-88c885d33dd6\" class=\"sk-toggleable__label sk-toggleable__label-arrow\">preprocessor: ColumnTransformer</label><div class=\"sk-toggleable__content\"><pre>ColumnTransformer(transformers=[(&#x27;pipeline_categorico&#x27;,\n",
       "                                 Pipeline(steps=[(&#x27;impute&#x27;,\n",
       "                                                  SimpleImputer(strategy=&#x27;most_frequent&#x27;)),\n",
       "                                                 (&#x27;one_hot_encoder&#x27;,\n",
       "                                                  OneHotEncoder(drop=&#x27;first&#x27;,\n",
       "                                                                handle_unknown=&#x27;ignore&#x27;))]),\n",
       "                                 [&#x27;genero&#x27;, &#x27;polyuria&#x27;, &#x27;polydipsia&#x27;,\n",
       "                                  &#x27;perda_de_peso_repentina&#x27;, &#x27;polyphagia&#x27;,\n",
       "                                  &#x27;irritabilidade&#x27;, &#x27;paresia_parcial&#x27;,\n",
       "                                  &#x27;alopecia&#x27;]),\n",
       "                                (&#x27;pipeline_numerico&#x27;,\n",
       "                                 Pipeline(steps=[(&#x27;impute&#x27;,\n",
       "                                                  SimpleImputer(strategy=&#x27;median&#x27;))]),\n",
       "                                 [&#x27;idade&#x27;])])</pre></div></div></div><div class=\"sk-parallel\"><div class=\"sk-parallel-item\"><div class=\"sk-item\"><div class=\"sk-label-container\"><div class=\"sk-label sk-toggleable\"><input class=\"sk-toggleable__control sk-hidden--visually\" id=\"90c1c450-d73d-45ed-86dd-f5fb530b9239\" type=\"checkbox\" ><label for=\"90c1c450-d73d-45ed-86dd-f5fb530b9239\" class=\"sk-toggleable__label sk-toggleable__label-arrow\">pipeline_categorico</label><div class=\"sk-toggleable__content\"><pre>[&#x27;genero&#x27;, &#x27;polyuria&#x27;, &#x27;polydipsia&#x27;, &#x27;perda_de_peso_repentina&#x27;, &#x27;polyphagia&#x27;, &#x27;irritabilidade&#x27;, &#x27;paresia_parcial&#x27;, &#x27;alopecia&#x27;]</pre></div></div></div><div class=\"sk-serial\"><div class=\"sk-item\"><div class=\"sk-serial\"><div class=\"sk-item\"><div class=\"sk-estimator sk-toggleable\"><input class=\"sk-toggleable__control sk-hidden--visually\" id=\"68ccd55a-7bdd-4233-a0e7-8ecea5e41ebf\" type=\"checkbox\" ><label for=\"68ccd55a-7bdd-4233-a0e7-8ecea5e41ebf\" class=\"sk-toggleable__label sk-toggleable__label-arrow\">SimpleImputer</label><div class=\"sk-toggleable__content\"><pre>SimpleImputer(strategy=&#x27;most_frequent&#x27;)</pre></div></div></div><div class=\"sk-item\"><div class=\"sk-estimator sk-toggleable\"><input class=\"sk-toggleable__control sk-hidden--visually\" id=\"4432eb2b-5aa1-4451-a85d-c02a916dc757\" type=\"checkbox\" ><label for=\"4432eb2b-5aa1-4451-a85d-c02a916dc757\" class=\"sk-toggleable__label sk-toggleable__label-arrow\">OneHotEncoder</label><div class=\"sk-toggleable__content\"><pre>OneHotEncoder(drop=&#x27;first&#x27;, handle_unknown=&#x27;ignore&#x27;)</pre></div></div></div></div></div></div></div></div><div class=\"sk-parallel-item\"><div class=\"sk-item\"><div class=\"sk-label-container\"><div class=\"sk-label sk-toggleable\"><input class=\"sk-toggleable__control sk-hidden--visually\" id=\"9409de82-2dae-4baa-9b77-dd46a2999ccd\" type=\"checkbox\" ><label for=\"9409de82-2dae-4baa-9b77-dd46a2999ccd\" class=\"sk-toggleable__label sk-toggleable__label-arrow\">pipeline_numerico</label><div class=\"sk-toggleable__content\"><pre>[&#x27;idade&#x27;]</pre></div></div></div><div class=\"sk-serial\"><div class=\"sk-item\"><div class=\"sk-serial\"><div class=\"sk-item\"><div class=\"sk-estimator sk-toggleable\"><input class=\"sk-toggleable__control sk-hidden--visually\" id=\"4d85bebf-2208-4b98-86e7-bae7a3f35a7e\" type=\"checkbox\" ><label for=\"4d85bebf-2208-4b98-86e7-bae7a3f35a7e\" class=\"sk-toggleable__label sk-toggleable__label-arrow\">SimpleImputer</label><div class=\"sk-toggleable__content\"><pre>SimpleImputer(strategy=&#x27;median&#x27;)</pre></div></div></div></div></div></div></div></div></div></div><div class=\"sk-item\"><div class=\"sk-estimator sk-toggleable\"><input class=\"sk-toggleable__control sk-hidden--visually\" id=\"934851da-8d88-42c3-923a-220e5a3fff0a\" type=\"checkbox\" ><label for=\"934851da-8d88-42c3-923a-220e5a3fff0a\" class=\"sk-toggleable__label sk-toggleable__label-arrow\">RandomForestClassifier</label><div class=\"sk-toggleable__content\"><pre>RandomForestClassifier(class_weight=&#x27;balanced&#x27;, max_depth=7, min_samples_leaf=3,\n",
       "                       min_samples_split=14, n_estimators=235, random_state=0)</pre></div></div></div></div></div></div></div>"
      ],
      "text/plain": [
       "Pipeline(steps=[('preprocessor',\n",
       "                 ColumnTransformer(transformers=[('pipeline_categorico',\n",
       "                                                  Pipeline(steps=[('impute',\n",
       "                                                                   SimpleImputer(strategy='most_frequent')),\n",
       "                                                                  ('one_hot_encoder',\n",
       "                                                                   OneHotEncoder(drop='first',\n",
       "                                                                                 handle_unknown='ignore'))]),\n",
       "                                                  ['genero', 'polyuria',\n",
       "                                                   'polydipsia',\n",
       "                                                   'perda_de_peso_repentina',\n",
       "                                                   'polyphagia',\n",
       "                                                   'irritabilidade',\n",
       "                                                   'paresia_parcial',\n",
       "                                                   'alopecia']),\n",
       "                                                 ('pipeline_numerico',\n",
       "                                                  Pipeline(steps=[('impute',\n",
       "                                                                   SimpleImputer(strategy='median'))]),\n",
       "                                                  ['idade'])])),\n",
       "                ('model_rf',\n",
       "                 RandomForestClassifier(class_weight='balanced', max_depth=7,\n",
       "                                        min_samples_leaf=3,\n",
       "                                        min_samples_split=14, n_estimators=235,\n",
       "                                        random_state=0))])"
      ]
     },
     "execution_count": 87,
     "metadata": {},
     "output_type": "execute_result"
    }
   ],
   "source": [
    "# plotando o pipeline\n",
    "set_config(display='diagram')\n",
    "# Treinando o modelo\n",
    "modelo_pipe.fit(X,y)"
   ]
  },
  {
   "cell_type": "markdown",
   "id": "60d4113d",
   "metadata": {},
   "source": [
    "## Curva de Aprendizado\n",
    "\n",
    "Aqui utilizaremos a curva de aprendizado para diagnosticar possíveis problemas de viés ou variância.\n"
   ]
  },
  {
   "cell_type": "code",
   "execution_count": 88,
   "id": "d2caba68",
   "metadata": {
    "scrolled": true
   },
   "outputs": [
    {
     "data": {
      "image/png": "[encoded data removed]",
      "text/plain": [
       "<Figure size 432x288 with 1 Axes>"
      ]
     },
     "metadata": {
      "needs_background": "light"
     },
     "output_type": "display_data"
    },
    {
     "data": {
      "text/plain": [
       "<AxesSubplot:title={'center':'Learning Curve for RandomForestClassifier'}, xlabel='Training Instances', ylabel='Score'>"
      ]
     },
     "execution_count": 88,
     "metadata": {},
     "output_type": "execute_result"
    }
   ],
   "source": [
    "visualizer = LearningCurve(modelo_pipe, cv=cv, scoring='roc_auc', n_jobs=4, random_state = 123)\n",
    "visualizer.fit(X, y)    \n",
    "plt.ylim((0,1.01))\n",
    "visualizer.show() "
   ]
  },
  {
   "cell_type": "markdown",
   "id": "181d7b6c",
   "metadata": {},
   "source": [
    "Pela curva apresentada, vemos que existe a tendência do modelo atingir uma performance muito parecida no treinamento e no teste à medida que aumentamos o número de registros de treinamento. Talvez com uma base maior tenhamos um aumento de performance.\n",
    "\n",
    "Além disso, é necessário dizer que técnicas como OverSampling (RandomOverSampling, SMOTE) e UnderSampling podem ser utilizadas para incrementar a performance do modelo. No nosso caso, utilizamos apenas o parâmetro class_weight='balanced' para o próprio algoritmo lidar com as classes de maneira diferente no momento do treinamento."
   ]
  },
  {
   "cell_type": "markdown",
   "id": "01c27be1",
   "metadata": {},
   "source": [
    "## Dados de teste"
   ]
  },
  {
   "cell_type": "code",
   "execution_count": 89,
   "id": "31d975d7",
   "metadata": {},
   "outputs": [],
   "source": [
    "#Renomeando colunas\n",
    "df_test.rename(columns={'Age': 'idade','Gender':'genero','Polyuria':'polyuria','Polydipsia':'polydipsia','sudden weight loss':'perda_de_peso_repentina',\n",
    "                        'weakness':'fraqueza','Polyphagia':'polyphagia','Genital thrush':'candidíase_genital',\n",
    "                        'visual blurring':'desfoque_visual','Itching':'coceira','Irritability':'irritabilidade',\n",
    "                        'delayed healing':'cicatrização_retardada','partial paresis':'paresia_parcial',\n",
    "                        'muscle stiffness':'rigidez_muscular','Alopecia':'alopecia','Obesity':'obesidade','class':'target'},inplace=True)\n"
   ]
  },
  {
   "cell_type": "code",
   "execution_count": 90,
   "id": "b6ef3821",
   "metadata": {},
   "outputs": [],
   "source": [
    "variaveis_categoricas = set(df_test.select_dtypes(include=['object']).columns.tolist())\n",
    "for var_cat in variaveis_categoricas:\n",
    "    df_test[var_cat]=df_test[var_cat].str.lower()"
   ]
  },
  {
   "cell_type": "code",
   "execution_count": 91,
   "id": "9605cc08",
   "metadata": {},
   "outputs": [],
   "source": [
    "#Selecionando colunas que foram selecionadas na parte de treino. \n",
    "df_test = df_test[['idade','genero','polyuria','polydipsia','perda_de_peso_repentina','polyphagia','irritabilidade','paresia_parcial','alopecia','target']]"
   ]
  },
  {
   "cell_type": "code",
   "execution_count": 92,
   "id": "fb3f596d",
   "metadata": {},
   "outputs": [],
   "source": [
    "y_pred_test = modelo_pipe.predict(df_test.drop(target,axis=1))"
   ]
  },
  {
   "cell_type": "code",
   "execution_count": 93,
   "id": "da1f7b97",
   "metadata": {},
   "outputs": [],
   "source": [
    "recall_score_teste = recall_score(df_test['target'], y_pred_test,average='weighted')"
   ]
  },
  {
   "cell_type": "code",
   "execution_count": 94,
   "id": "0addef3f",
   "metadata": {},
   "outputs": [
    {
     "name": "stdout",
     "output_type": "stream",
     "text": [
      "O modelo obteve um score de teste para o recall de: 0.8942307692307693\n"
     ]
    }
   ],
   "source": [
    "recall_score_teste = recall_score(df_test['target'], y_pred_test,average='weighted')\n",
    "print(f'O modelo obteve um score de teste para o recall de: {recall_score_teste}')"
   ]
  },
  {
   "cell_type": "markdown",
   "id": "efcf318b",
   "metadata": {},
   "source": [
    "Temos que avaliar nossa métrica versus a métrica da solução que já está disponível na empresa. Na ausência de um modelo existente, podemos utilizar \"naive classifiers\" construídos com regras simples, para medir qual ganho de performance temos ao implementarmos o modelo de machine-learning."
   ]
  },
  {
   "cell_type": "code",
   "execution_count": 95,
   "id": "046940a2",
   "metadata": {},
   "outputs": [],
   "source": [
    "columns_predict = ['Diagnóstico_Diabetes']\n",
    "df_previsoes= pd.DataFrame(y_pred_test, columns=columns_predict)"
   ]
  },
  {
   "cell_type": "code",
   "execution_count": 96,
   "id": "3aaeb2b6",
   "metadata": {},
   "outputs": [
    {
     "data": {
      "text/html": [
       "<div>\n",
       "<style scoped>\n",
       "    .dataframe tbody tr th:only-of-type {\n",
       "        vertical-align: middle;\n",
       "    }\n",
       "\n",
       "    .dataframe tbody tr th {\n",
       "        vertical-align: top;\n",
       "    }\n",
       "\n",
       "    .dataframe thead th {\n",
       "        text-align: right;\n",
       "    }\n",
       "</style>\n",
       "<table border=\"1\" class=\"dataframe\">\n",
       "  <thead>\n",
       "    <tr style=\"text-align: right;\">\n",
       "      <th></th>\n",
       "      <th>Diagnóstico_Diabetes</th>\n",
       "    </tr>\n",
       "  </thead>\n",
       "  <tbody>\n",
       "    <tr>\n",
       "      <th>0</th>\n",
       "      <td>positive</td>\n",
       "    </tr>\n",
       "    <tr>\n",
       "      <th>1</th>\n",
       "      <td>positive</td>\n",
       "    </tr>\n",
       "    <tr>\n",
       "      <th>2</th>\n",
       "      <td>negative</td>\n",
       "    </tr>\n",
       "    <tr>\n",
       "      <th>3</th>\n",
       "      <td>positive</td>\n",
       "    </tr>\n",
       "    <tr>\n",
       "      <th>4</th>\n",
       "      <td>negative</td>\n",
       "    </tr>\n",
       "  </tbody>\n",
       "</table>\n",
       "</div>"
      ],
      "text/plain": [
       "  Diagnóstico_Diabetes\n",
       "0             positive\n",
       "1             positive\n",
       "2             negative\n",
       "3             positive\n",
       "4             negative"
      ]
     },
     "execution_count": 96,
     "metadata": {},
     "output_type": "execute_result"
    }
   ],
   "source": [
    "df_previsoes.head()"
   ]
  },
  {
   "cell_type": "code",
   "execution_count": 97,
   "id": "3702c5d3",
   "metadata": {},
   "outputs": [],
   "source": [
    "df_previsoes.to_csv(os.path.join(PREDICT_PATH, PREDICT_NAME), index=False)"
   ]
  },
  {
   "cell_type": "code",
   "execution_count": 98,
   "id": "95ff245e",
   "metadata": {},
   "outputs": [],
   "source": [
    "#Salvando modelo\n",
    "with open(os.path.join(MODEL_PATH, MODEL_NAME), 'wb') as model:\n",
    "    cloudpickle.dump(modelo_pipe, model)"
   ]
  },
  {
   "cell_type": "markdown",
   "id": "22043a6a",
   "metadata": {},
   "source": [
    "## SHAP"
   ]
  },
  {
   "cell_type": "code",
   "execution_count": 106,
   "id": "73b04ab8",
   "metadata": {},
   "outputs": [],
   "source": [
    "todas_as_variaveis = set(df_train.columns.tolist())\n",
    "todas_as_variaveis.remove(target)"
   ]
  },
  {
   "cell_type": "code",
   "execution_count": 107,
   "id": "5220be0a",
   "metadata": {},
   "outputs": [],
   "source": [
    "X_A1_test = df_test.drop(target, axis=1)\n",
    "X_A1 = df_train.drop(target,axis=1)"
   ]
  },
  {
   "cell_type": "code",
   "execution_count": 108,
   "id": "a7b83c41",
   "metadata": {},
   "outputs": [],
   "source": [
    "# Ordenando variáveis e refitando o modelo (o SHAP dá problemas, bagunçando as colunas e o plot dá errado se não fizer)\n",
    "X_A1_ = X_A1.loc[:,todas_as_variaveis]\n",
    "X_A1_test_ = X_A1_test.loc[:,todas_as_variaveis]"
   ]
  },
  {
   "cell_type": "code",
   "execution_count": 109,
   "id": "5b77757b",
   "metadata": {},
   "outputs": [],
   "source": [
    "# Lendo o modelo salvo \n",
    "with open(os.path.join(MODEL_PATH,MODEL_NAME),'rb') as m:\n",
    "    modelo_salvo = cloudpickle.load(m)"
   ]
  },
  {
   "cell_type": "code",
   "execution_count": 110,
   "id": "4409c386",
   "metadata": {},
   "outputs": [],
   "source": [
    "X_A1_test_shap = pd.DataFrame(modelo_salvo['preprocessor'].transform(X_A1_test_), columns = todas_as_variaveis)\n"
   ]
  },
  {
   "cell_type": "code",
   "execution_count": 111,
   "id": "3f5d92e8",
   "metadata": {},
   "outputs": [],
   "source": [
    "explainer_rf = shap.TreeExplainer(modelo_salvo['model_rf'])\n",
    "shap_values = explainer_rf.shap_values(X_A1_test_shap, check_additivity=False)"
   ]
  },
  {
   "cell_type": "code",
   "execution_count": 112,
   "id": "d2ae5f45",
   "metadata": {},
   "outputs": [
    {
     "data": {
      "image/png": "[encoded data removed]",
      "text/plain": [
       "<Figure size 576x367.2 with 2 Axes>"
      ]
     },
     "metadata": {
      "needs_background": "light"
     },
     "output_type": "display_data"
    }
   ],
   "source": [
    "shap.summary_plot(shap_values[1], X_A1_test_shap)"
   ]
  },
  {
   "cell_type": "markdown",
   "id": "c1e670f4",
   "metadata": {},
   "source": [
    "## Quais os 3 principais fatores que levam a um diagnóstico positivo de diabetes?\n"
   ]
  },
  {
   "cell_type": "code",
   "execution_count": 113,
   "id": "70ae8261",
   "metadata": {},
   "outputs": [
    {
     "data": {
      "image/png": "[encoded data removed]",
      "text/plain": [
       "<Figure size 576x367.2 with 1 Axes>"
      ]
     },
     "metadata": {
      "needs_background": "light"
     },
     "output_type": "display_data"
    }
   ],
   "source": [
    "shap.summary_plot(shap_values,features=X_A1_test_shap, feature_names=X_A1_test_shap.columns,)"
   ]
  },
  {
   "cell_type": "markdown",
   "id": "657c48e5",
   "metadata": {},
   "source": [
    "Com base, no feature importance e summary_plot as variáveis que apresentaram uma melhor relação para prever o diabetes, é `"
   ]
  },
  {
   "cell_type": "code",
   "execution_count": null,
   "id": "9a49a14f",
   "metadata": {},
   "outputs": [],
   "source": []
  }
 ],
 "metadata": {
  "kernelspec": {
   "display_name": "Python 3 (ipykernel)",
   "language": "python",
   "name": "python3"
  },
  "language_info": {
   "codemirror_mode": {
    "name": "ipython",
    "version": 3
   },
   "file_extension": ".py",
   "mimetype": "text/x-python",
   "name": "python",
   "nbconvert_exporter": "python",
   "pygments_lexer": "ipython3",
   "version": "3.8.10"
  }
 },
 "nbformat": 4,
 "nbformat_minor": 5
}
