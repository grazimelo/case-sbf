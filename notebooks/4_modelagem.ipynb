{
 "cells": [
  {
   "cell_type": "markdown",
   "id": "911a32a4",
   "metadata": {},
   "source": [
    "# Modelagem e Avaliação \n",
    "\n",
    "Neste tópico, iremos preparar nossos dados para modelagem, criando pipeline para garatir o correto pré-processamento dos nossos dados.Utilizaremos o modelo Árvore de decisão, um modelo que me sinto bastante confortável de usar por conhecer seu funcionamento e nuances. É um modelo não-linear, robusto a outliers e que não possui qualquer suposição sobre as distribuições, o que é algo bastante relevante, dado que a maioria dos dados na vida real apresentam não normalidade. Evitar a normalização é uma etapa a menos se você utiliza modelos baseados em árvore. "
   ]
  },
  {
   "cell_type": "markdown",
   "id": "94d447e5",
   "metadata": {},
   "source": [
    "## Dependências"
   ]
  },
  {
   "cell_type": "code",
   "execution_count": 3,
   "id": "7a4968d8",
   "metadata": {},
   "outputs": [],
   "source": [
    "# Bibliotecas\n",
    "import os\n",
    "import shap\n",
    "import warnings\n",
    "warnings.filterwarnings('ignore')\n",
    "import cloudpickle\n",
    "import optuna\n",
    "import pandas as pd\n",
    "import numpy as np\n",
    "import seaborn as sns\n",
    "import matplotlib.pyplot as plt\n",
    "import mlflow\n",
    "import mlflow.sklearn\n",
    "from sklearn.preprocessing import OneHotEncoder\n",
    "from sklearn.tree import DecisionTreeClassifier \n",
    "from sklearn.model_selection import train_test_split,cross_val_score\n",
    "from sklearn.impute import SimpleImputer \n",
    "from sklearn.pipeline import Pipeline\n",
    "from sklearn.compose import ColumnTransformer\n",
    "from sklearn.metrics import precision_score, recall_score, roc_auc_score, accuracy_score\n",
    "from sklearn.model_selection import ShuffleSplit,learning_curve,RepeatedStratifiedKFold\n",
    "from sklearn.preprocessing import FunctionTransformer\n",
    "from utils.data_cleaning import normalizar_caracteres\n",
    "from sklearn import set_config\n",
    "from sklearn.inspection import permutation_importance\n",
    "from utils.modelagem import calcular_metricas_threshold\n",
    "from optuna.samplers import TPESampler\n",
    "pd.set_option('display.max_rows', 500)\n",
    "pd.set_option('display.max_columns', 500)\n",
    "pd.set_option('display.width', 1000)\n",
    "%matplotlib inline"
   ]
  },
  {
   "cell_type": "markdown",
   "id": "84e6ba2a",
   "metadata": {},
   "source": [
    "## Dados e Constantes"
   ]
  },
  {
   "cell_type": "code",
   "execution_count": 44,
   "id": "c066f128",
   "metadata": {},
   "outputs": [],
   "source": [
    "DATA_RAW_PATH = os.path.join('..','data','raw')\n",
    "DATA_RAW_NAME = 'diabetes_data.csv'\n",
    "DATA_INTER_PATH = os.path.join('..','data','inter')\n",
    "DATA_INTER_TEST_NAME = 'diabetes_test.parquet'\n",
    "DATA_INTER_TRAIN_NAME = 'diabetes_train.parquet'\n",
    "DATA_INTER_TRAIN_FT_SELECTION = 'diabetes_train_selected.parquet'\n",
    "PREDICT_PATH = os.path.join('..','data','output')\n",
    "PREDICT_NAME = 'previsao_diagnostico.csv'\n",
    "TRACKING_URI = 'http://localhost:5000/'\n",
    "EXPERIMENT_NAME = 'diabetes_model'"
   ]
  },
  {
   "cell_type": "code",
   "execution_count": 45,
   "id": "b86455ab",
   "metadata": {},
   "outputs": [
    {
     "name": "stderr",
     "output_type": "stream",
     "text": [
      "2022/03/06 23:26:13 INFO mlflow.tracking.fluent: Experiment with name 'diabetes_model' does not exist. Creating a new experiment.\n"
     ]
    },
    {
     "data": {
      "text/plain": [
       "<Experiment: artifact_location='file:///Users/bruno.santos/Desktop/Estudos/udacity/projeto_iris/mlruns/3', experiment_id='3', lifecycle_stage='active', name='diabetes_model', tags={}>"
      ]
     },
     "execution_count": 45,
     "metadata": {},
     "output_type": "execute_result"
    }
   ],
   "source": [
    "mlflow.set_tracking_uri(TRACKING_URI)\n",
    "mlflow.set_experiment(EXPERIMENT_NAME)"
   ]
  },
  {
   "cell_type": "code",
   "execution_count": 6,
   "id": "74483395",
   "metadata": {},
   "outputs": [],
   "source": [
    "df_train_inter = pd.read_parquet(os.path.join(DATA_INTER_PATH, DATA_INTER_TRAIN_FT_SELECTION))\n",
    "df_train= pd.read_parquet(os.path.join(DATA_INTER_PATH, DATA_INTER_TRAIN_NAME))\n",
    "\n",
    "# Lendo dados de teste.\n",
    "df_test = pd.read_parquet(os.path.join(DATA_INTER_PATH, DATA_INTER_TEST_NAME))"
   ]
  },
  {
   "cell_type": "code",
   "execution_count": 7,
   "id": "fedd020d",
   "metadata": {},
   "outputs": [],
   "source": [
    "#Obtendo X e Y \n",
    "X = df_train.drop('target',axis=1)\n",
    "y = df_train['target']"
   ]
  },
  {
   "cell_type": "markdown",
   "id": "d2f967fa",
   "metadata": {},
   "source": [
    "# Modelagem "
   ]
  },
  {
   "cell_type": "markdown",
   "id": "13ceeb02",
   "metadata": {},
   "source": [
    "## Variáveis"
   ]
  },
  {
   "cell_type": "code",
   "execution_count": 8,
   "id": "bd5bb705",
   "metadata": {},
   "outputs": [],
   "source": [
    "#Separando as variáveis categóricas e numéricas\n",
    "variaveis_numericas = ['idade']\n",
    "variaveis_categoricas = list(set(df_train_inter.columns.tolist()).difference(set(variaveis_numericas)))\n"
   ]
  },
  {
   "cell_type": "code",
   "execution_count": 47,
   "id": "b81f1a01",
   "metadata": {},
   "outputs": [
    {
     "data": {
      "text/plain": [
       "['polyuria',\n",
       " 'perda_de_peso_repentina',\n",
       " 'genero',\n",
       " 'polyphagia',\n",
       " 'polydipsia',\n",
       " 'paresia_parcial']"
      ]
     },
     "execution_count": 47,
     "metadata": {},
     "output_type": "execute_result"
    }
   ],
   "source": [
    "variaveis_categoricas"
   ]
  },
  {
   "cell_type": "code",
   "execution_count": 9,
   "id": "fa5a7d35",
   "metadata": {},
   "outputs": [],
   "source": [
    "variaveis_categoricas.remove('target')"
   ]
  },
  {
   "cell_type": "code",
   "execution_count": 10,
   "id": "40c28c21",
   "metadata": {},
   "outputs": [],
   "source": [
    "X = X[variaveis_categoricas+variaveis_numericas]"
   ]
  },
  {
   "cell_type": "markdown",
   "id": "b2231de0",
   "metadata": {},
   "source": [
    "## Criando pipeline"
   ]
  },
  {
   "cell_type": "markdown",
   "id": "a76b9bd5",
   "metadata": {},
   "source": [
    "Aqui iremos criar um pipeline para tratar dados categóricos e outro para tratar nossos dados numéricos. Dessa maneira cada coluna é tratada da forma mais adequada. O resultado é combinado no final e passado para o classificador, último componente do pipeline."
   ]
  },
  {
   "cell_type": "code",
   "execution_count": 11,
   "id": "a2528c75",
   "metadata": {},
   "outputs": [],
   "source": [
    "#Pipeline numérico será tratado imputando a mediana\n",
    "pipeline_numerico = Pipeline(steps=[('impute', SimpleImputer(strategy='median'))])\n",
    "#Pipeline categórico será tratado com imputação através da moda e one hot encoder\n",
    "pipeline_categorico = Pipeline(steps=[('impute', SimpleImputer(strategy='most_frequent')),\n",
    "                         ('one_hot_encoder', OneHotEncoder(handle_unknown='ignore',drop='first'))])"
   ]
  },
  {
   "cell_type": "code",
   "execution_count": 12,
   "id": "c3cfe5ab",
   "metadata": {},
   "outputs": [],
   "source": [
    "#Column Transformer para unir os dois pipelines\n",
    "preprocess_pipeline = ColumnTransformer([('pipeline_categorico', pipeline_categorico, variaveis_categoricas),\n",
    "                                ('pipeline_numerico', pipeline_numerico, variaveis_numericas)])"
   ]
  },
  {
   "cell_type": "code",
   "execution_count": 13,
   "id": "e57f2298",
   "metadata": {},
   "outputs": [],
   "source": [
    "#Definindo folds para a validação cruzada estratificada para garantir uma melhor distribuição do target.\n",
    "cv = RepeatedStratifiedKFold(random_state=123, n_splits=10, n_repeats=10)"
   ]
  },
  {
   "cell_type": "code",
   "execution_count": 14,
   "id": "09dd25df",
   "metadata": {},
   "outputs": [],
   "source": [
    "# Definindo modelo com random_seed e class_weight='balanced' para dar peso às classes mais raras\n",
    "dt = DecisionTreeClassifier(random_state=123, class_weight='balanced')\n",
    "# defninindo pipeline final, onde o último componente é o classificador\n",
    "modelo_pipe =  Pipeline(steps =[('preprocessor',preprocess_pipeline),\n",
    "                                  ('model_dt',dt)])"
   ]
  },
  {
   "cell_type": "markdown",
   "id": "aab0b6e5",
   "metadata": {},
   "source": [
    "# Modelagem e Avaliação"
   ]
  },
  {
   "cell_type": "markdown",
   "id": "084ea3eb",
   "metadata": {},
   "source": [
    "## Otimização de Hiperparâmetros"
   ]
  },
  {
   "cell_type": "markdown",
   "id": "7e7aca3f",
   "metadata": {},
   "source": [
    "Aqui utilizaremos otimização bayesiana para busca dos melhores hiperparâmetros para o classificador. Poderíamos ter utilizado o GridSearchCV ou o RandomizedSearchCV, porém esses seriam mais lentos. Vale salientar que a otimização está sendo feita em cima da média de validação cruzada para a log loss e que estamos utilizando RepeatedStratifiedKfold para garantir mesma proporção do target nos folds e também para termos uma melhor estimativa, uma vez que o dataset é pequeno."
   ]
  },
  {
   "cell_type": "code",
   "execution_count": 15,
   "id": "3fbeb83b",
   "metadata": {},
   "outputs": [],
   "source": [
    "def optimize_decision_tree(trial):\n",
    "    \"Optmization of Decision Tree Classifier\"\n",
    "# Grid de parametros otimizados\n",
    "    params ={'model_dt__max_depth': trial.suggest_int('model_dt__max_depth',2,11),\n",
    "          'model_dt__min_samples_leaf': trial.suggest_int('model_dt__min_samples_leaf',2,33),\n",
    "          'model_dt__min_samples_split':trial.suggest_int('model_dt__min_samples_split',2,33)  }\n",
    "    earlyStop=20\n",
    "    modelo_pipe.set_params(**params)\n",
    "    results = np.mean(cross_val_score(modelo_pipe,X,y, cv=cv, scoring = 'neg_log_loss'))\n",
    "    print(f'LOG LOSS:{results}')\n",
    "    return results"
   ]
  },
  {
   "cell_type": "code",
   "execution_count": 16,
   "id": "d245dd32",
   "metadata": {},
   "outputs": [
    {
     "name": "stderr",
     "output_type": "stream",
     "text": [
      "\u001b[32m[I 2022-03-06 22:09:07,542]\u001b[0m A new study created in memory with name: no-name-9cef85db-b118-47cb-8ee8-eb4028c5628f\u001b[0m\n",
      "\u001b[32m[I 2022-03-06 22:09:09,059]\u001b[0m Trial 0 finished with value: -0.7538643650054415 and parameters: {'model_dt__max_depth': 8, 'model_dt__min_samples_leaf': 11, 'model_dt__min_samples_split': 9}. Best is trial 0 with value: -0.7538643650054415.\u001b[0m\n"
     ]
    },
    {
     "name": "stdout",
     "output_type": "stream",
     "text": [
      "LOG LOSS:-0.7538643650054415\n"
     ]
    },
    {
     "name": "stderr",
     "output_type": "stream",
     "text": [
      "\u001b[32m[I 2022-03-06 22:09:10,523]\u001b[0m Trial 1 finished with value: -0.31705246095607315 and parameters: {'model_dt__max_depth': 7, 'model_dt__min_samples_leaf': 25, 'model_dt__min_samples_split': 15}. Best is trial 1 with value: -0.31705246095607315.\u001b[0m\n"
     ]
    },
    {
     "name": "stdout",
     "output_type": "stream",
     "text": [
      "LOG LOSS:-0.31705246095607315\n"
     ]
    },
    {
     "name": "stderr",
     "output_type": "stream",
     "text": [
      "\u001b[32m[I 2022-03-06 22:09:11,900]\u001b[0m Trial 2 finished with value: -0.3432791221304196 and parameters: {'model_dt__max_depth': 11, 'model_dt__min_samples_leaf': 23, 'model_dt__min_samples_split': 17}. Best is trial 1 with value: -0.31705246095607315.\u001b[0m\n"
     ]
    },
    {
     "name": "stdout",
     "output_type": "stream",
     "text": [
      "LOG LOSS:-0.3432791221304196\n"
     ]
    },
    {
     "name": "stderr",
     "output_type": "stream",
     "text": [
      "\u001b[32m[I 2022-03-06 22:09:13,858]\u001b[0m Trial 3 finished with value: -0.6201191570818547 and parameters: {'model_dt__max_depth': 5, 'model_dt__min_samples_leaf': 12, 'model_dt__min_samples_split': 25}. Best is trial 1 with value: -0.31705246095607315.\u001b[0m\n"
     ]
    },
    {
     "name": "stdout",
     "output_type": "stream",
     "text": [
      "LOG LOSS:-0.6201191570818547\n"
     ]
    },
    {
     "name": "stderr",
     "output_type": "stream",
     "text": [
      "\u001b[32m[I 2022-03-06 22:09:15,450]\u001b[0m Trial 4 finished with value: -0.847916500254196 and parameters: {'model_dt__max_depth': 6, 'model_dt__min_samples_leaf': 3, 'model_dt__min_samples_split': 14}. Best is trial 1 with value: -0.31705246095607315.\u001b[0m\n"
     ]
    },
    {
     "name": "stdout",
     "output_type": "stream",
     "text": [
      "LOG LOSS:-0.847916500254196\n"
     ]
    },
    {
     "name": "stderr",
     "output_type": "stream",
     "text": [
      "\u001b[32m[I 2022-03-06 22:09:16,932]\u001b[0m Trial 5 finished with value: -0.7972556373107609 and parameters: {'model_dt__max_depth': 9, 'model_dt__min_samples_leaf': 7, 'model_dt__min_samples_split': 7}. Best is trial 1 with value: -0.31705246095607315.\u001b[0m\n"
     ]
    },
    {
     "name": "stdout",
     "output_type": "stream",
     "text": [
      "LOG LOSS:-0.7972556373107609\n"
     ]
    },
    {
     "name": "stderr",
     "output_type": "stream",
     "text": [
      "\u001b[32m[I 2022-03-06 22:09:18,349]\u001b[0m Trial 6 finished with value: -0.4897291716135123 and parameters: {'model_dt__max_depth': 7, 'model_dt__min_samples_leaf': 19, 'model_dt__min_samples_split': 22}. Best is trial 1 with value: -0.31705246095607315.\u001b[0m\n"
     ]
    },
    {
     "name": "stdout",
     "output_type": "stream",
     "text": [
      "LOG LOSS:-0.4897291716135123\n"
     ]
    },
    {
     "name": "stderr",
     "output_type": "stream",
     "text": [
      "\u001b[32m[I 2022-03-06 22:09:20,079]\u001b[0m Trial 7 finished with value: -0.31705246095607315 and parameters: {'model_dt__max_depth': 10, 'model_dt__min_samples_leaf': 25, 'model_dt__min_samples_split': 21}. Best is trial 1 with value: -0.31705246095607315.\u001b[0m\n"
     ]
    },
    {
     "name": "stdout",
     "output_type": "stream",
     "text": [
      "LOG LOSS:-0.31705246095607315\n"
     ]
    },
    {
     "name": "stderr",
     "output_type": "stream",
     "text": [
      "\u001b[32m[I 2022-03-06 22:09:21,420]\u001b[0m Trial 8 finished with value: -0.6690736066173169 and parameters: {'model_dt__max_depth': 9, 'model_dt__min_samples_leaf': 12, 'model_dt__min_samples_split': 13}. Best is trial 1 with value: -0.31705246095607315.\u001b[0m\n"
     ]
    },
    {
     "name": "stdout",
     "output_type": "stream",
     "text": [
      "LOG LOSS:-0.6690736066173169\n"
     ]
    },
    {
     "name": "stderr",
     "output_type": "stream",
     "text": [
      "\u001b[32m[I 2022-03-06 22:09:22,749]\u001b[0m Trial 9 finished with value: -0.40600722595250055 and parameters: {'model_dt__max_depth': 4, 'model_dt__min_samples_leaf': 11, 'model_dt__min_samples_split': 22}. Best is trial 1 with value: -0.31705246095607315.\u001b[0m\n"
     ]
    },
    {
     "name": "stdout",
     "output_type": "stream",
     "text": [
      "LOG LOSS:-0.40600722595250055\n"
     ]
    },
    {
     "name": "stderr",
     "output_type": "stream",
     "text": [
      "\u001b[32m[I 2022-03-06 22:09:24,055]\u001b[0m Trial 10 finished with value: -0.2800309167482243 and parameters: {'model_dt__max_depth': 2, 'model_dt__min_samples_leaf': 33, 'model_dt__min_samples_split': 33}. Best is trial 10 with value: -0.2800309167482243.\u001b[0m\n"
     ]
    },
    {
     "name": "stdout",
     "output_type": "stream",
     "text": [
      "LOG LOSS:-0.2800309167482243\n"
     ]
    },
    {
     "name": "stderr",
     "output_type": "stream",
     "text": [
      "\u001b[32m[I 2022-03-06 22:09:25,389]\u001b[0m Trial 11 finished with value: -0.2800309167482243 and parameters: {'model_dt__max_depth': 2, 'model_dt__min_samples_leaf': 33, 'model_dt__min_samples_split': 32}. Best is trial 10 with value: -0.2800309167482243.\u001b[0m\n"
     ]
    },
    {
     "name": "stdout",
     "output_type": "stream",
     "text": [
      "LOG LOSS:-0.2800309167482243\n"
     ]
    },
    {
     "name": "stderr",
     "output_type": "stream",
     "text": [
      "\u001b[32m[I 2022-03-06 22:09:26,693]\u001b[0m Trial 12 finished with value: -0.2800309167482243 and parameters: {'model_dt__max_depth': 2, 'model_dt__min_samples_leaf': 33, 'model_dt__min_samples_split': 33}. Best is trial 10 with value: -0.2800309167482243.\u001b[0m\n"
     ]
    },
    {
     "name": "stdout",
     "output_type": "stream",
     "text": [
      "LOG LOSS:-0.2800309167482243\n"
     ]
    },
    {
     "name": "stderr",
     "output_type": "stream",
     "text": [
      "\u001b[32m[I 2022-03-06 22:09:28,002]\u001b[0m Trial 13 finished with value: -0.2800309167482243 and parameters: {'model_dt__max_depth': 2, 'model_dt__min_samples_leaf': 33, 'model_dt__min_samples_split': 32}. Best is trial 10 with value: -0.2800309167482243.\u001b[0m\n"
     ]
    },
    {
     "name": "stdout",
     "output_type": "stream",
     "text": [
      "LOG LOSS:-0.2800309167482243\n"
     ]
    },
    {
     "name": "stderr",
     "output_type": "stream",
     "text": [
      "\u001b[32m[I 2022-03-06 22:09:29,311]\u001b[0m Trial 14 finished with value: -0.29028308580317047 and parameters: {'model_dt__max_depth': 3, 'model_dt__min_samples_leaf': 29, 'model_dt__min_samples_split': 28}. Best is trial 10 with value: -0.2800309167482243.\u001b[0m\n"
     ]
    },
    {
     "name": "stdout",
     "output_type": "stream",
     "text": [
      "LOG LOSS:-0.29028308580317047\n"
     ]
    },
    {
     "name": "stderr",
     "output_type": "stream",
     "text": [
      "\u001b[32m[I 2022-03-06 22:09:30,616]\u001b[0m Trial 15 finished with value: -0.31208870112117343 and parameters: {'model_dt__max_depth': 4, 'model_dt__min_samples_leaf': 29, 'model_dt__min_samples_split': 2}. Best is trial 10 with value: -0.2800309167482243.\u001b[0m\n"
     ]
    },
    {
     "name": "stdout",
     "output_type": "stream",
     "text": [
      "LOG LOSS:-0.31208870112117343\n"
     ]
    },
    {
     "name": "stderr",
     "output_type": "stream",
     "text": [
      "\u001b[32m[I 2022-03-06 22:09:31,926]\u001b[0m Trial 16 finished with value: -0.30988093060351724 and parameters: {'model_dt__max_depth': 3, 'model_dt__min_samples_leaf': 19, 'model_dt__min_samples_split': 28}. Best is trial 10 with value: -0.2800309167482243.\u001b[0m\n"
     ]
    },
    {
     "name": "stdout",
     "output_type": "stream",
     "text": [
      "LOG LOSS:-0.30988093060351724\n"
     ]
    },
    {
     "name": "stderr",
     "output_type": "stream",
     "text": [
      "\u001b[32m[I 2022-03-06 22:09:33,232]\u001b[0m Trial 17 finished with value: -0.28652744373472877 and parameters: {'model_dt__max_depth': 2, 'model_dt__min_samples_leaf': 29, 'model_dt__min_samples_split': 29}. Best is trial 10 with value: -0.2800309167482243.\u001b[0m\n"
     ]
    },
    {
     "name": "stdout",
     "output_type": "stream",
     "text": [
      "LOG LOSS:-0.28652744373472877\n"
     ]
    },
    {
     "name": "stderr",
     "output_type": "stream",
     "text": [
      "\u001b[32m[I 2022-03-06 22:09:34,532]\u001b[0m Trial 18 finished with value: -0.2900447026666912 and parameters: {'model_dt__max_depth': 5, 'model_dt__min_samples_leaf': 33, 'model_dt__min_samples_split': 33}. Best is trial 10 with value: -0.2800309167482243.\u001b[0m\n"
     ]
    },
    {
     "name": "stdout",
     "output_type": "stream",
     "text": [
      "LOG LOSS:-0.2900447026666912\n"
     ]
    },
    {
     "name": "stderr",
     "output_type": "stream",
     "text": [
      "\u001b[32m[I 2022-03-06 22:09:35,838]\u001b[0m Trial 19 finished with value: -0.3123548303506977 and parameters: {'model_dt__max_depth': 3, 'model_dt__min_samples_leaf': 22, 'model_dt__min_samples_split': 25}. Best is trial 10 with value: -0.2800309167482243.\u001b[0m\n"
     ]
    },
    {
     "name": "stdout",
     "output_type": "stream",
     "text": [
      "LOG LOSS:-0.3123548303506977\n"
     ]
    },
    {
     "name": "stderr",
     "output_type": "stream",
     "text": [
      "\u001b[32m[I 2022-03-06 22:09:37,148]\u001b[0m Trial 20 finished with value: -0.31164528099974886 and parameters: {'model_dt__max_depth': 4, 'model_dt__min_samples_leaf': 28, 'model_dt__min_samples_split': 30}. Best is trial 10 with value: -0.2800309167482243.\u001b[0m\n"
     ]
    },
    {
     "name": "stdout",
     "output_type": "stream",
     "text": [
      "LOG LOSS:-0.31164528099974886\n"
     ]
    },
    {
     "name": "stderr",
     "output_type": "stream",
     "text": [
      "\u001b[32m[I 2022-03-06 22:09:38,450]\u001b[0m Trial 21 finished with value: -0.2800309167482243 and parameters: {'model_dt__max_depth': 2, 'model_dt__min_samples_leaf': 33, 'model_dt__min_samples_split': 32}. Best is trial 10 with value: -0.2800309167482243.\u001b[0m\n"
     ]
    },
    {
     "name": "stdout",
     "output_type": "stream",
     "text": [
      "LOG LOSS:-0.2800309167482243\n"
     ]
    },
    {
     "name": "stderr",
     "output_type": "stream",
     "text": [
      "\u001b[32m[I 2022-03-06 22:09:39,754]\u001b[0m Trial 22 finished with value: -0.28652744373472877 and parameters: {'model_dt__max_depth': 2, 'model_dt__min_samples_leaf': 31, 'model_dt__min_samples_split': 26}. Best is trial 10 with value: -0.2800309167482243.\u001b[0m\n"
     ]
    },
    {
     "name": "stdout",
     "output_type": "stream",
     "text": [
      "LOG LOSS:-0.28652744373472877\n"
     ]
    },
    {
     "name": "stderr",
     "output_type": "stream",
     "text": [
      "\u001b[32m[I 2022-03-06 22:09:41,055]\u001b[0m Trial 23 finished with value: -0.29034424965533573 and parameters: {'model_dt__max_depth': 3, 'model_dt__min_samples_leaf': 26, 'model_dt__min_samples_split': 31}. Best is trial 10 with value: -0.2800309167482243.\u001b[0m\n"
     ]
    },
    {
     "name": "stdout",
     "output_type": "stream",
     "text": [
      "LOG LOSS:-0.29034424965533573\n"
     ]
    },
    {
     "name": "stderr",
     "output_type": "stream",
     "text": [
      "\u001b[32m[I 2022-03-06 22:09:42,369]\u001b[0m Trial 24 finished with value: -0.31257842205430775 and parameters: {'model_dt__max_depth': 5, 'model_dt__min_samples_leaf': 31, 'model_dt__min_samples_split': 31}. Best is trial 10 with value: -0.2800309167482243.\u001b[0m\n"
     ]
    },
    {
     "name": "stdout",
     "output_type": "stream",
     "text": [
      "LOG LOSS:-0.31257842205430775\n",
      "FrozenTrial(number=10, values=[-0.2800309167482243], datetime_start=datetime.datetime(2022, 3, 6, 22, 9, 22, 749644), datetime_complete=datetime.datetime(2022, 3, 6, 22, 9, 24, 55347), params={'model_dt__max_depth': 2, 'model_dt__min_samples_leaf': 33, 'model_dt__min_samples_split': 33}, distributions={'model_dt__max_depth': IntUniformDistribution(high=11, low=2, step=1), 'model_dt__min_samples_leaf': IntUniformDistribution(high=33, low=2, step=1), 'model_dt__min_samples_split': IntUniformDistribution(high=33, low=2, step=1)}, user_attrs={}, system_attrs={}, intermediate_values={}, trial_id=10, state=TrialState.COMPLETE, value=None)\n"
     ]
    }
   ],
   "source": [
    "sampler = TPESampler(seed=123)  \n",
    "study = optuna.create_study(sampler=sampler,direction='maximize')\n",
    "study.optimize(optimize_decision_tree, n_trials=25)\n",
    "print(study.best_trial)"
   ]
  },
  {
   "cell_type": "code",
   "execution_count": 17,
   "id": "8806506e",
   "metadata": {},
   "outputs": [
    {
     "name": "stdout",
     "output_type": "stream",
     "text": [
      "O modelo obteve um score de validação cruzada para o log loss de: -0.2800309167482243\n"
     ]
    }
   ],
   "source": [
    "print(f'O modelo obteve um score de validação cruzada para o log loss de: {study.best_value}')"
   ]
  },
  {
   "cell_type": "code",
   "execution_count": 18,
   "id": "a6b47c3a",
   "metadata": {},
   "outputs": [
    {
     "data": {
      "text/plain": [
       "{'model_dt__max_depth': 2,\n",
       " 'model_dt__min_samples_leaf': 33,\n",
       " 'model_dt__min_samples_split': 33}"
      ]
     },
     "execution_count": 18,
     "metadata": {},
     "output_type": "execute_result"
    }
   ],
   "source": [
    "study.best_params"
   ]
  },
  {
   "cell_type": "code",
   "execution_count": 19,
   "id": "3ddccf99",
   "metadata": {},
   "outputs": [
    {
     "data": {
      "text/plain": [
       "Pipeline(steps=[('preprocessor',\n",
       "                 ColumnTransformer(transformers=[('pipeline_categorico',\n",
       "                                                  Pipeline(steps=[('impute',\n",
       "                                                                   SimpleImputer(strategy='most_frequent')),\n",
       "                                                                  ('one_hot_encoder',\n",
       "                                                                   OneHotEncoder(drop='first',\n",
       "                                                                                 handle_unknown='ignore'))]),\n",
       "                                                  ['polyuria',\n",
       "                                                   'perda_de_peso_repentina',\n",
       "                                                   'genero', 'polyphagia',\n",
       "                                                   'polydipsia',\n",
       "                                                   'paresia_parcial']),\n",
       "                                                 ('pipeline_numerico',\n",
       "                                                  Pipeline(steps=[('impute',\n",
       "                                                                   SimpleImputer(strategy='median'))]),\n",
       "                                                  ['idade'])])),\n",
       "                ('model_dt',\n",
       "                 DecisionTreeClassifier(class_weight='balanced', max_depth=2,\n",
       "                                        min_samples_leaf=33,\n",
       "                                        min_samples_split=33,\n",
       "                                        random_state=123))])"
      ]
     },
     "execution_count": 19,
     "metadata": {},
     "output_type": "execute_result"
    }
   ],
   "source": [
    "#Definindo os melhores hiperparâmetros, baseados na busca feita com a otimização bayesiana\n",
    "modelo_pipe.set_params(**study.best_params)"
   ]
  },
  {
   "cell_type": "code",
   "execution_count": 20,
   "id": "bb7ea784",
   "metadata": {},
   "outputs": [
    {
     "data": {
      "text/html": [
       "<style>#sk-a12f42e4-9956-456c-af11-456afb045b58 {color: black;background-color: white;}#sk-a12f42e4-9956-456c-af11-456afb045b58 pre{padding: 0;}#sk-a12f42e4-9956-456c-af11-456afb045b58 div.sk-toggleable {background-color: white;}#sk-a12f42e4-9956-456c-af11-456afb045b58 label.sk-toggleable__label {cursor: pointer;display: block;width: 100%;margin-bottom: 0;padding: 0.3em;box-sizing: border-box;text-align: center;}#sk-a12f42e4-9956-456c-af11-456afb045b58 label.sk-toggleable__label-arrow:before {content: \"▸\";float: left;margin-right: 0.25em;color: #696969;}#sk-a12f42e4-9956-456c-af11-456afb045b58 label.sk-toggleable__label-arrow:hover:before {color: black;}#sk-a12f42e4-9956-456c-af11-456afb045b58 div.sk-estimator:hover label.sk-toggleable__label-arrow:before {color: black;}#sk-a12f42e4-9956-456c-af11-456afb045b58 div.sk-toggleable__content {max-height: 0;max-width: 0;overflow: hidden;text-align: left;background-color: #f0f8ff;}#sk-a12f42e4-9956-456c-af11-456afb045b58 div.sk-toggleable__content pre {margin: 0.2em;color: black;border-radius: 0.25em;background-color: #f0f8ff;}#sk-a12f42e4-9956-456c-af11-456afb045b58 input.sk-toggleable__control:checked~div.sk-toggleable__content {max-height: 200px;max-width: 100%;overflow: auto;}#sk-a12f42e4-9956-456c-af11-456afb045b58 input.sk-toggleable__control:checked~label.sk-toggleable__label-arrow:before {content: \"▾\";}#sk-a12f42e4-9956-456c-af11-456afb045b58 div.sk-estimator input.sk-toggleable__control:checked~label.sk-toggleable__label {background-color: #d4ebff;}#sk-a12f42e4-9956-456c-af11-456afb045b58 div.sk-label input.sk-toggleable__control:checked~label.sk-toggleable__label {background-color: #d4ebff;}#sk-a12f42e4-9956-456c-af11-456afb045b58 input.sk-hidden--visually {border: 0;clip: rect(1px 1px 1px 1px);clip: rect(1px, 1px, 1px, 1px);height: 1px;margin: -1px;overflow: hidden;padding: 0;position: absolute;width: 1px;}#sk-a12f42e4-9956-456c-af11-456afb045b58 div.sk-estimator {font-family: monospace;background-color: #f0f8ff;border: 1px dotted black;border-radius: 0.25em;box-sizing: border-box;margin-bottom: 0.5em;}#sk-a12f42e4-9956-456c-af11-456afb045b58 div.sk-estimator:hover {background-color: #d4ebff;}#sk-a12f42e4-9956-456c-af11-456afb045b58 div.sk-parallel-item::after {content: \"\";width: 100%;border-bottom: 1px solid gray;flex-grow: 1;}#sk-a12f42e4-9956-456c-af11-456afb045b58 div.sk-label:hover label.sk-toggleable__label {background-color: #d4ebff;}#sk-a12f42e4-9956-456c-af11-456afb045b58 div.sk-serial::before {content: \"\";position: absolute;border-left: 1px solid gray;box-sizing: border-box;top: 2em;bottom: 0;left: 50%;}#sk-a12f42e4-9956-456c-af11-456afb045b58 div.sk-serial {display: flex;flex-direction: column;align-items: center;background-color: white;padding-right: 0.2em;padding-left: 0.2em;}#sk-a12f42e4-9956-456c-af11-456afb045b58 div.sk-item {z-index: 1;}#sk-a12f42e4-9956-456c-af11-456afb045b58 div.sk-parallel {display: flex;align-items: stretch;justify-content: center;background-color: white;}#sk-a12f42e4-9956-456c-af11-456afb045b58 div.sk-parallel::before {content: \"\";position: absolute;border-left: 1px solid gray;box-sizing: border-box;top: 2em;bottom: 0;left: 50%;}#sk-a12f42e4-9956-456c-af11-456afb045b58 div.sk-parallel-item {display: flex;flex-direction: column;position: relative;background-color: white;}#sk-a12f42e4-9956-456c-af11-456afb045b58 div.sk-parallel-item:first-child::after {align-self: flex-end;width: 50%;}#sk-a12f42e4-9956-456c-af11-456afb045b58 div.sk-parallel-item:last-child::after {align-self: flex-start;width: 50%;}#sk-a12f42e4-9956-456c-af11-456afb045b58 div.sk-parallel-item:only-child::after {width: 0;}#sk-a12f42e4-9956-456c-af11-456afb045b58 div.sk-dashed-wrapped {border: 1px dashed gray;margin: 0 0.4em 0.5em 0.4em;box-sizing: border-box;padding-bottom: 0.4em;background-color: white;position: relative;}#sk-a12f42e4-9956-456c-af11-456afb045b58 div.sk-label label {font-family: monospace;font-weight: bold;background-color: white;display: inline-block;line-height: 1.2em;}#sk-a12f42e4-9956-456c-af11-456afb045b58 div.sk-label-container {position: relative;z-index: 2;text-align: center;}#sk-a12f42e4-9956-456c-af11-456afb045b58 div.sk-container {/* jupyter's `normalize.less` sets `[hidden] { display: none; }` but bootstrap.min.css set `[hidden] { display: none !important; }` so we also need the `!important` here to be able to override the default hidden behavior on the sphinx rendered scikit-learn.org. See: https://github.com/scikit-learn/scikit-learn/issues/21755 */display: inline-block !important;position: relative;}#sk-a12f42e4-9956-456c-af11-456afb045b58 div.sk-text-repr-fallback {display: none;}</style><div id=\"sk-a12f42e4-9956-456c-af11-456afb045b58\" class=\"sk-top-container\"><div class=\"sk-text-repr-fallback\"><pre>Pipeline(steps=[(&#x27;preprocessor&#x27;,\n",
       "                 ColumnTransformer(transformers=[(&#x27;pipeline_categorico&#x27;,\n",
       "                                                  Pipeline(steps=[(&#x27;impute&#x27;,\n",
       "                                                                   SimpleImputer(strategy=&#x27;most_frequent&#x27;)),\n",
       "                                                                  (&#x27;one_hot_encoder&#x27;,\n",
       "                                                                   OneHotEncoder(drop=&#x27;first&#x27;,\n",
       "                                                                                 handle_unknown=&#x27;ignore&#x27;))]),\n",
       "                                                  [&#x27;polyuria&#x27;,\n",
       "                                                   &#x27;perda_de_peso_repentina&#x27;,\n",
       "                                                   &#x27;genero&#x27;, &#x27;polyphagia&#x27;,\n",
       "                                                   &#x27;polydipsia&#x27;,\n",
       "                                                   &#x27;paresia_parcial&#x27;]),\n",
       "                                                 (&#x27;pipeline_numerico&#x27;,\n",
       "                                                  Pipeline(steps=[(&#x27;impute&#x27;,\n",
       "                                                                   SimpleImputer(strategy=&#x27;median&#x27;))]),\n",
       "                                                  [&#x27;idade&#x27;])])),\n",
       "                (&#x27;model_dt&#x27;,\n",
       "                 DecisionTreeClassifier(class_weight=&#x27;balanced&#x27;, max_depth=2,\n",
       "                                        min_samples_leaf=33,\n",
       "                                        min_samples_split=33,\n",
       "                                        random_state=123))])</pre><b>Please rerun this cell to show the HTML repr or trust the notebook.</b></div><div class=\"sk-container\" hidden><div class=\"sk-item sk-dashed-wrapped\"><div class=\"sk-label-container\"><div class=\"sk-label sk-toggleable\"><input class=\"sk-toggleable__control sk-hidden--visually\" id=\"ab15a1c2-b580-4e85-a99b-de50f337290a\" type=\"checkbox\" ><label for=\"ab15a1c2-b580-4e85-a99b-de50f337290a\" class=\"sk-toggleable__label sk-toggleable__label-arrow\">Pipeline</label><div class=\"sk-toggleable__content\"><pre>Pipeline(steps=[(&#x27;preprocessor&#x27;,\n",
       "                 ColumnTransformer(transformers=[(&#x27;pipeline_categorico&#x27;,\n",
       "                                                  Pipeline(steps=[(&#x27;impute&#x27;,\n",
       "                                                                   SimpleImputer(strategy=&#x27;most_frequent&#x27;)),\n",
       "                                                                  (&#x27;one_hot_encoder&#x27;,\n",
       "                                                                   OneHotEncoder(drop=&#x27;first&#x27;,\n",
       "                                                                                 handle_unknown=&#x27;ignore&#x27;))]),\n",
       "                                                  [&#x27;polyuria&#x27;,\n",
       "                                                   &#x27;perda_de_peso_repentina&#x27;,\n",
       "                                                   &#x27;genero&#x27;, &#x27;polyphagia&#x27;,\n",
       "                                                   &#x27;polydipsia&#x27;,\n",
       "                                                   &#x27;paresia_parcial&#x27;]),\n",
       "                                                 (&#x27;pipeline_numerico&#x27;,\n",
       "                                                  Pipeline(steps=[(&#x27;impute&#x27;,\n",
       "                                                                   SimpleImputer(strategy=&#x27;median&#x27;))]),\n",
       "                                                  [&#x27;idade&#x27;])])),\n",
       "                (&#x27;model_dt&#x27;,\n",
       "                 DecisionTreeClassifier(class_weight=&#x27;balanced&#x27;, max_depth=2,\n",
       "                                        min_samples_leaf=33,\n",
       "                                        min_samples_split=33,\n",
       "                                        random_state=123))])</pre></div></div></div><div class=\"sk-serial\"><div class=\"sk-item sk-dashed-wrapped\"><div class=\"sk-label-container\"><div class=\"sk-label sk-toggleable\"><input class=\"sk-toggleable__control sk-hidden--visually\" id=\"928341f6-69dd-4883-88d4-d663d41a1b74\" type=\"checkbox\" ><label for=\"928341f6-69dd-4883-88d4-d663d41a1b74\" class=\"sk-toggleable__label sk-toggleable__label-arrow\">preprocessor: ColumnTransformer</label><div class=\"sk-toggleable__content\"><pre>ColumnTransformer(transformers=[(&#x27;pipeline_categorico&#x27;,\n",
       "                                 Pipeline(steps=[(&#x27;impute&#x27;,\n",
       "                                                  SimpleImputer(strategy=&#x27;most_frequent&#x27;)),\n",
       "                                                 (&#x27;one_hot_encoder&#x27;,\n",
       "                                                  OneHotEncoder(drop=&#x27;first&#x27;,\n",
       "                                                                handle_unknown=&#x27;ignore&#x27;))]),\n",
       "                                 [&#x27;polyuria&#x27;, &#x27;perda_de_peso_repentina&#x27;,\n",
       "                                  &#x27;genero&#x27;, &#x27;polyphagia&#x27;, &#x27;polydipsia&#x27;,\n",
       "                                  &#x27;paresia_parcial&#x27;]),\n",
       "                                (&#x27;pipeline_numerico&#x27;,\n",
       "                                 Pipeline(steps=[(&#x27;impute&#x27;,\n",
       "                                                  SimpleImputer(strategy=&#x27;median&#x27;))]),\n",
       "                                 [&#x27;idade&#x27;])])</pre></div></div></div><div class=\"sk-parallel\"><div class=\"sk-parallel-item\"><div class=\"sk-item\"><div class=\"sk-label-container\"><div class=\"sk-label sk-toggleable\"><input class=\"sk-toggleable__control sk-hidden--visually\" id=\"3a9e713a-5c6b-44e8-b2ff-d47de4331a8f\" type=\"checkbox\" ><label for=\"3a9e713a-5c6b-44e8-b2ff-d47de4331a8f\" class=\"sk-toggleable__label sk-toggleable__label-arrow\">pipeline_categorico</label><div class=\"sk-toggleable__content\"><pre>[&#x27;polyuria&#x27;, &#x27;perda_de_peso_repentina&#x27;, &#x27;genero&#x27;, &#x27;polyphagia&#x27;, &#x27;polydipsia&#x27;, &#x27;paresia_parcial&#x27;]</pre></div></div></div><div class=\"sk-serial\"><div class=\"sk-item\"><div class=\"sk-serial\"><div class=\"sk-item\"><div class=\"sk-estimator sk-toggleable\"><input class=\"sk-toggleable__control sk-hidden--visually\" id=\"81148bab-52c1-4c94-9a70-45553fb0524c\" type=\"checkbox\" ><label for=\"81148bab-52c1-4c94-9a70-45553fb0524c\" class=\"sk-toggleable__label sk-toggleable__label-arrow\">SimpleImputer</label><div class=\"sk-toggleable__content\"><pre>SimpleImputer(strategy=&#x27;most_frequent&#x27;)</pre></div></div></div><div class=\"sk-item\"><div class=\"sk-estimator sk-toggleable\"><input class=\"sk-toggleable__control sk-hidden--visually\" id=\"8242234e-7abf-4ee6-a50e-66037a93a102\" type=\"checkbox\" ><label for=\"8242234e-7abf-4ee6-a50e-66037a93a102\" class=\"sk-toggleable__label sk-toggleable__label-arrow\">OneHotEncoder</label><div class=\"sk-toggleable__content\"><pre>OneHotEncoder(drop=&#x27;first&#x27;, handle_unknown=&#x27;ignore&#x27;)</pre></div></div></div></div></div></div></div></div><div class=\"sk-parallel-item\"><div class=\"sk-item\"><div class=\"sk-label-container\"><div class=\"sk-label sk-toggleable\"><input class=\"sk-toggleable__control sk-hidden--visually\" id=\"0984fae7-e6e6-4bad-b0ec-46401d10bb1e\" type=\"checkbox\" ><label for=\"0984fae7-e6e6-4bad-b0ec-46401d10bb1e\" class=\"sk-toggleable__label sk-toggleable__label-arrow\">pipeline_numerico</label><div class=\"sk-toggleable__content\"><pre>[&#x27;idade&#x27;]</pre></div></div></div><div class=\"sk-serial\"><div class=\"sk-item\"><div class=\"sk-serial\"><div class=\"sk-item\"><div class=\"sk-estimator sk-toggleable\"><input class=\"sk-toggleable__control sk-hidden--visually\" id=\"baddaadd-1d10-4fb9-9b0f-243c786cdf64\" type=\"checkbox\" ><label for=\"baddaadd-1d10-4fb9-9b0f-243c786cdf64\" class=\"sk-toggleable__label sk-toggleable__label-arrow\">SimpleImputer</label><div class=\"sk-toggleable__content\"><pre>SimpleImputer(strategy=&#x27;median&#x27;)</pre></div></div></div></div></div></div></div></div></div></div><div class=\"sk-item\"><div class=\"sk-estimator sk-toggleable\"><input class=\"sk-toggleable__control sk-hidden--visually\" id=\"96e042a7-f515-4eb7-bcb3-3e5ff346f158\" type=\"checkbox\" ><label for=\"96e042a7-f515-4eb7-bcb3-3e5ff346f158\" class=\"sk-toggleable__label sk-toggleable__label-arrow\">DecisionTreeClassifier</label><div class=\"sk-toggleable__content\"><pre>DecisionTreeClassifier(class_weight=&#x27;balanced&#x27;, max_depth=2,\n",
       "                       min_samples_leaf=33, min_samples_split=33,\n",
       "                       random_state=123)</pre></div></div></div></div></div></div></div>"
      ],
      "text/plain": [
       "Pipeline(steps=[('preprocessor',\n",
       "                 ColumnTransformer(transformers=[('pipeline_categorico',\n",
       "                                                  Pipeline(steps=[('impute',\n",
       "                                                                   SimpleImputer(strategy='most_frequent')),\n",
       "                                                                  ('one_hot_encoder',\n",
       "                                                                   OneHotEncoder(drop='first',\n",
       "                                                                                 handle_unknown='ignore'))]),\n",
       "                                                  ['polyuria',\n",
       "                                                   'perda_de_peso_repentina',\n",
       "                                                   'genero', 'polyphagia',\n",
       "                                                   'polydipsia',\n",
       "                                                   'paresia_parcial']),\n",
       "                                                 ('pipeline_numerico',\n",
       "                                                  Pipeline(steps=[('impute',\n",
       "                                                                   SimpleImputer(strategy='median'))]),\n",
       "                                                  ['idade'])])),\n",
       "                ('model_dt',\n",
       "                 DecisionTreeClassifier(class_weight='balanced', max_depth=2,\n",
       "                                        min_samples_leaf=33,\n",
       "                                        min_samples_split=33,\n",
       "                                        random_state=123))])"
      ]
     },
     "execution_count": 20,
     "metadata": {},
     "output_type": "execute_result"
    }
   ],
   "source": [
    "# plotando o pipeline\n",
    "set_config(display='diagram')\n",
    "# Treinando o modelo\n",
    "modelo_pipe.fit(X,y)"
   ]
  },
  {
   "cell_type": "markdown",
   "id": "6b472f9e",
   "metadata": {},
   "source": [
    "## Métricas"
   ]
  },
  {
   "cell_type": "markdown",
   "id": "ca549847",
   "metadata": {},
   "source": [
    "Em se tratando de diagnóstico de diabetes, acredito que a métrica recall é a mais importante, uma vez que se o paciente não for diagnósticado ele pode continuar tendo os mesmos comportamentos alimentares e agravar seu quadro, evoluindo para diabetes, por exemplo."
   ]
  },
  {
   "cell_type": "markdown",
   "id": "720d3cb2",
   "metadata": {},
   "source": [
    "Isso posto, a cada threshold de classificação teremos um recall e , por isso, podemos plotar curvas com as métricas variando o threshold e observar seus valores."
   ]
  },
  {
   "cell_type": "code",
   "execution_count": 22,
   "id": "50d4e757",
   "metadata": {},
   "outputs": [],
   "source": [
    "df_metrics = calcular_metricas_threshold(y, modelo_pipe.predict_proba(X)[:,1])"
   ]
  },
  {
   "cell_type": "code",
   "execution_count": 23,
   "id": "a484f636",
   "metadata": {},
   "outputs": [
    {
     "data": {
      "image/png": "[encoded data removed]",
      "text/plain": [
       "<Figure size 1080x1080 with 1 Axes>"
      ]
     },
     "metadata": {
      "needs_background": "light"
     },
     "output_type": "display_data"
    }
   ],
   "source": [
    "df_metrics.plot(x='threshold', figsize=(15,15))\n",
    "plt.show()"
   ]
  },
  {
   "cell_type": "markdown",
   "id": "5d128603",
   "metadata": {},
   "source": [
    "É possível descobrir o threshold ideal, o que maximiza o recall e ao mesmo tempo não deteriora outras métricas como precision. O precision, nesse caso, se refere a taxa de pessoas diagnosticadas corretamente, ou podemos pensar nela como sendo uma taxa de alarme falso. Junto a equipe médica seria decidido qual métrica realmente é a mais importante e que nível de erro se deseja ter para as outras métricas."
   ]
  },
  {
   "cell_type": "markdown",
   "id": "90526242",
   "metadata": {},
   "source": [
    "Além disso, existe ainda a possibilidade de usarmos a probabilidade como resultado do modelo. Dessa forma, cada paciente receberia um score de 0 a 1, no qual o quanto mais próximo de 1, mais provável do paciente estar em estágio inicial de diabetes."
   ]
  },
  {
   "cell_type": "markdown",
   "id": "88b10adb",
   "metadata": {},
   "source": [
    "Como precisamos de uma métrica para verificar overfitting, escolheremos a curva ROC, pois esta não depende de threshold e sumariza bem o modelo, uma vez que traz a probabilidade de uma instância aleatória positiva receber uma probabiliade maior que uma instância aleatória positiva."
   ]
  },
  {
   "cell_type": "code",
   "execution_count": 40,
   "id": "f0da0d1a",
   "metadata": {},
   "outputs": [
    {
     "data": {
      "text/plain": [
       "0.9446269132653061"
      ]
     },
     "execution_count": 40,
     "metadata": {},
     "output_type": "execute_result"
    }
   ],
   "source": [
    "# Área da Curva ROC\n",
    "roc_auc_score_train = roc_auc_score(y, modelo_pipe.predict_proba(X)[:,1])\n",
    "roc_auc_score_train"
   ]
  },
  {
   "cell_type": "markdown",
   "id": "6874e034",
   "metadata": {},
   "source": [
    "A área da curva ROC está bastante elevada no dataset de treino. Vamos checar se isso se sustenta também no teste."
   ]
  },
  {
   "cell_type": "markdown",
   "id": "01c27be1",
   "metadata": {},
   "source": [
    "## Dados de teste"
   ]
  },
  {
   "cell_type": "markdown",
   "id": "5633489f",
   "metadata": {},
   "source": [
    "Agora que já treinamos o modelo e definimos os hiperparâmetros que maximizam nossa métrica, iremos comparar a perfomance do treino com a de teste."
   ]
  },
  {
   "cell_type": "markdown",
   "id": "91fd1679",
   "metadata": {},
   "source": [
    "Mas primeiro, iremos adicionar um passo ao nosso pipeline, o qual necessita de uma operação para normalizar os caracteres. Vamos construir um FunctionTransformer e integrá-lo ao pipeline."
   ]
  },
  {
   "cell_type": "code",
   "execution_count": 25,
   "id": "db09fd6c",
   "metadata": {},
   "outputs": [],
   "source": [
    "def normalizar_caracteres(df: pd.DataFrame) -> pd.DataFrame:\n",
    "    \"\"\"Torna os caracteres de uma string minúsculos.\n",
    "\n",
    "    Args:\n",
    "        lista_variaveis_categoricas (list): Lista com as variáveis categóricas (strings)\n",
    "                                             para serem transformadas.\n",
    "        df (DataFrame): Dataframe para ser analisado.\n",
    "\n",
    "    Returns:\n",
    "        df: Dataframe transformado.\n",
    "    \"\"\"\n",
    "    for col in df.columns:\n",
    "        df[col] = df[col].str.lower()\n",
    "    return df\n",
    "char_normalizer = FunctionTransformer(normalizar_caracteres)"
   ]
  },
  {
   "cell_type": "code",
   "execution_count": 26,
   "id": "83f91da4",
   "metadata": {},
   "outputs": [
    {
     "data": {
      "text/html": [
       "<style>#sk-8c24eaf3-142c-491d-bce8-0bef2cc9a28d {color: black;background-color: white;}#sk-8c24eaf3-142c-491d-bce8-0bef2cc9a28d pre{padding: 0;}#sk-8c24eaf3-142c-491d-bce8-0bef2cc9a28d div.sk-toggleable {background-color: white;}#sk-8c24eaf3-142c-491d-bce8-0bef2cc9a28d label.sk-toggleable__label {cursor: pointer;display: block;width: 100%;margin-bottom: 0;padding: 0.3em;box-sizing: border-box;text-align: center;}#sk-8c24eaf3-142c-491d-bce8-0bef2cc9a28d label.sk-toggleable__label-arrow:before {content: \"▸\";float: left;margin-right: 0.25em;color: #696969;}#sk-8c24eaf3-142c-491d-bce8-0bef2cc9a28d label.sk-toggleable__label-arrow:hover:before {color: black;}#sk-8c24eaf3-142c-491d-bce8-0bef2cc9a28d div.sk-estimator:hover label.sk-toggleable__label-arrow:before {color: black;}#sk-8c24eaf3-142c-491d-bce8-0bef2cc9a28d div.sk-toggleable__content {max-height: 0;max-width: 0;overflow: hidden;text-align: left;background-color: #f0f8ff;}#sk-8c24eaf3-142c-491d-bce8-0bef2cc9a28d div.sk-toggleable__content pre {margin: 0.2em;color: black;border-radius: 0.25em;background-color: #f0f8ff;}#sk-8c24eaf3-142c-491d-bce8-0bef2cc9a28d input.sk-toggleable__control:checked~div.sk-toggleable__content {max-height: 200px;max-width: 100%;overflow: auto;}#sk-8c24eaf3-142c-491d-bce8-0bef2cc9a28d input.sk-toggleable__control:checked~label.sk-toggleable__label-arrow:before {content: \"▾\";}#sk-8c24eaf3-142c-491d-bce8-0bef2cc9a28d div.sk-estimator input.sk-toggleable__control:checked~label.sk-toggleable__label {background-color: #d4ebff;}#sk-8c24eaf3-142c-491d-bce8-0bef2cc9a28d div.sk-label input.sk-toggleable__control:checked~label.sk-toggleable__label {background-color: #d4ebff;}#sk-8c24eaf3-142c-491d-bce8-0bef2cc9a28d input.sk-hidden--visually {border: 0;clip: rect(1px 1px 1px 1px);clip: rect(1px, 1px, 1px, 1px);height: 1px;margin: -1px;overflow: hidden;padding: 0;position: absolute;width: 1px;}#sk-8c24eaf3-142c-491d-bce8-0bef2cc9a28d div.sk-estimator {font-family: monospace;background-color: #f0f8ff;border: 1px dotted black;border-radius: 0.25em;box-sizing: border-box;margin-bottom: 0.5em;}#sk-8c24eaf3-142c-491d-bce8-0bef2cc9a28d div.sk-estimator:hover {background-color: #d4ebff;}#sk-8c24eaf3-142c-491d-bce8-0bef2cc9a28d div.sk-parallel-item::after {content: \"\";width: 100%;border-bottom: 1px solid gray;flex-grow: 1;}#sk-8c24eaf3-142c-491d-bce8-0bef2cc9a28d div.sk-label:hover label.sk-toggleable__label {background-color: #d4ebff;}#sk-8c24eaf3-142c-491d-bce8-0bef2cc9a28d div.sk-serial::before {content: \"\";position: absolute;border-left: 1px solid gray;box-sizing: border-box;top: 2em;bottom: 0;left: 50%;}#sk-8c24eaf3-142c-491d-bce8-0bef2cc9a28d div.sk-serial {display: flex;flex-direction: column;align-items: center;background-color: white;padding-right: 0.2em;padding-left: 0.2em;}#sk-8c24eaf3-142c-491d-bce8-0bef2cc9a28d div.sk-item {z-index: 1;}#sk-8c24eaf3-142c-491d-bce8-0bef2cc9a28d div.sk-parallel {display: flex;align-items: stretch;justify-content: center;background-color: white;}#sk-8c24eaf3-142c-491d-bce8-0bef2cc9a28d div.sk-parallel::before {content: \"\";position: absolute;border-left: 1px solid gray;box-sizing: border-box;top: 2em;bottom: 0;left: 50%;}#sk-8c24eaf3-142c-491d-bce8-0bef2cc9a28d div.sk-parallel-item {display: flex;flex-direction: column;position: relative;background-color: white;}#sk-8c24eaf3-142c-491d-bce8-0bef2cc9a28d div.sk-parallel-item:first-child::after {align-self: flex-end;width: 50%;}#sk-8c24eaf3-142c-491d-bce8-0bef2cc9a28d div.sk-parallel-item:last-child::after {align-self: flex-start;width: 50%;}#sk-8c24eaf3-142c-491d-bce8-0bef2cc9a28d div.sk-parallel-item:only-child::after {width: 0;}#sk-8c24eaf3-142c-491d-bce8-0bef2cc9a28d div.sk-dashed-wrapped {border: 1px dashed gray;margin: 0 0.4em 0.5em 0.4em;box-sizing: border-box;padding-bottom: 0.4em;background-color: white;position: relative;}#sk-8c24eaf3-142c-491d-bce8-0bef2cc9a28d div.sk-label label {font-family: monospace;font-weight: bold;background-color: white;display: inline-block;line-height: 1.2em;}#sk-8c24eaf3-142c-491d-bce8-0bef2cc9a28d div.sk-label-container {position: relative;z-index: 2;text-align: center;}#sk-8c24eaf3-142c-491d-bce8-0bef2cc9a28d div.sk-container {/* jupyter's `normalize.less` sets `[hidden] { display: none; }` but bootstrap.min.css set `[hidden] { display: none !important; }` so we also need the `!important` here to be able to override the default hidden behavior on the sphinx rendered scikit-learn.org. See: https://github.com/scikit-learn/scikit-learn/issues/21755 */display: inline-block !important;position: relative;}#sk-8c24eaf3-142c-491d-bce8-0bef2cc9a28d div.sk-text-repr-fallback {display: none;}</style><div id=\"sk-8c24eaf3-142c-491d-bce8-0bef2cc9a28d\" class=\"sk-top-container\"><div class=\"sk-text-repr-fallback\"><pre>Pipeline(steps=[(&#x27;preprocessor&#x27;,\n",
       "                 ColumnTransformer(transformers=[(&#x27;pipeline_categorico&#x27;,\n",
       "                                                  Pipeline(steps=[(&#x27;char_normalizer&#x27;,\n",
       "                                                                   FunctionTransformer(func=&lt;function normalizar_caracteres at 0x14a106e50&gt;)),\n",
       "                                                                  (&#x27;impute&#x27;,\n",
       "                                                                   SimpleImputer(strategy=&#x27;most_frequent&#x27;)),\n",
       "                                                                  (&#x27;one_hot_encoder&#x27;,\n",
       "                                                                   OneHotEncoder(drop=&#x27;first&#x27;,\n",
       "                                                                                 handle_unknown=&#x27;ignore&#x27;))]),\n",
       "                                                  [&#x27;polyuria&#x27;,\n",
       "                                                   &#x27;perda_de_peso_repentina&#x27;,\n",
       "                                                   &#x27;genero&#x27;, &#x27;polyphagia&#x27;,\n",
       "                                                   &#x27;polydipsia&#x27;,\n",
       "                                                   &#x27;paresia_parcial&#x27;]),\n",
       "                                                 (&#x27;pipeline_numerico&#x27;,\n",
       "                                                  Pipeline(steps=[(&#x27;impute&#x27;,\n",
       "                                                                   SimpleImputer(strategy=&#x27;median&#x27;))]),\n",
       "                                                  [&#x27;idade&#x27;])])),\n",
       "                (&#x27;model_dt&#x27;,\n",
       "                 DecisionTreeClassifier(class_weight=&#x27;balanced&#x27;, max_depth=2,\n",
       "                                        min_samples_leaf=33,\n",
       "                                        min_samples_split=33,\n",
       "                                        random_state=123))])</pre><b>Please rerun this cell to show the HTML repr or trust the notebook.</b></div><div class=\"sk-container\" hidden><div class=\"sk-item sk-dashed-wrapped\"><div class=\"sk-label-container\"><div class=\"sk-label sk-toggleable\"><input class=\"sk-toggleable__control sk-hidden--visually\" id=\"32aea50a-bb20-4a13-be4b-35d1eae2c707\" type=\"checkbox\" ><label for=\"32aea50a-bb20-4a13-be4b-35d1eae2c707\" class=\"sk-toggleable__label sk-toggleable__label-arrow\">Pipeline</label><div class=\"sk-toggleable__content\"><pre>Pipeline(steps=[(&#x27;preprocessor&#x27;,\n",
       "                 ColumnTransformer(transformers=[(&#x27;pipeline_categorico&#x27;,\n",
       "                                                  Pipeline(steps=[(&#x27;char_normalizer&#x27;,\n",
       "                                                                   FunctionTransformer(func=&lt;function normalizar_caracteres at 0x14a106e50&gt;)),\n",
       "                                                                  (&#x27;impute&#x27;,\n",
       "                                                                   SimpleImputer(strategy=&#x27;most_frequent&#x27;)),\n",
       "                                                                  (&#x27;one_hot_encoder&#x27;,\n",
       "                                                                   OneHotEncoder(drop=&#x27;first&#x27;,\n",
       "                                                                                 handle_unknown=&#x27;ignore&#x27;))]),\n",
       "                                                  [&#x27;polyuria&#x27;,\n",
       "                                                   &#x27;perda_de_peso_repentina&#x27;,\n",
       "                                                   &#x27;genero&#x27;, &#x27;polyphagia&#x27;,\n",
       "                                                   &#x27;polydipsia&#x27;,\n",
       "                                                   &#x27;paresia_parcial&#x27;]),\n",
       "                                                 (&#x27;pipeline_numerico&#x27;,\n",
       "                                                  Pipeline(steps=[(&#x27;impute&#x27;,\n",
       "                                                                   SimpleImputer(strategy=&#x27;median&#x27;))]),\n",
       "                                                  [&#x27;idade&#x27;])])),\n",
       "                (&#x27;model_dt&#x27;,\n",
       "                 DecisionTreeClassifier(class_weight=&#x27;balanced&#x27;, max_depth=2,\n",
       "                                        min_samples_leaf=33,\n",
       "                                        min_samples_split=33,\n",
       "                                        random_state=123))])</pre></div></div></div><div class=\"sk-serial\"><div class=\"sk-item sk-dashed-wrapped\"><div class=\"sk-label-container\"><div class=\"sk-label sk-toggleable\"><input class=\"sk-toggleable__control sk-hidden--visually\" id=\"2ecab5ee-1f4d-4c89-bd75-6a0e64728a9d\" type=\"checkbox\" ><label for=\"2ecab5ee-1f4d-4c89-bd75-6a0e64728a9d\" class=\"sk-toggleable__label sk-toggleable__label-arrow\">preprocessor: ColumnTransformer</label><div class=\"sk-toggleable__content\"><pre>ColumnTransformer(transformers=[(&#x27;pipeline_categorico&#x27;,\n",
       "                                 Pipeline(steps=[(&#x27;char_normalizer&#x27;,\n",
       "                                                  FunctionTransformer(func=&lt;function normalizar_caracteres at 0x14a106e50&gt;)),\n",
       "                                                 (&#x27;impute&#x27;,\n",
       "                                                  SimpleImputer(strategy=&#x27;most_frequent&#x27;)),\n",
       "                                                 (&#x27;one_hot_encoder&#x27;,\n",
       "                                                  OneHotEncoder(drop=&#x27;first&#x27;,\n",
       "                                                                handle_unknown=&#x27;ignore&#x27;))]),\n",
       "                                 [&#x27;polyuria&#x27;, &#x27;perda_de_peso_repentina&#x27;,\n",
       "                                  &#x27;genero&#x27;, &#x27;polyphagia&#x27;, &#x27;polydipsia&#x27;,\n",
       "                                  &#x27;paresia_parcial&#x27;]),\n",
       "                                (&#x27;pipeline_numerico&#x27;,\n",
       "                                 Pipeline(steps=[(&#x27;impute&#x27;,\n",
       "                                                  SimpleImputer(strategy=&#x27;median&#x27;))]),\n",
       "                                 [&#x27;idade&#x27;])])</pre></div></div></div><div class=\"sk-parallel\"><div class=\"sk-parallel-item\"><div class=\"sk-item\"><div class=\"sk-label-container\"><div class=\"sk-label sk-toggleable\"><input class=\"sk-toggleable__control sk-hidden--visually\" id=\"4215e04a-d69e-4d7a-b76c-2f3477a4189e\" type=\"checkbox\" ><label for=\"4215e04a-d69e-4d7a-b76c-2f3477a4189e\" class=\"sk-toggleable__label sk-toggleable__label-arrow\">pipeline_categorico</label><div class=\"sk-toggleable__content\"><pre>[&#x27;polyuria&#x27;, &#x27;perda_de_peso_repentina&#x27;, &#x27;genero&#x27;, &#x27;polyphagia&#x27;, &#x27;polydipsia&#x27;, &#x27;paresia_parcial&#x27;]</pre></div></div></div><div class=\"sk-serial\"><div class=\"sk-item\"><div class=\"sk-serial\"><div class=\"sk-item\"><div class=\"sk-estimator sk-toggleable\"><input class=\"sk-toggleable__control sk-hidden--visually\" id=\"76ed4417-4f63-434d-823c-ddc4773814bc\" type=\"checkbox\" ><label for=\"76ed4417-4f63-434d-823c-ddc4773814bc\" class=\"sk-toggleable__label sk-toggleable__label-arrow\">FunctionTransformer</label><div class=\"sk-toggleable__content\"><pre>FunctionTransformer(func=&lt;function normalizar_caracteres at 0x14a106e50&gt;)</pre></div></div></div><div class=\"sk-item\"><div class=\"sk-estimator sk-toggleable\"><input class=\"sk-toggleable__control sk-hidden--visually\" id=\"eab3e38c-a5b4-4fb4-b594-2ced17ffd582\" type=\"checkbox\" ><label for=\"eab3e38c-a5b4-4fb4-b594-2ced17ffd582\" class=\"sk-toggleable__label sk-toggleable__label-arrow\">SimpleImputer</label><div class=\"sk-toggleable__content\"><pre>SimpleImputer(strategy=&#x27;most_frequent&#x27;)</pre></div></div></div><div class=\"sk-item\"><div class=\"sk-estimator sk-toggleable\"><input class=\"sk-toggleable__control sk-hidden--visually\" id=\"c1f27bbf-28fc-40fd-955f-7d00d571e8d1\" type=\"checkbox\" ><label for=\"c1f27bbf-28fc-40fd-955f-7d00d571e8d1\" class=\"sk-toggleable__label sk-toggleable__label-arrow\">OneHotEncoder</label><div class=\"sk-toggleable__content\"><pre>OneHotEncoder(drop=&#x27;first&#x27;, handle_unknown=&#x27;ignore&#x27;)</pre></div></div></div></div></div></div></div></div><div class=\"sk-parallel-item\"><div class=\"sk-item\"><div class=\"sk-label-container\"><div class=\"sk-label sk-toggleable\"><input class=\"sk-toggleable__control sk-hidden--visually\" id=\"95cdd409-c9ba-4558-a7ff-adca7249cd3c\" type=\"checkbox\" ><label for=\"95cdd409-c9ba-4558-a7ff-adca7249cd3c\" class=\"sk-toggleable__label sk-toggleable__label-arrow\">pipeline_numerico</label><div class=\"sk-toggleable__content\"><pre>[&#x27;idade&#x27;]</pre></div></div></div><div class=\"sk-serial\"><div class=\"sk-item\"><div class=\"sk-serial\"><div class=\"sk-item\"><div class=\"sk-estimator sk-toggleable\"><input class=\"sk-toggleable__control sk-hidden--visually\" id=\"a07aa377-419a-47ad-8c67-8dea2ee9df36\" type=\"checkbox\" ><label for=\"a07aa377-419a-47ad-8c67-8dea2ee9df36\" class=\"sk-toggleable__label sk-toggleable__label-arrow\">SimpleImputer</label><div class=\"sk-toggleable__content\"><pre>SimpleImputer(strategy=&#x27;median&#x27;)</pre></div></div></div></div></div></div></div></div></div></div><div class=\"sk-item\"><div class=\"sk-estimator sk-toggleable\"><input class=\"sk-toggleable__control sk-hidden--visually\" id=\"6292123c-70c4-4f6c-af90-7cf1e5678961\" type=\"checkbox\" ><label for=\"6292123c-70c4-4f6c-af90-7cf1e5678961\" class=\"sk-toggleable__label sk-toggleable__label-arrow\">DecisionTreeClassifier</label><div class=\"sk-toggleable__content\"><pre>DecisionTreeClassifier(class_weight=&#x27;balanced&#x27;, max_depth=2,\n",
       "                       min_samples_leaf=33, min_samples_split=33,\n",
       "                       random_state=123)</pre></div></div></div></div></div></div></div>"
      ],
      "text/plain": [
       "Pipeline(steps=[('preprocessor',\n",
       "                 ColumnTransformer(transformers=[('pipeline_categorico',\n",
       "                                                  Pipeline(steps=[('char_normalizer',\n",
       "                                                                   FunctionTransformer(func=<function normalizar_caracteres at 0x14a106e50>)),\n",
       "                                                                  ('impute',\n",
       "                                                                   SimpleImputer(strategy='most_frequent')),\n",
       "                                                                  ('one_hot_encoder',\n",
       "                                                                   OneHotEncoder(drop='first',\n",
       "                                                                                 handle_unknown='ignore'))]),\n",
       "                                                  ['polyuria',\n",
       "                                                   'perda_de_peso_repentina',\n",
       "                                                   'genero', 'polyphagia',\n",
       "                                                   'polydipsia',\n",
       "                                                   'paresia_parcial']),\n",
       "                                                 ('pipeline_numerico',\n",
       "                                                  Pipeline(steps=[('impute',\n",
       "                                                                   SimpleImputer(strategy='median'))]),\n",
       "                                                  ['idade'])])),\n",
       "                ('model_dt',\n",
       "                 DecisionTreeClassifier(class_weight='balanced', max_depth=2,\n",
       "                                        min_samples_leaf=33,\n",
       "                                        min_samples_split=33,\n",
       "                                        random_state=123))])"
      ]
     },
     "execution_count": 26,
     "metadata": {},
     "output_type": "execute_result"
    }
   ],
   "source": [
    "#Pipeline numérico será tratado imputando a mediana\n",
    "pipeline_numerico = Pipeline(steps=[('impute', SimpleImputer(strategy='median'))])\n",
    "#Pipeline categórico será tratado com imputação através da moda e one hot encoder\n",
    "pipeline_categorico = Pipeline(steps=[('char_normalizer', char_normalizer),\n",
    "                         ('impute', SimpleImputer(strategy='most_frequent')),\n",
    "                         ('one_hot_encoder', OneHotEncoder(handle_unknown='ignore',drop='first'))])\n",
    "# Column Transformer para unir os dois pipelines\n",
    "preprocess_pipeline = ColumnTransformer([('pipeline_categorico', pipeline_categorico, variaveis_categoricas),\n",
    "                                ('pipeline_numerico', pipeline_numerico, variaveis_numericas)])\n",
    "modelo_pipe =  Pipeline(steps =[('preprocessor',preprocess_pipeline),\n",
    "                                  ('model_dt',dt)])\n",
    "modelo_pipe.set_params(**study.best_params)\n",
    "modelo_pipe.fit(X,y)"
   ]
  },
  {
   "cell_type": "markdown",
   "id": "a330fa3c",
   "metadata": {},
   "source": [
    "Primeiro vamos avaliar no dataset inteiro (com duplicatas) e depois sem duplicatas."
   ]
  },
  {
   "cell_type": "code",
   "execution_count": 27,
   "id": "4fc7d450",
   "metadata": {},
   "outputs": [],
   "source": [
    "y_test = df_test['target']\n",
    "X_test = df_test[variaveis_categoricas+variaveis_numericas]"
   ]
  },
  {
   "cell_type": "code",
   "execution_count": 28,
   "id": "fb3f596d",
   "metadata": {},
   "outputs": [],
   "source": [
    "y_pred_test_proba = modelo_pipe.predict_proba(X_test)"
   ]
  },
  {
   "cell_type": "code",
   "execution_count": 29,
   "id": "0addef3f",
   "metadata": {},
   "outputs": [
    {
     "name": "stdout",
     "output_type": "stream",
     "text": [
      "O modelo obteve um score de teste para o recall de: 0.8440972222222223\n"
     ]
    }
   ],
   "source": [
    "roc_auc_score_teste = roc_auc_score(y_test, y_pred_test_proba[:,1])\n",
    "print(f'O modelo obteve um score de teste para o recall de: {roc_auc_score_teste}')"
   ]
  },
  {
   "cell_type": "code",
   "execution_count": 30,
   "id": "480d76e1",
   "metadata": {},
   "outputs": [],
   "source": [
    "df_test_deduplicated = df_test.drop_duplicates()\n",
    "y_test_deduplicated = df_test_deduplicated['target']\n",
    "X_test_deduplicated = df_test_deduplicated[variaveis_categoricas+variaveis_numericas]\n",
    "y_pred_test_proba_deduplicated = modelo_pipe.predict_proba(X_test_deduplicated)"
   ]
  },
  {
   "cell_type": "code",
   "execution_count": 31,
   "id": "762349b5",
   "metadata": {},
   "outputs": [
    {
     "name": "stdout",
     "output_type": "stream",
     "text": [
      "O modelo obteve um score de teste para o recall de: 0.829861111111111\n"
     ]
    }
   ],
   "source": [
    "roc_auc_score_teste_deduplicated = roc_auc_score(y_test_deduplicated, y_pred_test_proba_deduplicated[:,1])\n",
    "print(f'O modelo obteve um score de teste para o recall de: {roc_auc_score_teste_deduplicated}')"
   ]
  },
  {
   "cell_type": "markdown",
   "id": "17696886",
   "metadata": {},
   "source": [
    "Vemos que as duplicatas no set de test tornam a estimativa de performance um pouco mais otimista. No geral, o descréscimo em relação a métrica de treino foi de 13%. Não necessariamente significa um overfitting. Mas a grid de parâmetros pode ser melhor estudada, a fim de aproximar mais a métrica de treino e teste do modelo."
   ]
  },
  {
   "cell_type": "markdown",
   "id": "22043a6a",
   "metadata": {},
   "source": [
    "## SHAP"
   ]
  },
  {
   "cell_type": "markdown",
   "id": "b83bbc4d",
   "metadata": {},
   "source": [
    "Para interpretar o modelo existem diversas técnicas. O Decision Tree, modelo utilizado, nos informa o Feature Importance, porém essa é uma técnica que pode ter algum viés, principalmente quando há presença de variáveis categóricas. Outra técnica rica é o Permutation Importance, que avalia a importância das features medindo a queda de performance quando esta é retirada. Nesse trabalho irei trazer o método de shap values, que é agnóstico a modelo e é baseado na teoria dos jogos.\n",
    "\n",
    "A análise se interpretabilidade se fez necessário para responder a questão de forma mais segura: \n",
    "\n",
    "- Quais os 3 principais fatores que levam a um diagnóstico positivo de diabetes?"
   ]
  },
  {
   "cell_type": "code",
   "execution_count": 34,
   "id": "5220be0a",
   "metadata": {},
   "outputs": [],
   "source": [
    "X_A1_test = df_test[variaveis_categoricas+variaveis_numericas]\n",
    "X_A1 = df_train[variaveis_categoricas+variaveis_numericas]"
   ]
  },
  {
   "cell_type": "code",
   "execution_count": 35,
   "id": "4409c386",
   "metadata": {},
   "outputs": [],
   "source": [
    "X_A1_test_shap = pd.DataFrame(modelo_pipe['preprocessor'].transform(X_A1_test), columns = variaveis_categoricas+variaveis_numericas)"
   ]
  },
  {
   "cell_type": "code",
   "execution_count": 36,
   "id": "3f5d92e8",
   "metadata": {},
   "outputs": [],
   "source": [
    "explainer_dt = shap.TreeExplainer(modelo_pipe['model_dt'])\n",
    "shap_values = explainer_dt.shap_values(X_A1_test_shap, check_additivity=False)"
   ]
  },
  {
   "cell_type": "markdown",
   "id": "c1e670f4",
   "metadata": {},
   "source": [
    "## Quais os 3 principais fatores que levam a um diagnóstico positivo de diabetes?\n"
   ]
  },
  {
   "cell_type": "code",
   "execution_count": 37,
   "id": "70ae8261",
   "metadata": {},
   "outputs": [
    {
     "data": {
      "image/png": "[encoded data removed]",
      "text/plain": [
       "<Figure size 576x309.6 with 1 Axes>"
      ]
     },
     "metadata": {
      "needs_background": "light"
     },
     "output_type": "display_data"
    }
   ],
   "source": [
    "shap.summary_plot(shap_values,features=X_A1_test_shap, feature_names=X_A1_test_shap.columns,)"
   ]
  },
  {
   "cell_type": "markdown",
   "id": "657c48e5",
   "metadata": {},
   "source": [
    "Com base, no feature importance e summary_plot as variáveis que apresentaram uma melhor relação para prever o diabetes, são: polyuria, genero e polydpsia. Note que estas variáveis dominam a resposta do modelo, talvez só com essas já atinjamos um resultado razoável."
   ]
  },
  {
   "cell_type": "markdown",
   "id": "c89dfedd",
   "metadata": {},
   "source": [
    "# Logs Mlflow"
   ]
  },
  {
   "cell_type": "code",
   "execution_count": 46,
   "id": "6b635b3b",
   "metadata": {},
   "outputs": [],
   "source": [
    "with mlflow.start_run():\n",
    "    mlflow.set_tag('step','Experimentation')\n",
    "    mlflow.log_metrics({'roc_auc_train':roc_auc_score_train, \n",
    "                        'roc_auc_test':roc_auc_score_teste, \n",
    "                        'roc_auc_test_deduplicated':roc_auc_score_teste_deduplicated})\n",
    "    mlflow.log_params(study.best_params)\n",
    "    mlflow.sklearn.log_model(modelo_pipe, artifact_path='model')"
   ]
  }
 ],
 "metadata": {
  "kernelspec": {
   "display_name": "Python 3 (ipykernel)",
   "language": "python",
   "name": "python3"
  },
  "language_info": {
   "codemirror_mode": {
    "name": "ipython",
    "version": 3
   },
   "file_extension": ".py",
   "mimetype": "text/x-python",
   "name": "python",
   "nbconvert_exporter": "python",
   "pygments_lexer": "ipython3",
   "version": "3.8.10"
  }
 },
 "nbformat": 4,
 "nbformat_minor": 5
}
